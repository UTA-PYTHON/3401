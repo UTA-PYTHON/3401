{
  "nbformat": 4,
  "nbformat_minor": 0,
  "metadata": {
    "colab": {
      "provenance": []
    },
    "kernelspec": {
      "name": "python3",
      "display_name": "Python 3"
    },
    "language_info": {
      "name": "python"
    }
  },
  "cells": [
    {
      "cell_type": "markdown",
      "source": [
        "1. Printing, Data Types, and Input\n",
        "\n",
        "\n",
        "Ask the user for their name and their age.\n",
        "\n",
        "Print a statement saying: \"Hello, [name]. You are [age] years old.\"\n",
        "\n",
        "Print the data type of each variable.\n"
      ],
      "metadata": {
        "id": "8oyZoI4vgql0"
      }
    },
    {
      "cell_type": "code",
      "source": [
        "name=input(\"Please enter your name here : \")\n",
        "age=input(\"Please enter your age here :\")"
      ],
      "metadata": {
        "colab": {
          "base_uri": "https://localhost:8080/"
        },
        "id": "gH_zNlX-hxi8",
        "outputId": "323c376a-eb58-4cbc-a111-d3bfa82ef7de"
      },
      "execution_count": null,
      "outputs": [
        {
          "name": "stdout",
          "output_type": "stream",
          "text": [
            "Please enter your name here : Kiki\n",
            "Please enter your age here :23\n"
          ]
        }
      ]
    },
    {
      "cell_type": "code",
      "source": [
        "print(\"Hello\", name, \"You are\", age, \"years old.\")"
      ],
      "metadata": {
        "colab": {
          "base_uri": "https://localhost:8080/"
        },
        "id": "6AQR2liJiMst",
        "outputId": "63e37a46-80e3-4aa4-9650-7abd48df8763"
      },
      "execution_count": null,
      "outputs": [
        {
          "output_type": "stream",
          "name": "stdout",
          "text": [
            "Hello Kiki . You are 23 years old.\n"
          ]
        }
      ]
    },
    {
      "cell_type": "markdown",
      "source": [
        "2. String Manipulations and Input\n",
        "\n",
        "\n",
        "Ask the user for the name of their hometown.\n",
        "\n",
        "Print the name of the hometown in uppercase.\n",
        "\n",
        "Print the first three characters of the hometown's name using slicing.\n",
        "\n",
        "Printing the name in reverse using slicing."
      ],
      "metadata": {
        "id": "cf3HbqP7grDQ"
      }
    },
    {
      "cell_type": "code",
      "source": [
        "ht=input(\"Please enter your hometown :\")"
      ],
      "metadata": {
        "colab": {
          "base_uri": "https://localhost:8080/"
        },
        "id": "VO_2zujdhxpv",
        "outputId": "9cbf9bfe-301f-4c45-c161-afcbec94894f"
      },
      "execution_count": null,
      "outputs": [
        {
          "name": "stdout",
          "output_type": "stream",
          "text": [
            "Please enter your hometown :York\n"
          ]
        }
      ]
    },
    {
      "cell_type": "code",
      "source": [
        "ht.upper()"
      ],
      "metadata": {
        "colab": {
          "base_uri": "https://localhost:8080/",
          "height": 35
        },
        "id": "sGQDaLebi_vn",
        "outputId": "54d10197-0f68-432a-ddb5-fd19961ca0ba"
      },
      "execution_count": null,
      "outputs": [
        {
          "output_type": "execute_result",
          "data": {
            "text/plain": [
              "'YORK'"
            ],
            "application/vnd.google.colaboratory.intrinsic+json": {
              "type": "string"
            }
          },
          "metadata": {},
          "execution_count": 12
        }
      ]
    },
    {
      "cell_type": "code",
      "source": [
        "ht[0:3]"
      ],
      "metadata": {
        "colab": {
          "base_uri": "https://localhost:8080/",
          "height": 35
        },
        "id": "hQ3Q8-Yujo7i",
        "outputId": "02249b68-bb7c-4639-af16-e265ea39372f"
      },
      "execution_count": null,
      "outputs": [
        {
          "output_type": "execute_result",
          "data": {
            "text/plain": [
              "'Yor'"
            ],
            "application/vnd.google.colaboratory.intrinsic+json": {
              "type": "string"
            }
          },
          "metadata": {},
          "execution_count": 13
        }
      ]
    },
    {
      "cell_type": "code",
      "source": [
        "reverse = \"York\" [::-1]\n",
        "reverse"
      ],
      "metadata": {
        "colab": {
          "base_uri": "https://localhost:8080/",
          "height": 35
        },
        "id": "kDkio5wPjrPM",
        "outputId": "a3892622-4af0-4998-c1c4-b1065ee93238"
      },
      "execution_count": null,
      "outputs": [
        {
          "output_type": "execute_result",
          "data": {
            "text/plain": [
              "'kroY'"
            ],
            "application/vnd.google.colaboratory.intrinsic+json": {
              "type": "string"
            }
          },
          "metadata": {},
          "execution_count": 81
        }
      ]
    },
    {
      "cell_type": "markdown",
      "source": [
        "3. Numeric Operations and Input\n",
        "\n",
        "\n",
        "Prompt the user to enter a number.\n",
        "\n",
        "Multiply the number by itself and print the result.\n",
        "\n",
        "Calculating the square root.\n"
      ],
      "metadata": {
        "id": "nP0a6YdNgrOv"
      }
    },
    {
      "cell_type": "code",
      "source": [
        "math=int(input(\"Enter a number :\"))"
      ],
      "metadata": {
        "colab": {
          "base_uri": "https://localhost:8080/"
        },
        "id": "eH-CWwHZhxxh",
        "outputId": "0c01de31-b521-4607-c066-2ffa3f12c065"
      },
      "execution_count": null,
      "outputs": [
        {
          "name": "stdout",
          "output_type": "stream",
          "text": [
            "Enter a number :4\n"
          ]
        }
      ]
    },
    {
      "cell_type": "code",
      "source": [
        "z=2*math\n",
        "z"
      ],
      "metadata": {
        "colab": {
          "base_uri": "https://localhost:8080/"
        },
        "id": "-Tl6rAtOgqRT",
        "outputId": "ca65f85b-3f1a-4742-a64e-86fee146b1a5"
      },
      "execution_count": null,
      "outputs": [
        {
          "output_type": "execute_result",
          "data": {
            "text/plain": [
              "8"
            ]
          },
          "metadata": {},
          "execution_count": 37
        }
      ]
    },
    {
      "cell_type": "code",
      "source": [
        "t=math**(1/2)\n",
        "t"
      ],
      "metadata": {
        "colab": {
          "base_uri": "https://localhost:8080/"
        },
        "id": "7A8bWPCpkzm1",
        "outputId": "7f9d85e3-13ce-4465-89bc-179fbc7a3c19"
      },
      "execution_count": null,
      "outputs": [
        {
          "output_type": "execute_result",
          "data": {
            "text/plain": [
              "2.0"
            ]
          },
          "metadata": {},
          "execution_count": 38
        }
      ]
    },
    {
      "cell_type": "markdown",
      "source": [
        "4. Boolean Evaluations\n",
        "\n",
        "\n",
        "Print the result of the following evaluations:\n",
        "\n",
        "10 > 5\n",
        "\n",
        "10 == 10\n",
        "\n",
        "8 != 9"
      ],
      "metadata": {
        "id": "s4vfVLFAgraL"
      }
    },
    {
      "cell_type": "code",
      "source": [
        "10>5"
      ],
      "metadata": {
        "colab": {
          "base_uri": "https://localhost:8080/"
        },
        "id": "AeiCrktpkzwx",
        "outputId": "78e5bb94-93a4-44ca-8261-b472dde97dbf"
      },
      "execution_count": null,
      "outputs": [
        {
          "output_type": "execute_result",
          "data": {
            "text/plain": [
              "True"
            ]
          },
          "metadata": {},
          "execution_count": 39
        }
      ]
    },
    {
      "cell_type": "code",
      "source": [
        "10==10"
      ],
      "metadata": {
        "colab": {
          "base_uri": "https://localhost:8080/"
        },
        "id": "Nisf28BYl8Pr",
        "outputId": "e217bb4b-8a6b-47a5-a18d-c3ebbd376755"
      },
      "execution_count": null,
      "outputs": [
        {
          "output_type": "execute_result",
          "data": {
            "text/plain": [
              "True"
            ]
          },
          "metadata": {},
          "execution_count": 40
        }
      ]
    },
    {
      "cell_type": "code",
      "source": [
        "8!=9"
      ],
      "metadata": {
        "colab": {
          "base_uri": "https://localhost:8080/"
        },
        "id": "ZMcV-4K5l8fA",
        "outputId": "30d577e2-5e1f-4427-9d22-ab2e91fa8cf0"
      },
      "execution_count": null,
      "outputs": [
        {
          "output_type": "execute_result",
          "data": {
            "text/plain": [
              "True"
            ]
          },
          "metadata": {},
          "execution_count": 41
        }
      ]
    },
    {
      "cell_type": "markdown",
      "source": [
        "5. List Creation and Operations\n",
        "\n",
        "\n",
        "Create a list named colors containing the following items: red, blue, green.\n",
        "\n",
        "Print the list.\n",
        "\n",
        "Print the first item in the list.\n",
        "\n",
        "Replace the second item in the list with yellow.\n",
        "\n",
        "Print the list again.\n",
        "\n",
        "Changing the last item using negative indexing."
      ],
      "metadata": {
        "id": "brjz9IsQgrig"
      }
    },
    {
      "cell_type": "code",
      "source": [
        "colors_=['red', 'blue', 'green']"
      ],
      "metadata": {
        "id": "1jmb44fihp_I"
      },
      "execution_count": null,
      "outputs": []
    },
    {
      "cell_type": "code",
      "source": [
        "colors_"
      ],
      "metadata": {
        "colab": {
          "base_uri": "https://localhost:8080/"
        },
        "id": "mBWXPm6vmHGK",
        "outputId": "d6947709-5ebc-4f67-dcfa-e366a489c7fc"
      },
      "execution_count": null,
      "outputs": [
        {
          "output_type": "execute_result",
          "data": {
            "text/plain": [
              "['red', 'blue', 'green']"
            ]
          },
          "metadata": {},
          "execution_count": 44
        }
      ]
    },
    {
      "cell_type": "code",
      "source": [
        "colors_[0]"
      ],
      "metadata": {
        "colab": {
          "base_uri": "https://localhost:8080/",
          "height": 35
        },
        "id": "D7Z9PewPmJWd",
        "outputId": "90951e40-9c86-48d7-cc1e-4a85233f8d10"
      },
      "execution_count": null,
      "outputs": [
        {
          "output_type": "execute_result",
          "data": {
            "text/plain": [
              "'red'"
            ],
            "application/vnd.google.colaboratory.intrinsic+json": {
              "type": "string"
            }
          },
          "metadata": {},
          "execution_count": 45
        }
      ]
    },
    {
      "cell_type": "code",
      "source": [
        "colors_[1]='yellow'"
      ],
      "metadata": {
        "id": "_a_xbfv2mJh4"
      },
      "execution_count": null,
      "outputs": []
    },
    {
      "cell_type": "code",
      "source": [
        "colors_"
      ],
      "metadata": {
        "colab": {
          "base_uri": "https://localhost:8080/"
        },
        "id": "2kGeguszmJss",
        "outputId": "8b4daf97-f9a5-43a4-dbfa-a7431fcd155d"
      },
      "execution_count": null,
      "outputs": [
        {
          "output_type": "execute_result",
          "data": {
            "text/plain": [
              "['red', 'yellow', 'green']"
            ]
          },
          "metadata": {},
          "execution_count": 47
        }
      ]
    },
    {
      "cell_type": "code",
      "source": [
        "colors_[-1]='blue'\n",
        "colors_"
      ],
      "metadata": {
        "colab": {
          "base_uri": "https://localhost:8080/"
        },
        "id": "MgdPJq1AmJ2t",
        "outputId": "dc5b6d84-b771-4a4b-ee11-3b95650a046c"
      },
      "execution_count": null,
      "outputs": [
        {
          "output_type": "execute_result",
          "data": {
            "text/plain": [
              "['red', 'yellow', 'blue']"
            ]
          },
          "metadata": {},
          "execution_count": 50
        }
      ]
    },
    {
      "cell_type": "markdown",
      "source": [
        "6. Indexing and Slicing\n",
        "\n",
        "\n",
        "Given the list numbers = [10, 20, 30, 40, 50]\n",
        "\n",
        "Print the third item from the list.\n",
        "\n",
        "Using slicing, print the first two numbers.\n",
        "\n",
        "Getting the last three numbers using negative indexing and slicing."
      ],
      "metadata": {
        "id": "A1gbpgHDgrql"
      }
    },
    {
      "cell_type": "code",
      "source": [
        "tens=[10,20,30,40,50]"
      ],
      "metadata": {
        "id": "UHF8zevPhqKS"
      },
      "execution_count": 2,
      "outputs": []
    },
    {
      "cell_type": "code",
      "source": [
        "tens[2]"
      ],
      "metadata": {
        "colab": {
          "base_uri": "https://localhost:8080/"
        },
        "id": "kxHIaXWcm5lz",
        "outputId": "9da9d674-3d98-4676-8fa4-25a572295e46"
      },
      "execution_count": 3,
      "outputs": [
        {
          "output_type": "execute_result",
          "data": {
            "text/plain": [
              "30"
            ]
          },
          "metadata": {},
          "execution_count": 3
        }
      ]
    },
    {
      "cell_type": "code",
      "source": [
        "tens[0:2]"
      ],
      "metadata": {
        "colab": {
          "base_uri": "https://localhost:8080/"
        },
        "id": "RjASdlvom9zl",
        "outputId": "20ebced3-ff4d-4936-9412-ce8762abe35b"
      },
      "execution_count": 4,
      "outputs": [
        {
          "output_type": "execute_result",
          "data": {
            "text/plain": [
              "[10, 20]"
            ]
          },
          "metadata": {},
          "execution_count": 4
        }
      ]
    },
    {
      "cell_type": "code",
      "source": [
        "tens[-3:]"
      ],
      "metadata": {
        "colab": {
          "base_uri": "https://localhost:8080/"
        },
        "id": "U1yK4d-BnB3B",
        "outputId": "a3682879-6e65-496e-b1c6-1f18dc0044de"
      },
      "execution_count": 9,
      "outputs": [
        {
          "output_type": "execute_result",
          "data": {
            "text/plain": [
              "[30, 40, 50]"
            ]
          },
          "metadata": {},
          "execution_count": 9
        }
      ]
    },
    {
      "cell_type": "markdown",
      "source": [
        "7. Manipulating Elements\n",
        "\n",
        "\n",
        "Given the list animals = ['cat', 'dog', 'bird']\n",
        "\n",
        "Print the list.\n",
        "\n",
        "Add fish to the end of the list.\n",
        "\n",
        "Print the updated list."
      ],
      "metadata": {
        "id": "0j-Qu6qNgryZ"
      }
    },
    {
      "cell_type": "code",
      "source": [
        "animals=['cat', 'bird', 'dog']"
      ],
      "metadata": {
        "id": "JP9La17DhqSH"
      },
      "execution_count": null,
      "outputs": []
    },
    {
      "cell_type": "code",
      "source": [
        "animals"
      ],
      "metadata": {
        "colab": {
          "base_uri": "https://localhost:8080/"
        },
        "id": "WkiEtDOhni1z",
        "outputId": "d136ebd8-87fe-496b-b4ff-ecb527105722"
      },
      "execution_count": null,
      "outputs": [
        {
          "output_type": "execute_result",
          "data": {
            "text/plain": [
              "['cat', 'bird', 'dog']"
            ]
          },
          "metadata": {},
          "execution_count": 59
        }
      ]
    },
    {
      "cell_type": "code",
      "source": [
        "animals.append('fish')"
      ],
      "metadata": {
        "id": "8SNZNVu2ni9X"
      },
      "execution_count": null,
      "outputs": []
    },
    {
      "cell_type": "code",
      "source": [
        "animals"
      ],
      "metadata": {
        "colab": {
          "base_uri": "https://localhost:8080/"
        },
        "id": "vLCTGjrrnjDe",
        "outputId": "e5a66f6e-47c7-43c1-ae34-46d49f4150af"
      },
      "execution_count": null,
      "outputs": [
        {
          "output_type": "execute_result",
          "data": {
            "text/plain": [
              "['cat', 'bird', 'dog', 'fish']"
            ]
          },
          "metadata": {},
          "execution_count": 63
        }
      ]
    },
    {
      "cell_type": "markdown",
      "source": [
        "8. Sorting\n",
        "\n",
        "\n",
        "Given the list random_numbers = [42, 8, 15, 23, 16]\n",
        "\n",
        "Print the list.\n",
        "\n",
        "Use the sort() method to sort the list.\n",
        "\n",
        "Print the sorted list.\n",
        "\n",
        "Print every second item from the sorted list."
      ],
      "metadata": {
        "id": "HSGOkc2hgr7Z"
      }
    },
    {
      "cell_type": "code",
      "source": [
        "rdm_num=[42,8,15,23,16]"
      ],
      "metadata": {
        "id": "tzTS1Ke3gub8"
      },
      "execution_count": null,
      "outputs": []
    },
    {
      "cell_type": "code",
      "source": [
        "rdm_num"
      ],
      "metadata": {
        "colab": {
          "base_uri": "https://localhost:8080/"
        },
        "id": "zaE7kkuRn0VV",
        "outputId": "d49fcfc4-765f-485b-c322-c91b98241582"
      },
      "execution_count": null,
      "outputs": [
        {
          "output_type": "execute_result",
          "data": {
            "text/plain": [
              "[42, 8, 15, 23, 16]"
            ]
          },
          "metadata": {},
          "execution_count": 67
        }
      ]
    },
    {
      "cell_type": "code",
      "source": [
        "rdm_num.sort()"
      ],
      "metadata": {
        "id": "3d7ADA52n1jq"
      },
      "execution_count": null,
      "outputs": []
    },
    {
      "cell_type": "code",
      "source": [
        "rdm_num"
      ],
      "metadata": {
        "colab": {
          "base_uri": "https://localhost:8080/"
        },
        "id": "Srk6n4qQn6-C",
        "outputId": "a7da8fd3-5db8-40e8-a960-2d0e9712efee"
      },
      "execution_count": null,
      "outputs": [
        {
          "output_type": "execute_result",
          "data": {
            "text/plain": [
              "[8, 15, 16, 23, 42]"
            ]
          },
          "metadata": {},
          "execution_count": 71
        }
      ]
    },
    {
      "cell_type": "code",
      "source": [
        "rdm_num[::2]"
      ],
      "metadata": {
        "colab": {
          "base_uri": "https://localhost:8080/"
        },
        "id": "46eU-YlPoI33",
        "outputId": "52b01d0f-92f5-4e92-e119-4cfde90a9716"
      },
      "execution_count": null,
      "outputs": [
        {
          "output_type": "execute_result",
          "data": {
            "text/plain": [
              "[8, 16, 42]"
            ]
          },
          "metadata": {},
          "execution_count": 72
        }
      ]
    }
  ]
}