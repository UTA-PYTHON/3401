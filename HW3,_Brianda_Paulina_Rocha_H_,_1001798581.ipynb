{
  "nbformat": 4,
  "nbformat_minor": 0,
  "metadata": {
    "colab": {
      "provenance": [],
      "authorship_tag": "ABX9TyPVmhOScCaGi+90yuSWRIZi",
      "include_colab_link": true
    },
    "kernelspec": {
      "name": "python3",
      "display_name": "Python 3"
    },
    "language_info": {
      "name": "python"
    }
  },
  "cells": [
    {
      "cell_type": "markdown",
      "metadata": {
        "id": "view-in-github",
        "colab_type": "text"
      },
      "source": [
        "<a href=\"https://colab.research.google.com/github/UTA-PYTHON/3401/blob/main/HW3%2C_Brianda_Paulina_Rocha_H_%2C_1001798581.ipynb\" target=\"_parent\"><img src=\"https://colab.research.google.com/assets/colab-badge.svg\" alt=\"Open In Colab\"/></a>"
      ]
    },
    {
      "cell_type": "code",
      "execution_count": null,
      "metadata": {
        "colab": {
          "base_uri": "https://localhost:8080/"
        },
        "id": "GRkMs5f_alZW",
        "outputId": "bd02b621-6b90-4783-ead1-736f26dfd354"
      },
      "outputs": [
        {
          "output_type": "stream",
          "name": "stdout",
          "text": [
            "Enter you name here:s\n",
            "Enter your agre here:7\n",
            "Hello  s . You are  7  years old.\n",
            "The data type of your name is: <class 'str'>\n",
            "The data type of your age is: <class 'str'>\n"
          ]
        }
      ],
      "source": [
        "name = input(\"Enter you name here:\")\n",
        "age = input(\"Enter your age here:\")\n",
        "\n",
        "print(\"Hello \", name, \". You are \", age, \" years old.\")\n",
        "\n",
        "print(f\"The data type of your name is: {type(name)}\")\n",
        "print(f\"The data type of your age is: {type(age)}\") #why strig"
      ]
    },
    {
      "cell_type": "code",
      "source": [
        "hometown = input(\"What is the name of your home town?\")\n",
        "\n",
        "print(f\"{hometown.upper()}\")\n",
        "print(f\"{hometown[:3]}\")\n",
        "print(f\"{hometown[::-1]}\")"
      ],
      "metadata": {
        "colab": {
          "base_uri": "https://localhost:8080/"
        },
        "id": "zoHpzjg8dY4C",
        "outputId": "844127a2-0b5f-4673-8b8b-3cdaa7bc7af8"
      },
      "execution_count": null,
      "outputs": [
        {
          "output_type": "stream",
          "name": "stdout",
          "text": [
            "What is the name of your home town?sv\n",
            "SV\n",
            "sv\n",
            "vs\n"
          ]
        }
      ]
    },
    {
      "cell_type": "code",
      "source": [
        "number = float(input(\"Enter a number:\"))\n",
        "number2 = number*number\n",
        "print(number2)"
      ],
      "metadata": {
        "colab": {
          "base_uri": "https://localhost:8080/"
        },
        "id": "y3eA_dkVeIP0",
        "outputId": "e86286a0-0cd1-4781-e4f2-e288fd271ef5"
      },
      "execution_count": null,
      "outputs": [
        {
          "output_type": "stream",
          "name": "stdout",
          "text": [
            "Enter a number:6\n",
            "36.0\n"
          ]
        }
      ]
    },
    {
      "cell_type": "code",
      "source": [
        "print(\"10 > 5\", 10 > 5)\n",
        "print(\"10 == 10\", 10 == 10)\n",
        "print(\"8 != 9\", 8!=9)"
      ],
      "metadata": {
        "id": "NZGqMfQbe1TZ",
        "colab": {
          "base_uri": "https://localhost:8080/"
        },
        "outputId": "3fa1d43e-113c-4574-db49-7f9d83d964f7"
      },
      "execution_count": 3,
      "outputs": [
        {
          "output_type": "stream",
          "name": "stdout",
          "text": [
            "10 > 5 True\n",
            "10 == 10 True\n",
            "8 != 9 True\n"
          ]
        }
      ]
    },
    {
      "cell_type": "code",
      "source": [
        "list = ['red','blue','green']\n",
        "print(list)\n",
        "print(list[0])\n",
        "list[1]= 'yellow'\n",
        "print(list)\n",
        "list[-1] = 'purple'\n",
        "print(list)"
      ],
      "metadata": {
        "colab": {
          "base_uri": "https://localhost:8080/"
        },
        "id": "fXqeFXxAotz-",
        "outputId": "7d570051-094d-45af-e6f7-be267a9677b1"
      },
      "execution_count": 8,
      "outputs": [
        {
          "output_type": "stream",
          "name": "stdout",
          "text": [
            "['red', 'blue', 'green']\n",
            "red\n",
            "['red', 'yellow', 'green']\n",
            "['red', 'yellow', 'purple']\n"
          ]
        }
      ]
    },
    {
      "cell_type": "code",
      "source": [
        "num = [10,20,30,40,50]\n",
        "print(num[2])\n",
        "print(num[:2])\n",
        "print(num[-3:])"
      ],
      "metadata": {
        "colab": {
          "base_uri": "https://localhost:8080/"
        },
        "id": "JTxoh0mUpNUm",
        "outputId": "67ad7448-c0af-474d-88d4-b9cf7314c124"
      },
      "execution_count": 9,
      "outputs": [
        {
          "output_type": "stream",
          "name": "stdout",
          "text": [
            "30\n",
            "[10, 20]\n",
            "[30, 40, 50]\n"
          ]
        }
      ]
    },
    {
      "cell_type": "code",
      "source": [
        "animals = ['cat', 'dog', 'bird']\n",
        "print(animals)\n",
        "animals.append ('fish')\n",
        "print(animals)"
      ],
      "metadata": {
        "colab": {
          "base_uri": "https://localhost:8080/"
        },
        "id": "jr2UXYeuqSQo",
        "outputId": "57ca1292-c300-4fbc-8e17-07351fd1295d"
      },
      "execution_count": 11,
      "outputs": [
        {
          "output_type": "stream",
          "name": "stdout",
          "text": [
            "['cat', 'dog', 'bird']\n",
            "['cat', 'dog', 'bird', 'fish']\n"
          ]
        }
      ]
    },
    {
      "cell_type": "code",
      "source": [
        "random_numbers = [42,8,15,23,16]\n",
        "print(random_numbers)\n",
        "random_numbers.sort()\n",
        "print(random_numbers)\n",
        "print(random_numbers[1::2])"
      ],
      "metadata": {
        "colab": {
          "base_uri": "https://localhost:8080/"
        },
        "id": "c-eiS-ptrCta",
        "outputId": "a7f05bf0-d382-4975-8b10-fbf0855f8df4"
      },
      "execution_count": 13,
      "outputs": [
        {
          "output_type": "stream",
          "name": "stdout",
          "text": [
            "[42, 8, 15, 23, 16]\n",
            "[8, 15, 16, 23, 42]\n",
            "[15, 23]\n"
          ]
        }
      ]
    }
  ]
}