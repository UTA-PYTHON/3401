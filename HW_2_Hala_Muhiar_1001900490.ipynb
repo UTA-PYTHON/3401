{
  "nbformat": 4,
  "nbformat_minor": 0,
  "metadata": {
    "colab": {
      "provenance": []
    },
    "kernelspec": {
      "name": "python3",
      "display_name": "Python 3"
    },
    "language_info": {
      "name": "python"
    }
  },
  "cells": [
    {
      "cell_type": "markdown",
      "source": [
        "# **Part 1: Markdown in Jupyter Notebook**"
      ],
      "metadata": {
        "id": "9IByxe-1mfI5"
      }
    },
    {
      "cell_type": "markdown",
      "source": [
        "#### 1. Bold and Italics\n",
        "* Write a sentence where one word is in **bold** and another is in *italics*\n",
        "\n",
        "    * This **homework** is for *DATA 3401*.\n",
        "\n",
        "#### 2. Headers\n",
        "* Create a hierarchy of headers from # to ####. Make up titles for each header.\n",
        "# Python for Data Science 1\n",
        "## Introduction to Data Science\n",
        "### Physical Chemistry 1\n",
        "#### Inorganic Chemistry 2\n",
        "\n",
        "#### 3. Lists\n",
        "* Create a bulleted list of your favorite fruits:\n",
        "    * Mango\n",
        "    * Watermelon\n",
        "    * Kiwi"
      ],
      "metadata": {
        "id": "ft0cEFS7mmr3"
      }
    },
    {
      "cell_type": "markdown",
      "source": [
        "# **Part 2: Python Basics**"
      ],
      "metadata": {
        "id": "YDOIwA_jmteo"
      }
    },
    {
      "cell_type": "markdown",
      "source": [
        "#### 1. Variable Assignment\n",
        "* Assign the number 5 to a variable named **a**.\n",
        "* Assign the number 10 to a variable named **b**.\n",
        "* Compute the sum of **a** and **b** and assign it to a variable named **c**. Print out the value of **c**."
      ],
      "metadata": {
        "id": "yZovD9ttm75J"
      }
    },
    {
      "cell_type": "code",
      "source": [
        "a=5"
      ],
      "metadata": {
        "id": "FkIkg4oFnA7A"
      },
      "execution_count": null,
      "outputs": []
    },
    {
      "cell_type": "code",
      "source": [
        "b=10"
      ],
      "metadata": {
        "id": "QLnCRr0rnDpz"
      },
      "execution_count": null,
      "outputs": []
    },
    {
      "cell_type": "code",
      "source": [
        "c=a+b"
      ],
      "metadata": {
        "id": "d3M2FaJ3nFNy"
      },
      "execution_count": null,
      "outputs": []
    },
    {
      "cell_type": "code",
      "source": [
        "print(c)"
      ],
      "metadata": {
        "colab": {
          "base_uri": "https://localhost:8080/"
        },
        "id": "Gwx8DnKunHBD",
        "outputId": "08d096db-3c02-43b6-d3a7-f139b177f920"
      },
      "execution_count": null,
      "outputs": [
        {
          "output_type": "stream",
          "name": "stdout",
          "text": [
            "15\n"
          ]
        }
      ]
    },
    {
      "cell_type": "markdown",
      "source": [
        "#### 2. PEMDAS\n",
        "* Given the equation 6 + 2 x (5 - 3^2) + 4/26 + 2 x (5 - 32) + 4/2 :\n",
        "    * Solve the equation step-by-step, following the PEMDAS order, and comment each step in the Jupyter cell.\n",
        "    * Compute the final answer using Python and display the result."
      ],
      "metadata": {
        "id": "9TfxD4RInJnj"
      }
    },
    {
      "cell_type": "code",
      "source": [
        "(5-3**2)    # First step : 6 + 2 x (-4) + 4/26 + 2 x (5 - 32) + 4/2"
      ],
      "metadata": {
        "colab": {
          "base_uri": "https://localhost:8080/"
        },
        "id": "yrPuPg5ejmB4",
        "outputId": "05534ab7-8de5-4953-8a4b-f8bb574f664f"
      },
      "execution_count": null,
      "outputs": [
        {
          "output_type": "execute_result",
          "data": {
            "text/plain": [
              "-4"
            ]
          },
          "metadata": {},
          "execution_count": 5
        }
      ]
    },
    {
      "cell_type": "code",
      "source": [
        "(5-32)    # Second step : 6 + 2 x (-4) + 4/26 + 2 x (-27) + 4/2"
      ],
      "metadata": {
        "colab": {
          "base_uri": "https://localhost:8080/"
        },
        "id": "qtz0IOEKjzrT",
        "outputId": "33fd5059-de04-4796-990d-515dbeec657c"
      },
      "execution_count": null,
      "outputs": [
        {
          "output_type": "execute_result",
          "data": {
            "text/plain": [
              "-27"
            ]
          },
          "metadata": {},
          "execution_count": 6
        }
      ]
    },
    {
      "cell_type": "code",
      "source": [
        "2*-4    # Third step : 6 - 8 + 4/26 + 2 x (-27) + 4/2"
      ],
      "metadata": {
        "colab": {
          "base_uri": "https://localhost:8080/"
        },
        "id": "wOaRS9Sij77r",
        "outputId": "e821cd97-8aaf-4d25-f03d-0bc8fd259511"
      },
      "execution_count": null,
      "outputs": [
        {
          "output_type": "execute_result",
          "data": {
            "text/plain": [
              "-8"
            ]
          },
          "metadata": {},
          "execution_count": 7
        }
      ]
    },
    {
      "cell_type": "code",
      "source": [
        "4/26    # Fourth step : 6 - 8 + 0.154 + 2 x (-27) + 4/2"
      ],
      "metadata": {
        "colab": {
          "base_uri": "https://localhost:8080/"
        },
        "id": "Jjb2kXS3kEql",
        "outputId": "00a060f0-afd2-4ad6-b1cd-e294a9ae51c1"
      },
      "execution_count": null,
      "outputs": [
        {
          "output_type": "execute_result",
          "data": {
            "text/plain": [
              "0.15384615384615385"
            ]
          },
          "metadata": {},
          "execution_count": 8
        }
      ]
    },
    {
      "cell_type": "code",
      "source": [
        "2*-27   # Fifth step: 6 - 8 + 0.154 - 54 + 4/2"
      ],
      "metadata": {
        "colab": {
          "base_uri": "https://localhost:8080/"
        },
        "id": "VmDeWMOFkfJe",
        "outputId": "945b562c-a897-4266-f950-9c68ec326e5b"
      },
      "execution_count": null,
      "outputs": [
        {
          "output_type": "execute_result",
          "data": {
            "text/plain": [
              "-54"
            ]
          },
          "metadata": {},
          "execution_count": 9
        }
      ]
    },
    {
      "cell_type": "code",
      "source": [
        "4/2   # Sixth step: 6 - 8 + 0.154 - 54 + 2"
      ],
      "metadata": {
        "colab": {
          "base_uri": "https://localhost:8080/"
        },
        "id": "iAANgzQfko_X",
        "outputId": "1d7ea2a0-7517-44c5-a1f4-f69ea0a0bc7b"
      },
      "execution_count": null,
      "outputs": [
        {
          "output_type": "execute_result",
          "data": {
            "text/plain": [
              "2.0"
            ]
          },
          "metadata": {},
          "execution_count": 10
        }
      ]
    },
    {
      "cell_type": "code",
      "source": [
        "6-8   # Seventh step: -2 + 0.154 - 54 + 2"
      ],
      "metadata": {
        "colab": {
          "base_uri": "https://localhost:8080/"
        },
        "id": "nKWahRSak1UA",
        "outputId": "45ef1e4a-1882-4032-b66d-75c926a842a4"
      },
      "execution_count": null,
      "outputs": [
        {
          "output_type": "execute_result",
          "data": {
            "text/plain": [
              "-2"
            ]
          },
          "metadata": {},
          "execution_count": 11
        }
      ]
    },
    {
      "cell_type": "code",
      "source": [
        "-2+0.15384615384615385   # Eigth step: -1.846 - 54 + 2"
      ],
      "metadata": {
        "colab": {
          "base_uri": "https://localhost:8080/"
        },
        "id": "iwwpMVrolEKT",
        "outputId": "08d5128c-d5e2-4e33-c8eb-3d7bc904bc27"
      },
      "execution_count": null,
      "outputs": [
        {
          "output_type": "execute_result",
          "data": {
            "text/plain": [
              "-1.8461538461538463"
            ]
          },
          "metadata": {},
          "execution_count": 12
        }
      ]
    },
    {
      "cell_type": "code",
      "source": [
        "-1.8461538461538463-54   # Ninth step: -55.85 + 2"
      ],
      "metadata": {
        "colab": {
          "base_uri": "https://localhost:8080/"
        },
        "id": "10cofFTdlYgo",
        "outputId": "0dfec88e-4200-453b-8dfc-eab1630e6b41"
      },
      "execution_count": null,
      "outputs": [
        {
          "output_type": "execute_result",
          "data": {
            "text/plain": [
              "-55.84615384615385"
            ]
          },
          "metadata": {},
          "execution_count": 13
        }
      ]
    },
    {
      "cell_type": "code",
      "source": [
        "-55.84615384615385+2   # Tenth step: -53.85"
      ],
      "metadata": {
        "colab": {
          "base_uri": "https://localhost:8080/"
        },
        "id": "JX8BQt8klt8H",
        "outputId": "72265c74-f34e-4068-9dee-cd90ea17ad37"
      },
      "execution_count": null,
      "outputs": [
        {
          "output_type": "execute_result",
          "data": {
            "text/plain": [
              "-53.84615384615385"
            ]
          },
          "metadata": {},
          "execution_count": 14
        }
      ]
    },
    {
      "cell_type": "code",
      "source": [
        "6+2*(5-3**2)+4/26+2*(5-32)+4/2   # Overall"
      ],
      "metadata": {
        "id": "7LKJpSLwnb0R",
        "outputId": "e61d3e24-f4f4-4997-8488-ddf68fe18a20",
        "colab": {
          "base_uri": "https://localhost:8080/"
        }
      },
      "execution_count": null,
      "outputs": [
        {
          "output_type": "execute_result",
          "data": {
            "text/plain": [
              "-53.84615384615385"
            ]
          },
          "metadata": {},
          "execution_count": 17
        }
      ]
    },
    {
      "cell_type": "code",
      "source": [],
      "metadata": {
        "id": "EYe3Dy1ll7Vr"
      },
      "execution_count": null,
      "outputs": []
    }
  ]
}