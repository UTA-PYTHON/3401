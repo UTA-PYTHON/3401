{
  "nbformat": 4,
  "nbformat_minor": 0,
  "metadata": {
    "colab": {
      "provenance": [],
      "authorship_tag": "ABX9TyO9342olR/y0sHQ444PL14e",
      "include_colab_link": true
    },
    "kernelspec": {
      "name": "python3",
      "display_name": "Python 3"
    },
    "language_info": {
      "name": "python"
    }
  },
  "cells": [
    {
      "cell_type": "markdown",
      "metadata": {
        "id": "view-in-github",
        "colab_type": "text"
      },
      "source": [
        "<a href=\"https://colab.research.google.com/github/UTA-PYTHON/3401/blob/main/Homework2SarahStarkeyLanham.ipynb\" target=\"_parent\"><img src=\"https://colab.research.google.com/assets/colab-badge.svg\" alt=\"Open In Colab\"/></a>"
      ]
    },
    {
      "cell_type": "markdown",
      "source": [
        "Questions:\n",
        "\n",
        "#Part 1: Markdown in Jupyter Notebook\n",
        "\n",
        "1. Bold and Italics: Write a sentence where one word is in bold and another is in italics.\n",
        "\n",
        "Answer: **Bold** text is rarely used in music notation, however, *Italicized* text is rather common.\n",
        "\n",
        "2. Headers: Create a hierarchy of headers from # (largest) to ### (smallest). Make up titles for each header level.\n",
        "\n",
        "Answer:\n",
        "#Largest Header\n",
        "##Medium Header\n",
        "###Small Header\n",
        "\n",
        "3. Lists: Create a bulleted list of your three favorite fruits\n",
        "\n",
        "Answer:  \n",
        "*  Blueberries\n",
        "*  Persimmons  \n",
        "*  Ripe fruit off the plant  \n"
      ],
      "metadata": {
        "id": "v0dIKyfGL3SO"
      }
    },
    {
      "cell_type": "markdown",
      "source": [
        "#Part 2: Python Basics\n",
        "\n",
        "1. Variable Assignment\n",
        "\n",
        "* Assign the number 5 to a variable named a.\n",
        "* Assign the number 10 to a variable named b.\n",
        "* Compute the sum of a and b and assign it to a variable named c. Print out the value of c.\n"
      ],
      "metadata": {
        "id": "4iuMhOLuOBZy"
      }
    },
    {
      "cell_type": "code",
      "source": [
        "a=5\n",
        "b=10\n",
        "c=a+b\n",
        "print('The sum of a and b is: ', c)"
      ],
      "metadata": {
        "colab": {
          "base_uri": "https://localhost:8080/"
        },
        "id": "oa46jeyHNCfj",
        "outputId": "f2233b64-9c8c-4456-b194-e84093d6f850"
      },
      "execution_count": null,
      "outputs": [
        {
          "output_type": "stream",
          "name": "stdout",
          "text": [
            "The sum of a and b is:  15\n"
          ]
        }
      ]
    },
    {
      "cell_type": "markdown",
      "source": [
        "2. PEMDAS\n",
        "\n",
        "* Given the equation 6+2x(5-3^2)+4/26+2x(5-32)+4/2\n",
        "* Solve the equation step-by-step, following the PEMDAS order, and comment each step in the Jupyter cell.\n",
        "* Compute the final answer using Python and display the result."
      ],
      "metadata": {
        "id": "sdEzj-bSOyjo"
      }
    },
    {
      "cell_type": "code",
      "source": [
        "# Step 1: look at and solve the operations in parentesis in order\n",
        "5-(3**2) #the exponent will run first and then the answer will be subtracted from 5"
      ],
      "metadata": {
        "colab": {
          "base_uri": "https://localhost:8080/"
        },
        "id": "8ZicT3IVOfKm",
        "outputId": "5f60da3f-623b-4684-e731-596b029a66ae"
      },
      "execution_count": null,
      "outputs": [
        {
          "output_type": "execute_result",
          "data": {
            "text/plain": [
              "-4"
            ]
          },
          "metadata": {},
          "execution_count": 4
        }
      ]
    },
    {
      "cell_type": "code",
      "source": [
        "#Step 1 continued\n",
        "(5-32)"
      ],
      "metadata": {
        "colab": {
          "base_uri": "https://localhost:8080/"
        },
        "id": "i5QUNoYrQI3o",
        "outputId": "7494fd4e-09d3-4324-8f12-4f9d9b9ff42e"
      },
      "execution_count": null,
      "outputs": [
        {
          "output_type": "execute_result",
          "data": {
            "text/plain": [
              "-27"
            ]
          },
          "metadata": {},
          "execution_count": 5
        }
      ]
    },
    {
      "cell_type": "code",
      "source": [
        "#currently the problem looks like\n",
        "# 6+2(-4)+4/26+2(-27)+4/2\n",
        "#Step 2 is multipication\n",
        "2*(-4)"
      ],
      "metadata": {
        "colab": {
          "base_uri": "https://localhost:8080/"
        },
        "id": "cdZ-Xj3YQcOo",
        "outputId": "3a5123f4-64d4-4e73-ccc1-ab0eaf5d8446"
      },
      "execution_count": null,
      "outputs": [
        {
          "output_type": "execute_result",
          "data": {
            "text/plain": [
              "-8"
            ]
          },
          "metadata": {},
          "execution_count": 6
        }
      ]
    },
    {
      "cell_type": "code",
      "source": [
        "#step 2 continued\n",
        "2*(-27)"
      ],
      "metadata": {
        "colab": {
          "base_uri": "https://localhost:8080/"
        },
        "id": "NCh26ZVWRGTq",
        "outputId": "de8493b6-ef8e-495b-b518-fd2be8e48b92"
      },
      "execution_count": null,
      "outputs": [
        {
          "output_type": "execute_result",
          "data": {
            "text/plain": [
              "-54"
            ]
          },
          "metadata": {},
          "execution_count": 7
        }
      ]
    },
    {
      "cell_type": "code",
      "source": [
        "#Step 3 is division\n",
        "4/26"
      ],
      "metadata": {
        "id": "rhwlU0QJRRjf",
        "colab": {
          "base_uri": "https://localhost:8080/"
        },
        "outputId": "a5ccaf1c-ec9a-418e-b2c5-2a0307bb3e08"
      },
      "execution_count": null,
      "outputs": [
        {
          "output_type": "execute_result",
          "data": {
            "text/plain": [
              "0.15384615384615385"
            ]
          },
          "metadata": {},
          "execution_count": 1
        }
      ]
    },
    {
      "cell_type": "code",
      "source": [
        "#Step 3 cont\n",
        "4/2\n"
      ],
      "metadata": {
        "colab": {
          "base_uri": "https://localhost:8080/"
        },
        "id": "1aDhm-ETMwdB",
        "outputId": "2a18217a-00b0-44ae-a01e-22ae711687c5"
      },
      "execution_count": null,
      "outputs": [
        {
          "output_type": "execute_result",
          "data": {
            "text/plain": [
              "2.0"
            ]
          },
          "metadata": {},
          "execution_count": 2
        }
      ]
    },
    {
      "cell_type": "code",
      "source": [
        "#Finally do the additon and subtraction and combine it all together\n",
        "6+(-8)+(4/26)+(-54)+2 #for accuracy I reverted 4/26 back to the fraction rather than rounding"
      ],
      "metadata": {
        "colab": {
          "base_uri": "https://localhost:8080/"
        },
        "id": "xVSdxGriM6ee",
        "outputId": "21cce7ae-acdd-4ae8-d6ad-bd832dfa8011"
      },
      "execution_count": null,
      "outputs": [
        {
          "output_type": "execute_result",
          "data": {
            "text/plain": [
              "-53.84615384615385"
            ]
          },
          "metadata": {},
          "execution_count": 3
        }
      ]
    },
    {
      "cell_type": "code",
      "source": [
        "#To run this all in one equation, write as:\n",
        "6+2*(5-(3**2))+4/26+2*(5-32)+4/2"
      ],
      "metadata": {
        "colab": {
          "base_uri": "https://localhost:8080/"
        },
        "id": "ISZVqU5VNRuv",
        "outputId": "c2f12980-f050-4b6e-82d8-d79ad7e89565"
      },
      "execution_count": null,
      "outputs": [
        {
          "output_type": "execute_result",
          "data": {
            "text/plain": [
              "-53.84615384615385"
            ]
          },
          "metadata": {},
          "execution_count": 4
        }
      ]
    },
    {
      "cell_type": "code",
      "source": [],
      "metadata": {
        "id": "lnByNP2FNqw7"
      },
      "execution_count": null,
      "outputs": []
    }
  ]
}