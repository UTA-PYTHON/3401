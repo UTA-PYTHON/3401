{
  "nbformat": 4,
  "nbformat_minor": 0,
  "metadata": {
    "colab": {
      "provenance": []
    },
    "kernelspec": {
      "name": "python3",
      "display_name": "Python 3"
    },
    "language_info": {
      "name": "python"
    }
  },
  "cells": [
    {
      "cell_type": "markdown",
      "source": [
        "# Part 1"
      ],
      "metadata": {
        "id": "0uBBFKFDe9kO"
      }
    },
    {
      "cell_type": "markdown",
      "source": [
        "*Data*\n",
        "**Science**"
      ],
      "metadata": {
        "id": "soF3EJjvdov5"
      }
    },
    {
      "cell_type": "markdown",
      "source": [
        "#Hello"
      ],
      "metadata": {
        "id": "zaggan5-eFSM"
      }
    },
    {
      "cell_type": "markdown",
      "source": [
        "##Hello#"
      ],
      "metadata": {
        "id": "BcHvd_g_eKB3"
      }
    },
    {
      "cell_type": "markdown",
      "source": [
        "###Hello#"
      ],
      "metadata": {
        "id": "1yyZwNC_eKLd"
      }
    },
    {
      "cell_type": "markdown",
      "source": [
        "* Mangoes\n",
        "* Oranges\n",
        "* Apples"
      ],
      "metadata": {
        "id": "JtJSUTg9eqPo"
      }
    },
    {
      "cell_type": "markdown",
      "source": [
        "# Part 2"
      ],
      "metadata": {
        "id": "8mjTRnosfEcw"
      }
    },
    {
      "cell_type": "code",
      "source": [
        "a = 5\n",
        "b = 10\n",
        "c= a+b"
      ],
      "metadata": {
        "id": "-3g2FUvKfF36"
      },
      "execution_count": 7,
      "outputs": []
    },
    {
      "cell_type": "code",
      "source": [
        "print(c)"
      ],
      "metadata": {
        "colab": {
          "base_uri": "https://localhost:8080/"
        },
        "id": "nFIBbceDfYW9",
        "outputId": "74796edc-c734-41cd-fd62-48b1d0a05594"
      },
      "execution_count": 9,
      "outputs": [
        {
          "output_type": "stream",
          "name": "stdout",
          "text": [
            "15\n"
          ]
        }
      ]
    },
    {
      "cell_type": "code",
      "source": [
        "p1 = (5-3**2)\n",
        "p2 = (5-32)"
      ],
      "metadata": {
        "id": "1MZfP6PHfbhL"
      },
      "execution_count": 10,
      "outputs": []
    },
    {
      "cell_type": "code",
      "source": [
        "m1 = (2*p1)\n",
        "m2 = (2*p2)"
      ],
      "metadata": {
        "id": "U7WPKVSjhNyJ"
      },
      "execution_count": 11,
      "outputs": []
    },
    {
      "cell_type": "code",
      "source": [
        "d1 = 4/26\n",
        "d2 = 4/2"
      ],
      "metadata": {
        "id": "nhQiIcLihdNu"
      },
      "execution_count": 12,
      "outputs": []
    },
    {
      "cell_type": "code",
      "source": [
        "ans = 6 + m1 + d1 + m2 +d2"
      ],
      "metadata": {
        "id": "1eqNWOLdhmay"
      },
      "execution_count": 13,
      "outputs": []
    },
    {
      "cell_type": "code",
      "source": [
        "print (ans)"
      ],
      "metadata": {
        "colab": {
          "base_uri": "https://localhost:8080/"
        },
        "id": "bJZR0rtDh2hj",
        "outputId": "aad51449-0e2e-4e5d-ae28-63982aeb059d"
      },
      "execution_count": 14,
      "outputs": [
        {
          "output_type": "stream",
          "name": "stdout",
          "text": [
            "-53.84615384615385\n"
          ]
        }
      ]
    },
    {
      "cell_type": "code",
      "source": [],
      "metadata": {
        "id": "JVUS1Ynth3yM"
      },
      "execution_count": null,
      "outputs": []
    }
  ]
}