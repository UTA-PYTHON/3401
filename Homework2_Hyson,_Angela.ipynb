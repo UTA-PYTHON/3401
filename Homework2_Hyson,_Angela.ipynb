{
  "nbformat": 4,
  "nbformat_minor": 0,
  "metadata": {
    "colab": {
      "provenance": [],
      "authorship_tag": "ABX9TyOLe6c0bdRq3h25avKDjm3Z"
    },
    "kernelspec": {
      "name": "python3",
      "display_name": "Python 3"
    },
    "language_info": {
      "name": "python"
    }
  },
  "cells": [
    {
      "cell_type": "markdown",
      "source": [
        "#Homework 2\n",
        "#Angela Hyson\n",
        "#ID: 1002188878"
      ],
      "metadata": {
        "id": "lQC2ZGXINTib"
      }
    },
    {
      "cell_type": "markdown",
      "source": [
        "#Part 1: Markdown in Jupyter Notebook"
      ],
      "metadata": {
        "id": "GYcKask5NuiA"
      }
    },
    {
      "cell_type": "markdown",
      "source": [
        "##1. Bold and Italics\n",
        "- Write a sentence where one word is in **bold** and another is in *italics*.\n",
        "- Python is very **versatile**, which makes it the *ideal* coding language.\n"
      ],
      "metadata": {
        "id": "pXb_SR3rN206"
      }
    },
    {
      "cell_type": "markdown",
      "source": [
        "##2. Headers\n",
        "#Large Python\n",
        "##Medium Python\n",
        "###Small Python\n",
        "####Tiny Python\n",
        "#####Petite Python"
      ],
      "metadata": {
        "id": "s24feywpOTZC"
      }
    },
    {
      "cell_type": "markdown",
      "source": [
        "##3. Lists\n",
        "- Create a bulleted list of your three favorite fruits\n",
        "- Peaches\n",
        "- Mangoes\n",
        "- Strawberries\n",
        "---"
      ],
      "metadata": {
        "id": "us9zHY5lPGPP"
      }
    },
    {
      "cell_type": "markdown",
      "source": [
        "#Part 2: Python Basics"
      ],
      "metadata": {
        "id": "nyRxiUuQPaRh"
      }
    },
    {
      "cell_type": "markdown",
      "source": [
        "##2. Variable Assignment\n",
        "- Assign the number 5 to a variable named a."
      ],
      "metadata": {
        "id": "QQzJGeEzPjRU"
      }
    },
    {
      "cell_type": "code",
      "source": [
        "a=5 #Assigning number 5 to variable a.\n",
        "a #Printing code to test variable has appropriate value."
      ],
      "metadata": {
        "colab": {
          "base_uri": "https://localhost:8080/"
        },
        "id": "G3EW3VfVPe_O",
        "outputId": "df6f49bd-2625-4638-8736-5e418cae378d"
      },
      "execution_count": null,
      "outputs": [
        {
          "output_type": "execute_result",
          "data": {
            "text/plain": [
              "5"
            ]
          },
          "metadata": {},
          "execution_count": 5
        }
      ]
    },
    {
      "cell_type": "markdown",
      "source": [
        "- Assign the number 10 to a variable named b."
      ],
      "metadata": {
        "id": "sWyzhCLAP0xT"
      }
    },
    {
      "cell_type": "code",
      "source": [
        "b=10\n",
        "b"
      ],
      "metadata": {
        "colab": {
          "base_uri": "https://localhost:8080/"
        },
        "id": "PgvuUHmHPyJR",
        "outputId": "5d1b01ec-196e-4126-8884-8946e501a8e9"
      },
      "execution_count": null,
      "outputs": [
        {
          "output_type": "execute_result",
          "data": {
            "text/plain": [
              "10"
            ]
          },
          "metadata": {},
          "execution_count": 3
        }
      ]
    },
    {
      "cell_type": "markdown",
      "source": [
        "- Compute the sum of a and b and assign it to a variable named c. Print out the value of c."
      ],
      "metadata": {
        "id": "9SF5zjoPQApz"
      }
    },
    {
      "cell_type": "code",
      "source": [
        "c=a+b #Assigning the variable c to be the sum of a and b.\n",
        "c #Printing out the value of c."
      ],
      "metadata": {
        "colab": {
          "base_uri": "https://localhost:8080/"
        },
        "id": "G-s1nUvkP8Ws",
        "outputId": "34b3b73a-293e-4ff9-92b7-fd85b4ae94cf"
      },
      "execution_count": null,
      "outputs": [
        {
          "output_type": "execute_result",
          "data": {
            "text/plain": [
              "15"
            ]
          },
          "metadata": {},
          "execution_count": 6
        }
      ]
    },
    {
      "cell_type": "markdown",
      "source": [
        "##2. PEMDAS\n",
        "###Given the equation: 6 + 2 x (5 - 3^2) + 4 / 26 + 2 x (5-32) + 4 / 2\n",
        "- Solve the equation step-by-step, following the PEMDAS order, and comment each step in the Jupyter cell.\n",
        "\n"
      ],
      "metadata": {
        "id": "Fv5i7ihLRlKF"
      }
    },
    {
      "cell_type": "code",
      "source": [
        "5-3**2 #via PEMDAS the operations in parenthesis have priority. (5-3^2) also has exponents (3^2) so that will be operated before subtraction takes place. 3^2=9 > 5-9=-4."
      ],
      "metadata": {
        "colab": {
          "base_uri": "https://localhost:8080/"
        },
        "id": "ijENCiULRewq",
        "outputId": "90fb3e41-7d66-44c4-987c-125eb125adca"
      },
      "execution_count": null,
      "outputs": [
        {
          "output_type": "execute_result",
          "data": {
            "text/plain": [
              "-4"
            ]
          },
          "metadata": {},
          "execution_count": 22
        }
      ]
    },
    {
      "cell_type": "code",
      "source": [
        "5-32 #2nd operation in parenthesis, has no other operations so it can go straight into substitution."
      ],
      "metadata": {
        "colab": {
          "base_uri": "https://localhost:8080/"
        },
        "id": "XbZPCdoYU_6T",
        "outputId": "e378847b-aede-4c04-8fd6-0c54645f9f57"
      },
      "execution_count": null,
      "outputs": [
        {
          "output_type": "execute_result",
          "data": {
            "text/plain": [
              "-27"
            ]
          },
          "metadata": {},
          "execution_count": 8
        }
      ]
    },
    {
      "cell_type": "code",
      "source": [
        "4/2 #Although PEMDAS indicates multiplication is in front of division, I can easily go ahead and simplify the fraction (4 / 2) on the end to = 2."
      ],
      "metadata": {
        "colab": {
          "base_uri": "https://localhost:8080/"
        },
        "id": "TFgEoCNUXwoE",
        "outputId": "b88632e1-d210-4ae7-b7d6-26b82aa16dbd"
      },
      "execution_count": null,
      "outputs": [
        {
          "output_type": "execute_result",
          "data": {
            "text/plain": [
              "2.0"
            ]
          },
          "metadata": {},
          "execution_count": 21
        }
      ]
    },
    {
      "cell_type": "markdown",
      "source": [
        "Reduced equation is now: **6 + 2 x (-4) + 4 / 26 + 2 x (-27) + 2**"
      ],
      "metadata": {
        "id": "iGL8Z0vKXIWr"
      }
    },
    {
      "cell_type": "code",
      "source": [
        "2*-4 #PEMDAS -- the next operation is to multiply (2 x -4) and (2 x -27)."
      ],
      "metadata": {
        "colab": {
          "base_uri": "https://localhost:8080/"
        },
        "id": "7MquSm_uXDfy",
        "outputId": "601dd17b-b3ea-426b-898d-e22e9c0dd013"
      },
      "execution_count": null,
      "outputs": [
        {
          "output_type": "execute_result",
          "data": {
            "text/plain": [
              "-8"
            ]
          },
          "metadata": {},
          "execution_count": 20
        }
      ]
    },
    {
      "cell_type": "code",
      "source": [
        "2*-27 #The other multiplication operation."
      ],
      "metadata": {
        "colab": {
          "base_uri": "https://localhost:8080/"
        },
        "id": "3Iu159tRYjcJ",
        "outputId": "150a2d46-77c7-4069-f517-3087dcc331a4"
      },
      "execution_count": null,
      "outputs": [
        {
          "output_type": "execute_result",
          "data": {
            "text/plain": [
              "-54"
            ]
          },
          "metadata": {},
          "execution_count": 19
        }
      ]
    },
    {
      "cell_type": "markdown",
      "source": [
        "Reduced equation is now: **6 + (-8) + 4 / 26 + (-54) + 2**"
      ],
      "metadata": {
        "id": "AQswKDJZY0zx"
      }
    },
    {
      "cell_type": "code",
      "source": [
        "6-8 #Will now simply solve equation from left to right starting with the operations, subtraction."
      ],
      "metadata": {
        "colab": {
          "base_uri": "https://localhost:8080/"
        },
        "id": "Bjsbtt6pZCmZ",
        "outputId": "2533d726-aadb-435c-b7f8-b84d2bf4d9f0"
      },
      "execution_count": null,
      "outputs": [
        {
          "output_type": "execute_result",
          "data": {
            "text/plain": [
              "-2"
            ]
          },
          "metadata": {},
          "execution_count": 12
        }
      ]
    },
    {
      "cell_type": "code",
      "source": [
        "-54+2 #This is the subtraction operation at the end of the equation. Division was saved until the end because the result is not a whole number but instead is a decimal, so it is easier to let the computer compute the result."
      ],
      "metadata": {
        "colab": {
          "base_uri": "https://localhost:8080/"
        },
        "id": "FUCqjPM8aDhA",
        "outputId": "f63db69a-b4d9-49cc-ab4a-fbde03c3b3dc"
      },
      "execution_count": null,
      "outputs": [
        {
          "output_type": "execute_result",
          "data": {
            "text/plain": [
              "-52"
            ]
          },
          "metadata": {},
          "execution_count": 14
        }
      ]
    },
    {
      "cell_type": "markdown",
      "source": [
        "Reduced equation is now: **-54 + 4 / 26**"
      ],
      "metadata": {
        "id": "LhDWvu0ZaZLE"
      }
    },
    {
      "cell_type": "code",
      "source": [
        "-54+(4/26) #This is the result of the equation."
      ],
      "metadata": {
        "colab": {
          "base_uri": "https://localhost:8080/"
        },
        "id": "dyqUzGCvaObL",
        "outputId": "72b5dc0b-6e7e-4db7-d525-173c231e6ff5"
      },
      "execution_count": null,
      "outputs": [
        {
          "output_type": "execute_result",
          "data": {
            "text/plain": [
              "-53.84615384615385"
            ]
          },
          "metadata": {},
          "execution_count": 18
        }
      ]
    },
    {
      "cell_type": "markdown",
      "source": [
        "- Compute the final answer using Python and display the result"
      ],
      "metadata": {
        "id": "3s4-4zf7czP7"
      }
    },
    {
      "cell_type": "code",
      "source": [
        "6+2*(5-3**2)+4/26+2*(5-32)+4/2 #Computed final answer of equation."
      ],
      "metadata": {
        "colab": {
          "base_uri": "https://localhost:8080/"
        },
        "id": "aBKBJAO4cpgk",
        "outputId": "7c904b98-0d3c-4619-ef43-336b53192a74"
      },
      "execution_count": null,
      "outputs": [
        {
          "output_type": "execute_result",
          "data": {
            "text/plain": [
              "-53.84615384615385"
            ]
          },
          "metadata": {},
          "execution_count": 17
        }
      ]
    },
    {
      "cell_type": "markdown",
      "source": [
        "---\n",
        "Completed 9/10/2023"
      ],
      "metadata": {
        "id": "lw8ccNgxdjst"
      }
    }
  ]
}