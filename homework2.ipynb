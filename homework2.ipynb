{
 "cells": [
  {
   "cell_type": "markdown",
   "id": "cc61968a",
   "metadata": {},
   "source": [
    "**QUESTION:** Write a sentence where one word is in bold and another is in *italics*.\n",
    "\n",
    "\n",
    "Answer: Hello, my name is **Ali Elmasry** and I am looking forward to learning *data science*."
   ]
  },
  {
   "cell_type": "markdown",
   "id": "3f8c81fe",
   "metadata": {},
   "source": [
    "**QUESTION:** Create a hierarchy of headers from # (largest) to ### (smallest). Make up titles for each header level.\n",
    "\n",
    "Answer:\n",
    "# Data Science\n",
    "## Ali Elmasry\n",
    "### 09/14/2023"
   ]
  },
  {
   "cell_type": "code",
   "execution_count": 1,
   "id": "def13ed0",
   "metadata": {},
   "outputs": [
    {
     "name": "stdout",
     "output_type": "stream",
     "text": [
      "15\n"
     ]
    }
   ],
   "source": [
    "a = 5\n",
    "b = 10\n",
    "c = a+b\n",
    "print (c)"
   ]
  },
  {
   "cell_type": "markdown",
   "id": "15851de2",
   "metadata": {},
   "source": [
    "The equation is 6 + 2 * (5-3^2) + 4 / 26 + 2 * (5-32) + 4 / 2\n",
    "\n",
    "Since we are following PEMDAS let us do the work inside the paranthesis first through the program."
   ]
  },
  {
   "cell_type": "code",
   "execution_count": 2,
   "id": "167895d5",
   "metadata": {},
   "outputs": [
    {
     "data": {
      "text/plain": [
       "-4"
      ]
     },
     "execution_count": 2,
     "metadata": {},
     "output_type": "execute_result"
    }
   ],
   "source": [
    "(5-3**2)"
   ]
  },
  {
   "cell_type": "code",
   "execution_count": 3,
   "id": "fe6f4e1b",
   "metadata": {},
   "outputs": [
    {
     "data": {
      "text/plain": [
       "-27"
      ]
     },
     "execution_count": 3,
     "metadata": {},
     "output_type": "execute_result"
    }
   ],
   "source": [
    "(5-32)"
   ]
  },
  {
   "cell_type": "markdown",
   "id": "76dcd0a1",
   "metadata": {},
   "source": [
    "Now let us re-write the equation with our new answers.\n",
    "\n",
    "6 + 2 * (-4) + 4 / 26 + 2 * (5-32) + 4 / 2\n",
    "\n",
    "The next step is multiplication. "
   ]
  },
  {
   "cell_type": "code",
   "execution_count": 4,
   "id": "6409ce21",
   "metadata": {},
   "outputs": [
    {
     "data": {
      "text/plain": [
       "-8"
      ]
     },
     "execution_count": 4,
     "metadata": {},
     "output_type": "execute_result"
    }
   ],
   "source": [
    "2*(-4)"
   ]
  },
  {
   "cell_type": "code",
   "execution_count": 5,
   "id": "e8d5732b",
   "metadata": {},
   "outputs": [
    {
     "data": {
      "text/plain": [
       "-54"
      ]
     },
     "execution_count": 5,
     "metadata": {},
     "output_type": "execute_result"
    }
   ],
   "source": [
    "2*(5-32)"
   ]
  },
  {
   "cell_type": "markdown",
   "id": "03cf7f55",
   "metadata": {},
   "source": [
    "Let's re-write again.\n",
    "\n",
    "6 - 8 + 4 / 26 + 2 - 54 + 4 / 2\n",
    "\n",
    "Now let us do the division."
   ]
  },
  {
   "cell_type": "code",
   "execution_count": 6,
   "id": "ccfe8a96",
   "metadata": {},
   "outputs": [
    {
     "data": {
      "text/plain": [
       "0.15384615384615385"
      ]
     },
     "execution_count": 6,
     "metadata": {},
     "output_type": "execute_result"
    }
   ],
   "source": [
    "4/26"
   ]
  },
  {
   "cell_type": "code",
   "execution_count": 7,
   "id": "c309dc91",
   "metadata": {},
   "outputs": [
    {
     "data": {
      "text/plain": [
       "2.0"
      ]
     },
     "execution_count": 7,
     "metadata": {},
     "output_type": "execute_result"
    }
   ],
   "source": [
    "4/2"
   ]
  },
  {
   "cell_type": "markdown",
   "id": "c70ed679",
   "metadata": {},
   "source": [
    "Since the decimal is really long we are going to round to the hundreth place.\n",
    "The next step is to add our numbers."
   ]
  },
  {
   "cell_type": "code",
   "execution_count": 8,
   "id": "e8ebc95f",
   "metadata": {},
   "outputs": [
    {
     "data": {
      "text/plain": [
       "2.154"
      ]
     },
     "execution_count": 8,
     "metadata": {},
     "output_type": "execute_result"
    }
   ],
   "source": [
    "0.154 + 2"
   ]
  },
  {
   "cell_type": "code",
   "execution_count": 9,
   "id": "46c4e261",
   "metadata": {},
   "outputs": [
    {
     "data": {
      "text/plain": [
       "-52"
      ]
     },
     "execution_count": 9,
     "metadata": {},
     "output_type": "execute_result"
    }
   ],
   "source": [
    "-54 + 2"
   ]
  },
  {
   "cell_type": "markdown",
   "id": "07176626",
   "metadata": {},
   "source": [
    "Let's re-write.\n",
    "6 - 8 + 2.154 -52\n",
    "\n",
    "Now we can just enter this into the program.\n",
    "\n"
   ]
  },
  {
   "cell_type": "code",
   "execution_count": 10,
   "id": "d5604dfb",
   "metadata": {},
   "outputs": [
    {
     "data": {
      "text/plain": [
       "-51.846000000000004"
      ]
     },
     "execution_count": 10,
     "metadata": {},
     "output_type": "execute_result"
    }
   ],
   "source": [
    "6 - 8 + 2.154 - 52"
   ]
  },
  {
   "cell_type": "markdown",
   "id": "f3e9e2ef",
   "metadata": {},
   "source": [
    "So the answer is -51.846"
   ]
  },
  {
   "cell_type": "code",
   "execution_count": null,
   "id": "996f5312",
   "metadata": {},
   "outputs": [],
   "source": []
  }
 ],
 "metadata": {
  "kernelspec": {
   "display_name": "Python 3 (ipykernel)",
   "language": "python",
   "name": "python3"
  },
  "language_info": {
   "codemirror_mode": {
    "name": "ipython",
    "version": 3
   },
   "file_extension": ".py",
   "mimetype": "text/x-python",
   "name": "python",
   "nbconvert_exporter": "python",
   "pygments_lexer": "ipython3",
   "version": "3.11.4"
  }
 },
 "nbformat": 4,
 "nbformat_minor": 5
}
