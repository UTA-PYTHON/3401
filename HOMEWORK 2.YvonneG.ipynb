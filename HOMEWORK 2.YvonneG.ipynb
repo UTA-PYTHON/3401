{
 "cells": [
  {
   "cell_type": "markdown",
   "id": "07eb29bd",
   "metadata": {},
   "source": [
    "# Part 1: Markdown in Jupyter Notebook"
   ]
  },
  {
   "cell_type": "markdown",
   "id": "ad39f6b8",
   "metadata": {},
   "source": [
    "### 1. Bold and Italics\n",
    "    -  Write a sentence where one word is bold and another is in italics. "
   ]
  },
  {
   "cell_type": "markdown",
   "id": "40534fc5",
   "metadata": {},
   "source": [
    "I **love** *Halloween*!"
   ]
  },
  {
   "cell_type": "markdown",
   "id": "533ffb74",
   "metadata": {},
   "source": [
    "### 2. Headers\n",
    "    - Create a hierarchy of headers from # (largest) to ### (Smallest). Make up titles for each header level."
   ]
  },
  {
   "cell_type": "markdown",
   "id": "148d1672",
   "metadata": {},
   "source": [
    "# Pumpkins\n",
    "## Ghosts\n",
    "### Witches\n",
    "#### Skeletons"
   ]
  },
  {
   "cell_type": "markdown",
   "id": "2936b5e9",
   "metadata": {},
   "source": [
    "### 3. Lists\n",
    "    - Create a bulleted list of your three favorite fruits."
   ]
  },
  {
   "cell_type": "markdown",
   "id": "9776b7d9",
   "metadata": {},
   "source": [
    "- Mangos\n",
    "- Blueberries\n",
    "- Bananas"
   ]
  },
  {
   "cell_type": "markdown",
   "id": "c595a8bd",
   "metadata": {},
   "source": [
    "# Part 2: Python Basics"
   ]
  },
  {
   "cell_type": "markdown",
   "id": "da7b0230",
   "metadata": {},
   "source": [
    "### 1. Variable assignments\n",
    "     - Assign the number 5 to a variable names a."
   ]
  },
  {
   "cell_type": "code",
   "execution_count": 3,
   "id": "908ca0c2",
   "metadata": {},
   "outputs": [],
   "source": [
    "a = 5"
   ]
  },
  {
   "cell_type": "markdown",
   "id": "89253ed2",
   "metadata": {},
   "source": [
    "    - Assign the number 10 to a variable named b."
   ]
  },
  {
   "cell_type": "code",
   "execution_count": 4,
   "id": "8dc15970",
   "metadata": {},
   "outputs": [],
   "source": [
    "b = 10"
   ]
  },
  {
   "cell_type": "markdown",
   "id": "3899c0c4",
   "metadata": {},
   "source": [
    "    - Compute the sum of a and b and assign it to a variable named c. Print out the value of C."
   ]
  },
  {
   "cell_type": "code",
   "execution_count": 7,
   "id": "1d35d2cf",
   "metadata": {},
   "outputs": [],
   "source": [
    "c = a + b"
   ]
  },
  {
   "cell_type": "code",
   "execution_count": 8,
   "id": "f37e574f",
   "metadata": {},
   "outputs": [
    {
     "name": "stdout",
     "output_type": "stream",
     "text": [
      "15\n"
     ]
    }
   ],
   "source": [
    "print(c)"
   ]
  },
  {
   "cell_type": "markdown",
   "id": "8e40edd4",
   "metadata": {},
   "source": [
    "### 2. PEMDAS\n",
    "    - Given the equation 6 + 2 x (5-3^2) + 4/26 + 2 x (5-32) + 4/2:.\n",
    "            - Solve the equation step-by-step, following the PEMDAS order, and comment each step in the Jupyter cell.\n",
    "            - Compute the final answer using Python and display the result"
   ]
  },
  {
   "cell_type": "code",
   "execution_count": 29,
   "id": "0ff6f06a",
   "metadata": {},
   "outputs": [
    {
     "data": {
      "text/plain": [
       "-4"
      ]
     },
     "execution_count": 29,
     "metadata": {},
     "output_type": "execute_result"
    }
   ],
   "source": [
    "(5-3**2) # 1. Parenthesis. 3 is squared then its subtracted from 5 resulting in -4"
   ]
  },
  {
   "cell_type": "code",
   "execution_count": 14,
   "id": "74382742",
   "metadata": {},
   "outputs": [
    {
     "data": {
      "text/plain": [
       "-27"
      ]
     },
     "execution_count": 14,
     "metadata": {},
     "output_type": "execute_result"
    }
   ],
   "source": [
    "(5-32) # 2.  5 is subtracted from 32, resulting in -27"
   ]
  },
  {
   "cell_type": "code",
   "execution_count": 15,
   "id": "229cf6fe",
   "metadata": {},
   "outputs": [
    {
     "data": {
      "text/plain": [
       "-8"
      ]
     },
     "execution_count": 15,
     "metadata": {},
     "output_type": "execute_result"
    }
   ],
   "source": [
    "2 * (-4) # 3. Working left to right, we multipy 2 with our result from step 1. "
   ]
  },
  {
   "cell_type": "code",
   "execution_count": 16,
   "id": "faaaaa1a",
   "metadata": {},
   "outputs": [
    {
     "data": {
      "text/plain": [
       "-54"
      ]
     },
     "execution_count": 16,
     "metadata": {},
     "output_type": "execute_result"
    }
   ],
   "source": [
    "2 * (-27) # 4.Then, we multiply 2 with -27 from step 2. "
   ]
  },
  {
   "cell_type": "code",
   "execution_count": 17,
   "id": "a55a55e6",
   "metadata": {},
   "outputs": [
    {
     "data": {
      "text/plain": [
       "0.15384615384615385"
      ]
     },
     "execution_count": 17,
     "metadata": {},
     "output_type": "execute_result"
    }
   ],
   "source": [
    "4/26 # 5. Divsision follows, so we solve for (4/26)"
   ]
  },
  {
   "cell_type": "code",
   "execution_count": 18,
   "id": "1ed1c1e4",
   "metadata": {},
   "outputs": [
    {
     "data": {
      "text/plain": [
       "2.0"
      ]
     },
     "execution_count": 18,
     "metadata": {},
     "output_type": "execute_result"
    }
   ],
   "source": [
    "4/2 # 6. Then (4/2)"
   ]
  },
  {
   "cell_type": "code",
   "execution_count": 19,
   "id": "513f0389",
   "metadata": {},
   "outputs": [
    {
     "data": {
      "text/plain": [
       "-2"
      ]
     },
     "execution_count": 19,
     "metadata": {},
     "output_type": "execute_result"
    }
   ],
   "source": [
    "6 + (-8) # 7. Working from left to right 6 is added to -8 from step 3. "
   ]
  },
  {
   "cell_type": "code",
   "execution_count": 20,
   "id": "7f34e14c",
   "metadata": {},
   "outputs": [
    {
     "data": {
      "text/plain": [
       "-1.8461538461538463"
      ]
     },
     "execution_count": 20,
     "metadata": {},
     "output_type": "execute_result"
    }
   ],
   "source": [
    "(-2)+(4/26) # 8. Then, -2 is added to (4/26) from step 5. "
   ]
  },
  {
   "cell_type": "code",
   "execution_count": 30,
   "id": "e3574c78",
   "metadata": {},
   "outputs": [
    {
     "data": {
      "text/plain": [
       "-55.84615384615385"
      ]
     },
     "execution_count": 30,
     "metadata": {},
     "output_type": "execute_result"
    }
   ],
   "source": [
    "(-1.8461538461538463)-54 # 9. Then -54 is subtracted from step 8. "
   ]
  },
  {
   "cell_type": "code",
   "execution_count": 22,
   "id": "378509f2",
   "metadata": {},
   "outputs": [
    {
     "data": {
      "text/plain": [
       "-53.84615384615385"
      ]
     },
     "execution_count": 22,
     "metadata": {},
     "output_type": "execute_result"
    }
   ],
   "source": [
    "(-55.84615384615385)+2 # 10. Finally it is added to (2) from step 6. "
   ]
  },
  {
   "cell_type": "code",
   "execution_count": 35,
   "id": "1993c020",
   "metadata": {},
   "outputs": [],
   "source": [
    "Result = 6+(2*(5-3**2))+(4/26)+(2*(5-32)+(4/2)) # Computing final answer"
   ]
  },
  {
   "cell_type": "code",
   "execution_count": 36,
   "id": "600b4522",
   "metadata": {},
   "outputs": [
    {
     "name": "stdout",
     "output_type": "stream",
     "text": [
      "-53.84615384615385\n"
     ]
    }
   ],
   "source": [
    "print(Result)"
   ]
  }
 ],
 "metadata": {
  "kernelspec": {
   "display_name": "Python 3 (ipykernel)",
   "language": "python",
   "name": "python3"
  },
  "language_info": {
   "codemirror_mode": {
    "name": "ipython",
    "version": 3
   },
   "file_extension": ".py",
   "mimetype": "text/x-python",
   "name": "python",
   "nbconvert_exporter": "python",
   "pygments_lexer": "ipython3",
   "version": "3.11.4"
  }
 },
 "nbformat": 4,
 "nbformat_minor": 5
}
