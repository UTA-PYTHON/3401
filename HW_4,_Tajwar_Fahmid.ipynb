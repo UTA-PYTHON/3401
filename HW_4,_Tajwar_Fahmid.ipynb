{
  "nbformat": 4,
  "nbformat_minor": 0,
  "metadata": {
    "colab": {
      "provenance": []
    },
    "kernelspec": {
      "name": "python3",
      "display_name": "Python 3"
    },
    "language_info": {
      "name": "python"
    }
  },
  "cells": [
    {
      "cell_type": "markdown",
      "source": [
        "#Question 1"
      ],
      "metadata": {
        "id": "SI7Djf9BDs1p"
      }
    },
    {
      "cell_type": "code",
      "source": [
        "fruits= {\"apple\",\"banana\",\"cherry\"}\n",
        "fruits_tuple= tuple(fruits)\n",
        "fruits.add(\"orange\")\n",
        "print(\"List of fruits:\", fruits)\n",
        "print(\"Tuple of fruits:\", fruits_tuple)\n",
        "\n"
      ],
      "metadata": {
        "colab": {
          "base_uri": "https://localhost:8080/"
        },
        "id": "3GyzylxBDxFx",
        "outputId": "6f0bd843-9417-489d-82b0-60f35be8551a"
      },
      "execution_count": 26,
      "outputs": [
        {
          "output_type": "stream",
          "name": "stdout",
          "text": [
            "List of fruits: {'banana', 'apple', 'orange', 'cherry'}\n",
            "Tuple of fruits: ('banana', 'apple', 'cherry')\n"
          ]
        }
      ]
    },
    {
      "cell_type": "markdown",
      "source": [
        "#Question 2\n"
      ],
      "metadata": {
        "id": "L1kG6SMLG1Bp"
      }
    },
    {
      "cell_type": "code",
      "source": [
        "\n",
        "person = {\n",
        "    \"first_name\": \"John\",\n",
        "    \"last_name\": \"Doe\",\n",
        "    \"age\": 30\n",
        "}\n",
        "person[\"city\"] = \"New York\"\n",
        "keys = person.keys()\n",
        "keys_list = list(keys)\n",
        "print(\"Keys in the dictionary:\", keys_list)\n"
      ],
      "metadata": {
        "colab": {
          "base_uri": "https://localhost:8080/"
        },
        "id": "5AmaO3CJG4uB",
        "outputId": "b80aaa50-fdc8-4786-9764-5d6ecb09ba5d"
      },
      "execution_count": 12,
      "outputs": [
        {
          "output_type": "stream",
          "name": "stdout",
          "text": [
            "Keys in the dictionary: ['first_name', 'last_name', 'age', 'city']\n"
          ]
        }
      ]
    },
    {
      "cell_type": "markdown",
      "source": [
        "#Question 3"
      ],
      "metadata": {
        "id": "gr3IwBwvIRk2"
      }
    },
    {
      "cell_type": "code",
      "source": [
        "colors = {\"red\", \"blue\", \"green\"}\n",
        "colors.add (\"yellow\")\n",
        "colors.remove (\"blue\")\n",
        "is_pink_in_colors = \"pink\" in colors\n",
        "if is_pink_in_colors:\n",
        "    print(\"Pink is in the set.\")\n",
        "else:\n",
        "    print(\"Pink is not in the set.\")"
      ],
      "metadata": {
        "colab": {
          "base_uri": "https://localhost:8080/"
        },
        "id": "6T42NVwuIP0H",
        "outputId": "f48515aa-0fce-415a-b4cf-51112f72aa87"
      },
      "execution_count": 13,
      "outputs": [
        {
          "output_type": "stream",
          "name": "stdout",
          "text": [
            "Pink is not in the set.\n"
          ]
        }
      ]
    },
    {
      "cell_type": "markdown",
      "source": [
        "#Question 4\n"
      ],
      "metadata": {
        "id": "uyQAQR8GJlst"
      }
    },
    {
      "cell_type": "code",
      "source": [
        "number_input = float(input(\"Please input a number: \"))\n",
        "if number_input == 0:\n",
        "  print(\"Number is equal to 0.\")\n",
        "elif number_input >= 0:\n",
        "  print(\"Number is positive.\")\n",
        "elif number_input <= 0:\n",
        "  print(\"Number is negative.\")"
      ],
      "metadata": {
        "colab": {
          "base_uri": "https://localhost:8080/"
        },
        "id": "lAV4DdXuJn5J",
        "outputId": "e62ae35a-c72b-4790-c690-36b66c5df77d"
      },
      "execution_count": 15,
      "outputs": [
        {
          "output_type": "stream",
          "name": "stdout",
          "text": [
            "Please input a number: 10\n",
            "Number is positive.\n"
          ]
        }
      ]
    },
    {
      "cell_type": "markdown",
      "source": [
        "#Question 5\n"
      ],
      "metadata": {
        "id": "z-h9wROjK2nt"
      }
    },
    {
      "cell_type": "code",
      "source": [
        "numbers= [23, 45, 8, 12, 78, 56, 89]\n",
        "print(\"Even numbers in the list: \")\n",
        "for number in numbers:\n",
        "    if number % 2 == 0:\n",
        "        print(number)"
      ],
      "metadata": {
        "colab": {
          "base_uri": "https://localhost:8080/"
        },
        "id": "4SDhm0vnK5kO",
        "outputId": "2fb80af1-620f-4858-966a-c81ec24bccaf"
      },
      "execution_count": 16,
      "outputs": [
        {
          "output_type": "stream",
          "name": "stdout",
          "text": [
            "Even numbers in the list: \n",
            "8\n",
            "12\n",
            "78\n",
            "56\n"
          ]
        }
      ]
    },
    {
      "cell_type": "markdown",
      "source": [
        "#Question 6\n"
      ],
      "metadata": {
        "id": "X2WH9fiaMB21"
      }
    },
    {
      "cell_type": "code",
      "source": [
        "your_age = int(input(\"Please enter your age: \"))\n",
        "if your_age >= 18:\n",
        "  print(\"You are eligible to vote.\")\n",
        "elif your_age <= 18:\n",
        "  print(\"You are not eligible to vote.\")"
      ],
      "metadata": {
        "colab": {
          "base_uri": "https://localhost:8080/"
        },
        "id": "YrTvziHFMDig",
        "outputId": "5f33a2ac-c16b-49a0-d752-2ff782dacb54"
      },
      "execution_count": 18,
      "outputs": [
        {
          "output_type": "stream",
          "name": "stdout",
          "text": [
            "Please enter your age: 19\n",
            "You are eligible to vote.\n"
          ]
        }
      ]
    },
    {
      "cell_type": "markdown",
      "source": [
        "#Question 7"
      ],
      "metadata": {
        "id": "n0CB1foqM_rP"
      }
    },
    {
      "cell_type": "code",
      "source": [
        "\n"
      ],
      "metadata": {
        "id": "hjhpubACNCvb"
      },
      "execution_count": null,
      "outputs": []
    },
    {
      "cell_type": "markdown",
      "source": [
        "#Question 8\n"
      ],
      "metadata": {
        "id": "MmM7ZsHkOf_x"
      }
    },
    {
      "cell_type": "code",
      "source": [
        "\n",
        "number = int(input(\"Enter a number: \"))\n",
        "multiplier = 1\n",
        "print(f\"Multiplication table for {number}:\")\n",
        "while multiplier <= 10:\n",
        "    result = number * multiplier\n",
        "    print(f\"{number} x {multiplier} = {result}\")\n",
        "    multiplier += 1\n"
      ],
      "metadata": {
        "colab": {
          "base_uri": "https://localhost:8080/"
        },
        "id": "YQhAWia-OhhD",
        "outputId": "e854cc42-e82b-4fc5-c043-3a13d88bc498"
      },
      "execution_count": 19,
      "outputs": [
        {
          "output_type": "stream",
          "name": "stdout",
          "text": [
            "Enter a number: 10\n",
            "Multiplication table for 10:\n",
            "10 x 1 = 10\n",
            "10 x 2 = 20\n",
            "10 x 3 = 30\n",
            "10 x 4 = 40\n",
            "10 x 5 = 50\n",
            "10 x 6 = 60\n",
            "10 x 7 = 70\n",
            "10 x 8 = 80\n",
            "10 x 9 = 90\n",
            "10 x 10 = 100\n"
          ]
        }
      ]
    },
    {
      "cell_type": "markdown",
      "source": [
        "#Question 9"
      ],
      "metadata": {
        "id": "z36g8lmEPya2"
      }
    },
    {
      "cell_type": "code",
      "source": [
        "fruits= [\"apple\",\"banana\",\"cherry\",\"date\"]\n",
        "for fruit in fruits:\n",
        "  print(fruit)\n"
      ],
      "metadata": {
        "colab": {
          "base_uri": "https://localhost:8080/"
        },
        "id": "qkD8cPW3P0kB",
        "outputId": "066b7e42-4aca-4239-98bb-7ab9348229e2"
      },
      "execution_count": 21,
      "outputs": [
        {
          "output_type": "stream",
          "name": "stdout",
          "text": [
            "apple\n",
            "banana\n",
            "cherry\n",
            "date\n"
          ]
        }
      ]
    },
    {
      "cell_type": "markdown",
      "source": [
        "#Question 10\n"
      ],
      "metadata": {
        "id": "mn9DUcbuQcP_"
      }
    },
    {
      "cell_type": "code",
      "source": [
        "n = int(input(\"Enter a number: \"))\n",
        "factorial = 1\n",
        "for i in range(1,1+n):\n",
        "    factorial *= i\n",
        "print(f\"{n}! = {factorial}\")"
      ],
      "metadata": {
        "colab": {
          "base_uri": "https://localhost:8080/"
        },
        "id": "t7x2jSOPQZqn",
        "outputId": "942ca73c-9df6-479f-a398-6ec9d6ce6c2b"
      },
      "execution_count": 22,
      "outputs": [
        {
          "output_type": "stream",
          "name": "stdout",
          "text": [
            "Enter a number: 10\n",
            "10! = 3628800\n"
          ]
        }
      ]
    },
    {
      "cell_type": "markdown",
      "source": [
        "#Question 11"
      ],
      "metadata": {
        "id": "_ytoTmH8RM2q"
      }
    },
    {
      "cell_type": "code",
      "source": [
        "\n",
        "total = 0\n",
        "for i in range(5):\n",
        "    number = float(input(f\"Enter number {i + 1}: \"))\n",
        "    total += number\n",
        "average = total / 5\n",
        "print(f\"The average of the five numbers is: {average}\")\n"
      ],
      "metadata": {
        "colab": {
          "base_uri": "https://localhost:8080/"
        },
        "id": "iGeJSp3DRPj3",
        "outputId": "aec1163e-f51e-4aa9-836a-ca829020bbdd"
      },
      "execution_count": 23,
      "outputs": [
        {
          "output_type": "stream",
          "name": "stdout",
          "text": [
            "Enter number 1: 10\n",
            "Enter number 2: 10\n",
            "Enter number 3: 14\n",
            "Enter number 4: 15\n",
            "Enter number 5: 15\n",
            "The average of the five numbers is: 12.8\n"
          ]
        }
      ]
    },
    {
      "cell_type": "code",
      "source": [],
      "metadata": {
        "id": "cQTXozzpReOp"
      },
      "execution_count": null,
      "outputs": []
    }
  ]
}