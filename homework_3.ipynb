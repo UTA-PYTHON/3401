{
  "nbformat": 4,
  "nbformat_minor": 0,
  "metadata": {
    "colab": {
      "provenance": [],
      "authorship_tag": "ABX9TyOss0XUH3Aq28fMc7fRpjup",
      "include_colab_link": true
    },
    "kernelspec": {
      "name": "python3",
      "display_name": "Python 3"
    },
    "language_info": {
      "name": "python"
    }
  },
  "cells": [
    {
      "cell_type": "markdown",
      "metadata": {
        "id": "view-in-github",
        "colab_type": "text"
      },
      "source": [
        "<a href=\"https://colab.research.google.com/github/UTA-PYTHON/3401/blob/main/homework_3.ipynb\" target=\"_parent\"><img src=\"https://colab.research.google.com/assets/colab-badge.svg\" alt=\"Open In Colab\"/></a>"
      ]
    },
    {
      "cell_type": "code",
      "execution_count": null,
      "metadata": {
        "id": "cDkJOEijgiEh"
      },
      "outputs": [],
      "source": [
        "# 1.\n"
      ]
    },
    {
      "cell_type": "code",
      "source": [
        "name=str(input(\"Enter your name: \"))\n",
        "age=float(input(\"Enter your age: \"))\n",
        "print(\"Hello,\", name+\".\",\" You are\", age, \"years old.\")\n",
        "print(type(name))\n",
        "print(type(age))"
      ],
      "metadata": {
        "colab": {
          "base_uri": "https://localhost:8080/"
        },
        "id": "lXJDYXuJgm8S",
        "outputId": "aec4384b-db28-4697-bc56-bf94f9e2e3f6"
      },
      "execution_count": 15,
      "outputs": [
        {
          "output_type": "stream",
          "name": "stdout",
          "text": [
            "Enter your name: ii\n",
            "Enter your age: 0\n",
            "Hello, ii.  You are 0.0 years old.\n",
            "<class 'str'>\n",
            "<class 'float'>\n"
          ]
        }
      ]
    },
    {
      "cell_type": "code",
      "source": [
        "type(name)\n"
      ],
      "metadata": {
        "colab": {
          "base_uri": "https://localhost:8080/"
        },
        "id": "dZ1v3lWjneVm",
        "outputId": "ba64e552-ee0a-4784-a64e-b068dde0b5ae"
      },
      "execution_count": null,
      "outputs": [
        {
          "output_type": "execute_result",
          "data": {
            "text/plain": [
              "str"
            ]
          },
          "metadata": {},
          "execution_count": 16
        }
      ]
    },
    {
      "cell_type": "code",
      "source": [
        "type(age)"
      ],
      "metadata": {
        "colab": {
          "base_uri": "https://localhost:8080/"
        },
        "id": "aeNR1T-Ongb6",
        "outputId": "69359016-4aa3-4024-b712-725f1bff7e06"
      },
      "execution_count": null,
      "outputs": [
        {
          "output_type": "execute_result",
          "data": {
            "text/plain": [
              "float"
            ]
          },
          "metadata": {},
          "execution_count": 17
        }
      ]
    },
    {
      "cell_type": "markdown",
      "source": [
        "# **2.**"
      ],
      "metadata": {
        "id": "HA4oVvKwnxAx"
      }
    },
    {
      "cell_type": "code",
      "source": [
        "home=(input(\"What is the name of your hometown? \"))\n",
        "print(home.upper())\n",
        "first_three = home[:3]\n",
        "print(first_three)\n",
        "reverse = home[::-1]\n",
        "print(reverse)\n"
      ],
      "metadata": {
        "colab": {
          "base_uri": "https://localhost:8080/"
        },
        "id": "TjVQsN_Yn2N6",
        "outputId": "b3d828ea-33d9-4d91-a403-c19dc53735bd"
      },
      "execution_count": 7,
      "outputs": [
        {
          "output_type": "stream",
          "name": "stdout",
          "text": [
            "What is the name of your hometown? mrryiyltguk\n",
            "MRRYIYLTGUK\n",
            "mrr\n",
            "kugtlyiyrrm\n"
          ]
        }
      ]
    },
    {
      "cell_type": "markdown",
      "source": [
        "# **3.**"
      ],
      "metadata": {
        "id": "YctCPUPqBOo9"
      }
    },
    {
      "cell_type": "code",
      "source": [
        "number = input(\"Enter a number. \")\n",
        "try:\n",
        "  lilol=float(number)\n",
        "except ValueError:\n",
        "    print(\"Invalid input. Please enter a valid number.\")\n",
        "    exit()\n",
        "else:\n",
        "  result = lilol*lilol\n",
        "  print(result)\n",
        "  print(result**(1/2))\n"
      ],
      "metadata": {
        "colab": {
          "base_uri": "https://localhost:8080/"
        },
        "id": "umJl36oeBl3u",
        "outputId": "e6e26eb1-68ea-41c2-d9ed-bb851cf0ac61"
      },
      "execution_count": 9,
      "outputs": [
        {
          "output_type": "stream",
          "name": "stdout",
          "text": [
            "Enter a number. 8\n",
            "64.0\n",
            "8.0\n"
          ]
        }
      ]
    },
    {
      "cell_type": "markdown",
      "source": [
        "# **4.**"
      ],
      "metadata": {
        "id": "lWNKN1lcObsf"
      }
    },
    {
      "cell_type": "code",
      "source": [
        "print(10>5)"
      ],
      "metadata": {
        "colab": {
          "base_uri": "https://localhost:8080/"
        },
        "id": "8LmRK8-5Oelh",
        "outputId": "21e343d9-2bbc-4dcc-d6af-e9d0e80ec92b"
      },
      "execution_count": 10,
      "outputs": [
        {
          "output_type": "execute_result",
          "data": {
            "text/plain": [
              "True"
            ]
          },
          "metadata": {},
          "execution_count": 10
        }
      ]
    },
    {
      "cell_type": "code",
      "source": [
        "print(10 == 10)\n"
      ],
      "metadata": {
        "colab": {
          "base_uri": "https://localhost:8080/"
        },
        "id": "Ou87s6EFOjrT",
        "outputId": "216cf3fd-e67e-42d0-a008-2ce8c7f24eba"
      },
      "execution_count": 11,
      "outputs": [
        {
          "output_type": "execute_result",
          "data": {
            "text/plain": [
              "True"
            ]
          },
          "metadata": {},
          "execution_count": 11
        }
      ]
    },
    {
      "cell_type": "code",
      "source": [
        "print(8 != 9)"
      ],
      "metadata": {
        "colab": {
          "base_uri": "https://localhost:8080/"
        },
        "id": "FT2G3vcNOn9e",
        "outputId": "b6a95692-8af8-48db-ed47-2d9f4d2cb88b"
      },
      "execution_count": 12,
      "outputs": [
        {
          "output_type": "execute_result",
          "data": {
            "text/plain": [
              "True"
            ]
          },
          "metadata": {},
          "execution_count": 12
        }
      ]
    },
    {
      "cell_type": "markdown",
      "source": [
        "# **5.**"
      ],
      "metadata": {
        "id": "VCcaXy0fTfF-"
      }
    },
    {
      "cell_type": "code",
      "source": [
        "l = ['red', 'blue', 'green']\n",
        "print(l)\n",
        "print(l[0])\n",
        "l[1]='yellow'\n",
        "print(l)\n",
        "l[-1] = 'orange'\n",
        "print(l)"
      ],
      "metadata": {
        "colab": {
          "base_uri": "https://localhost:8080/"
        },
        "id": "r57vWH4QTlaZ",
        "outputId": "5b0bc99b-5c5e-4d3b-dc39-c2095c62607a"
      },
      "execution_count": 36,
      "outputs": [
        {
          "output_type": "stream",
          "name": "stdout",
          "text": [
            "['red', 'blue', 'green']\n",
            "red\n",
            "['red', 'yellow', 'green']\n",
            "['red', 'yellow', 'orange']\n"
          ]
        }
      ]
    },
    {
      "cell_type": "markdown",
      "source": [
        "# **6.**\n"
      ],
      "metadata": {
        "id": "QgimxUsBfB_3"
      }
    },
    {
      "cell_type": "code",
      "source": [
        "l = [10, 20, 30, 40, 50]\n",
        "print(l[2])\n",
        "first_two = l[:2]\n",
        "print(first_two)\n",
        "last_three = l[-3:]\n",
        "print(last_three)"
      ],
      "metadata": {
        "colab": {
          "base_uri": "https://localhost:8080/"
        },
        "id": "K0tO8EyvfIJ3",
        "outputId": "d6de85c8-919b-430a-94d2-e40371e05aa2"
      },
      "execution_count": 49,
      "outputs": [
        {
          "output_type": "stream",
          "name": "stdout",
          "text": [
            "30\n",
            "[10, 20]\n",
            "[30, 40, 50]\n"
          ]
        }
      ]
    },
    {
      "cell_type": "markdown",
      "source": [
        "# **7.**"
      ],
      "metadata": {
        "id": "czoldWglip-P"
      }
    },
    {
      "cell_type": "code",
      "source": [
        "l = ['cat', 'dog', 'bird']\n",
        "print(l)\n",
        "l.insert(len(l), 'fish')\n",
        "print(l)"
      ],
      "metadata": {
        "colab": {
          "base_uri": "https://localhost:8080/"
        },
        "id": "umibPUNaipVe",
        "outputId": "a9efe2b7-a1f0-4360-9c28-4fa12e802790"
      },
      "execution_count": 55,
      "outputs": [
        {
          "output_type": "stream",
          "name": "stdout",
          "text": [
            "['cat', 'dog', 'bird']\n",
            "['cat', 'dog', 'bird', 'fish']\n"
          ]
        }
      ]
    },
    {
      "cell_type": "markdown",
      "source": [
        "# **8.**"
      ],
      "metadata": {
        "id": "zePd_-SAl9d9"
      }
    },
    {
      "cell_type": "code",
      "source": [
        "random_numbers = [42, 8, 15, 23, 16]\n",
        "print(random_numbers)\n",
        "sorte=sorted(random_numbers)\n",
        "print(sorte)\n",
        "print(sorte[::2])"
      ],
      "metadata": {
        "colab": {
          "base_uri": "https://localhost:8080/"
        },
        "id": "IlJIYktomAED",
        "outputId": "c6f3edb3-c9b9-454d-b38f-6db942ad57cd"
      },
      "execution_count": 61,
      "outputs": [
        {
          "output_type": "stream",
          "name": "stdout",
          "text": [
            "[42, 8, 15, 23, 16]\n",
            "[8, 15, 16, 23, 42]\n",
            "[8, 16, 42]\n"
          ]
        }
      ]
    }
  ]
}