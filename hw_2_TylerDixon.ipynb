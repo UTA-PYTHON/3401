{
 "cells": [
  {
   "cell_type": "markdown",
   "id": "8faedf34-bdc9-42a9-8a05-faabeb1983d7",
   "metadata": {},
   "source": [
    "1. Bold and Italics\n",
    "\n",
    "Write a sentence where one word is in bold and another is in italics.\n",
    "\n",
    "**On Wednesday's we wear pink.**\n",
    "*You rolled a rock to save rock and roll.*\n",
    "***"
   ]
  },
  {
   "cell_type": "markdown",
   "id": "d1f29831-097e-4589-a748-3e138f7bacdf",
   "metadata": {},
   "source": [
    "2. Headers\n",
    "\n",
    "Create a hierarchy of headers from # (largest) to ### (smallest). Make up titles for each header level.\n",
    "\n",
    "# Climate Change\n",
    "## Why it happened\n",
    "### How it will affect us\n",
    "***"
   ]
  },
  {
   "cell_type": "markdown",
   "id": "d70a15b2-2cd9-4821-a428-0aeb2cee1f84",
   "metadata": {},
   "source": [
    "3. Lists\n",
    "\n",
    "Create a bulleted list of your three favorite fruits \n",
    "\n",
    "- Cantaloupe\n",
    "- Mango\n",
    "- Guava\n",
    "***"
   ]
  },
  {
   "cell_type": "markdown",
   "id": "63b15eaf-79cd-451a-b289-0a7b51f04be2",
   "metadata": {},
   "source": [
    "Variable Assignment\n",
    "\n",
    "Assign the number 5 to a variable named a.\n",
    "Assign the number 10 to a variable named b.\n",
    "Compute the sum of a and b and assign it to a variable named c. Print out the value of c."
   ]
  },
  {
   "cell_type": "code",
   "execution_count": 17,
   "id": "cdc9d612-afc6-428f-91be-08d88c8177fe",
   "metadata": {},
   "outputs": [
    {
     "name": "stdout",
     "output_type": "stream",
     "text": [
      "15\n"
     ]
    }
   ],
   "source": [
    "a = 5\n",
    "b = 10\n",
    "sum = a + b\n",
    "c = sum\n",
    "print (c)"
   ]
  },
  {
   "cell_type": "markdown",
   "id": "3f625a6c-812b-470e-8776-defe26c70a9a",
   "metadata": {},
   "source": [
    "---"
   ]
  },
  {
   "cell_type": "markdown",
   "id": "f1f761d0-eba1-4452-9bf9-223d21461b39",
   "metadata": {},
   "source": [
    "PEMDAS\n",
    "\n",
    "Given the equation \n",
    "6+2×(5−32)+4/2:\n",
    "Solve the equation step-by-step, following the PEMDAS order, and comment each step in the Jupyter cell.\n",
    "Compute the final answer using Python and display the result."
   ]
  },
  {
   "cell_type": "code",
   "execution_count": 26,
   "id": "10d180ac-383d-43c5-89fc-92f4511d874f",
   "metadata": {},
   "outputs": [
    {
     "data": {
      "text/plain": [
       "62"
      ]
     },
     "execution_count": 26,
     "metadata": {},
     "output_type": "execute_result"
    }
   ],
   "source": [
    "6+2*(5-32)+4/2\n",
    "6+2*(-27)+4/2 # parentheses\n",
    "6+54+4/2 # multiplication\n",
    "6+54+2 # division\n",
    "62 # addition"
   ]
  }
 ],
 "metadata": {
  "kernelspec": {
   "display_name": "anaconda-panel-2023.05-py310",
   "language": "python",
   "name": "conda-env-anaconda-panel-2023.05-py310-py"
  },
  "language_info": {
   "codemirror_mode": {
    "name": "ipython",
    "version": 3
   },
   "file_extension": ".py",
   "mimetype": "text/x-python",
   "name": "python",
   "nbconvert_exporter": "python",
   "pygments_lexer": "ipython3",
   "version": "3.11.4"
  }
 },
 "nbformat": 4,
 "nbformat_minor": 5
}
