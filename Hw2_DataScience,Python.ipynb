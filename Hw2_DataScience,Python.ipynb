{
  "nbformat": 4,
  "nbformat_minor": 0,
  "metadata": {
    "colab": {
      "provenance": []
    },
    "kernelspec": {
      "name": "python3",
      "display_name": "Python 3"
    },
    "language_info": {
      "name": "python"
    }
  },
  "cells": [
    {
      "cell_type": "markdown",
      "source": [
        "NAME: Zamzam Omulo\n",
        "ID: 1001926685"
      ],
      "metadata": {
        "id": "Ld_w4d1JCIQI"
      }
    },
    {
      "cell_type": "markdown",
      "source": [
        "Bold and Italics\n",
        "\n",
        "Write a sentence where one word is in bold and another is in italics."
      ],
      "metadata": {
        "id": "hy67y_wZPKnc"
      }
    },
    {
      "cell_type": "markdown",
      "source": [
        "**Jesus** loves *you*"
      ],
      "metadata": {
        "id": "nq3JqPgMCNpb"
      }
    },
    {
      "cell_type": "markdown",
      "source": [
        "Headers\n",
        "\n",
        "Create a hierarchy of headers from # (largest) to ### (smallest). Make up titles for each header level."
      ],
      "metadata": {
        "id": "ejjrreJLDH7r"
      }
    },
    {
      "cell_type": "markdown",
      "source": [
        "#1.Love\n",
        "##2.Hope\n",
        "###3.Faith"
      ],
      "metadata": {
        "id": "I32IFTOnDKI0"
      }
    },
    {
      "cell_type": "markdown",
      "source": [
        "Lists\n",
        "\n",
        "Create a bulleted list of your three favorite fruits"
      ],
      "metadata": {
        "id": "Wqr--DlsDb9u"
      }
    },
    {
      "cell_type": "markdown",
      "source": [
        "* Mango\n",
        "* Banana\n",
        "* Grapes"
      ],
      "metadata": {
        "id": "nzlPUy6pDnN6"
      }
    },
    {
      "cell_type": "markdown",
      "source": [
        "Variable Assignment\n",
        "\n",
        "Assign the number 5 to a variable named a."
      ],
      "metadata": {
        "id": "2R7ayFtsFgnD"
      }
    },
    {
      "cell_type": "code",
      "execution_count": 1,
      "metadata": {
        "id": "b8dSiHtlB1JQ"
      },
      "outputs": [],
      "source": [
        "a=5"
      ]
    },
    {
      "cell_type": "markdown",
      "source": [
        "Assign the number 10 to a variable named b"
      ],
      "metadata": {
        "id": "bbqLI7E-F723"
      }
    },
    {
      "cell_type": "code",
      "source": [
        "b=10"
      ],
      "metadata": {
        "id": "wWgABIdXF1nN"
      },
      "execution_count": 2,
      "outputs": []
    },
    {
      "cell_type": "markdown",
      "source": [
        "Compute the sum of a and b and assign it to a variable named c. Print out the value of c."
      ],
      "metadata": {
        "id": "JVCDCg0iGHK1"
      }
    },
    {
      "cell_type": "code",
      "source": [
        "c=a+b"
      ],
      "metadata": {
        "id": "csgRQGQmGFVj"
      },
      "execution_count": 3,
      "outputs": []
    },
    {
      "cell_type": "code",
      "source": [
        "print(c)"
      ],
      "metadata": {
        "colab": {
          "base_uri": "https://localhost:8080/"
        },
        "id": "Je9urYOgGQ2t",
        "outputId": "1b234a04-1493-435c-fd2a-cfed9e85ba1f"
      },
      "execution_count": 5,
      "outputs": [
        {
          "output_type": "stream",
          "name": "stdout",
          "text": [
            "15\n"
          ]
        }
      ]
    },
    {
      "cell_type": "markdown",
      "source": [
        "PEMDAS\n",
        "\n",
        "Given the equation 6+2*(5-3^2)+4/26+2*(5-32)+4/2:\n",
        "\n",
        "Solve the equation step-by-step, following the PEMDAS order, and comment each step in the Jupyter cell."
      ],
      "metadata": {
        "id": "_t0WSE8UGhNz"
      }
    },
    {
      "cell_type": "code",
      "source": [
        "(5-3**2) # first with the paranthesis/ exponents"
      ],
      "metadata": {
        "colab": {
          "base_uri": "https://localhost:8080/"
        },
        "id": "bzw2aWPuGS55",
        "outputId": "af3de869-b8e1-4647-e33e-0a1ed5756e1c"
      },
      "execution_count": 8,
      "outputs": [
        {
          "output_type": "execute_result",
          "data": {
            "text/plain": [
              "-4"
            ]
          },
          "metadata": {},
          "execution_count": 8
        }
      ]
    },
    {
      "cell_type": "code",
      "source": [
        "(5-32) #the second paranthesis"
      ],
      "metadata": {
        "colab": {
          "base_uri": "https://localhost:8080/"
        },
        "id": "7kx1VnmrLVk5",
        "outputId": "df5e595d-62c7-497b-9563-670ebc83e4ce"
      },
      "execution_count": 9,
      "outputs": [
        {
          "output_type": "execute_result",
          "data": {
            "text/plain": [
              "-27"
            ]
          },
          "metadata": {},
          "execution_count": 9
        }
      ]
    },
    {
      "cell_type": "code",
      "source": [
        "2*-4 #multiplication"
      ],
      "metadata": {
        "colab": {
          "base_uri": "https://localhost:8080/"
        },
        "id": "wlMSxr56L3sc",
        "outputId": "251e3cd9-2ba0-41f3-da8f-8c4afbafd12f"
      },
      "execution_count": 11,
      "outputs": [
        {
          "output_type": "execute_result",
          "data": {
            "text/plain": [
              "-8"
            ]
          },
          "metadata": {},
          "execution_count": 11
        }
      ]
    },
    {
      "cell_type": "code",
      "source": [
        "2*-27 #multiplication"
      ],
      "metadata": {
        "colab": {
          "base_uri": "https://localhost:8080/"
        },
        "id": "_tFLQ3mvMHQP",
        "outputId": "a142cfb6-7933-439a-efa6-952c8e1159bc"
      },
      "execution_count": 12,
      "outputs": [
        {
          "output_type": "execute_result",
          "data": {
            "text/plain": [
              "-54"
            ]
          },
          "metadata": {},
          "execution_count": 12
        }
      ]
    },
    {
      "cell_type": "code",
      "source": [
        "4/26 #division"
      ],
      "metadata": {
        "colab": {
          "base_uri": "https://localhost:8080/"
        },
        "id": "o-bMAigmMSpM",
        "outputId": "74b9fa3f-feb4-4fab-cf7b-f8834ac7f9dd"
      },
      "execution_count": 13,
      "outputs": [
        {
          "output_type": "execute_result",
          "data": {
            "text/plain": [
              "0.15384615384615385"
            ]
          },
          "metadata": {},
          "execution_count": 13
        }
      ]
    },
    {
      "cell_type": "code",
      "source": [
        "4/2 #division"
      ],
      "metadata": {
        "colab": {
          "base_uri": "https://localhost:8080/"
        },
        "id": "bJwOWEKyMeM6",
        "outputId": "47fd582e-bb8d-470e-f4b8-3f4e1168fd9d"
      },
      "execution_count": 14,
      "outputs": [
        {
          "output_type": "execute_result",
          "data": {
            "text/plain": [
              "2.0"
            ]
          },
          "metadata": {},
          "execution_count": 14
        }
      ]
    },
    {
      "cell_type": "code",
      "source": [
        "6+-8+0.15384615384615385+-54+2 # addition some signs change to subtraction"
      ],
      "metadata": {
        "colab": {
          "base_uri": "https://localhost:8080/"
        },
        "id": "hIb7tXY-MjoK",
        "outputId": "e272ddd6-03c5-43ca-d21f-3833555efc66"
      },
      "execution_count": 16,
      "outputs": [
        {
          "output_type": "execute_result",
          "data": {
            "text/plain": [
              "-53.84615384615385"
            ]
          },
          "metadata": {},
          "execution_count": 16
        }
      ]
    },
    {
      "cell_type": "markdown",
      "source": [
        "Compute the final answer using Python and display the result."
      ],
      "metadata": {
        "id": "PIQ_Zh_3Nooh"
      }
    },
    {
      "cell_type": "code",
      "source": [
        "6+2*(5-3**2)+4/26+2*(5-32)+4/2"
      ],
      "metadata": {
        "colab": {
          "base_uri": "https://localhost:8080/"
        },
        "id": "_JcAzJWgNKgn",
        "outputId": "f252ef98-06b1-4322-dd72-1fbf912e6494"
      },
      "execution_count": 17,
      "outputs": [
        {
          "output_type": "execute_result",
          "data": {
            "text/plain": [
              "-53.84615384615385"
            ]
          },
          "metadata": {},
          "execution_count": 17
        }
      ]
    },
    {
      "cell_type": "code",
      "source": [],
      "metadata": {
        "id": "CmPuAartOKey"
      },
      "execution_count": null,
      "outputs": []
    }
  ]
}