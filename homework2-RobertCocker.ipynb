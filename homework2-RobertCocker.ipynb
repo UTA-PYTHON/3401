{
  "metadata": {
    "language_info": {
      "codemirror_mode": {
        "name": "python",
        "version": 3
      },
      "file_extension": ".py",
      "mimetype": "text/x-python",
      "name": "python",
      "nbconvert_exporter": "python",
      "pygments_lexer": "ipython3",
      "version": "3.8"
    },
    "kernelspec": {
      "name": "python",
      "display_name": "Python (Pyodide)",
      "language": "python"
    }
  },
  "nbformat_minor": 4,
  "nbformat": 4,
  "cells": [
    {
      "cell_type": "markdown",
      "source": "# Homework 2 - Dr. Rostami",
      "metadata": {}
    },
    {
      "cell_type": "markdown",
      "source": "## Part 1: Markdown for Jupyter Notebook",
      "metadata": {}
    },
    {
      "cell_type": "markdown",
      "source": "**Python** programming in data science should provide a wide arrange of *applications* in this field of study.",
      "metadata": {}
    },
    {
      "cell_type": "markdown",
      "source": "# Python Progamming in Data Science - Dr. Rostami\n## Programs and Features Used for Fall Semester 2023\n### Anaconda, Git Bash, Github, Python etc",
      "metadata": {}
    },
    {
      "cell_type": "markdown",
      "source": "* Pineapple\n* Mango\n* Watermelon",
      "metadata": {}
    },
    {
      "cell_type": "markdown",
      "source": "## Part 2: Python Basics",
      "metadata": {}
    },
    {
      "cell_type": "code",
      "source": "a = 5",
      "metadata": {
        "trusted": true
      },
      "execution_count": 22,
      "outputs": []
    },
    {
      "cell_type": "code",
      "source": "b = 10 ",
      "metadata": {
        "trusted": true
      },
      "execution_count": 23,
      "outputs": []
    },
    {
      "cell_type": "code",
      "source": "a + b",
      "metadata": {
        "trusted": true
      },
      "execution_count": 24,
      "outputs": [
        {
          "execution_count": 24,
          "output_type": "execute_result",
          "data": {
            "text/plain": "15"
          },
          "metadata": {}
        }
      ]
    },
    {
      "cell_type": "code",
      "source": "c = a + b",
      "metadata": {
        "trusted": true
      },
      "execution_count": 25,
      "outputs": []
    },
    {
      "cell_type": "code",
      "source": "print (c)",
      "metadata": {
        "trusted": true
      },
      "execution_count": 26,
      "outputs": [
        {
          "name": "stdout",
          "text": "15\n",
          "output_type": "stream"
        }
      ]
    },
    {
      "cell_type": "code",
      "source": "6 + 2 * (5 - 3^2) + 4/2 #Parantheses first, Exponent, Multiplication, Divide, then Addition last in this cell",
      "metadata": {
        "trusted": true
      },
      "execution_count": 28,
      "outputs": [
        {
          "execution_count": 28,
          "output_type": "execute_result",
          "data": {
            "text/plain": "8.0"
          },
          "metadata": {}
        }
      ]
    },
    {
      "cell_type": "code",
      "source": "6 + 2 * (5 - 32) + 4/2 #Parentheses first, Multiplication, Divide, then Addition last in this cell",
      "metadata": {
        "trusted": true
      },
      "execution_count": 30,
      "outputs": [
        {
          "execution_count": 30,
          "output_type": "execute_result",
          "data": {
            "text/plain": "-46.0"
          },
          "metadata": {}
        }
      ]
    }
  ]
}