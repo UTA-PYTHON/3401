{
  "nbformat": 4,
  "nbformat_minor": 0,
  "metadata": {
    "colab": {
      "provenance": []
    },
    "kernelspec": {
      "name": "python3",
      "display_name": "Python 3"
    },
    "language_info": {
      "name": "python"
    }
  },
  "cells": [
    {
      "cell_type": "markdown",
      "source": [
        "# Homework 3: Data Types, User Input, and Data Structure\n",
        "Angelina Noel\n",
        "1001914562"
      ],
      "metadata": {
        "id": "we87hbjCYWvF"
      }
    },
    {
      "cell_type": "markdown",
      "source": [
        "## **1. Printing, Data Types, and Input**\n",
        "\n",
        "* Ask the user for their name and their age.\n",
        "* Print a statement saying: \"Hello, [name]. You are [age] years old.\"\n",
        "* Print the data type of each variable."
      ],
      "metadata": {
        "id": "fuwQslNPYk6J"
      }
    },
    {
      "cell_type": "code",
      "execution_count": 1,
      "metadata": {
        "id": "lgFtoZdlYK_T",
        "colab": {
          "base_uri": "https://localhost:8080/"
        },
        "outputId": "b4381e91-0256-4b2f-b679-f7ef556694b1"
      },
      "outputs": [
        {
          "output_type": "stream",
          "name": "stdout",
          "text": [
            "What is your name? :Angelina\n",
            "How old are you? :20\n",
            "Hello Angelina You are 20 years old.\n",
            "<class 'str'>\n",
            "<class 'str'>\n"
          ]
        }
      ],
      "source": [
        "name=input(\"What is your name? :\")\n",
        "age=input(\"How old are you? :\")\n",
        "\n",
        "print(\"Hello\",name,\"You are\",age,\"years old.\")\n",
        "print(type(name))\n",
        "print(type(age))"
      ]
    },
    {
      "cell_type": "markdown",
      "source": [
        "## **2. String Manipulations and Input**\n",
        "\n",
        "\n",
        "* Ask the user for the name of their hometown.\n",
        "* Print the name of the hometown in uppercase.\n",
        "* Print the first three characters of the hometown's name using slicing.\n",
        "* Printing the name in reverse using slicing."
      ],
      "metadata": {
        "id": "D-8emQ35Y6qo"
      }
    },
    {
      "cell_type": "code",
      "source": [
        "hometown=input(\"What is your hometown? :\")\n",
        "print(hometown.upper())\n",
        "print(hometown[0:4])\n",
        "print(hometown[-1::-1])"
      ],
      "metadata": {
        "id": "cje4g-w-ZL85",
        "colab": {
          "base_uri": "https://localhost:8080/"
        },
        "outputId": "508d61a7-67c5-4361-fa4c-6aedc047776e"
      },
      "execution_count": 2,
      "outputs": [
        {
          "output_type": "stream",
          "name": "stdout",
          "text": [
            "What is your hometown? :El Paso\n",
            "EL PASO\n",
            "El P\n",
            "osaP lE\n"
          ]
        }
      ]
    },
    {
      "cell_type": "markdown",
      "source": [
        "## **3. Numeric Operations and Input**\n",
        "\n",
        "\n",
        "* Prompt the user to enter a number.\n",
        "* Multiply the number by itself and print the result.\n",
        "* Calculating the square root."
      ],
      "metadata": {
        "id": "IuC9NKUcZMnM"
      }
    },
    {
      "cell_type": "code",
      "source": [
        "num=float(input(\"Please enter a number :\"))\n",
        "num=num*num\n",
        "print(num)\n",
        "print(num**0.5)"
      ],
      "metadata": {
        "id": "P62M7mPSZU46",
        "colab": {
          "base_uri": "https://localhost:8080/"
        },
        "outputId": "82c5a830-0905-4a52-80e5-34938eda34bc"
      },
      "execution_count": 3,
      "outputs": [
        {
          "output_type": "stream",
          "name": "stdout",
          "text": [
            "Please enter a number :42\n",
            "1764.0\n",
            "42.0\n"
          ]
        }
      ]
    },
    {
      "cell_type": "markdown",
      "source": [
        "## **4. Boolean Evaluations**\n",
        "\n",
        "\n",
        "* Print the result of the following evaluations:\n",
        " * 10 > 5\n",
        " * 10 == 10\n",
        " * 8 != 9"
      ],
      "metadata": {
        "id": "tcuQ5w3kZVft"
      }
    },
    {
      "cell_type": "code",
      "source": [
        "print(10>5)\n",
        "print(10 == 10)\n",
        "print(8 != 9)"
      ],
      "metadata": {
        "id": "GSIUsumMaV-A",
        "colab": {
          "base_uri": "https://localhost:8080/"
        },
        "outputId": "75a13d03-90c4-42d3-8604-eade8b8b13da"
      },
      "execution_count": 4,
      "outputs": [
        {
          "output_type": "stream",
          "name": "stdout",
          "text": [
            "True\n",
            "True\n",
            "True\n"
          ]
        }
      ]
    },
    {
      "cell_type": "markdown",
      "source": [
        "## **5. List Creation and Operations**\n",
        "\n",
        "\n",
        "* Create a list named colors containing the following items: red, blue, green.\n",
        "* Print the list.\n",
        "* Print the first item in the list.\n",
        "* Replace the second item in the list with yellow.\n",
        "* Print the list again.\n",
        "* Changing the last item using negative indexing.\n"
      ],
      "metadata": {
        "id": "BE4sxmomaWVT"
      }
    },
    {
      "cell_type": "code",
      "source": [
        "colors=[\"red\",\"blue\",\"green\"]\n",
        "print(colors)\n",
        "print(colors[0])\n",
        "colors[1]=\"yellow\"\n",
        "print(colors)\n",
        "colors[-1]=\"orange\"\n",
        "print(colors)"
      ],
      "metadata": {
        "id": "kXeeGC1_apGG",
        "colab": {
          "base_uri": "https://localhost:8080/"
        },
        "outputId": "082670aa-d4a2-4d5e-dabd-aa4bd012f36f"
      },
      "execution_count": 5,
      "outputs": [
        {
          "output_type": "stream",
          "name": "stdout",
          "text": [
            "['red', 'blue', 'green']\n",
            "red\n",
            "['red', 'yellow', 'green']\n",
            "['red', 'yellow', 'orange']\n"
          ]
        }
      ]
    },
    {
      "cell_type": "markdown",
      "source": [
        "## **6. Indexing and Slicing**\n",
        "\n",
        "\n",
        "* Given the list numbers = [10, 20, 30, 40, 50]\n",
        "* Print the third item from the list.\n",
        "* Using slicing, print the first two numbers.\n",
        "* Getting the last three numbers using negative indexing and slicing."
      ],
      "metadata": {
        "id": "9DKDbFiDapwr"
      }
    },
    {
      "cell_type": "code",
      "source": [
        "numbers=[10,20,30,40,50]\n",
        "print(numbers[2])\n",
        "print(numbers[:2])\n",
        "print(numbers[-3:])\n"
      ],
      "metadata": {
        "id": "-1642oQibCTQ",
        "colab": {
          "base_uri": "https://localhost:8080/"
        },
        "outputId": "082e24f9-e99e-43bd-ba69-8d667a9b13d9"
      },
      "execution_count": 6,
      "outputs": [
        {
          "output_type": "stream",
          "name": "stdout",
          "text": [
            "30\n",
            "[10, 20]\n",
            "[30, 40, 50]\n"
          ]
        }
      ]
    },
    {
      "cell_type": "markdown",
      "source": [
        "## **7. Manipulating Elements**\n",
        "\n",
        "\n",
        "* Given the list animals = ['cat', 'dog', 'bird']\n",
        "* Print the list.\n",
        "* Add fish to the end of the list.\n",
        "* Print the updated list."
      ],
      "metadata": {
        "id": "Rn7WES-AbC2R"
      }
    },
    {
      "cell_type": "code",
      "source": [
        "animals=['cat','dog','bird']\n",
        "print(animals)\n",
        "animals.append('fish')\n",
        "print(animals)"
      ],
      "metadata": {
        "id": "9l9bdnzVbLJY",
        "colab": {
          "base_uri": "https://localhost:8080/"
        },
        "outputId": "c571ce6e-8154-4cef-c4ce-01baad3ea491"
      },
      "execution_count": 7,
      "outputs": [
        {
          "output_type": "stream",
          "name": "stdout",
          "text": [
            "['cat', 'dog', 'bird']\n",
            "['cat', 'dog', 'bird', 'fish']\n"
          ]
        }
      ]
    },
    {
      "cell_type": "markdown",
      "source": [
        "## **8. Sorting**\n",
        "\n",
        "\n",
        "* Given the list random_numbers = [42, 8, 15, 23, 16]\n",
        "* Print the list.\n",
        "* Use the sort() method to sort the list.\n",
        "* Print the sorted list.\n",
        "* Print every second item from the sorted list.\n"
      ],
      "metadata": {
        "id": "xgwI8mQVbd05"
      }
    },
    {
      "cell_type": "code",
      "source": [
        "random_numbers=[42,8,15,23,16]\n",
        "print(random_numbers)\n",
        "random_numbers.sort()\n",
        "print(random_numbers)\n",
        "print(random_numbers[2::2])"
      ],
      "metadata": {
        "colab": {
          "base_uri": "https://localhost:8080/"
        },
        "id": "_9fFWNxoxFOd",
        "outputId": "c1b160e7-e7dd-4619-bf8f-ba303e70a9ca"
      },
      "execution_count": 8,
      "outputs": [
        {
          "output_type": "stream",
          "name": "stdout",
          "text": [
            "[42, 8, 15, 23, 16]\n",
            "[8, 15, 16, 23, 42]\n",
            "[16, 42]\n"
          ]
        }
      ]
    }
  ]
}