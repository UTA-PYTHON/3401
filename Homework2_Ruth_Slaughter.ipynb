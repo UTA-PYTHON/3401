{
  "nbformat": 4,
  "nbformat_minor": 0,
  "metadata": {
    "colab": {
      "provenance": [],
      "authorship_tag": "ABX9TyNzCa0JZZhVw2PBY1vGDXh0",
      "include_colab_link": true
    },
    "kernelspec": {
      "name": "python3",
      "display_name": "Python 3"
    },
    "language_info": {
      "name": "python"
    }
  },
  "cells": [
    {
      "cell_type": "markdown",
      "metadata": {
        "id": "view-in-github",
        "colab_type": "text"
      },
      "source": [
        "<a href=\"https://colab.research.google.com/github/UTA-PYTHON/3401/blob/master/Homework2_Ruth_Slaughter.ipynb\" target=\"_parent\"><img src=\"https://colab.research.google.com/assets/colab-badge.svg\" alt=\"Open In Colab\"/></a>"
      ]
    },
    {
      "cell_type": "markdown",
      "source": [
        "Ruth Slaughter 1001918965"
      ],
      "metadata": {
        "id": "oUrGodXRRdIe"
      }
    },
    {
      "cell_type": "markdown",
      "source": [
        "## 1. Bold and Italics\n",
        "Write a sentence where one word is in bold and another is in italics."
      ],
      "metadata": {
        "id": "I22R7Y60Qhzi"
      }
    },
    {
      "cell_type": "markdown",
      "source": [
        "**Welcome** to my Basic ***Python*** Lesson"
      ],
      "metadata": {
        "id": "Ps9oML7CRQVz"
      }
    },
    {
      "cell_type": "markdown",
      "source": [
        "## 2. Headers\n",
        "Create a hierarchy of headers from # (largest) to ### (smallest). Make up titles for each header level.\n"
      ],
      "metadata": {
        "id": "uE0BXBdhQh7n"
      }
    },
    {
      "cell_type": "markdown",
      "source": [
        "# Small Cat\n",
        "## Hopping Kangaroo\n",
        "### Big Dog"
      ],
      "metadata": {
        "id": "OqOURvUlRyw8"
      }
    },
    {
      "cell_type": "markdown",
      "source": [
        "## 3. Lists\n",
        "Create a bulleted list of your three favorite fruits"
      ],
      "metadata": {
        "id": "-JunyxqgQh2a"
      }
    },
    {
      "cell_type": "markdown",
      "source": [
        "- Mangos\n",
        "- Pineapple\n",
        "- Cherry"
      ],
      "metadata": {
        "id": "KNmslR3tSTGZ"
      }
    },
    {
      "cell_type": "markdown",
      "source": [
        "## 4.Variable Assignment\n",
        "- Assign the number 5 to a variable named a.\n",
        "- Assign the number 10 to a variable named b.\n",
        "- Compute the sum of a and b and assign it to a variable named c. Print out the value of c."
      ],
      "metadata": {
        "id": "sUIl88RCQiGa"
      }
    },
    {
      "cell_type": "code",
      "source": [
        "a=5\n",
        "b=10"
      ],
      "metadata": {
        "id": "AMg2ce4cTl0j"
      },
      "execution_count": 1,
      "outputs": []
    },
    {
      "cell_type": "code",
      "source": [
        "c=a+b\n",
        "print(c)"
      ],
      "metadata": {
        "colab": {
          "base_uri": "https://localhost:8080/"
        },
        "id": "KLLQCAFyTsT5",
        "outputId": "11e7ef8e-cca5-4c3c-c21b-20f232356258"
      },
      "execution_count": 2,
      "outputs": [
        {
          "output_type": "stream",
          "name": "stdout",
          "text": [
            "15\n"
          ]
        }
      ]
    },
    {
      "cell_type": "markdown",
      "source": [
        "## 5. PEMDAS\n",
        "Given the equation\n",
        "6+2×(5−3^2)+4/26+(5-32)+4/2:\n",
        "- Solve the equation step-by-step, following the PEMDAS order, and comment each step in the Jupyter cell.\n",
        "Compute the final answer using Python and display the result."
      ],
      "metadata": {
        "id": "3-sUEV_-Qj0_"
      }
    },
    {
      "cell_type": "code",
      "source": [
        "#P-Parentheses and E-Exponents\n",
        "\n",
        "(5-3*3)"
      ],
      "metadata": {
        "colab": {
          "base_uri": "https://localhost:8080/"
        },
        "id": "Pq0y4rRhTiwb",
        "outputId": "bd5ca6f5-04e9-4f78-8530-5e07592246fe"
      },
      "execution_count": 8,
      "outputs": [
        {
          "output_type": "execute_result",
          "data": {
            "text/plain": [
              "-4"
            ]
          },
          "metadata": {},
          "execution_count": 8
        }
      ]
    },
    {
      "cell_type": "code",
      "source": [
        "(5-32)"
      ],
      "metadata": {
        "colab": {
          "base_uri": "https://localhost:8080/"
        },
        "id": "CKXr0htFVqD3",
        "outputId": "d232b65f-acb7-4096-bea9-caa21b4eea42"
      },
      "execution_count": 9,
      "outputs": [
        {
          "output_type": "execute_result",
          "data": {
            "text/plain": [
              "-27"
            ]
          },
          "metadata": {},
          "execution_count": 9
        }
      ]
    },
    {
      "cell_type": "code",
      "source": [
        "#M-Multiplication\n",
        "\n",
        "2*-4"
      ],
      "metadata": {
        "colab": {
          "base_uri": "https://localhost:8080/"
        },
        "id": "5iVg8wueUeTF",
        "outputId": "bf2ecbd5-2f5e-4b1b-b8cd-1bc1ed6f2f8c"
      },
      "execution_count": 4,
      "outputs": [
        {
          "output_type": "execute_result",
          "data": {
            "text/plain": [
              "-8"
            ]
          },
          "metadata": {},
          "execution_count": 4
        }
      ]
    },
    {
      "cell_type": "code",
      "source": [
        "2*-27"
      ],
      "metadata": {
        "colab": {
          "base_uri": "https://localhost:8080/"
        },
        "id": "z8zfimDmVnSD",
        "outputId": "5813eadc-1ee0-4980-ad11-a8b11e38542e"
      },
      "execution_count": 10,
      "outputs": [
        {
          "output_type": "execute_result",
          "data": {
            "text/plain": [
              "-54"
            ]
          },
          "metadata": {},
          "execution_count": 10
        }
      ]
    },
    {
      "cell_type": "code",
      "source": [
        "#D-Divide\n",
        "\n",
        "4/2"
      ],
      "metadata": {
        "colab": {
          "base_uri": "https://localhost:8080/"
        },
        "id": "ZxhZGFPKUtZA",
        "outputId": "40a0972b-aa97-4f62-a6fe-bf1100832158"
      },
      "execution_count": 5,
      "outputs": [
        {
          "output_type": "execute_result",
          "data": {
            "text/plain": [
              "2.0"
            ]
          },
          "metadata": {},
          "execution_count": 5
        }
      ]
    },
    {
      "cell_type": "code",
      "source": [
        "4/26"
      ],
      "metadata": {
        "colab": {
          "base_uri": "https://localhost:8080/"
        },
        "id": "4MaVpwkEWqXz",
        "outputId": "12329148-f4c5-4cea-b8c2-fa3a008cffc8"
      },
      "execution_count": 11,
      "outputs": [
        {
          "output_type": "execute_result",
          "data": {
            "text/plain": [
              "0.15384615384615385"
            ]
          },
          "metadata": {},
          "execution_count": 11
        }
      ]
    },
    {
      "cell_type": "code",
      "source": [
        "#A-Addition and S-Subtraction\n",
        "\n",
        "6-8+0.15384615384615385-54+2"
      ],
      "metadata": {
        "colab": {
          "base_uri": "https://localhost:8080/"
        },
        "id": "kMtdDVdBU2tC",
        "outputId": "2ee628a1-1237-4780-b4d7-30a07c20ad78"
      },
      "execution_count": 13,
      "outputs": [
        {
          "output_type": "execute_result",
          "data": {
            "text/plain": [
              "-53.84615384615385"
            ]
          },
          "metadata": {},
          "execution_count": 13
        }
      ]
    }
  ]
}