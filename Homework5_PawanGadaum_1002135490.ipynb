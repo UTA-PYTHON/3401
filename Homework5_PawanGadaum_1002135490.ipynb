{
  "nbformat": 4,
  "nbformat_minor": 0,
  "metadata": {
    "colab": {
      "provenance": []
    },
    "kernelspec": {
      "name": "python3",
      "display_name": "Python 3"
    },
    "language_info": {
      "name": "python"
    }
  },
  "cells": [
    {
      "cell_type": "markdown",
      "source": [
        "1.Write a function named add that takes two numbers as arguments and returns their sum."
      ],
      "metadata": {
        "id": "J6ZteCtRAL-X"
      }
    },
    {
      "cell_type": "code",
      "source": [
        "def add(x,y):\n",
        "  return(x+y)"
      ],
      "metadata": {
        "id": "Mw9fNiUnAOY8"
      },
      "execution_count": 3,
      "outputs": []
    },
    {
      "cell_type": "markdown",
      "source": [
        "Write a function named average that takes a list of numbers and returns their average."
      ],
      "metadata": {
        "id": "eQSJfNIIAl5j"
      }
    },
    {
      "cell_type": "code",
      "source": [
        "def average(numbers):\n",
        "    if len(numbers) == 0:\n",
        "        return 0\n",
        "    total = sum(numbers)\n",
        "    return (total / len(numbers))"
      ],
      "metadata": {
        "id": "3DVuKvzqApIV"
      },
      "execution_count": 6,
      "outputs": []
    },
    {
      "cell_type": "markdown",
      "source": [
        "Write a function named factorial that calculates the factorial of a given number. The factorial of a number n is the product of all positive integers less than or equal to n. For example, the factorial of 5 is 5*4*3*2*1=120"
      ],
      "metadata": {
        "id": "v2s1HcS_B9d0"
      }
    },
    {
      "cell_type": "code",
      "source": [
        "def factorial(n):\n",
        "    if n == 0:\n",
        "        return 1\n",
        "    else:\n",
        "        return n * factorial(n - 1)"
      ],
      "metadata": {
        "id": "Wxki6gp8CBxM"
      },
      "execution_count": 7,
      "outputs": []
    },
    {
      "cell_type": "markdown",
      "source": [
        "Write a function named string_length that takes a string and returns its length without using the built-in len() function."
      ],
      "metadata": {
        "id": "ntY9d8EOC1wb"
      }
    },
    {
      "cell_type": "code",
      "source": [
        "def string_length(input_string):\n",
        "    count = 0\n",
        "    for char in input_string:\n",
        "        count += 1\n",
        "    return count"
      ],
      "metadata": {
        "id": "GFDO3dyvC4fH"
      },
      "execution_count": 9,
      "outputs": []
    },
    {
      "cell_type": "markdown",
      "source": [
        "Write a function named is_prime that checks if a given number is prime. A prime number is a natural number greater than 1 that is not a product of two smaller natural numbers. The function should return True if the number is prime, otherwise False."
      ],
      "metadata": {
        "id": "6i5VD7ZmDBs9"
      }
    },
    {
      "cell_type": "code",
      "source": [
        "def is_prime(number):\n",
        "    if number <= 1:\n",
        "        return False\n",
        "    for i in range(2, int(number ** 0.5) + 1):\n",
        "        if number % i == 0:\n",
        "            return False\n",
        "    return True"
      ],
      "metadata": {
        "id": "4eaOyzqIDFZB"
      },
      "execution_count": 11,
      "outputs": []
    },
    {
      "cell_type": "markdown",
      "source": [
        "Write a function named unique_elements that takes a list as an argument and returns a list of its unique elements in the order they were first encountered."
      ],
      "metadata": {
        "id": "PasiUBd5Dk0w"
      }
    },
    {
      "cell_type": "code",
      "source": [
        "def unique_elements(input_list):\n",
        "    unique_list = []\n",
        "    seen_set = set()\n",
        "    for item in input_list:\n",
        "        if item not in seen_set:\n",
        "            unique_list.append(item)\n",
        "            seen_set.add(item)\n",
        "    return unique_list"
      ],
      "metadata": {
        "id": "wvy2nxgSDqUQ"
      },
      "execution_count": 14,
      "outputs": []
    }
  ]
}