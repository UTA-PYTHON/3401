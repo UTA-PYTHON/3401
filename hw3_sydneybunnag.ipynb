{
  "nbformat": 4,
  "nbformat_minor": 0,
  "metadata": {
    "colab": {
      "provenance": []
    },
    "kernelspec": {
      "name": "python3",
      "display_name": "Python 3"
    },
    "language_info": {
      "name": "python"
    }
  },
  "cells": [
    {
      "cell_type": "markdown",
      "source": [
        "#1. Printing, Data Types, and Input"
      ],
      "metadata": {
        "id": "TZEVdReKcrwa"
      }
    },
    {
      "cell_type": "code",
      "source": [
        "name = input(\"Enter your name:\")\n",
        "age = int(input(\"Enter your age:\")) #take age as an int\n",
        "\n",
        "print(\"Hello,\", name, \". You are\", age, \"years old.\")\n",
        "print(type(name)) #should be str\n",
        "print(type(age)) #should be int"
      ],
      "metadata": {
        "colab": {
          "base_uri": "https://localhost:8080/"
        },
        "id": "JOrUrTS_c0p3",
        "outputId": "ccf4c867-4393-489f-bdd1-7d71125a6718"
      },
      "execution_count": 2,
      "outputs": [
        {
          "output_type": "stream",
          "name": "stdout",
          "text": [
            "Enter your name:hi\n",
            "Enter your age:5\n",
            "Hello, hi . You are 5 years old.\n",
            "<class 'str'>\n",
            "<class 'int'>\n"
          ]
        },
        {
          "output_type": "execute_result",
          "data": {
            "text/plain": [
              "int"
            ]
          },
          "metadata": {},
          "execution_count": 2
        }
      ]
    },
    {
      "cell_type": "markdown",
      "source": [
        "#2. String Manipulations and Input"
      ],
      "metadata": {
        "id": "UQNl7Vj1dVkf"
      }
    },
    {
      "cell_type": "code",
      "source": [
        "hometown = input(\"Enter your hometown:\") #get user response\n",
        "print(hometown.upper()) #make upper case\n",
        "print(hometown[0:3]) #print first three\n",
        "print(hometown[::-1]) #print with step -1"
      ],
      "metadata": {
        "colab": {
          "base_uri": "https://localhost:8080/"
        },
        "id": "9QRxrbAidIVm",
        "outputId": "07c86471-1251-4473-d645-5f754dd58e4f"
      },
      "execution_count": 4,
      "outputs": [
        {
          "output_type": "stream",
          "name": "stdout",
          "text": [
            "Enter your hometown:arlington\n",
            "ARLINGTON\n",
            "arl\n",
            "notgnilra\n"
          ]
        }
      ]
    },
    {
      "cell_type": "markdown",
      "source": [
        "#3. Numeric Operations and Input"
      ],
      "metadata": {
        "id": "kTqtePgpeW92"
      }
    },
    {
      "cell_type": "code",
      "source": [
        "num =  float(input(\"Enter a number:\"))\n",
        "print(num**2) #power two is number mult by itself\n",
        "print(num**0.5) #half power is square root"
      ],
      "metadata": {
        "colab": {
          "base_uri": "https://localhost:8080/"
        },
        "id": "iroN8TMbeIzI",
        "outputId": "98c0d4c3-0c1d-4128-9460-1456d23848b8"
      },
      "execution_count": 8,
      "outputs": [
        {
          "output_type": "stream",
          "name": "stdout",
          "text": [
            "Enter a number:25\n",
            "625.0\n",
            "5.0\n"
          ]
        }
      ]
    },
    {
      "cell_type": "markdown",
      "source": [
        "#4. Boolean Evaluations"
      ],
      "metadata": {
        "id": "DZu-MpzkgGSi"
      }
    },
    {
      "cell_type": "code",
      "source": [
        "print(10>5) #should be true\n",
        "print(10==10) #should be true\n",
        "print(8!=9) #should be true"
      ],
      "metadata": {
        "colab": {
          "base_uri": "https://localhost:8080/"
        },
        "id": "td1H7EAyfZXK",
        "outputId": "06a3390e-1afc-4cd4-b645-9075c5906188"
      },
      "execution_count": 10,
      "outputs": [
        {
          "output_type": "stream",
          "name": "stdout",
          "text": [
            "True\n",
            "True\n",
            "True\n"
          ]
        }
      ]
    },
    {
      "cell_type": "markdown",
      "source": [
        "#5. List Creation and Operations"
      ],
      "metadata": {
        "id": "atFL6vwkgTiX"
      }
    },
    {
      "cell_type": "code",
      "source": [
        "colors = ['red', 'blue', 'green'] #list of colors\n",
        "print(colors)\n",
        "colors[1] = 'yellow' #change 2nd item to yellow. index is 1 bc starts at 0\n",
        "print(colors)\n",
        "colors[-1] = 'purple' #-1 is the last item index\n",
        "print(colors)"
      ],
      "metadata": {
        "colab": {
          "base_uri": "https://localhost:8080/"
        },
        "id": "RMp8AKJkgKja",
        "outputId": "758e7a35-9e17-4885-92d7-b894a80f27ed"
      },
      "execution_count": 15,
      "outputs": [
        {
          "output_type": "stream",
          "name": "stdout",
          "text": [
            "['red', 'blue', 'green']\n",
            "['red', 'yellow', 'green']\n",
            "['red', 'yellow', 'purple']\n"
          ]
        }
      ]
    },
    {
      "cell_type": "markdown",
      "source": [
        "#6. Indexing and Slicing"
      ],
      "metadata": {
        "id": "VkprYL80h7yH"
      }
    },
    {
      "cell_type": "code",
      "source": [
        "nums = [10,20,30,40,50]\n",
        "print(nums[2]) #the third item's index is 2\n",
        "print(nums[0:2]) #first two items\n",
        "print(nums[-3::1]) #last three"
      ],
      "metadata": {
        "colab": {
          "base_uri": "https://localhost:8080/"
        },
        "id": "HuTGYeFegeG7",
        "outputId": "9219deed-654a-4369-ee77-c6fec1f9e2f0"
      },
      "execution_count": 29,
      "outputs": [
        {
          "output_type": "stream",
          "name": "stdout",
          "text": [
            "30\n",
            "[10, 20]\n",
            "[30, 40, 50]\n"
          ]
        }
      ]
    },
    {
      "cell_type": "markdown",
      "source": [
        "#7. Manipulating Elements"
      ],
      "metadata": {
        "id": "TxOmvuf9jc0e"
      }
    },
    {
      "cell_type": "code",
      "source": [
        "animals = ['cat', 'dog', 'bird']\n",
        "print(animals)\n",
        "animals.append('fish')\n",
        "print(animals)"
      ],
      "metadata": {
        "colab": {
          "base_uri": "https://localhost:8080/"
        },
        "id": "NzDybPo7iPi1",
        "outputId": "a26d2da5-adce-4d51-f61e-11d09fe48a53"
      },
      "execution_count": 30,
      "outputs": [
        {
          "output_type": "stream",
          "name": "stdout",
          "text": [
            "['cat', 'dog', 'bird']\n",
            "['cat', 'dog', 'bird', 'fish']\n"
          ]
        }
      ]
    },
    {
      "cell_type": "markdown",
      "source": [
        "#8. Sorting"
      ],
      "metadata": {
        "id": "gR0udR1rjp8p"
      }
    },
    {
      "cell_type": "code",
      "source": [
        "random_numbers = [42, 8, 15, 23, 16]\n",
        "print(random_numbers)\n",
        "random_numbers.sort()\n",
        "print(random_numbers)\n",
        "print(random_numbers[::2])"
      ],
      "metadata": {
        "colab": {
          "base_uri": "https://localhost:8080/"
        },
        "id": "t5bJFisyjpH3",
        "outputId": "89ad403b-d3ad-4d8b-e32d-0651bad3f9f2"
      },
      "execution_count": 32,
      "outputs": [
        {
          "output_type": "stream",
          "name": "stdout",
          "text": [
            "[42, 8, 15, 23, 16]\n",
            "[8, 15, 16, 23, 42]\n",
            "[8, 16, 42]\n"
          ]
        }
      ]
    }
  ]
}