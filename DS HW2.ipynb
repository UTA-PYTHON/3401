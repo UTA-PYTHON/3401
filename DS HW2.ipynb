{
 "cells": [
  {
   "cell_type": "markdown",
   "id": "7dc9242a",
   "metadata": {},
   "source": [
    "# Python for Data Science HW2"
   ]
  },
  {
   "cell_type": "markdown",
   "id": "07f0af8a",
   "metadata": {},
   "source": [
    "Fawaz Asif\n",
    "\n",
    "1001875463\n",
    "\n",
    "DATA-3401-001\n",
    "\n",
    "Masoud Rostami"
   ]
  },
  {
   "cell_type": "markdown",
   "id": "a83433e8",
   "metadata": {},
   "source": [
    "## Questions:\n",
    "\n",
    "### Part 1: Markdown in Jupyter Notebook\n",
    "\n",
    "1. Bold and Italics\n",
    "\n",
    "Write a sentence where one word is in bold and another is in italics.\n",
    "\n",
    "This word is **bold** and this word is *italic*.\n",
    "\n",
    "2. Headers\n",
    "\n",
    "Create a hierarchy of headers from # (largest) to ### (smallest). Make up titles for each header level.\n",
    "\n",
    "# Large header\n",
    "## Medium header\n",
    "### Small header\n",
    "\n",
    "3. Lists\n",
    "\n",
    "Create a bulleted list of your three favorite fruits \n",
    "- Mangoes\n",
    "- Kiwis\n",
    "- Pineapples"
   ]
  },
  {
   "cell_type": "markdown",
   "id": "4d422ee5",
   "metadata": {},
   "source": [
    "### Part 2: Python Basics\n",
    "1. Variable Assignment\n",
    "\n",
    "Assign the number 5 to a variable named a.\n",
    "Assign the number 10 to a variable named b.\n",
    "Compute the sum of a and b and assign it to a variable named c. Print out the value of c."
   ]
  },
  {
   "cell_type": "code",
   "execution_count": 3,
   "id": "e2370b3f",
   "metadata": {},
   "outputs": [
    {
     "name": "stdout",
     "output_type": "stream",
     "text": [
      "15\n"
     ]
    }
   ],
   "source": [
    "a = 5\n",
    "b = 10\n",
    "c = a + b\n",
    "print(c)"
   ]
  },
  {
   "cell_type": "markdown",
   "id": "6cf3a2b7",
   "metadata": {},
   "source": [
    "2. PEMDAS\n",
    "\n",
    "Given the equation 6+2×(5−3^2)+4/26 + 2x(5-32)+4/2:\n",
    "\n",
    "Solve the equation step-by-step, following the PEMDAS order, and comment each step in the Jupyter cell.\n",
    "\n",
    "Compute the final answer using Python and display the result."
   ]
  },
  {
   "cell_type": "markdown",
   "id": "0c4aca42",
   "metadata": {},
   "source": [
    "    6+2(5−3^2)+4/26 + 2(5-32)+4/2  Parentheses + Exponent Step\n",
    "    6+2(5−9)+4/26 + 2(5-32)+4/2    Parentheses Step\n",
    "    6+2(-4)+4/26 + 2(-27)+4/2      Multiplication/Division Step\n",
    "    6-8+(2/13)-54+2                Addition/Subtraction Step\n",
    "    = -53.84615\n",
    "    "
   ]
  },
  {
   "cell_type": "code",
   "execution_count": 4,
   "id": "0959ff58",
   "metadata": {},
   "outputs": [
    {
     "name": "stdout",
     "output_type": "stream",
     "text": [
      "-53.84615384615385\n"
     ]
    }
   ],
   "source": [
    "final = (6+2*(5-3**2)+(4/26)+2*(5-32)+(4/2))\n",
    "print(final)"
   ]
  }
 ],
 "metadata": {
  "kernelspec": {
   "display_name": "Python 3 (ipykernel)",
   "language": "python",
   "name": "python3"
  },
  "language_info": {
   "codemirror_mode": {
    "name": "ipython",
    "version": 3
   },
   "file_extension": ".py",
   "mimetype": "text/x-python",
   "name": "python",
   "nbconvert_exporter": "python",
   "pygments_lexer": "ipython3",
   "version": "3.11.4"
  }
 },
 "nbformat": 4,
 "nbformat_minor": 5
}
