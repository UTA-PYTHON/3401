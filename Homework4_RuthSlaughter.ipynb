{
  "nbformat": 4,
  "nbformat_minor": 0,
  "metadata": {
    "colab": {
      "provenance": [],
      "authorship_tag": "ABX9TyM6Zh4Dru+gdCGyqZeKDEt9",
      "include_colab_link": true
    },
    "kernelspec": {
      "name": "python3",
      "display_name": "Python 3"
    },
    "language_info": {
      "name": "python"
    }
  },
  "cells": [
    {
      "cell_type": "markdown",
      "metadata": {
        "id": "view-in-github",
        "colab_type": "text"
      },
      "source": [
        "<a href=\"https://colab.research.google.com/github/UTA-PYTHON/3401/blob/master/Homework4_RuthSlaughter.ipynb\" target=\"_parent\"><img src=\"https://colab.research.google.com/assets/colab-badge.svg\" alt=\"Open In Colab\"/></a>"
      ]
    },
    {
      "cell_type": "markdown",
      "source": [
        "### Ruth Slaughter 1001918965"
      ],
      "metadata": {
        "id": "4e7HTukDK97r"
      }
    },
    {
      "cell_type": "markdown",
      "source": [
        "## **List and Tuple**"
      ],
      "metadata": {
        "id": "0oPfNhj2LbST"
      }
    },
    {
      "cell_type": "code",
      "execution_count": null,
      "metadata": {
        "id": "OaOdiNQoAExu"
      },
      "outputs": [],
      "source": [
        "fruits=(\"apple\",\"banana\",\"cherry\") #Create a list named fruits containing the following: \"apple\", \"banana\", \"cherry\"."
      ]
    },
    {
      "cell_type": "code",
      "source": [
        "for f in fruits: #Convert this list into a tuple.\n",
        "  print(f)"
      ],
      "metadata": {
        "colab": {
          "base_uri": "https://localhost:8080/"
        },
        "id": "l3-E1UclAUpq",
        "outputId": "c65c62e0-ef32-4244-908c-090bdaa251d7"
      },
      "execution_count": null,
      "outputs": [
        {
          "output_type": "stream",
          "name": "stdout",
          "text": [
            "apple\n",
            "banana\n",
            "cherry\n"
          ]
        }
      ]
    },
    {
      "cell_type": "code",
      "source": [
        "fruits = (\"apple\", \"banana\", \"cherry\")\n",
        "fruits_append = list(fruits) + [\"orange\"]\n",
        "print(fruits_append). # Add \"orange\" to the list of fruits"
      ],
      "metadata": {
        "colab": {
          "base_uri": "https://localhost:8080/"
        },
        "id": "HiVNYrtWDcki",
        "outputId": "d9154a30-b19a-4a6e-fa1e-207e3542015e"
      },
      "execution_count": null,
      "outputs": [
        {
          "output_type": "stream",
          "name": "stdout",
          "text": [
            "['apple', 'banana', 'cherry', 'orange']\n"
          ]
        }
      ]
    },
    {
      "cell_type": "markdown",
      "source": [
        "## **Dictionary**"
      ],
      "metadata": {
        "id": "2uK6zYt1BWOG"
      }
    },
    {
      "cell_type": "code",
      "source": [
        "person={\"first_name\": \"Ruth\",\n",
        "        \"last_name\": \"Slaughter\",\n",
        "        \"age\": \"22\"}"
      ],
      "metadata": {
        "id": "xyFeUoUUBDCk"
      },
      "execution_count": null,
      "outputs": []
    },
    {
      "cell_type": "code",
      "source": [
        "city=\"Grand Prairie\""
      ],
      "metadata": {
        "id": "H3wXp9QWE30B"
      },
      "execution_count": null,
      "outputs": []
    },
    {
      "cell_type": "code",
      "source": [
        "person[\"city\"]=city"
      ],
      "metadata": {
        "id": "jHL9MSwtFQc5"
      },
      "execution_count": null,
      "outputs": []
    },
    {
      "cell_type": "code",
      "source": [
        "print(person)"
      ],
      "metadata": {
        "colab": {
          "base_uri": "https://localhost:8080/"
        },
        "id": "OTXT64wBFVMP",
        "outputId": "f95ca1a5-bf97-4a0f-c188-d635c88c8aa9"
      },
      "execution_count": null,
      "outputs": [
        {
          "output_type": "stream",
          "name": "stdout",
          "text": [
            "{'first_name': 'Ruth', 'last_name': 'Slaughter', 'age': '22', 'city': 'Grand Prairie'}\n"
          ]
        }
      ]
    },
    {
      "cell_type": "markdown",
      "source": [
        "## **Set**"
      ],
      "metadata": {
        "id": "KajzmTg9FmBc"
      }
    },
    {
      "cell_type": "code",
      "source": [
        "colors=[\"red\",\"blue\",\"green\"]"
      ],
      "metadata": {
        "id": "Ifp1YknCFYj_"
      },
      "execution_count": null,
      "outputs": []
    },
    {
      "cell_type": "code",
      "source": [
        "colors[1]=\"yellow\""
      ],
      "metadata": {
        "id": "2JQU5hW5F4sO"
      },
      "execution_count": null,
      "outputs": []
    },
    {
      "cell_type": "code",
      "source": [
        "print(colors)"
      ],
      "metadata": {
        "colab": {
          "base_uri": "https://localhost:8080/"
        },
        "id": "TDihroCNGBLN",
        "outputId": "fa2bc004-854c-4587-a888-34bd228117ef"
      },
      "execution_count": null,
      "outputs": [
        {
          "output_type": "stream",
          "name": "stdout",
          "text": [
            "['red', 'yellow', 'green']\n"
          ]
        }
      ]
    },
    {
      "cell_type": "markdown",
      "source": [
        "## **Conditional Statements**\n",
        "\n"
      ],
      "metadata": {
        "id": "XSsIxlOJGMMp"
      }
    },
    {
      "cell_type": "code",
      "source": [
        "num=float(input(\"Enter a number:\"))\n",
        "\n",
        "if num > 0:\n",
        "  print(\"The number is positive\")\n",
        "elif num < 0:\n",
        "  print(\"The number is negative\")\n",
        "else:\n",
        "  print(\"The number is zero\")"
      ],
      "metadata": {
        "colab": {
          "base_uri": "https://localhost:8080/"
        },
        "id": "uAcjXbkbGFhr",
        "outputId": "1933e1f7-9476-438a-a3b9-7c43e85eb37a"
      },
      "execution_count": null,
      "outputs": [
        {
          "output_type": "stream",
          "name": "stdout",
          "text": [
            "Enter a number:353\n",
            "The number is positive\n"
          ]
        }
      ]
    },
    {
      "cell_type": "code",
      "source": [
        "numbers=[23, 45, 8, 12, 78, 56, 89]\n",
        "\n",
        "for num in numbers:\n",
        "    if num % 2 == 0:\n",
        "        print(numbers)"
      ],
      "metadata": {
        "colab": {
          "base_uri": "https://localhost:8080/"
        },
        "id": "VDsLcxeHG0yz",
        "outputId": "a018c649-9b7a-4660-8750-32a2ffe53f51"
      },
      "execution_count": null,
      "outputs": [
        {
          "output_type": "stream",
          "name": "stdout",
          "text": [
            "[23, 45, 8, 12, 78, 56, 89]\n",
            "[23, 45, 8, 12, 78, 56, 89]\n",
            "[23, 45, 8, 12, 78, 56, 89]\n",
            "[23, 45, 8, 12, 78, 56, 89]\n"
          ]
        }
      ]
    },
    {
      "cell_type": "code",
      "source": [
        "age=float(input(\"Enter age here:\"))\n",
        "\n",
        "if age<18:\n",
        "  print(\"Not eligible to vote\")\n",
        "else:\n",
        "  print(\"Eligible to vote\")"
      ],
      "metadata": {
        "colab": {
          "base_uri": "https://localhost:8080/"
        },
        "id": "Imow_IdjHcMg",
        "outputId": "03f7eeff-3d4a-4494-dc01-fe1ecd10ddd5"
      },
      "execution_count": null,
      "outputs": [
        {
          "output_type": "stream",
          "name": "stdout",
          "text": [
            "Enter age here:20\n",
            "Eligible to vote\n"
          ]
        }
      ]
    },
    {
      "cell_type": "markdown",
      "source": [
        "## **While Loop**"
      ],
      "metadata": {
        "id": "u6PsRBzIIbow"
      }
    },
    {
      "cell_type": "code",
      "source": [
        "num=\"\"\n",
        "\n",
        "while num != \"q\":\n",
        "  num=input()\n",
        "  print(num)"
      ],
      "metadata": {
        "colab": {
          "base_uri": "https://localhost:8080/"
        },
        "id": "R4cSaL7RIXQo",
        "outputId": "f64fe463-8d02-4a61-bb4c-4cf508d7d87c"
      },
      "execution_count": null,
      "outputs": [
        {
          "output_type": "stream",
          "name": "stdout",
          "text": [
            "23\n",
            "23\n",
            "24\n",
            "24\n",
            "25\n",
            "25\n",
            "38\n",
            "38\n",
            "q\n",
            "q\n"
          ]
        }
      ]
    },
    {
      "cell_type": "code",
      "source": [
        "num=10\n",
        "\n",
        "while num>=1:\n",
        "  print(num)\n",
        "  num=num-1\n",
        "print(\"Liftoff!\")"
      ],
      "metadata": {
        "colab": {
          "base_uri": "https://localhost:8080/"
        },
        "id": "3QfrWkWAJsq2",
        "outputId": "0e5bfd19-6908-48ff-8bcb-d1bac7017a8a"
      },
      "execution_count": null,
      "outputs": [
        {
          "output_type": "stream",
          "name": "stdout",
          "text": [
            "10\n",
            "9\n",
            "8\n",
            "7\n",
            "6\n",
            "5\n",
            "4\n",
            "3\n",
            "2\n",
            "1\n",
            "Liftoff!\n"
          ]
        }
      ]
    },
    {
      "cell_type": "code",
      "source": [],
      "metadata": {
        "id": "szEQzmScKCjP"
      },
      "execution_count": null,
      "outputs": []
    },
    {
      "cell_type": "markdown",
      "source": [
        "## **For Loop**"
      ],
      "metadata": {
        "id": "JaGy3ZXTKMxj"
      }
    },
    {
      "cell_type": "code",
      "source": [
        "fruits=[\"apple\",\"banana\",\"cherry\",\"date\"]\n",
        "\n",
        "for f in fruits:\n",
        "  print(f)"
      ],
      "metadata": {
        "colab": {
          "base_uri": "https://localhost:8080/"
        },
        "id": "XyVgzMUcKNPu",
        "outputId": "618b8a47-17da-4475-cc44-3725bf8bfce2"
      },
      "execution_count": null,
      "outputs": [
        {
          "output_type": "stream",
          "name": "stdout",
          "text": [
            "apple\n",
            "banana\n",
            "cherry\n",
            "date\n"
          ]
        }
      ]
    }
  ]
}