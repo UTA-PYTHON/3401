{
  "nbformat": 4,
  "nbformat_minor": 0,
  "metadata": {
    "colab": {
      "provenance": [],
      "authorship_tag": "ABX9TyOVbLwBntRr8QBvQslWFPIf",
      "include_colab_link": true
    },
    "kernelspec": {
      "name": "python3",
      "display_name": "Python 3"
    },
    "language_info": {
      "name": "python"
    }
  },
  "cells": [
    {
      "cell_type": "markdown",
      "metadata": {
        "id": "view-in-github",
        "colab_type": "text"
      },
      "source": [
        "<a href=\"https://colab.research.google.com/github/UTA-PYTHON/3401/blob/main/Homework5_Zamzam_Omulo.ipynb\" target=\"_parent\"><img src=\"https://colab.research.google.com/assets/colab-badge.svg\" alt=\"Open In Colab\"/></a>"
      ]
    },
    {
      "cell_type": "markdown",
      "source": [
        "1.Write a function named add that takes two numbers as arguments and returns their sum.\n"
      ],
      "metadata": {
        "id": "ArZnPT5Y4xzh"
      }
    },
    {
      "cell_type": "code",
      "source": [
        "def add(a,b):\n",
        "  a=4\n",
        "  b=5\n",
        "  sum=(a+b)\n",
        "  return sum\n",
        "\n"
      ],
      "metadata": {
        "id": "FG1P2eGB44iI"
      },
      "execution_count": 59,
      "outputs": []
    },
    {
      "cell_type": "markdown",
      "source": [
        "2.Write a function named average that takes a list of numbers and returns their average."
      ],
      "metadata": {
        "id": "-ZfvidqC6G-H"
      }
    },
    {
      "cell_type": "code",
      "source": [
        "def calculate_average(numbers):\n",
        "    \"\"\"This function takes a list of numbers as input and returns their average.\"\"\"\n",
        "    if not numbers:\n",
        "        return 0  # To handle the case of an empty list and avoid division by zero.\n",
        "\n",
        "    total = sum(numbers)\n",
        "    average = total / len(numbers)\n",
        "    return average\n"
      ],
      "metadata": {
        "id": "D9GZ3uRe4_oj"
      },
      "execution_count": 14,
      "outputs": []
    },
    {
      "cell_type": "markdown",
      "source": [
        "3.Write a function named factorial that calculates the factorial of a given number. The factorial of a number n is the product of all positive integers less than or equal to n. For example, the factorial of 5 is 5*4*3*2*1=120"
      ],
      "metadata": {
        "id": "FBSjUMA56YZt"
      }
    },
    {
      "cell_type": "code",
      "source": [
        "def factorial(n):\n",
        "  n=5\n",
        "  factorial=1\n",
        "  for i in range(1, n+1):\n",
        "    fact = fact * i\n",
        "\n",
        "print(\"The factorial of 5 is : \", factorial)\n",
        "print(factorial)"
      ],
      "metadata": {
        "colab": {
          "base_uri": "https://localhost:8080/"
        },
        "id": "k-XLVSwZ6QSh",
        "outputId": "e04e95c8-758c-476b-eccb-a67cd479206f"
      },
      "execution_count": 21,
      "outputs": [
        {
          "output_type": "stream",
          "name": "stdout",
          "text": [
            "The factorial of 5 is :  <function factorial at 0x7a85bba73d90>\n",
            "<function factorial at 0x7a85bba73d90>\n"
          ]
        }
      ]
    },
    {
      "cell_type": "markdown",
      "source": [
        "4.Write a function named string_length that takes a string and returns its length without using the built-in len() function."
      ],
      "metadata": {
        "id": "V2yVCOkL76hA"
      }
    },
    {
      "cell_type": "code",
      "source": [
        "def string_length(word, Hawai,Clothe):\n",
        "  for words in string_length:\n",
        "    string_length+1==word\n",
        "    print(\"string_length\", string_length)\n"
      ],
      "metadata": {
        "id": "YwHUuRNU7YTJ"
      },
      "execution_count": 28,
      "outputs": []
    },
    {
      "cell_type": "markdown",
      "source": [
        "5.Write a function named is_prime that checks if a given number is prime. A prime number is a natural number greater than 1 that is not a product of two smaller natural numbers. The function should return True if the number is prime, otherwise False."
      ],
      "metadata": {
        "id": "ZfYE9PuA-OZe"
      }
    },
    {
      "cell_type": "code",
      "source": [
        "def is_prime(number):\n",
        "  if (number > 1):\n",
        "    for i in range(2, int(number/2)+1):\n",
        "      if (number % i) == 0:\n",
        "        return False\n",
        "    else:\n",
        "      return True\n",
        "\n",
        "is_prime(3)"
      ],
      "metadata": {
        "colab": {
          "base_uri": "https://localhost:8080/"
        },
        "id": "pCT_0F1V87qw",
        "outputId": "addb07b7-024b-4ac7-bda1-e15bd39714a2"
      },
      "execution_count": 52,
      "outputs": [
        {
          "output_type": "execute_result",
          "data": {
            "text/plain": [
              "True"
            ]
          },
          "metadata": {},
          "execution_count": 52
        }
      ]
    },
    {
      "cell_type": "markdown",
      "source": [
        "6.Write a function named unique_elements that takes a list as an argument and returns a list of its unique elements in the order they were first encountered"
      ],
      "metadata": {
        "id": "p0w-XdyPDM0k"
      }
    },
    {
      "cell_type": "code",
      "source": [
        "def unique_elements(list):\n",
        "  list=[1,'a',2,3,4,'d']\n",
        "  for unique_elements in list:\n",
        "    print(\"unique_elements\")\n"
      ],
      "metadata": {
        "id": "zBlzXPOu_4q2"
      },
      "execution_count": 60,
      "outputs": []
    },
    {
      "cell_type": "code",
      "source": [],
      "metadata": {
        "id": "N0EYd_jPDzlN"
      },
      "execution_count": null,
      "outputs": []
    }
  ]
}