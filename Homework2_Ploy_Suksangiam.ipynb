{
  "nbformat": 4,
  "nbformat_minor": 0,
  "metadata": {
    "colab": {
      "provenance": []
    },
    "kernelspec": {
      "name": "python3",
      "display_name": "Python 3"
    },
    "language_info": {
      "name": "python"
    }
  },
  "cells": [
    {
      "cell_type": "code",
      "execution_count": null,
      "metadata": {
        "id": "1ffg6QfxTt1i"
      },
      "outputs": [],
      "source": []
    },
    {
      "cell_type": "markdown",
      "source": [
        "###Homework-2: Basic Markdown in Jupyter Notebook, Python variable assignment, PEMDAS."
      ],
      "metadata": {
        "id": "_5q1pRYLTvP-"
      }
    },
    {
      "cell_type": "code",
      "source": [],
      "metadata": {
        "id": "MO4SQm7VTxo1"
      },
      "execution_count": null,
      "outputs": []
    },
    {
      "cell_type": "markdown",
      "source": [
        "#**Questions:**\n",
        "#**Part 1: Markdown in Jupyter Notebook**\n",
        "##**1.\tBold and Italics**\n",
        "\n",
        "###**○\tWrite a sentence where one word is in bold and another is in italics.**"
      ],
      "metadata": {
        "id": "fP4jnphLTznQ"
      }
    },
    {
      "cell_type": "code",
      "source": [
        "# ##**Answer**"
      ],
      "metadata": {
        "id": "sb3TJnVSUo0l"
      },
      "execution_count": 1,
      "outputs": []
    },
    {
      "cell_type": "markdown",
      "source": [
        "\n",
        "\n",
        "\n",
        "#**Hello,** *the grass is green*"
      ],
      "metadata": {
        "id": "JNmCIj5WT3eb"
      }
    },
    {
      "cell_type": "markdown",
      "source": [
        "##**2.\tHeaders**\n",
        "\n",
        "##○\tCreate a hierarchy of headers from # (largest) to ### (smallest). Make up titles for each header level.\n"
      ],
      "metadata": {
        "id": "R_eGMAIlUWrW"
      }
    },
    {
      "cell_type": "code",
      "source": [
        "# ##**Answer**"
      ],
      "metadata": {
        "id": "iy2QgJYTUkXM"
      },
      "execution_count": 2,
      "outputs": []
    },
    {
      "cell_type": "markdown",
      "source": [
        "#Leave A Review\n",
        "##Leave A Review\n",
        "###Leave A Review\n",
        "####Leave A Review\n",
        "#####Leave A Review\n"
      ],
      "metadata": {
        "id": "07NdZDYQUvYQ"
      }
    },
    {
      "cell_type": "markdown",
      "source": [
        "##**3.\tLists**\n",
        "\n",
        "##○\tCreate a bulleted list of your three favorite fruits\n"
      ],
      "metadata": {
        "id": "9TU4Tn0iVGBV"
      }
    },
    {
      "cell_type": "code",
      "source": [
        "# ##**Answer**"
      ],
      "metadata": {
        "id": "47Ay_-g6VMJH"
      },
      "execution_count": null,
      "outputs": []
    },
    {
      "cell_type": "markdown",
      "source": [
        "##Here is a list of my favorite fruits\n",
        "*   Pineapple\n",
        "*   Kiwi\n",
        "*   Apple"
      ],
      "metadata": {
        "id": "1BNiQYURVLM0"
      }
    },
    {
      "cell_type": "markdown",
      "source": [
        "#Part 2: Python Basics\n",
        "##1.\tVariable Assignment\n",
        "\n",
        "##○\tAssign the number 5 to a variable named a.\n",
        "##○\tAssign the number 10 to a variable named b.\n",
        "##○\tCompute the sum of a and b and assign it to a variable named c. Print out the value of c.\n"
      ],
      "metadata": {
        "id": "hPXQJqxLVjTy"
      }
    },
    {
      "cell_type": "code",
      "source": [
        "# ##**Answer**"
      ],
      "metadata": {
        "id": "QZr1PNvGVmYs"
      },
      "execution_count": 4,
      "outputs": []
    },
    {
      "cell_type": "code",
      "source": [
        "a=5\n",
        "b=10\n",
        "c=a+b"
      ],
      "metadata": {
        "id": "oUEsoRpuVoJc"
      },
      "execution_count": 5,
      "outputs": []
    },
    {
      "cell_type": "code",
      "source": [
        "print(f\"the sum of a+b is: {c}\")"
      ],
      "metadata": {
        "colab": {
          "base_uri": "https://localhost:8080/"
        },
        "id": "Od-Qa4fWVtla",
        "outputId": "2243c116-244b-4741-beba-c2dd0eac8344"
      },
      "execution_count": 6,
      "outputs": [
        {
          "output_type": "stream",
          "name": "stdout",
          "text": [
            "the sum of a+b is: 15\n"
          ]
        }
      ]
    },
    {
      "cell_type": "markdown",
      "source": [
        "#**2.\tPEMDAS**\n",
        "\n",
        "#○\tGiven the equation 6+2×(5−32)+4/26+2×(5−32)+4/2:\n",
        "#■\tSolve the equation step-by-step, following the PEMDAS order, and comment each step in the Jupyter cell.\n",
        "#■\tCompute the final answer using Python and display the result.\n"
      ],
      "metadata": {
        "id": "b84FUh1dV5ni"
      }
    },
    {
      "cell_type": "code",
      "source": [
        "x=6+2*(5-32)+(4/26)+2*(5-32)+4/2"
      ],
      "metadata": {
        "id": "ROzPsnl_V83x"
      },
      "execution_count": 7,
      "outputs": []
    },
    {
      "cell_type": "code",
      "source": [
        "print(x)"
      ],
      "metadata": {
        "colab": {
          "base_uri": "https://localhost:8080/"
        },
        "id": "GQzEa28kWIdC",
        "outputId": "a382021f-69c9-43b8-e488-e5bc4001c063"
      },
      "execution_count": 8,
      "outputs": [
        {
          "output_type": "stream",
          "name": "stdout",
          "text": [
            "-99.84615384615384\n"
          ]
        }
      ]
    },
    {
      "cell_type": "code",
      "source": [],
      "metadata": {
        "id": "2ZHu7C0ZWJjw"
      },
      "execution_count": null,
      "outputs": []
    }
  ]
}