{
  "nbformat": 4,
  "nbformat_minor": 0,
  "metadata": {
    "colab": {
      "provenance": []
    },
    "kernelspec": {
      "name": "python3",
      "display_name": "Python 3"
    },
    "language_info": {
      "name": "python"
    }
  },
  "cells": [
    {
      "cell_type": "markdown",
      "source": [
        "Create a program using a for loop that prompts the user to enter five numbers. After all numbers are entered, the program should display the average of the numbers."
      ],
      "metadata": {
        "id": "QZUtTd5tyDG2"
      }
    },
    {
      "cell_type": "code",
      "execution_count": 2,
      "metadata": {
        "id": "plb86UdPo5sT"
      },
      "outputs": [],
      "source": [
        "fruits = [\"apple\", \"banana\", \"cherry\"]"
      ]
    },
    {
      "cell_type": "markdown",
      "source": [
        "convert this list into a tuple"
      ],
      "metadata": {
        "id": "FO5x7Eu6ySxa"
      }
    },
    {
      "cell_type": "code",
      "source": [
        "fruits_tuple = tuple(fruits)"
      ],
      "metadata": {
        "id": "rJdhIUS2yTlu"
      },
      "execution_count": 3,
      "outputs": []
    },
    {
      "cell_type": "markdown",
      "source": [
        "add orange to the list of fruits"
      ],
      "metadata": {
        "id": "wKvJIbewyVzf"
      }
    },
    {
      "cell_type": "code",
      "source": [
        "fruits.append(\"orange\")"
      ],
      "metadata": {
        "id": "YXlpOUUgyYVY"
      },
      "execution_count": 4,
      "outputs": []
    },
    {
      "cell_type": "markdown",
      "source": [
        "show the difference in the content of the list and tuple after the addition"
      ],
      "metadata": {
        "id": "hfIIOLrtya5q"
      }
    },
    {
      "cell_type": "code",
      "source": [
        "# Create the list and tuple\n",
        "fruits = [\"apple\", \"banana\", \"cherry\"]\n",
        "fruits_tuple = tuple(fruits)\n",
        "\n",
        "# Display the content before adding \"orange\"\n",
        "print(\"List (fruits) before:\", fruits)\n",
        "print(\"Tuple (fruits_tuple) before:\", fruits_tuple)\n",
        "\n",
        "# Add \"orange\" to the list\n",
        "fruits.append(\"orange\")\n",
        "\n",
        "# Display the content after adding \"orange\"\n",
        "print(\"List (fruits) after:\", fruits)\n",
        "print(\"Tuple (fruits_tuple) after:\", fruits_tuple)"
      ],
      "metadata": {
        "colab": {
          "base_uri": "https://localhost:8080/"
        },
        "id": "gztO55dKydp8",
        "outputId": "f1fa4cec-8a60-4c52-f207-a5aa308a0b9f"
      },
      "execution_count": 5,
      "outputs": [
        {
          "output_type": "stream",
          "name": "stdout",
          "text": [
            "List (fruits) before: ['apple', 'banana', 'cherry']\n",
            "Tuple (fruits_tuple) before: ('apple', 'banana', 'cherry')\n",
            "List (fruits) after: ['apple', 'banana', 'cherry', 'orange']\n",
            "Tuple (fruits_tuple) after: ('apple', 'banana', 'cherry')\n"
          ]
        }
      ]
    },
    {
      "cell_type": "markdown",
      "source": [
        "create a dictionary named person with keys \"first name\", \"last name\", and \"age\"."
      ],
      "metadata": {
        "id": "pwe_GJP21JmQ"
      }
    },
    {
      "cell_type": "code",
      "source": [
        "person = {\n",
        "    \"first name\": \"John\",\n",
        "    \"last name\": \"Doe\",\n",
        "    \"age\": 30\n",
        "}"
      ],
      "metadata": {
        "id": "p_Ccca4M1Qmn"
      },
      "execution_count": 6,
      "outputs": []
    },
    {
      "cell_type": "markdown",
      "source": [
        "add a new key-value pair, \"city\" with a value of your choice."
      ],
      "metadata": {
        "id": "N9jjDULM1TRg"
      }
    },
    {
      "cell_type": "code",
      "source": [
        "person[\"city\"] = \"New York\""
      ],
      "metadata": {
        "id": "KJ_9I2qn1Y8_"
      },
      "execution_count": 7,
      "outputs": []
    },
    {
      "cell_type": "markdown",
      "source": [
        "display the keys in the dictionary using a python command"
      ],
      "metadata": {
        "id": "G7NryuTu4izd"
      }
    },
    {
      "cell_type": "code",
      "source": [
        "keys = person.keys()\n",
        "print(keys)"
      ],
      "metadata": {
        "colab": {
          "base_uri": "https://localhost:8080/"
        },
        "id": "5CxtvPbk4kBE",
        "outputId": "04e0c436-d7e6-4447-f391-68658d554ff7"
      },
      "execution_count": 8,
      "outputs": [
        {
          "output_type": "stream",
          "name": "stdout",
          "text": [
            "dict_keys(['first name', 'last name', 'age', 'city'])\n"
          ]
        }
      ]
    },
    {
      "cell_type": "markdown",
      "source": [
        "Create a set named colors with the values \"red\", \"blue\", \"green\"."
      ],
      "metadata": {
        "id": "zkai6r-34wot"
      }
    },
    {
      "cell_type": "code",
      "source": [
        "colors = {\"red\", \"blue\", \"green\"}"
      ],
      "metadata": {
        "id": "hf-CY1i04z93"
      },
      "execution_count": 9,
      "outputs": []
    },
    {
      "cell_type": "markdown",
      "source": [
        "Add \"yellow\" to the set and remove \"blue\"."
      ],
      "metadata": {
        "id": "74ojW5Is5CE8"
      }
    },
    {
      "cell_type": "code",
      "source": [
        "colors.add(\"yellow\")\n",
        "colors.remove(\"blue\")"
      ],
      "metadata": {
        "id": "OZcn_Jkm5EPm"
      },
      "execution_count": 10,
      "outputs": []
    },
    {
      "cell_type": "markdown",
      "source": [
        "Check if \"pink\" is in the set and display the result."
      ],
      "metadata": {
        "id": "DM4GBGBR5GSr"
      }
    },
    {
      "cell_type": "code",
      "source": [
        "if \"pink\" in colors:\n",
        "    print(\"Yes, 'pink' is in the set.\")\n",
        "else:\n",
        "    print(\"No, 'pink' is not in the set.\")"
      ],
      "metadata": {
        "colab": {
          "base_uri": "https://localhost:8080/"
        },
        "id": "BTSB49ls5IbK",
        "outputId": "e9edd60f-3d22-4aa2-ae82-f2887b669226"
      },
      "execution_count": 11,
      "outputs": [
        {
          "output_type": "stream",
          "name": "stdout",
          "text": [
            "No, 'pink' is not in the set.\n"
          ]
        }
      ]
    },
    {
      "cell_type": "markdown",
      "source": [
        "Write a Python program that takes an input from the user and checks if the number is positive, negative, or zero."
      ],
      "metadata": {
        "id": "lyOwUxlu5KUe"
      }
    },
    {
      "cell_type": "code",
      "source": [
        "# Get user input as a float\n",
        "try:\n",
        "    number = float(input(\"Enter a number: \"))\n",
        "\n",
        "    # Check if the number is positive, negative, or zero\n",
        "    if number > 0:\n",
        "        print(\"The number is positive.\")\n",
        "    elif number < 0:\n",
        "        print(\"The number is negative.\")\n",
        "    else:\n",
        "        print(\"The number is zero.\")\n",
        "except ValueError:\n",
        "    print(\"Invalid input. Please enter a valid number.\")"
      ],
      "metadata": {
        "colab": {
          "base_uri": "https://localhost:8080/"
        },
        "id": "0Z0UqRcC5NA4",
        "outputId": "17644263-a89a-456c-88be-ed6c6dc076e0"
      },
      "execution_count": 12,
      "outputs": [
        {
          "output_type": "stream",
          "name": "stdout",
          "text": [
            "Enter a number: 10\n",
            "The number is positive.\n"
          ]
        }
      ]
    },
    {
      "cell_type": "markdown",
      "source": [
        "Given a list of numbers: [23, 45, 8, 12, 78, 56, 89], write a Python program that prints out all even numbers from the list using a conditional statement."
      ],
      "metadata": {
        "id": "nxybFVZr5PSL"
      }
    },
    {
      "cell_type": "code",
      "source": [
        "# Define the list of numbers\n",
        "numbers = [23, 45, 8, 12, 78, 56, 89]\n",
        "\n",
        "# Iterate through the list and print even numbers\n",
        "print(\"Even numbers in the list:\")\n",
        "for num in numbers:\n",
        "    if num % 2 == 0:\n",
        "        print(num)"
      ],
      "metadata": {
        "colab": {
          "base_uri": "https://localhost:8080/"
        },
        "id": "ACWWbQGR5Q4m",
        "outputId": "221616aa-64e8-45c8-ad2b-b8cc842ee0ff"
      },
      "execution_count": 13,
      "outputs": [
        {
          "output_type": "stream",
          "name": "stdout",
          "text": [
            "Even numbers in the list:\n",
            "8\n",
            "12\n",
            "78\n",
            "56\n"
          ]
        }
      ]
    },
    {
      "cell_type": "markdown",
      "source": [
        "Write a program that asks the user to enter their age. Based on the user's input, determine if they are eligible to vote (consider the voting age as 18)."
      ],
      "metadata": {
        "id": "XXLwFbvt5Vtw"
      }
    },
    {
      "cell_type": "code",
      "source": [
        "# Get user input for age\n",
        "try:\n",
        "    age = int(input(\"Enter your age: \"))\n",
        "\n",
        "    # Check if the user is eligible to vote\n",
        "    if age >= 18:\n",
        "        print(\"You are eligible to vote.\")\n",
        "    else:\n",
        "        print(\"You are not eligible to vote.\")\n",
        "except ValueError:\n",
        "    print(\"Invalid input. Please enter a valid age as a number.\")"
      ],
      "metadata": {
        "colab": {
          "base_uri": "https://localhost:8080/"
        },
        "id": "lnS4YFib5ZBw",
        "outputId": "d76d08c4-07e2-458d-b65c-22e235ad955c"
      },
      "execution_count": 14,
      "outputs": [
        {
          "output_type": "stream",
          "name": "stdout",
          "text": [
            "Enter your age: 20\n",
            "You are eligible to vote.\n"
          ]
        }
      ]
    },
    {
      "cell_type": "markdown",
      "source": [
        "Write a program that prompts the user to enter numbers continuously (using a while loop) and stops taking inputs when the user enters 'q'. After that, display the sum of all the numbers entered."
      ],
      "metadata": {
        "id": "_sPfAf1k5dxu"
      }
    },
    {
      "cell_type": "code",
      "source": [
        "# Initialize variables\n",
        "total = 0\n",
        "\n",
        "# Continuously prompt the user for input\n",
        "while True:\n",
        "    user_input = input(\"Enter a number (or 'q' to quit): \")\n",
        "\n",
        "    # Check if the user wants to quit\n",
        "    if user_input.lower() == 'q':\n",
        "        break\n",
        "\n",
        "    # Attempt to convert the input to a number\n",
        "    try:\n",
        "        number = float(user_input)\n",
        "        total += number\n",
        "    except ValueError:\n",
        "        print(\"Invalid input. Please enter a number or 'q' to quit.\")\n",
        "\n",
        "# Display the sum of numbers entered\n",
        "print(\"Sum of the numbers:\", total)"
      ],
      "metadata": {
        "colab": {
          "base_uri": "https://localhost:8080/"
        },
        "id": "ztKF1Fsj5gS0",
        "outputId": "d4c4103b-9087-4d8b-ea82-192618ee5fb0"
      },
      "execution_count": 15,
      "outputs": [
        {
          "output_type": "stream",
          "name": "stdout",
          "text": [
            "Enter a number (or 'q' to quit): 20\n",
            "Enter a number (or 'q' to quit): q\n",
            "Sum of the numbers: 20.0\n"
          ]
        }
      ]
    },
    {
      "cell_type": "markdown",
      "source": [
        "Create a Python program using a while loop that prints numbers from 10 down to 1 and then prints \"Liftoff!\"."
      ],
      "metadata": {
        "id": "hiS-vIbG5is3"
      }
    },
    {
      "cell_type": "code",
      "source": [
        "# Initialize the countdown starting point\n",
        "count = 10\n",
        "\n",
        "# Use a while loop to count down\n",
        "while count >= 1:\n",
        "    print(count)\n",
        "    count -= 1\n",
        "\n",
        "# Print \"Liftoff!\" after the countdown\n",
        "print(\"Liftoff!\")"
      ],
      "metadata": {
        "colab": {
          "base_uri": "https://localhost:8080/"
        },
        "id": "iByxirwO5ohi",
        "outputId": "65893807-2a07-42c3-bb12-88529698164e"
      },
      "execution_count": 16,
      "outputs": [
        {
          "output_type": "stream",
          "name": "stdout",
          "text": [
            "10\n",
            "9\n",
            "8\n",
            "7\n",
            "6\n",
            "5\n",
            "4\n",
            "3\n",
            "2\n",
            "1\n",
            "Liftoff!\n"
          ]
        }
      ]
    },
    {
      "cell_type": "markdown",
      "source": [
        "Create a program that asks the user for a number and then prints out the multiplication table for that number using a while loop."
      ],
      "metadata": {
        "id": "0vvelpMt5srm"
      }
    },
    {
      "cell_type": "code",
      "source": [
        "# Get user input for the number\n",
        "try:\n",
        "    number = int(input(\"Enter a number: \"))\n",
        "\n",
        "    # Initialize a counter\n",
        "    i = 1\n",
        "\n",
        "    # Use a while loop to print the multiplication table\n",
        "    while i <= 10:\n",
        "        result = number * i\n",
        "        print(f\"{number} x {i} = {result}\")\n",
        "        i += 1\n",
        "except ValueError:\n",
        "    print(\"Invalid input. Please enter a valid number.\")"
      ],
      "metadata": {
        "colab": {
          "base_uri": "https://localhost:8080/"
        },
        "id": "xXyrWOPu5tIo",
        "outputId": "87f1bc20-9cd0-490c-fc51-3bc74c6fb04e"
      },
      "execution_count": 17,
      "outputs": [
        {
          "output_type": "stream",
          "name": "stdout",
          "text": [
            "Enter a number: 20\n",
            "20 x 1 = 20\n",
            "20 x 2 = 40\n",
            "20 x 3 = 60\n",
            "20 x 4 = 80\n",
            "20 x 5 = 100\n",
            "20 x 6 = 120\n",
            "20 x 7 = 140\n",
            "20 x 8 = 160\n",
            "20 x 9 = 180\n",
            "20 x 10 = 200\n"
          ]
        }
      ]
    },
    {
      "cell_type": "markdown",
      "source": [
        "Given a list: [\"apple\", \"banana\", \"cherry\", \"date\"], use a for loop to print each fruit in the list."
      ],
      "metadata": {
        "id": "VlLunZ_f5v9j"
      }
    },
    {
      "cell_type": "code",
      "source": [
        "fruits = [\"apple\", \"banana\", \"cherry\", \"date\"]\n",
        "\n",
        "# Use a for loop to print each fruit\n",
        "for fruit in fruits:\n",
        "    print(fruit)"
      ],
      "metadata": {
        "colab": {
          "base_uri": "https://localhost:8080/"
        },
        "id": "Yk0prCSc5zcZ",
        "outputId": "3561a082-9773-46ed-971b-fe9f81357eb2"
      },
      "execution_count": 18,
      "outputs": [
        {
          "output_type": "stream",
          "name": "stdout",
          "text": [
            "apple\n",
            "banana\n",
            "cherry\n",
            "date\n"
          ]
        }
      ]
    },
    {
      "cell_type": "markdown",
      "source": [
        "Using a for loop, calculate the factorial of a given number (n!). For example, if the given number is 5, the output should be 5 x 4 x 3 x 2 x 1 = 120."
      ],
      "metadata": {
        "id": "2x949PbO52iE"
      }
    },
    {
      "cell_type": "code",
      "source": [
        "# Get user input for the number\n",
        "try:\n",
        "    n = int(input(\"Enter a number: \"))\n",
        "\n",
        "    # Initialize a variable to store the factorial\n",
        "    factorial = 1\n",
        "\n",
        "    # Use a for loop to calculate the factorial\n",
        "    for i in range(1, n + 1):\n",
        "        factorial *= i\n",
        "\n",
        "    # Print the result\n",
        "    print(f\"{n}! = {factorial}\")\n",
        "except ValueError:\n",
        "    print(\"Invalid input. Please enter a valid number.\")\n"
      ],
      "metadata": {
        "colab": {
          "base_uri": "https://localhost:8080/"
        },
        "id": "ITkkJUr759ME",
        "outputId": "3a0a257f-46c7-4db5-e148-63b46f859761"
      },
      "execution_count": 19,
      "outputs": [
        {
          "output_type": "stream",
          "name": "stdout",
          "text": [
            "Enter a number: 20\n",
            "20! = 2432902008176640000\n"
          ]
        }
      ]
    },
    {
      "cell_type": "markdown",
      "source": [
        "Create a program using a for loop that prompts the user to enter five numbers. After all numbers are entered, the program should display the average of the numbers."
      ],
      "metadata": {
        "id": "-v1uXRg05_Rb"
      }
    },
    {
      "cell_type": "code",
      "source": [
        "# Initialize a variable to store the sum of the numbers\n",
        "total = 0\n",
        "\n",
        "# Use a for loop to prompt the user for five numbers\n",
        "for i in range(5):\n",
        "    try:\n",
        "        number = float(input(f\"Enter number {i + 1}: \"))\n",
        "        total += number\n",
        "    except ValueError:\n",
        "        print(\"Invalid input. Please enter a valid number.\")\n",
        "\n",
        "# Calculate the average\n",
        "average = total / 5\n",
        "\n",
        "# Display the average\n",
        "print(f\"The average of the five numbers is: {average}\")"
      ],
      "metadata": {
        "colab": {
          "base_uri": "https://localhost:8080/"
        },
        "id": "lec4oexY6BbZ",
        "outputId": "5515fac6-40fe-424c-e029-9ae4ec1ae95b"
      },
      "execution_count": 20,
      "outputs": [
        {
          "output_type": "stream",
          "name": "stdout",
          "text": [
            "Enter number 1: 20\n",
            "Enter number 2: 5\n",
            "Enter number 3: 4\n",
            "Enter number 4: 3\n",
            "Enter number 5: 2\n",
            "The average of the five numbers is: 6.8\n"
          ]
        }
      ]
    }
  ]
}