{
  "nbformat": 4,
  "nbformat_minor": 0,
  "metadata": {
    "colab": {
      "provenance": []
    },
    "kernelspec": {
      "name": "python3",
      "display_name": "Python 3"
    },
    "language_info": {
      "name": "python"
    }
  },
  "cells": [
    {
      "cell_type": "markdown",
      "source": [
        "#**Question**"
      ],
      "metadata": {
        "id": "MeKQDQJvu-RA"
      }
    },
    {
      "cell_type": "markdown",
      "source": [
        "## Part1: Markdown in Jupyter Notebok"
      ],
      "metadata": {
        "id": "NscYOwjpu-18"
      }
    },
    {
      "cell_type": "markdown",
      "source": [
        "##1. Bold and Italics\n",
        "\n",
        "My name is **Sashi** Kumar *Soni*."
      ],
      "metadata": {
        "id": "D25e-jszvb3u"
      }
    },
    {
      "cell_type": "markdown",
      "source": [
        "#2. Header\n",
        "\n",
        "#**DATA SCICENCE**\n",
        "\n",
        "##**DATA SCIENCE**\n",
        "\n",
        "###**DATA SCIENCE**"
      ],
      "metadata": {
        "id": "25f08sDpwJno"
      }
    },
    {
      "cell_type": "markdown",
      "source": [
        "#3. Lists"
      ],
      "metadata": {
        "id": "S_yE0a13w9W0"
      }
    },
    {
      "cell_type": "markdown",
      "source": [
        "* Apple\n",
        "* Banana\n",
        "* Orange"
      ],
      "metadata": {
        "id": "lRQrLzun0xRz"
      }
    },
    {
      "cell_type": "markdown",
      "source": [
        "# Part2: Python Basics"
      ],
      "metadata": {
        "id": "b-uCWMrY2Gfg"
      }
    },
    {
      "cell_type": "markdown",
      "source": [
        "#1. Variable Assignment\n",
        "\n"
      ],
      "metadata": {
        "id": "L4bHoGMc2f7s"
      }
    },
    {
      "cell_type": "code",
      "source": [
        "a=5\n",
        "b=10\n",
        "\n",
        "print(\"c:\", a+b)\n",
        "\n"
      ],
      "metadata": {
        "colab": {
          "base_uri": "https://localhost:8080/"
        },
        "id": "WDd6idRZ0G1R",
        "outputId": "2e3cecc1-d09c-4b7d-b987-f8a717a8a33a"
      },
      "execution_count": 4,
      "outputs": [
        {
          "output_type": "stream",
          "name": "stdout",
          "text": [
            "c: 15\n"
          ]
        }
      ]
    },
    {
      "cell_type": "markdown",
      "source": [
        "#2. PEMDAS"
      ],
      "metadata": {
        "id": "ZM67Rjjb4ciU"
      }
    },
    {
      "cell_type": "markdown",
      "source": [
        "Eqn:   6+2×(5-3^2)+4/26+2×(5−32)+4/2\n"
      ],
      "metadata": {
        "id": "b1bcRAK29_mr"
      }
    },
    {
      "cell_type": "code",
      "source": [
        "6+2*(5-3**2)+4/26+2*(5-32)+4/2   # first done expontenital, then done calculation inside the bracket. after that division, addition and sub."
      ],
      "metadata": {
        "colab": {
          "base_uri": "https://localhost:8080/"
        },
        "id": "KZe_RrbI2xSG",
        "outputId": "439ab57a-81a4-405d-f7a0-cdddbbda2d7e"
      },
      "execution_count": 6,
      "outputs": [
        {
          "output_type": "execute_result",
          "data": {
            "text/plain": [
              "-53.84615384615385"
            ]
          },
          "metadata": {},
          "execution_count": 6
        }
      ]
    }
  ]
}