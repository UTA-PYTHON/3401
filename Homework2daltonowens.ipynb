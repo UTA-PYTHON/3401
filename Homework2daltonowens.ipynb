{
  "nbformat": 4,
  "nbformat_minor": 0,
  "metadata": {
    "colab": {
      "provenance": [],
      "authorship_tag": "ABX9TyNx10Jz+BLiUefKC4WoPrjS",
      "include_colab_link": true
    },
    "kernelspec": {
      "name": "python3",
      "display_name": "Python 3"
    },
    "language_info": {
      "name": "python"
    }
  },
  "cells": [
    {
      "cell_type": "markdown",
      "metadata": {
        "id": "view-in-github",
        "colab_type": "text"
      },
      "source": [
        "<a href=\"https://colab.research.google.com/github/UTA-PYTHON/3401/blob/main/Homework2daltonowens.ipynb\" target=\"_parent\"><img src=\"https://colab.research.google.com/assets/colab-badge.svg\" alt=\"Open In Colab\"/></a>"
      ]
    },
    {
      "cell_type": "code",
      "execution_count": null,
      "metadata": {
        "id": "wXTWxAOF6kr1"
      },
      "outputs": [],
      "source": []
    },
    {
      "cell_type": "markdown",
      "source": [
        "Dalton Owens 1001915730"
      ],
      "metadata": {
        "id": "y61k8bFcG15o"
      }
    },
    {
      "cell_type": "markdown",
      "source": [
        "Part 1: Markdown in Jupyter Notebook\n",
        "Bold and Italics\n",
        "\n",
        "Q.Write a sentence where one word is in bold and another is in italics.\n"
      ],
      "metadata": {
        "id": "f9ywapnm7Bp2"
      }
    },
    {
      "cell_type": "markdown",
      "source": [
        "A.Write a sentence where one word in in **bold** and another is in *italics*"
      ],
      "metadata": {
        "id": "QmCGU7wZ7Gf7"
      }
    },
    {
      "cell_type": "markdown",
      "source": [
        "Q.Create a hierarchy of headers from # (largest) to ### (smallest). Make up titles for each header level. Lists\n"
      ],
      "metadata": {
        "id": "pizyEYk87Kur"
      }
    },
    {
      "cell_type": "markdown",
      "source": [
        "A\n",
        "# The largest Header\n",
        "## The next largest header\n",
        "### The next 'next largest header'\n",
        "#### This header isnt very large"
      ],
      "metadata": {
        "id": "TGGmH_kx7an2"
      }
    },
    {
      "cell_type": "code",
      "source": [],
      "metadata": {
        "id": "40F3SIda7bRX"
      },
      "execution_count": null,
      "outputs": []
    },
    {
      "cell_type": "markdown",
      "source": [
        "Q. Create a bulleted list of your three favorite fruits\n",
        "\n",
        "a.\n",
        "* orange\n",
        "* manderine\n",
        "* dragon fruit"
      ],
      "metadata": {
        "id": "9i5dK3fj7jSU"
      }
    },
    {
      "cell_type": "markdown",
      "source": [
        "#Q2"
      ],
      "metadata": {
        "id": "13L2h3TU7r0j"
      }
    },
    {
      "cell_type": "markdown",
      "source": [
        "Q. Assign the number 5 to a variable named\n",
        "\n",
        "a."
      ],
      "metadata": {
        "id": "STjyMh0v7vXT"
      }
    },
    {
      "cell_type": "code",
      "source": [
        "a=5"
      ],
      "metadata": {
        "id": "RuHnKab97yNj"
      },
      "execution_count": null,
      "outputs": []
    },
    {
      "cell_type": "code",
      "source": [
        "a"
      ],
      "metadata": {
        "colab": {
          "base_uri": "https://localhost:8080/"
        },
        "id": "HLj4sBG672Du",
        "outputId": "7a147135-88ce-4388-c80d-1042fca32e20"
      },
      "execution_count": null,
      "outputs": [
        {
          "output_type": "execute_result",
          "data": {
            "text/plain": [
              "5"
            ]
          },
          "metadata": {},
          "execution_count": 3
        }
      ]
    },
    {
      "cell_type": "markdown",
      "source": [
        "Q. Assign the number 10 to a variable named b."
      ],
      "metadata": {
        "id": "kZ4dq1hg76wV"
      }
    },
    {
      "cell_type": "code",
      "source": [
        "b=10"
      ],
      "metadata": {
        "id": "2_-MX9id73CO"
      },
      "execution_count": null,
      "outputs": []
    },
    {
      "cell_type": "code",
      "source": [
        "b"
      ],
      "metadata": {
        "colab": {
          "base_uri": "https://localhost:8080/"
        },
        "id": "kcOrk7Zl8Auh",
        "outputId": "a7a511be-ca0f-42a8-c59c-29367f86cbf9"
      },
      "execution_count": null,
      "outputs": [
        {
          "output_type": "execute_result",
          "data": {
            "text/plain": [
              "10"
            ]
          },
          "metadata": {},
          "execution_count": 5
        }
      ]
    },
    {
      "cell_type": "markdown",
      "source": [
        "Q. Compute the sum of a and b and assign it to a variable named c. Print out the value of c."
      ],
      "metadata": {
        "id": "BNojrk_08DaP"
      }
    },
    {
      "cell_type": "code",
      "source": [
        "a+b"
      ],
      "metadata": {
        "colab": {
          "base_uri": "https://localhost:8080/"
        },
        "id": "qOwmQSr68BQB",
        "outputId": "0e342f15-40a3-4a86-f41e-51171cef4661"
      },
      "execution_count": null,
      "outputs": [
        {
          "output_type": "execute_result",
          "data": {
            "text/plain": [
              "15"
            ]
          },
          "metadata": {},
          "execution_count": 6
        }
      ]
    },
    {
      "cell_type": "code",
      "source": [
        "c=a+b"
      ],
      "metadata": {
        "id": "AyySH7N48Gr0"
      },
      "execution_count": null,
      "outputs": []
    },
    {
      "cell_type": "code",
      "source": [
        "print (c)"
      ],
      "metadata": {
        "colab": {
          "base_uri": "https://localhost:8080/"
        },
        "id": "QXByOIgp8IZf",
        "outputId": "65c3194e-451a-4d87-a485-2fc8a6aa5a18"
      },
      "execution_count": null,
      "outputs": [
        {
          "output_type": "stream",
          "name": "stdout",
          "text": [
            "15\n"
          ]
        }
      ]
    },
    {
      "cell_type": "markdown",
      "source": [
        "Q. Given the equation\n",
        "6+2*(5-3**2)+4/26+2*(5-32)+4/2\n",
        "Solve the equation step-by-step, following the PEMDAS order, and comment each step in the Jupyter cell."
      ],
      "metadata": {
        "id": "2sIx1qYQ8MA8"
      }
    },
    {
      "cell_type": "code",
      "source": [
        "6+2*(5-3**2)+4/26+2*(5-32)+4/2"
      ],
      "metadata": {
        "colab": {
          "base_uri": "https://localhost:8080/"
        },
        "id": "otUcaxUm8J5O",
        "outputId": "b66ee8dc-33cc-40aa-f037-79b43fdad84e"
      },
      "execution_count": null,
      "outputs": [
        {
          "output_type": "execute_result",
          "data": {
            "text/plain": [
              "-53.84615384615385"
            ]
          },
          "metadata": {},
          "execution_count": 9
        }
      ]
    },
    {
      "cell_type": "code",
      "source": [
        "p1=(5-3**2)"
      ],
      "metadata": {
        "id": "yUh9CAWh8T_6"
      },
      "execution_count": null,
      "outputs": []
    },
    {
      "cell_type": "code",
      "source": [
        "p2=(5-32)"
      ],
      "metadata": {
        "id": "r96yfN6S8Vws"
      },
      "execution_count": null,
      "outputs": []
    },
    {
      "cell_type": "code",
      "source": [
        "m1= 2*p1"
      ],
      "metadata": {
        "id": "j6nU34ad8X6u"
      },
      "execution_count": null,
      "outputs": []
    },
    {
      "cell_type": "code",
      "source": [
        "m2= 2*p2"
      ],
      "metadata": {
        "id": "MSUwi6EB8YpT"
      },
      "execution_count": null,
      "outputs": []
    },
    {
      "cell_type": "code",
      "source": [
        "d1= 4/26"
      ],
      "metadata": {
        "id": "-91DgDuz8aJm"
      },
      "execution_count": null,
      "outputs": []
    },
    {
      "cell_type": "code",
      "source": [
        "d2= 4/2"
      ],
      "metadata": {
        "id": "ghAzyrIh8cnE"
      },
      "execution_count": null,
      "outputs": []
    },
    {
      "cell_type": "code",
      "source": [
        "a1= 6+m1"
      ],
      "metadata": {
        "id": "OdvExmjq8qd_"
      },
      "execution_count": null,
      "outputs": []
    },
    {
      "cell_type": "code",
      "source": [
        "a2= d1"
      ],
      "metadata": {
        "id": "FC95WIaR8fOC"
      },
      "execution_count": null,
      "outputs": []
    },
    {
      "cell_type": "code",
      "source": [
        "a3= m2"
      ],
      "metadata": {
        "id": "2qjB0fbf8h7f"
      },
      "execution_count": null,
      "outputs": []
    },
    {
      "cell_type": "code",
      "source": [
        "a4= d2"
      ],
      "metadata": {
        "id": "GSucqQJr8jO7"
      },
      "execution_count": null,
      "outputs": []
    },
    {
      "cell_type": "code",
      "source": [
        "a1+a2+a3+a4"
      ],
      "metadata": {
        "colab": {
          "base_uri": "https://localhost:8080/"
        },
        "id": "yahHuTjn8jsR",
        "outputId": "4cfa5198-7b81-4e90-f4e0-18553d9c029d"
      },
      "execution_count": null,
      "outputs": [
        {
          "output_type": "execute_result",
          "data": {
            "text/plain": [
              "-53.84615384615385"
            ]
          },
          "metadata": {},
          "execution_count": 25
        }
      ]
    },
    {
      "cell_type": "code",
      "source": [],
      "metadata": {
        "id": "90WGQUU3Eqba"
      },
      "execution_count": null,
      "outputs": []
    },
    {
      "cell_type": "markdown",
      "source": [],
      "metadata": {
        "id": "JXgiVIouGyKn"
      }
    }
  ]
}