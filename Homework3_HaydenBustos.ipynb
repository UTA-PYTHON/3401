{
  "nbformat": 4,
  "nbformat_minor": 0,
  "metadata": {
    "colab": {
      "provenance": []
    },
    "kernelspec": {
      "name": "python3",
      "display_name": "Python 3"
    },
    "language_info": {
      "name": "python"
    }
  },
  "cells": [
    {
      "cell_type": "markdown",
      "source": [
        "# **Homework 3: Data Types, User Input, and Data Structure**"
      ],
      "metadata": {
        "id": "vSNlbXKHrF7Z"
      }
    },
    {
      "cell_type": "markdown",
      "source": [
        "## **1. Printing, Data Types, and Input.**\n",
        "- Ask the user for their name and their age.\n",
        "- Print a statement saying: \"Hello, [name]. You are [age] years old.\"\n",
        "- Print the data type of each variable."
      ],
      "metadata": {
        "id": "RKuX1ZfvrGJk"
      }
    },
    {
      "cell_type": "code",
      "source": [
        "age = input(\"How old are you?: \")\n",
        "name = input(\"What is your name?: \")\n",
        "print(f\"Hello, \"+ name + \". You are \" + age + \" years old.\")"
      ],
      "metadata": {
        "colab": {
          "base_uri": "https://localhost:8080/"
        },
        "id": "YChP-x46Ozco",
        "outputId": "c95567c0-9f38-4cc0-c516-ce7885b2823b"
      },
      "execution_count": null,
      "outputs": [
        {
          "output_type": "stream",
          "name": "stdout",
          "text": [
            "How old are you?: 20\n",
            "What is your name?: Hayden\n",
            "Hello, Hayden. You are 20 years old.\n"
          ]
        }
      ]
    },
    {
      "cell_type": "code",
      "source": [
        "print(type(age) , type(name))"
      ],
      "metadata": {
        "colab": {
          "base_uri": "https://localhost:8080/"
        },
        "id": "tqqO6C-reFEH",
        "outputId": "c2047872-bb4f-480c-eb37-bf4a4771ab15"
      },
      "execution_count": null,
      "outputs": [
        {
          "output_type": "stream",
          "name": "stdout",
          "text": [
            "<class 'str'> <class 'str'>\n"
          ]
        }
      ]
    },
    {
      "cell_type": "markdown",
      "source": [
        "## **2. String Manipulations and Input.**\n",
        "- Ask the user for the name of their hometown.\n",
        "- Print the name of the hometown in uppercase.\n",
        "- Print the first three characters of the hometown's name using slicing.\n",
        "- Printing the name in reverse using slicing"
      ],
      "metadata": {
        "id": "eReoGTbiQiuL"
      }
    },
    {
      "cell_type": "code",
      "source": [
        "hometown = input(\"What is the name of your hometown?: \")\n",
        "hometown_upp = hometown.upper()\n",
        "hometown_3 = hometown[:3]\n",
        "nwotemoh = hometown[::-1]\n",
        "print(hometown_upp + \" \" + hometown_3 + \" \" + nwotemoh)"
      ],
      "metadata": {
        "colab": {
          "base_uri": "https://localhost:8080/"
        },
        "id": "WfSb53XVO3eq",
        "outputId": "b844ae92-1e55-4a78-f20b-8ad6cc464412"
      },
      "execution_count": null,
      "outputs": [
        {
          "output_type": "stream",
          "name": "stdout",
          "text": [
            "What is the name of your hometown?: Mansfield\n",
            "MANSFIELD Man dleifsnaM\n"
          ]
        }
      ]
    },
    {
      "cell_type": "markdown",
      "source": [
        "## **3. Numerical Operations and Input.**\n",
        "- Prompt the user to enter a number.\n",
        "- Multiply the number by itself and print the result.\n",
        "- Calculate the square root."
      ],
      "metadata": {
        "id": "JOnZ_47zTHrP"
      }
    },
    {
      "cell_type": "code",
      "source": [
        "number = int(input(\"Enter a number: \"))\n",
        "number2 = number*number\n",
        "print(f\"Your number times itself: \", number2)\n",
        "square_root = number**(1/2)\n",
        "print(f\"The square root of your number is: \" , square_root)"
      ],
      "metadata": {
        "colab": {
          "base_uri": "https://localhost:8080/"
        },
        "id": "LXRvejsFR7X0",
        "outputId": "d3204189-404d-45be-d8a5-dab6c2f2a281"
      },
      "execution_count": null,
      "outputs": [
        {
          "output_type": "stream",
          "name": "stdout",
          "text": [
            "Enter a number: 9\n",
            "Your number times itself:  81\n",
            "The square root of your number is:  3.0\n"
          ]
        }
      ]
    },
    {
      "cell_type": "markdown",
      "source": [
        "## **4. Boolean Evaluations**\n",
        "- Print the result of the following evaluations:\n",
        "- 10 > 5\n",
        "- 10 == 10\n",
        "- 8 != 9"
      ],
      "metadata": {
        "id": "UpfWGWKyXhCo"
      }
    },
    {
      "cell_type": "code",
      "source": [
        "print(10 > 5,\n",
        "      10 == 10,\n",
        "      8 != 9)"
      ],
      "metadata": {
        "colab": {
          "base_uri": "https://localhost:8080/"
        },
        "id": "VAh5K4duUiQm",
        "outputId": "d403eb5b-6774-415a-a6a2-91ef284c0e2c"
      },
      "execution_count": null,
      "outputs": [
        {
          "output_type": "stream",
          "name": "stdout",
          "text": [
            "True True True\n"
          ]
        }
      ]
    },
    {
      "cell_type": "markdown",
      "source": [
        "## **5. List Creation and Operations.**\n",
        "- Create a list named colors containing the following items: red, blue, green.\n",
        "- Print the list.\n",
        "- Print the first item in the list.\n",
        "- Replace the second item in the list with yellow.\n",
        "- Print the list again.\n",
        "- Change the last item using negative indexing."
      ],
      "metadata": {
        "id": "39f6T1uyYKPQ"
      }
    },
    {
      "cell_type": "code",
      "source": [
        "colors = [\"Red\", \"Blue\", \"Green\"]\n",
        "colors"
      ],
      "metadata": {
        "colab": {
          "base_uri": "https://localhost:8080/"
        },
        "id": "jJB1vafoX8Gu",
        "outputId": "d9c60f8d-86af-45cf-efb9-9529dbde69af"
      },
      "execution_count": null,
      "outputs": [
        {
          "output_type": "execute_result",
          "data": {
            "text/plain": [
              "['Red', 'Yellow', 'Green']"
            ]
          },
          "metadata": {},
          "execution_count": 34
        }
      ]
    },
    {
      "cell_type": "code",
      "source": [
        "colors[0]"
      ],
      "metadata": {
        "colab": {
          "base_uri": "https://localhost:8080/",
          "height": 35
        },
        "id": "psOve9a-YmuI",
        "outputId": "5a4120eb-a8e1-41d0-c9db-ac1307a46c68"
      },
      "execution_count": null,
      "outputs": [
        {
          "output_type": "execute_result",
          "data": {
            "text/plain": [
              "'Red'"
            ],
            "application/vnd.google.colaboratory.intrinsic+json": {
              "type": "string"
            }
          },
          "metadata": {},
          "execution_count": 35
        }
      ]
    },
    {
      "cell_type": "code",
      "source": [
        "colors[1] = \"Yellow\"\n",
        "colors"
      ],
      "metadata": {
        "colab": {
          "base_uri": "https://localhost:8080/"
        },
        "id": "0hST0HpGZI0g",
        "outputId": "4132f3e5-0e88-4a34-d680-89e2b058b260"
      },
      "execution_count": null,
      "outputs": [
        {
          "output_type": "execute_result",
          "data": {
            "text/plain": [
              "['Red', 'Yellow', 'Green']"
            ]
          },
          "metadata": {},
          "execution_count": 36
        }
      ]
    },
    {
      "cell_type": "code",
      "source": [
        "colors[-1] = \"Purple\"\n",
        "colors"
      ],
      "metadata": {
        "colab": {
          "base_uri": "https://localhost:8080/"
        },
        "id": "0CHq7r5gZNso",
        "outputId": "a7546261-a296-41f4-8e52-513d5c573369"
      },
      "execution_count": null,
      "outputs": [
        {
          "output_type": "execute_result",
          "data": {
            "text/plain": [
              "['Red', 'Yellow', 'Purple']"
            ]
          },
          "metadata": {},
          "execution_count": 37
        }
      ]
    },
    {
      "cell_type": "markdown",
      "source": [
        "## **6. Indexing and Slicing.**\n",
        "- Given the list numbers = [10, 20, 30, 40, 50]\n",
        "- Print the third item from the list.\n",
        "- Using slicing, print the first two numbers.\n",
        "- Getting the last three numbers using negative indexing and slicing"
      ],
      "metadata": {
        "id": "quv_gMTEZV8s"
      }
    },
    {
      "cell_type": "code",
      "source": [
        "numbers = [10, 20, 30, 40, 50]\n",
        "numbers[2]"
      ],
      "metadata": {
        "colab": {
          "base_uri": "https://localhost:8080/"
        },
        "id": "FkidiB1hZUg5",
        "outputId": "3e32b742-9325-4b6f-ec8c-041c0a98f57b"
      },
      "execution_count": null,
      "outputs": [
        {
          "output_type": "execute_result",
          "data": {
            "text/plain": [
              "30"
            ]
          },
          "metadata": {},
          "execution_count": 38
        }
      ]
    },
    {
      "cell_type": "code",
      "source": [
        "numbers[:2]"
      ],
      "metadata": {
        "colab": {
          "base_uri": "https://localhost:8080/"
        },
        "id": "xv1Fy8bWZts2",
        "outputId": "398e39ea-9437-434f-a114-6e1c29755ec3"
      },
      "execution_count": null,
      "outputs": [
        {
          "output_type": "execute_result",
          "data": {
            "text/plain": [
              "[10, 20]"
            ]
          },
          "metadata": {},
          "execution_count": 40
        }
      ]
    },
    {
      "cell_type": "code",
      "source": [
        "numbers[-3:]"
      ],
      "metadata": {
        "colab": {
          "base_uri": "https://localhost:8080/"
        },
        "id": "q3R-84BuZwVq",
        "outputId": "4dcf4d25-baab-4b2b-9eb9-9c7913be0d57"
      },
      "execution_count": null,
      "outputs": [
        {
          "output_type": "execute_result",
          "data": {
            "text/plain": [
              "[30, 40, 50]"
            ]
          },
          "metadata": {},
          "execution_count": 46
        }
      ]
    },
    {
      "cell_type": "markdown",
      "source": [
        "## **7. Manipulating Elements**\n",
        "- Given the list animals = ['cat', 'dog', 'bird']\n",
        "- Print the list.\n",
        "- Add fish to the end of the list.\n"
      ],
      "metadata": {
        "id": "CbeHTRZhaV8K"
      }
    },
    {
      "cell_type": "code",
      "source": [
        "animals = [\"Cat\", \"Dog\", \"Bird\"]\n",
        "animals"
      ],
      "metadata": {
        "colab": {
          "base_uri": "https://localhost:8080/"
        },
        "id": "51ku-xNAZ342",
        "outputId": "3ec42370-36d9-4aea-9c1a-f6681379a1e9"
      },
      "execution_count": null,
      "outputs": [
        {
          "output_type": "execute_result",
          "data": {
            "text/plain": [
              "['Cat', 'Dog', 'Bird']"
            ]
          },
          "metadata": {},
          "execution_count": 48
        }
      ]
    },
    {
      "cell_type": "code",
      "source": [
        "animals.append(\"Fish\")\n",
        "animals"
      ],
      "metadata": {
        "colab": {
          "base_uri": "https://localhost:8080/"
        },
        "id": "HF62pppla-sJ",
        "outputId": "a845409e-fcbc-40b8-a379-69a18452ece0"
      },
      "execution_count": null,
      "outputs": [
        {
          "output_type": "execute_result",
          "data": {
            "text/plain": [
              "['Cat', 'Dog', 'Bird', 'Fish', 'Fish', 'Fish', 'Fish', 'Fish', 'Fish']"
            ]
          },
          "metadata": {},
          "execution_count": 54
        }
      ]
    },
    {
      "cell_type": "markdown",
      "source": [
        "## **8. Sorting**\n",
        "- Given the list random_numbers = [42, 8, 15, 23, 16]\n",
        "- Print the list.\n",
        "- Use the sort() method to sort the list.\n",
        "- Print the sorted list.\n",
        "- Print every second item from the sorted list."
      ],
      "metadata": {
        "id": "KKfuZdUYbKi4"
      }
    },
    {
      "cell_type": "code",
      "source": [
        "random_numbers = [42, 8, 15, 23, 16]\n",
        "random_numbers"
      ],
      "metadata": {
        "colab": {
          "base_uri": "https://localhost:8080/"
        },
        "id": "JxQ8hObwbG-Y",
        "outputId": "7f2d8525-c446-4c36-ab98-997521127eab"
      },
      "execution_count": null,
      "outputs": [
        {
          "output_type": "execute_result",
          "data": {
            "text/plain": [
              "[42, 8, 15, 23, 16]"
            ]
          },
          "metadata": {},
          "execution_count": 55
        }
      ]
    },
    {
      "cell_type": "code",
      "source": [
        "random_numbers.sort()\n",
        "random_numbers"
      ],
      "metadata": {
        "colab": {
          "base_uri": "https://localhost:8080/"
        },
        "id": "UJ27wDOIbpQT",
        "outputId": "cb5b1e01-14fa-4136-b0c4-4d56674d492a"
      },
      "execution_count": null,
      "outputs": [
        {
          "output_type": "execute_result",
          "data": {
            "text/plain": [
              "[8, 15, 16, 23, 42]"
            ]
          },
          "metadata": {},
          "execution_count": 59
        }
      ]
    },
    {
      "cell_type": "code",
      "source": [
        "random_numbers[1::2]"
      ],
      "metadata": {
        "colab": {
          "base_uri": "https://localhost:8080/"
        },
        "id": "ali77OHwbu8D",
        "outputId": "78335055-e883-4b42-8cca-ec44b842f707"
      },
      "execution_count": null,
      "outputs": [
        {
          "output_type": "execute_result",
          "data": {
            "text/plain": [
              "[15, 23]"
            ]
          },
          "metadata": {},
          "execution_count": 61
        }
      ]
    }
  ]
}