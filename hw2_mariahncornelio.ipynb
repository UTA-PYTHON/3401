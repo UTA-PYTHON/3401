{
 "cells": [
  {
   "cell_type": "markdown",
   "id": "73fed8d5",
   "metadata": {},
   "source": [
    "\n",
    "# Homework 2 Questions\n",
    "### Mariah Noelle Cornelio"
   ]
  },
  {
   "cell_type": "markdown",
   "id": "9e7d7c74",
   "metadata": {},
   "source": [
    "### Part 1: Markdown in Jupyter Notebook\n",
    "___"
   ]
  },
  {
   "cell_type": "markdown",
   "id": "72ea7ce1",
   "metadata": {},
   "source": [
    "1. **Bold and Italics**\n",
    "Write a sentence where one word is in **bold** and another is in *italics*."
   ]
  },
  {
   "cell_type": "markdown",
   "id": "58cf79e9",
   "metadata": {},
   "source": [
    "**I like sharks.**"
   ]
  },
  {
   "cell_type": "markdown",
   "id": "a281e9f3",
   "metadata": {},
   "source": [
    "*I don't like dolphins.*"
   ]
  },
  {
   "cell_type": "markdown",
   "id": "ef6af2a3",
   "metadata": {},
   "source": [
    " "
   ]
  },
  {
   "cell_type": "markdown",
   "id": "e6f0145e",
   "metadata": {},
   "source": [
    "2. **Headers**\n",
    "Create a hierarchy of headers from # (largest) to ### (smallest). Make up titles for each header level."
   ]
  },
  {
   "cell_type": "markdown",
   "id": "52817a0c",
   "metadata": {},
   "source": [
    "# I am so tired. "
   ]
  },
  {
   "cell_type": "markdown",
   "id": "695a0d7e",
   "metadata": {},
   "source": [
    "## I want to sleep."
   ]
  },
  {
   "cell_type": "markdown",
   "id": "3c2896f0",
   "metadata": {},
   "source": [
    "### My back hurts."
   ]
  },
  {
   "cell_type": "markdown",
   "id": "ae4a2ab5",
   "metadata": {},
   "source": [
    " "
   ]
  },
  {
   "cell_type": "markdown",
   "id": "0ddbf2ce",
   "metadata": {},
   "source": [
    "3. **Lists**\n",
    "Create a bulleted list of your three favorite fruits."
   ]
  },
  {
   "cell_type": "markdown",
   "id": "ff9e0610",
   "metadata": {},
   "source": [
    "- Passionfruit\n",
    "- Mango\n",
    "- Peach"
   ]
  },
  {
   "cell_type": "markdown",
   "id": "b327fa31",
   "metadata": {},
   "source": [
    " "
   ]
  },
  {
   "cell_type": "markdown",
   "id": "58aecffc",
   "metadata": {},
   "source": [
    "### **Part 2: Python Basics**\n",
    "___"
   ]
  },
  {
   "cell_type": "markdown",
   "id": "963d267f",
   "metadata": {},
   "source": [
    "1. **Variable Assignment**\n",
    "Assign the number 5 to a variable named `a`.\n",
    "Assign the number 10 to a variable named `b`.\n",
    "Compute the sum of `a` and `b` and assign it to a variable named `c`. Print out the value of `c`. \n"
   ]
  },
  {
   "cell_type": "code",
   "execution_count": 1,
   "id": "5b7435ee",
   "metadata": {},
   "outputs": [
    {
     "name": "stdout",
     "output_type": "stream",
     "text": [
      "15\n"
     ]
    }
   ],
   "source": [
    "a = 5\n",
    "b = 10\n",
    "c = a + b\n",
    "print(c)"
   ]
  },
  {
   "cell_type": "markdown",
   "id": "c2c0b223",
   "metadata": {},
   "source": [
    " "
   ]
  },
  {
   "cell_type": "markdown",
   "id": "89c1b02b",
   "metadata": {},
   "source": [
    "2. **PEMDAS** \n",
    "\n",
    "Given the equation 6 + 2 (5 - 3^2) + 4/26 + 2 x (5-32) + 4/2:\n",
    "\n",
    "Solve the equation step-by-step, following the PEMDAS order, and comment each step in the Jupyter cell. Compute the final answer using Python and display the result."
   ]
  },
  {
   "cell_type": "code",
   "execution_count": 4,
   "id": "dec04efc",
   "metadata": {},
   "outputs": [
    {
     "data": {
      "text/plain": [
       "-4"
      ]
     },
     "execution_count": 4,
     "metadata": {},
     "output_type": "execute_result"
    }
   ],
   "source": [
    "5-3**2 # First we solve what is in the parentheses of (5-3^2); in other words, (5-9) which gives us output -4"
   ]
  },
  {
   "cell_type": "code",
   "execution_count": 5,
   "id": "5c67f42c",
   "metadata": {},
   "outputs": [
    {
     "data": {
      "text/plain": [
       "-27"
      ]
     },
     "execution_count": 5,
     "metadata": {},
     "output_type": "execute_result"
    }
   ],
   "source": [
    "5-32 # Then we solve what is in the parentheses of (5-32) which gives us the output of -27"
   ]
  },
  {
   "cell_type": "code",
   "execution_count": 6,
   "id": "12dc0491",
   "metadata": {},
   "outputs": [
    {
     "data": {
      "text/plain": [
       "-8"
      ]
     },
     "execution_count": 6,
     "metadata": {},
     "output_type": "execute_result"
    }
   ],
   "source": [
    "2*-4 # The new equation should look like 6 + 2(-4) + 4/26 + 2(-27) + 4/2; So next following PEMDAS, multipy 2(-4)"
   ]
  },
  {
   "cell_type": "code",
   "execution_count": 7,
   "id": "2528e681",
   "metadata": {},
   "outputs": [
    {
     "data": {
      "text/plain": [
       "-54"
      ]
     },
     "execution_count": 7,
     "metadata": {},
     "output_type": "execute_result"
    }
   ],
   "source": [
    "2*-27 # Then multiply 2(-27)"
   ]
  },
  {
   "cell_type": "code",
   "execution_count": 8,
   "id": "68397224",
   "metadata": {},
   "outputs": [
    {
     "data": {
      "text/plain": [
       "0.15384615384615385"
      ]
     },
     "execution_count": 8,
     "metadata": {},
     "output_type": "execute_result"
    }
   ],
   "source": [
    "4/26 # After multiplying, the equation should be 6 + -8 + 4/26 + -54 + 4/2; The next step in PEMDAS is to divide"
   ]
  },
  {
   "cell_type": "code",
   "execution_count": 9,
   "id": "3f02005b",
   "metadata": {},
   "outputs": [
    {
     "data": {
      "text/plain": [
       "2.0"
      ]
     },
     "execution_count": 9,
     "metadata": {},
     "output_type": "execute_result"
    }
   ],
   "source": [
    "4/2 # Then divide 4/2"
   ]
  },
  {
   "cell_type": "code",
   "execution_count": 10,
   "id": "1c466ca9",
   "metadata": {},
   "outputs": [],
   "source": [
    "# The equation should now be 6 + -8 + 0.15384615384615385 + -54 + 2; The final step is to add and subtract the numbers"
   ]
  },
  {
   "cell_type": "code",
   "execution_count": 11,
   "id": "bb8ae401",
   "metadata": {},
   "outputs": [
    {
     "data": {
      "text/plain": [
       "-53.84615384615385"
      ]
     },
     "execution_count": 11,
     "metadata": {},
     "output_type": "execute_result"
    }
   ],
   "source": [
    "6 + -8 + 0.15384615384615385 + -54 + 2"
   ]
  },
  {
   "cell_type": "code",
   "execution_count": 12,
   "id": "a4543e0a",
   "metadata": {},
   "outputs": [],
   "source": [
    "# The answer outputted following PEMDAS step-by-step is -53.84615384615385.\n",
    "# Check using Python."
   ]
  },
  {
   "cell_type": "code",
   "execution_count": 32,
   "id": "551c19f6",
   "metadata": {},
   "outputs": [
    {
     "data": {
      "text/plain": [
       "-53.84615384615385"
      ]
     },
     "execution_count": 32,
     "metadata": {},
     "output_type": "execute_result"
    }
   ],
   "source": [
    "6+2*(5-3**2)+4/26+2*(5-32)+4/2"
   ]
  },
  {
   "cell_type": "code",
   "execution_count": null,
   "id": "956f67b5",
   "metadata": {},
   "outputs": [],
   "source": [
    "# By using Python, the output is still -53.84615384615385. "
   ]
  }
 ],
 "metadata": {
  "kernelspec": {
   "display_name": "Python 3 (ipykernel)",
   "language": "python",
   "name": "python3"
  },
  "language_info": {
   "codemirror_mode": {
    "name": "ipython",
    "version": 3
   },
   "file_extension": ".py",
   "mimetype": "text/x-python",
   "name": "python",
   "nbconvert_exporter": "python",
   "pygments_lexer": "ipython3",
   "version": "3.11.4"
  }
 },
 "nbformat": 4,
 "nbformat_minor": 5
}
