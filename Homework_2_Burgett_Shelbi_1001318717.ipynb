{
  "nbformat": 4,
  "nbformat_minor": 0,
  "metadata": {
    "colab": {
      "provenance": [],
      "authorship_tag": "ABX9TyNZO/BaEaqljFhOvnY7YRoB",
      "include_colab_link": true
    },
    "kernelspec": {
      "name": "python3",
      "display_name": "Python 3"
    },
    "language_info": {
      "name": "python"
    }
  },
  "cells": [
    {
      "cell_type": "markdown",
      "metadata": {
        "id": "view-in-github",
        "colab_type": "text"
      },
      "source": [
        "<a href=\"https://colab.research.google.com/github/UTA-PYTHON/3401/blob/main/Homework_2_Burgett_Shelbi_1001318717.ipynb\" target=\"_parent\"><img src=\"https://colab.research.google.com/assets/colab-badge.svg\" alt=\"Open In Colab\"/></a>"
      ]
    },
    {
      "cell_type": "markdown",
      "source": [
        "# **Homework 2**"
      ],
      "metadata": {
        "id": "hHWIwXiq84pD"
      }
    },
    {
      "cell_type": "markdown",
      "source": [
        "Part 1: Markdown in Jupyter Notebook\n",
        "\n",
        "   1. Bold and Italics\n",
        "\n",
        "  - Write a sentence where one word is in bold and another is in italics."
      ],
      "metadata": {
        "id": "czR96gURG9VF"
      }
    },
    {
      "cell_type": "markdown",
      "source": [
        "##### The **dog** ran *through* the park."
      ],
      "metadata": {
        "id": "UpMAyemGHb6X"
      }
    },
    {
      "cell_type": "markdown",
      "source": [
        "2. Headers\n",
        "\n",
        "  - Create a hierarchy of headers from # (largest) to ### (smallest). Make up titles for each header level."
      ],
      "metadata": {
        "id": "0SaVX--XHbgL"
      }
    },
    {
      "cell_type": "markdown",
      "source": [
        "# Dog Breeds\n",
        "\n",
        "\n",
        "\n",
        "> ## Dog Food Brands\n",
        "\n",
        "\n",
        "> > ### Cat Breeds\n",
        "\n",
        "\n",
        "\n",
        "\n",
        "\n",
        "\n",
        "\n",
        "\n",
        "\n"
      ],
      "metadata": {
        "id": "8dD_gLm-K1qv"
      }
    },
    {
      "cell_type": "markdown",
      "source": [
        "   3. Lists\n",
        "\n",
        "  - Create a bulleted list of your three favorite fruits"
      ],
      "metadata": {
        "id": "fY_gmzh_Hq9-"
      }
    },
    {
      "cell_type": "markdown",
      "source": [
        "- Pineapple\n",
        "- Raspberry\n",
        "- Blood Orange"
      ],
      "metadata": {
        "id": "trDuUWVmH6Dy"
      }
    },
    {
      "cell_type": "markdown",
      "source": [
        "Part 2: Python Basics\n",
        "\n",
        "   1. Variable Assignment\n",
        "\n",
        "  - Assign the number 5 to a variable named a.\n",
        "- Assign the number 10 to a variable named b.\n",
        "- Compute the sum of a and b and assign it to a variable named c. Print out the value of c."
      ],
      "metadata": {
        "id": "-Nxsv-XmH54i"
      }
    },
    {
      "cell_type": "code",
      "source": [
        "a=5\n",
        "b=10"
      ],
      "metadata": {
        "id": "DX1Nmv_v3yo7"
      },
      "execution_count": 1,
      "outputs": []
    },
    {
      "cell_type": "code",
      "source": [
        "c=a+b\n",
        "print(c)"
      ],
      "metadata": {
        "colab": {
          "base_uri": "https://localhost:8080/"
        },
        "id": "esF8sSZQ4Zmg",
        "outputId": "906a55d4-91a1-4f2d-b8b4-4960a5340673"
      },
      "execution_count": 7,
      "outputs": [
        {
          "output_type": "stream",
          "name": "stdout",
          "text": [
            "15\n"
          ]
        }
      ]
    },
    {
      "cell_type": "markdown",
      "source": [
        " PEMDAS\n",
        "        \n",
        "  Given the equation\n",
        "\n",
        "6+2×(5−32)+4/2:\n",
        "\n",
        "  - Solve the equation step-by-step, following the PEMDAS order, and comment each step in the Jupyter cell.\n",
        "  - Compute the final answer using Python and display the result.\n"
      ],
      "metadata": {
        "id": "B-ycFx8gIFKp"
      }
    },
    {
      "cell_type": "markdown",
      "source": [
        "(6+(2*(5-32))+(4/2))\n",
        "\n",
        "(5-32) takes place first\n",
        "\n",
        "(2*-27) -27 is then multiplied by 2\n",
        "\n",
        "(4/2) is the next step\n",
        "\n",
        "(6-54 +2) is the final step"
      ],
      "metadata": {
        "id": "Jya3jQ7a6dGo"
      }
    },
    {
      "cell_type": "code",
      "source": [
        "(6+(2*(5-32))+(4/2))"
      ],
      "metadata": {
        "colab": {
          "base_uri": "https://localhost:8080/"
        },
        "id": "-PDXtFz-HZ6p",
        "outputId": "84c3bd4b-59ba-44f1-a5ba-f5dc968a0bd3"
      },
      "execution_count": 8,
      "outputs": [
        {
          "output_type": "execute_result",
          "data": {
            "text/plain": [
              "-46.0"
            ]
          },
          "metadata": {},
          "execution_count": 8
        }
      ]
    }
  ]
}