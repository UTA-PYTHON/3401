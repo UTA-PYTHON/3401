{
  "nbformat": 4,
  "nbformat_minor": 0,
  "metadata": {
    "colab": {
      "provenance": []
    },
    "kernelspec": {
      "name": "python3",
      "display_name": "Python 3"
    },
    "language_info": {
      "name": "python"
    }
  },
  "cells": [
    {
      "cell_type": "markdown",
      "source": [
        "**Angelina Noel**\n",
        "\n",
        "**1001914562**"
      ],
      "metadata": {
        "id": "QZPFqLdaoHmS"
      }
    },
    {
      "cell_type": "markdown",
      "source": [
        "Questions:\n",
        "\n",
        "# **Part 1: Markdown in Jupyter Notebook**\n",
        "## **Bold and Italics**\n",
        "### Write a sentence where one word is in bold and another is in italics.\n",
        "- The **cow** jumped over the *moon*.\n",
        "\n",
        "## **Headers**\n",
        "### Create a hierarchy of headers from # (largest) to ### (smallest). Make up titles for each header level.\n",
        "## Equation\n",
        "## How to\n",
        "### Answer\n",
        "\n",
        "## **Lists**\n",
        "###Create a bulleted list of your three favorite fruits\n",
        "- strawberries\n",
        "- granny smith apples\n",
        "- black-berries\n",
        "\n",
        "---"
      ],
      "metadata": {
        "id": "0XwNuot95LUk"
      }
    },
    {
      "cell_type": "markdown",
      "source": [
        "# **Part 2: Python Basics**\n",
        "Variable Assignment\n",
        "\n",
        "- Assign the number 5 to a variable named a.\n",
        "- Assign the number 10 to a variable named b.\n",
        "- Compute the sum of a and b and assign it to a variable named c. Print out the value of c.\n",
        "PEMDAS\n"
      ],
      "metadata": {
        "id": "mdSc7ydnAyeO"
      }
    },
    {
      "cell_type": "code",
      "execution_count": null,
      "metadata": {
        "id": "wUBG0wJ75Ff-"
      },
      "outputs": [],
      "source": [
        "a=5"
      ]
    },
    {
      "cell_type": "code",
      "source": [
        "b=10"
      ],
      "metadata": {
        "id": "CWE5PqRyBSXa"
      },
      "execution_count": null,
      "outputs": []
    },
    {
      "cell_type": "code",
      "source": [
        "a + b"
      ],
      "metadata": {
        "colab": {
          "base_uri": "https://localhost:8080/"
        },
        "id": "8c158mvYBTyv",
        "outputId": "34a48d95-0455-4d88-a32f-ed7b5ac8f12b"
      },
      "execution_count": null,
      "outputs": [
        {
          "output_type": "execute_result",
          "data": {
            "text/plain": [
              "15"
            ]
          },
          "metadata": {},
          "execution_count": 6
        }
      ]
    },
    {
      "cell_type": "code",
      "source": [
        "c=15"
      ],
      "metadata": {
        "id": "HgbsU2J1BWSK"
      },
      "execution_count": null,
      "outputs": []
    },
    {
      "cell_type": "markdown",
      "source": [
        "Given the equation\n",
        "6+2×(5−3**2)+4/2:\n",
        "Solve the equation step-by-step, following the PEMDAS order, and comment each step in the Jupyter cell.\n",
        "Compute the final answer using Python and display the result."
      ],
      "metadata": {
        "id": "PBfe49eCBlKs"
      }
    },
    {
      "cell_type": "code",
      "source": [
        "(6+2)*(5-(3**2))+(4/2)"
      ],
      "metadata": {
        "colab": {
          "base_uri": "https://localhost:8080/"
        },
        "id": "_QJLbFuIpki3",
        "outputId": "25491ec4-fa0e-4e2e-bd52-f077503ddc83"
      },
      "execution_count": 1,
      "outputs": [
        {
          "output_type": "execute_result",
          "data": {
            "text/plain": [
              "-30.0"
            ]
          },
          "metadata": {},
          "execution_count": 1
        }
      ]
    },
    {
      "cell_type": "code",
      "source": [],
      "metadata": {
        "id": "FLO81p4FptyF"
      },
      "execution_count": null,
      "outputs": []
    }
  ]
}
