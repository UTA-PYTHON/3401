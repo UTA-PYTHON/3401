{
  "nbformat": 4,
  "nbformat_minor": 0,
  "metadata": {
    "colab": {
      "provenance": []
    },
    "kernelspec": {
      "name": "python3",
      "display_name": "Python 3"
    },
    "language_info": {
      "name": "python"
    }
  },
  "cells": [
    {
      "cell_type": "markdown",
      "source": [
        "# **Week 12. Homework 8. Pandas**"
      ],
      "metadata": {
        "id": "B26w8VjCYKRV"
      }
    },
    {
      "cell_type": "markdown",
      "source": [
        "\n",
        "\n",
        "---\n",
        "\n",
        "\n",
        "\n",
        "---\n",
        "\n",
        "\n",
        "\n",
        "---\n",
        "\n"
      ],
      "metadata": {
        "id": "Eu6PftroYo2U"
      }
    },
    {
      "cell_type": "markdown",
      "source": [
        "\n",
        "1. Load the dataset into a pandas DataFrame and display the first few rows."
      ],
      "metadata": {
        "id": "aV6E5GZXpi1M"
      }
    },
    {
      "cell_type": "code",
      "source": [
        "import pandas as pd\n",
        "\n",
        "# Replace 'Startups.csv' with the actual path to your CSV file\n",
        "file_path = 'Startups.csv'\n",
        "\n",
        "# Load the CSV file into a pandas DataFrame\n",
        "df = pd.read_csv(file_path)\n",
        "\n",
        "# Display the first few rows of the DataFrame\n",
        "print(df.head())"
      ],
      "metadata": {
        "id": "HJBOXE_upncm"
      },
      "execution_count": null,
      "outputs": []
    },
    {
      "cell_type": "markdown",
      "source": [
        "\n",
        "\n",
        "---\n",
        "\n",
        "\n",
        "\n",
        "---\n",
        "\n"
      ],
      "metadata": {
        "id": "howJdRNwY4sd"
      }
    },
    {
      "cell_type": "markdown",
      "source": [
        "\n",
        "2. Find the number of rows and columns in the dataset.\n",
        "\n",
        "\n"
      ],
      "metadata": {
        "id": "9rPM3G4Opnlx"
      }
    },
    {
      "cell_type": "code",
      "source": [
        "# Load the CSV file into a pandas DataFrame\n",
        "df = pd.read_csv(file_path)\n",
        "\n",
        "# Get the number of rows and columns in the dataset\n",
        "num_rows, num_columns = df.shape\n",
        "\n",
        "# Display the results\n",
        "print(f\"Number of rows: {num_rows}\")\n",
        "print(f\"Number of columns: {num_columns}\")"
      ],
      "metadata": {
        "id": "ihMWKM5ypq7d"
      },
      "execution_count": null,
      "outputs": []
    },
    {
      "cell_type": "markdown",
      "source": [
        "\n",
        "\n",
        "\n",
        "---\n",
        "\n",
        "\n",
        "---\n",
        "\n"
      ],
      "metadata": {
        "id": "E6OSn0EpY2ZG"
      }
    },
    {
      "cell_type": "markdown",
      "source": [
        "3. Check for missing values in each column and handle them appropriately.\n",
        "\n",
        "\n"
      ],
      "metadata": {
        "id": "2mlsVfqwprGf"
      }
    },
    {
      "cell_type": "code",
      "source": [
        "# Check for missing values in each column\n",
        "missing_values = df.isnull().sum()\n",
        "\n",
        "# Display the missing values\n",
        "print(\"Missing values in each column:\")\n",
        "print(missing_values)\n",
        "\n",
        "# Handling missing values (if needed)\n",
        "# For example, if you want to fill missing values with the mean for numeric columns:\n",
        "df.fillna(df.mean(), inplace=True)\n",
        "\n",
        "# If you want to drop rows with missing values:\n",
        "# df.dropna(inplace=True)\n",
        "\n",
        "# Display the DataFrame after handling missing values\n",
        "print(\"\\nDataFrame after handling missing values:\")\n",
        "print(df.head())\n"
      ],
      "metadata": {
        "id": "MHCp25TcpshE"
      },
      "execution_count": null,
      "outputs": []
    },
    {
      "cell_type": "markdown",
      "source": [
        "\n",
        "\n",
        "\n",
        "---\n",
        "\n",
        "\n",
        "---\n",
        "\n"
      ],
      "metadata": {
        "id": "XMBKTFY1Y8kB"
      }
    },
    {
      "cell_type": "markdown",
      "source": [
        "4. Calculate the mean, median, and standard deviation of the 'R&D_Spend' column.\n",
        "\n"
      ],
      "metadata": {
        "id": "3p6tB8lCpsqD"
      }
    },
    {
      "cell_type": "code",
      "source": [
        "# Calculate the mean, median, and standard deviation of the 'R&D_Spend' column\n",
        "rd_spend_mean = df['R&D_Spend'].mean()\n",
        "rd_spend_median = df['R&D_Spend'].median()\n",
        "rd_spend_std = df['R&D_Spend'].std()\n",
        "\n",
        "# Display the results\n",
        "print(f\"Mean of 'R&D_Spend': {rd_spend_mean}\")\n",
        "print(f\"Median of 'R&D_Spend': {rd_spend_median}\")\n",
        "print(f\"Standard Deviation of 'R&D_Spend': {rd_spend_std}\")\n"
      ],
      "metadata": {
        "id": "qNI6I-PWpubf"
      },
      "execution_count": null,
      "outputs": []
    },
    {
      "cell_type": "markdown",
      "source": [
        "\n",
        "\n",
        "\n",
        "---\n",
        "\n",
        "\n",
        "---\n",
        "\n"
      ],
      "metadata": {
        "id": "hubV5ZGsZAm7"
      }
    },
    {
      "cell_type": "markdown",
      "source": [
        "5. Filter and create a new DataFrame containing companies located in a **California**.\n",
        "\n"
      ],
      "metadata": {
        "id": "BiULHwdYpunP"
      }
    },
    {
      "cell_type": "code",
      "source": [
        "# Filter and create a new DataFrame for companies located in California\n",
        "california_companies = df[df['State'] == 'California']\n",
        "\n",
        "# Display the new DataFrame\n",
        "print(\"Companies located in California:\")\n",
        "print(california_companies.head())\n"
      ],
      "metadata": {
        "id": "tkqnf92hpwOs"
      },
      "execution_count": null,
      "outputs": []
    },
    {
      "cell_type": "markdown",
      "source": [
        "\n",
        "\n",
        "\n",
        "---\n",
        "\n",
        "\n",
        "---\n",
        "\n"
      ],
      "metadata": {
        "id": "ilrxyXvXZEKe"
      }
    },
    {
      "cell_type": "markdown",
      "source": [
        "6. Sort the dataset by 'Profit' in descending order.\n",
        "\n"
      ],
      "metadata": {
        "id": "4XPxg0Z6pwrs"
      }
    },
    {
      "cell_type": "code",
      "source": [
        "import pandas as pd\n",
        "\n",
        "file_path = 'Startups.csv'\n",
        "\n",
        "df = pd.read_csv(file_path)\n",
        "\n",
        "df_sorted = df.sort_values(by='Profit', ascending=False)\n",
        "\n",
        "print(\"Dataset sorted by 'Profit' in descending order:\")\n",
        "print(df_sorted.head())"
      ],
      "metadata": {
        "id": "iCfpA1supxvs"
      },
      "execution_count": null,
      "outputs": []
    },
    {
      "cell_type": "markdown",
      "source": [
        "\n",
        "\n",
        "\n",
        "---\n",
        "\n",
        "\n",
        "---\n",
        "\n"
      ],
      "metadata": {
        "id": "Kfwe7mo3ZL-_"
      }
    },
    {
      "cell_type": "markdown",
      "source": [
        "7. Group the data by 'State' and calculate the total 'Profit' for each state.\n",
        "\n"
      ],
      "metadata": {
        "id": "MkaJtIJipx3D"
      }
    },
    {
      "cell_type": "code",
      "source": [
        "# Group the data by 'State' and calculate the total 'Profit' for each state\n",
        "state_profit_total = df.groupby('State')['Profit'].sum()\n",
        "\n",
        "# Display the total 'Profit' for each state\n",
        "print(\"Total Profit for each state:\")\n",
        "print(state_profit_total)"
      ],
      "metadata": {
        "id": "81W9p9_TpzdV"
      },
      "execution_count": null,
      "outputs": []
    },
    {
      "cell_type": "markdown",
      "source": [
        "\n",
        "\n",
        "\n",
        "---\n",
        "\n",
        "\n",
        "---\n",
        "\n"
      ],
      "metadata": {
        "id": "gOOFuCtSZQdC"
      }
    },
    {
      "cell_type": "markdown",
      "source": [
        "8. Create a bar chart to visualize the total 'Profit' by 'State.'\n",
        "\n"
      ],
      "metadata": {
        "id": "C1pyEEfvpzky"
      }
    },
    {
      "cell_type": "code",
      "source": [
        "import matplotlib.pyplot as plt\n",
        "\n",
        "# Create a bar chart\n",
        "plt.figure(figsize=(10, 6))\n",
        "state_profit_total.sort_values(ascending=False).plot(kind='bar', color='skyblue')\n",
        "plt.title('Total Profit by State')\n",
        "plt.xlabel('State')\n",
        "plt.ylabel('Total Profit')\n",
        "plt.show()\n",
        "\n",
        "\n",
        "\n",
        "\n",
        "\n",
        "\n",
        "\n"
      ],
      "metadata": {
        "id": "QOJXsbNGp1BD"
      },
      "execution_count": null,
      "outputs": []
    },
    {
      "cell_type": "markdown",
      "source": [
        "\n",
        "\n",
        "\n",
        "---\n",
        "\n",
        "\n",
        "---\n",
        "\n"
      ],
      "metadata": {
        "id": "c8iB2WASZUhc"
      }
    },
    {
      "cell_type": "markdown",
      "source": [
        "9. Calculate the correlation between 'R&D_Spend' and 'Profit.'\n",
        "\n"
      ],
      "metadata": {
        "id": "zjoIiI8Zp1Lo"
      }
    },
    {
      "cell_type": "code",
      "source": [
        "# Calculate the correlation between 'R&D_Spend' and 'Profit'\n",
        "correlation_rd_profit = df['R&D_Spend'].corr(df['Profit'])\n",
        "\n",
        "# Display the correlation\n",
        "print(f\"Correlation between 'R&D_Spend' and 'Profit': {correlation_rd_profit}\")"
      ],
      "metadata": {
        "id": "ET03oeaXp21B"
      },
      "execution_count": null,
      "outputs": []
    },
    {
      "cell_type": "markdown",
      "source": [
        "\n",
        "\n",
        "---\n",
        "\n",
        "\n",
        "\n",
        "---\n",
        "\n",
        "\n",
        "\n",
        "---\n",
        "\n"
      ],
      "metadata": {
        "id": "-BoSHhM7ZYGO"
      }
    },
    {
      "cell_type": "markdown",
      "source": [
        "10. Create a new column 'Total_Spend' that represents the sum of 'R&D_Spend,' 'Administration,' and 'Marketing_Spend' for each company.\n",
        "\n"
      ],
      "metadata": {
        "id": "3JPAQM97p28V"
      }
    },
    {
      "cell_type": "code",
      "source": [
        "# Create a new column 'Total_Spend' by summing 'R&D_Spend,' 'Administration,' and 'Marketing_Spend'\n",
        "df['Total_Spend'] = df['R&D_Spend'] + df['Administration'] + df['Marketing_Spend']\n",
        "\n",
        "# Display the DataFrame with the new 'Total_Spend' column\n",
        "print(\"DataFrame with the new 'Total_Spend' column:\")\n",
        "print(df.head())\n"
      ],
      "metadata": {
        "id": "hnefEKfSp4G4"
      },
      "execution_count": null,
      "outputs": []
    },
    {
      "cell_type": "markdown",
      "source": [
        "11. Calculate the average **R&D_Spend**, **Administration**, and **Marketing_Spend** for companies located in each **State**\n",
        "\n"
      ],
      "metadata": {
        "id": "VpXSCEKfp4Nk"
      }
    },
    {
      "cell_type": "code",
      "source": [
        "# Group the data by 'State' and calculate the average for each state\n",
        "state_avg_spend = df.groupby('State').agg({\n",
        "    'R&D_Spend': 'mean',\n",
        "    'Administration': 'mean',\n",
        "    'Marketing_Spend': 'mean'\n",
        "}).reset_index()\n",
        "\n",
        "# Display the DataFrame with the average spending for each state\n",
        "print(\"Average spending for companies in each state:\")\n",
        "print(state_avg_spend)\n"
      ],
      "metadata": {
        "id": "V6jGd293p5YB"
      },
      "execution_count": null,
      "outputs": []
    },
    {
      "cell_type": "markdown",
      "source": [
        "\n",
        "\n",
        "---\n",
        "\n",
        "\n",
        "\n",
        "---\n",
        "\n"
      ],
      "metadata": {
        "id": "uTCt-sVLZnmu"
      }
    },
    {
      "cell_type": "markdown",
      "source": [
        "12. Create a histogram to visualize the distribution of 'Profit.'"
      ],
      "metadata": {
        "id": "P4jllTczp5e0"
      }
    },
    {
      "cell_type": "code",
      "source": [
        "# Create a histogram for the 'Profit' column\n",
        "plt.figure(figsize=(10, 6))\n",
        "plt.hist(df['Profit'], bins=20, color='skyblue', edgecolor='black')\n",
        "plt.title('Distribution of Profit')\n",
        "plt.xlabel('Profit')\n",
        "plt.ylabel('Frequency')\n",
        "plt.show()"
      ],
      "metadata": {
        "id": "dLfUYGi3p624"
      },
      "execution_count": null,
      "outputs": []
    },
    {
      "cell_type": "markdown",
      "source": [
        "\n",
        "\n",
        "---\n",
        "\n",
        "\n",
        "\n",
        "---\n",
        "\n"
      ],
      "metadata": {
        "id": "fSEJtTNKZuvL"
      }
    },
    {
      "cell_type": "markdown",
      "source": [
        "13. Filter the dataset to include only companies with 'R&D_Spend' greater than a 12000.\n",
        "\n"
      ],
      "metadata": {
        "id": "3Aw_Q7d-p69y"
      }
    },
    {
      "cell_type": "code",
      "source": [
        "# Filter the dataset to include only companies with 'R&D_Spend' greater than 12000\n",
        "filtered_df = df[df['R&D_Spend'] > 12000]\n",
        "\n",
        "# Display the filtered DataFrame\n",
        "print(\"Filtered dataset with 'R&D_Spend' greater than 12000:\")\n",
        "print(filtered_df.head())\n"
      ],
      "metadata": {
        "id": "6UzkLN1sp8pT"
      },
      "execution_count": null,
      "outputs": []
    },
    {
      "cell_type": "markdown",
      "source": [
        "\n",
        "\n",
        "---\n",
        "\n",
        "\n",
        "\n",
        "---\n",
        "\n"
      ],
      "metadata": {
        "id": "zmqijtAqZxg0"
      }
    },
    {
      "cell_type": "markdown",
      "source": [
        "**14**. Calculate the total 'Profit' for companies with 'Marketing_Spend' above a certain threshold.\n",
        "\n"
      ],
      "metadata": {
        "id": "IFCNM-Wup9_k"
      }
    },
    {
      "cell_type": "code",
      "source": [
        "# Set the threshold for 'Marketing_Spend'\n",
        "marketing_spend_threshold = 200000  # Replace with your desired threshold\n",
        "\n",
        "# Filter the dataset to include only companies with 'Marketing_Spend' above the threshold\n",
        "filtered_df = df[df['Marketing_Spend'] > marketing_spend_threshold]\n",
        "\n",
        "# Calculate the total 'Profit' for the filtered companies\n",
        "total_profit_above_threshold = filtered_df['Profit'].sum()\n",
        "\n",
        "# Display the total 'Profit' for companies with 'Marketing_Spend' above the threshold\n",
        "print(f\"Total 'Profit' for companies with 'Marketing_Spend' above {marketing_spend_threshold}: {total_profit_above_threshold}\")"
      ],
      "metadata": {
        "id": "WrbrU4KTp_pG"
      },
      "execution_count": null,
      "outputs": []
    },
    {
      "cell_type": "markdown",
      "source": [
        "15. Replace any missing values in the 'Marketing_Spend' column with the mean spending of the dataset.\n",
        "\n"
      ],
      "metadata": {
        "id": "5f3AzWxWp_11"
      }
    },
    {
      "cell_type": "code",
      "source": [
        "# Calculate the mean 'Marketing_Spend' for the entire dataset\n",
        "mean_marketing_spend = df['Marketing_Spend'].mean()\n",
        "\n",
        "# Replace missing values in 'Marketing_Spend' with the mean spending of the dataset\n",
        "df['Marketing_Spend'].fillna(mean_marketing_spend, inplace=True)\n",
        "\n",
        "# Display the DataFrame after handling missing values\n",
        "print(\"DataFrame after replacing missing values in 'Marketing_Spend' with the mean:\")\n",
        "print(df.head())"
      ],
      "metadata": {
        "id": "7irTxP7pqBMZ"
      },
      "execution_count": null,
      "outputs": []
    },
    {
      "cell_type": "markdown",
      "source": [
        "\n",
        "\n",
        "\n",
        "---\n",
        "\n",
        "\n",
        "---\n",
        "\n"
      ],
      "metadata": {
        "id": "gSL3LtfTZ8yu"
      }
    },
    {
      "cell_type": "markdown",
      "source": [
        "16. Create a new column 'Profit_Margin' that represents the profit margin for each company (Profit / Total_Spend).\n",
        "\n"
      ],
      "metadata": {
        "id": "hDzBUjHsqBTS"
      }
    },
    {
      "cell_type": "code",
      "source": [
        "# Create a new column 'Profit_Margin' representing the profit margin\n",
        "df['Profit_Margin'] = df['Profit'] / df['Total_Spend']\n",
        "\n",
        "# Display the DataFrame with the new 'Profit_Margin' column\n",
        "print(\"DataFrame with the new 'Profit_Margin' column:\")\n",
        "print(df.head())\n"
      ],
      "metadata": {
        "id": "hjLIAfJvqCgV"
      },
      "execution_count": null,
      "outputs": []
    },
    {
      "cell_type": "markdown",
      "source": [
        "\n",
        "\n",
        "---\n",
        "\n",
        "\n",
        "\n",
        "---\n",
        "\n",
        "\n",
        "\n",
        "---\n",
        "\n"
      ],
      "metadata": {
        "id": "1oYfihHQaNdp"
      }
    },
    {
      "cell_type": "markdown",
      "source": [
        "17. Sort the dataset by 'Profit_Margin' in descending order.\n",
        "\n"
      ],
      "metadata": {
        "id": "EKSiuWOTqCnA"
      }
    },
    {
      "cell_type": "code",
      "source": [
        "# Create a new column 'Profit_Margin' representing the profit margin\n",
        "df['Profit_Margin'] = df['Profit'] / df['Total_Spend']\n",
        "\n",
        "# Sort the dataset by 'Profit_Margin' in descending order\n",
        "df_sorted = df.sort_values(by='Profit_Margin', ascending=False)\n",
        "\n",
        "# Display the sorted DataFrame\n",
        "print(\"Dataset sorted by 'Profit_Margin' in descending order:\")\n",
        "print(df_sorted.head())\n"
      ],
      "metadata": {
        "id": "b0nz2-qtqDsy"
      },
      "execution_count": null,
      "outputs": []
    },
    {
      "cell_type": "markdown",
      "source": [
        "\n",
        "\n",
        "---\n",
        "\n",
        "\n",
        "\n",
        "---\n",
        "\n"
      ],
      "metadata": {
        "id": "-gtiy2C4aDiN"
      }
    },
    {
      "cell_type": "markdown",
      "source": [
        "18. Calculate the average profit margin for companies in each 'State' and create a bar chart to display it.\n",
        "\n"
      ],
      "metadata": {
        "id": "v3GOIPhOqD0Z"
      }
    },
    {
      "cell_type": "code",
      "source": [
        "# Group the data by 'State' and calculate the average 'Profit_Margin' for each state\n",
        "state_avg_profit_margin = df.groupby('State')['Profit_Margin'].mean()\n",
        "\n",
        "# Create a bar chart for the average profit margin by state\n",
        "plt.figure(figsize=(10, 6))\n",
        "state_avg_profit_margin.sort_values(ascending=False).plot(kind='bar', color='skyblue')\n",
        "plt.title('Average Profit Margin by State')\n",
        "plt.xlabel('State')\n",
        "plt.ylabel('Average Profit Margin')\n",
        "plt.show()"
      ],
      "metadata": {
        "id": "5GS-cxTbqFe5"
      },
      "execution_count": null,
      "outputs": []
    },
    {
      "cell_type": "markdown",
      "source": [
        "\n",
        "\n",
        "---\n",
        "\n",
        "\n",
        "\n",
        "---\n",
        "\n",
        "\n",
        "\n",
        "---\n",
        "\n"
      ],
      "metadata": {
        "id": "Gc2rlCHcaHh5"
      }
    },
    {
      "cell_type": "markdown",
      "source": [
        "19. Find the maximum 'R&D_Spend' in each **State**.\n",
        "\n"
      ],
      "metadata": {
        "id": "o5JA0X1_qFm6"
      }
    },
    {
      "cell_type": "code",
      "source": [
        "# Find the maximum 'R&D_Spend' in each state\n",
        "max_rd_spend_by_state = df.groupby('State')['R&D_Spend'].max()\n",
        "\n",
        "# Display the maximum 'R&D_Spend' for each state\n",
        "print(\"Maximum 'R&D_Spend' in each state:\")\n",
        "print(max_rd_spend_by_state)"
      ],
      "metadata": {
        "id": "uL3LImrEqGqi"
      },
      "execution_count": null,
      "outputs": []
    }
  ]
}