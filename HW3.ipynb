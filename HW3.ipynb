{
  "nbformat": 4,
  "nbformat_minor": 0,
  "metadata": {
    "colab": {
      "provenance": []
    },
    "kernelspec": {
      "name": "python3",
      "display_name": "Python 3"
    },
    "language_info": {
      "name": "python"
    }
  },
  "cells": [
    {
      "cell_type": "markdown",
      "source": [
        "# Homework-3 : Jimena Garcia"
      ],
      "metadata": {
        "id": "zE2pUvY0VLgG"
      }
    },
    {
      "cell_type": "markdown",
      "source": [
        "## **1. Printing, Data Types, and Input**\n",
        "Ask the user for their name and their age.\n",
        "Print a statement saying: \"Hello, [name]. You are [age] years old.\"\n",
        "Print the data type of each variable."
      ],
      "metadata": {
        "id": "3MQUbnbhV8TT"
      }
    },
    {
      "cell_type": "code",
      "source": [
        "name = input(\"What is your name? : \")\n",
        "age = input(\"How old are you? (years) :\")\n",
        "\n",
        "print(\"Hello,\",name, \". You are \", age, \"years old.\")\n",
        "print(type(name))\n",
        "print(type(age))"
      ],
      "metadata": {
        "colab": {
          "base_uri": "https://localhost:8080/"
        },
        "id": "r_T9PcAUWCK8",
        "outputId": "2969c8b9-0abc-4405-ea97-c2e37ea792d7"
      },
      "execution_count": 2,
      "outputs": [
        {
          "output_type": "stream",
          "name": "stdout",
          "text": [
            "What is your name? : Jimena\n",
            "How old are you? (years) :21\n",
            "Hello,  Jimena . You are  21  years old.\n",
            "<class 'str'>\n",
            "<class 'str'>\n"
          ]
        }
      ]
    },
    {
      "cell_type": "markdown",
      "source": [
        "## **2. String Manipulations and Input**\n",
        "Ask the user for the name of their hometown.\n",
        "Print the name of the hometown in uppercase.\n",
        "Print the first three characters of the hometown's name using slicing.\n",
        "Printing the name in reverse using slicing."
      ],
      "metadata": {
        "id": "n1Ya8ClUWNrO"
      }
    },
    {
      "cell_type": "code",
      "source": [
        "hometown = input(\"What is the name of your hometown? :\")\n",
        "print(hometown.upper())\n",
        "print(hometown[0:4])\n",
        "print(hometown[-1::-1])\n"
      ],
      "metadata": {
        "colab": {
          "base_uri": "https://localhost:8080/"
        },
        "id": "0Q15I6o0XVAo",
        "outputId": "853332a6-fc40-4b62-c96f-d4b0c75a6d29"
      },
      "execution_count": 6,
      "outputs": [
        {
          "output_type": "stream",
          "name": "stdout",
          "text": [
            "What is the name of your hometown? :dallas\n",
            "DALLAS\n",
            "dall\n",
            "sallad\n"
          ]
        }
      ]
    },
    {
      "cell_type": "markdown",
      "source": [
        "## **3. Numeric Operations and Input**\n",
        "Prompt the user to enter a number.\n",
        "Multiply the number by itself and print the result.\n",
        "Calculating the square root."
      ],
      "metadata": {
        "id": "n-06shGpWNun"
      }
    },
    {
      "cell_type": "code",
      "source": [
        "num = float(input(\"Please enter a number :\"))\n",
        "num = num * num\n",
        "print(num)\n",
        "print(num**0.5)"
      ],
      "metadata": {
        "colab": {
          "base_uri": "https://localhost:8080/"
        },
        "id": "4lWsRFx0X9xS",
        "outputId": "d57e9fa5-05e7-4d54-9ce0-72fd00b02e4c"
      },
      "execution_count": 8,
      "outputs": [
        {
          "output_type": "stream",
          "name": "stdout",
          "text": [
            "Please enter a number :4\n",
            "16.0\n",
            "4.0\n"
          ]
        }
      ]
    },
    {
      "cell_type": "markdown",
      "source": [
        "## **4. Boolean Evaluations**\n",
        "Print the result of the following evaluations:\n",
        "- 10 > 5\n",
        "- 10 == 10\n",
        "- 8 != 9\n",
        ""
      ],
      "metadata": {
        "id": "AyugcVBzWNyN"
      }
    },
    {
      "cell_type": "code",
      "source": [
        "print(10 > 5)\n",
        "print(10 == 10)\n",
        "print(8 != 9)"
      ],
      "metadata": {
        "colab": {
          "base_uri": "https://localhost:8080/"
        },
        "id": "yxgP57_EYwlV",
        "outputId": "781b4ed0-3af7-4a7e-d80b-9dcfe30a1b0c"
      },
      "execution_count": 12,
      "outputs": [
        {
          "output_type": "stream",
          "name": "stdout",
          "text": [
            "True\n",
            "True\n",
            "True\n"
          ]
        }
      ]
    },
    {
      "cell_type": "markdown",
      "source": [
        "## **5. List Creation and Operations**\n",
        "Create a list named colors containing the following items: red, blue, green.\n",
        "Print the list.\n",
        "Print the first item in the list.\n",
        "Replace the second item in the list with yellow.\n",
        "Print the list again.\n",
        "Changing the last item using negative indexing."
      ],
      "metadata": {
        "id": "XXhk7WpJWN2j"
      }
    },
    {
      "cell_type": "code",
      "source": [
        "colors = [\"red\",\"blue\", \"green\"]\n",
        "print(colors)\n",
        "print(colors[0])\n",
        "colors[1] = \"yellow\"\n",
        "print(colors)\n",
        "colors[-1] = \"orange\"\n",
        "print(colors)"
      ],
      "metadata": {
        "colab": {
          "base_uri": "https://localhost:8080/"
        },
        "id": "drny-gboZBHS",
        "outputId": "bf9108fb-78c0-4ea5-c04c-4113521bd517"
      },
      "execution_count": 15,
      "outputs": [
        {
          "output_type": "stream",
          "name": "stdout",
          "text": [
            "['red', 'blue', 'green']\n",
            "red\n",
            "['red', 'yellow', 'green']\n",
            "['red', 'yellow', 'orange']\n"
          ]
        }
      ]
    },
    {
      "cell_type": "markdown",
      "source": [
        "## **6. Indexing and Slicing**\n",
        "Given the list numbers = [10, 20, 30, 40, 50]\n",
        "Print the third item from the list.\n",
        "Using slicing, print the first two numbers.\n",
        "Getting the last three numbers using negative indexing and slicing."
      ],
      "metadata": {
        "id": "cU35aeVGWN8O"
      }
    },
    {
      "cell_type": "code",
      "source": [
        "numbers = [10,20,30,40,50]\n",
        "print(numbers[2])\n",
        "print(numbers[:2])\n",
        "print(numbers[-3:])"
      ],
      "metadata": {
        "colab": {
          "base_uri": "https://localhost:8080/"
        },
        "id": "UMmQW17tZX-V",
        "outputId": "c0752287-a686-491a-b29e-abc1eb39b348"
      },
      "execution_count": 22,
      "outputs": [
        {
          "output_type": "stream",
          "name": "stdout",
          "text": [
            "30\n",
            "[10, 20]\n",
            "[30, 40, 50]\n"
          ]
        }
      ]
    },
    {
      "cell_type": "markdown",
      "source": [
        "## **7. Manipulating Elements**\n",
        "\n",
        "\n",
        "Given the list animals = ['cat', 'dog', 'bird']\n",
        "Print the list.\n",
        "Add fish to the end of the list.\n",
        "Print the updated list."
      ],
      "metadata": {
        "id": "scSSg7cdWOBM"
      }
    },
    {
      "cell_type": "code",
      "source": [
        "animals = ['cat','dog','bird']\n",
        "print(animals)\n",
        "animals.append('fish')\n",
        "print(animals)"
      ],
      "metadata": {
        "colab": {
          "base_uri": "https://localhost:8080/"
        },
        "id": "h4k8VRaQZ307",
        "outputId": "9a12ecb6-f581-4187-d625-04b38cfd21ef"
      },
      "execution_count": 23,
      "outputs": [
        {
          "output_type": "stream",
          "name": "stdout",
          "text": [
            "['cat', 'dog', 'bird']\n",
            "['cat', 'dog', 'bird', 'fish']\n"
          ]
        }
      ]
    },
    {
      "cell_type": "markdown",
      "source": [
        "## **8. Sorting**\n",
        "\n",
        "\n",
        "Given the list random_numbers = [42, 8, 15, 23, 16]\n",
        "Print the list.\n",
        "Use the sort() method to sort the list.\n",
        "Print the sorted list.\n",
        "Print every second item from the sorted list."
      ],
      "metadata": {
        "id": "crhAc5TjWOFG"
      }
    },
    {
      "cell_type": "code",
      "source": [
        "random_numbers = [42,8,15,23,16]\n",
        "print(random_numbers)\n",
        "random_numbers.sort()\n",
        "print(random_numbers)\n",
        "print(random_numbers[2::2])"
      ],
      "metadata": {
        "colab": {
          "base_uri": "https://localhost:8080/"
        },
        "id": "B5UkjRuHaBt-",
        "outputId": "5cbd6c0a-9d51-4123-b604-13f54acea36a"
      },
      "execution_count": 29,
      "outputs": [
        {
          "output_type": "stream",
          "name": "stdout",
          "text": [
            "[42, 8, 15, 23, 16]\n",
            "[8, 15, 16, 23, 42]\n",
            "[16, 42]\n"
          ]
        }
      ]
    }
  ]
}