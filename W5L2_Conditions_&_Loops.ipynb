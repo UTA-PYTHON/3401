{
  "nbformat": 4,
  "nbformat_minor": 0,
  "metadata": {
    "colab": {
      "provenance": [],
      "authorship_tag": "ABX9TyOB55wvTJnGZrAyi/YDPhTI",
      "include_colab_link": true
    },
    "kernelspec": {
      "name": "python3",
      "display_name": "Python 3"
    },
    "language_info": {
      "name": "python"
    }
  },
  "cells": [
    {
      "cell_type": "markdown",
      "metadata": {
        "id": "view-in-github",
        "colab_type": "text"
      },
      "source": [
        "<a href=\"https://colab.research.google.com/github/UTA-PYTHON/3401/blob/master/W5L2_Conditions_%26_Loops.ipynb\" target=\"_parent\"><img src=\"https://colab.research.google.com/assets/colab-badge.svg\" alt=\"Open In Colab\"/></a>"
      ]
    },
    {
      "cell_type": "markdown",
      "source": [
        "## Indentation"
      ],
      "metadata": {
        "id": "g_jtuHl9vuhL"
      }
    },
    {
      "cell_type": "code",
      "source": [
        "names=[\"Pedro\",\"Leo\"]\n",
        "print(names)"
      ],
      "metadata": {
        "colab": {
          "base_uri": "https://localhost:8080/"
        },
        "id": "xnRWnImvq61Q",
        "outputId": "377af96b-d9bf-4c5c-c04a-df08ddf6d0b5"
      },
      "execution_count": null,
      "outputs": [
        {
          "output_type": "stream",
          "name": "stdout",
          "text": [
            "['Pedro', 'Leo']\n"
          ]
        }
      ]
    },
    {
      "cell_type": "code",
      "source": [
        "x=5\n",
        "if x>4:\n",
        "    print(\"Large\")"
      ],
      "metadata": {
        "colab": {
          "base_uri": "https://localhost:8080/"
        },
        "id": "wT3Z7NKkxzIb",
        "outputId": "f63822d4-c0a4-4a66-cd7f-fa9684cfe7a4"
      },
      "execution_count": null,
      "outputs": [
        {
          "output_type": "stream",
          "name": "stdout",
          "text": [
            "Large\n"
          ]
        }
      ]
    },
    {
      "cell_type": "markdown",
      "source": [
        "###"
      ],
      "metadata": {
        "id": "mksU9sUOyZnZ"
      }
    },
    {
      "cell_type": "code",
      "source": [
        "cars=[\"audi\", \"BMW\", \"Honda\"]"
      ],
      "metadata": {
        "id": "hXBFGp4syrGq"
      },
      "execution_count": null,
      "outputs": []
    },
    {
      "cell_type": "code",
      "source": [
        "cars !=\"BMW\""
      ],
      "metadata": {
        "colab": {
          "base_uri": "https://localhost:8080/"
        },
        "id": "f7XccjD_zOER",
        "outputId": "9b2b2114-a57a-48c3-a510-00e1941b9966"
      },
      "execution_count": null,
      "outputs": [
        {
          "output_type": "execute_result",
          "data": {
            "text/plain": [
              "True"
            ]
          },
          "metadata": {},
          "execution_count": 11
        }
      ]
    },
    {
      "cell_type": "code",
      "source": [
        "cars==\"audi\""
      ],
      "metadata": {
        "colab": {
          "base_uri": "https://localhost:8080/"
        },
        "id": "vQH135apy1yo",
        "outputId": "b0f52bd5-6058-4fd5-e9ff-966cf74acc7c"
      },
      "execution_count": null,
      "outputs": [
        {
          "output_type": "execute_result",
          "data": {
            "text/plain": [
              "False"
            ]
          },
          "metadata": {},
          "execution_count": 10
        }
      ]
    },
    {
      "cell_type": "code",
      "source": [
        "\"BMW\" in cars"
      ],
      "metadata": {
        "colab": {
          "base_uri": "https://localhost:8080/"
        },
        "id": "tDfk_BSkzTM0",
        "outputId": "07c8fe07-5d27-4aa9-a5c4-2f0f2c8ec707"
      },
      "execution_count": null,
      "outputs": [
        {
          "output_type": "execute_result",
          "data": {
            "text/plain": [
              "True"
            ]
          },
          "metadata": {},
          "execution_count": 13
        }
      ]
    },
    {
      "cell_type": "code",
      "source": [
        "\"Hyundai\" in cars"
      ],
      "metadata": {
        "colab": {
          "base_uri": "https://localhost:8080/"
        },
        "id": "iHX-p4LCzm4X",
        "outputId": "7fc38b9b-a449-41c7-f2ce-86b338a97251"
      },
      "execution_count": null,
      "outputs": [
        {
          "output_type": "execute_result",
          "data": {
            "text/plain": [
              "False"
            ]
          },
          "metadata": {},
          "execution_count": 14
        }
      ]
    },
    {
      "cell_type": "code",
      "source": [
        "### Numerical  values"
      ],
      "metadata": {
        "id": "0rbpbxUHzq5A"
      },
      "execution_count": null,
      "outputs": []
    },
    {
      "cell_type": "code",
      "source": [
        "num=18"
      ],
      "metadata": {
        "id": "haJ0qGiozviy"
      },
      "execution_count": null,
      "outputs": []
    },
    {
      "cell_type": "code",
      "source": [
        "num !=18"
      ],
      "metadata": {
        "colab": {
          "base_uri": "https://localhost:8080/"
        },
        "id": "X04fPseizyNx",
        "outputId": "0522a381-e424-4f74-aa63-608066f7dc83"
      },
      "execution_count": null,
      "outputs": [
        {
          "output_type": "execute_result",
          "data": {
            "text/plain": [
              "False"
            ]
          },
          "metadata": {},
          "execution_count": 16
        }
      ]
    },
    {
      "cell_type": "code",
      "source": [
        "## General syntax"
      ],
      "metadata": {
        "id": "Z931k3WY0EUk"
      },
      "execution_count": null,
      "outputs": []
    },
    {
      "cell_type": "markdown",
      "source": [],
      "metadata": {
        "id": "k2w8MpEQ0eEt"
      }
    },
    {
      "cell_type": "code",
      "source": [
        "age=10\n",
        "\n",
        "if age>8:\n",
        "  print(\"this person is old enough\")"
      ],
      "metadata": {
        "colab": {
          "base_uri": "https://localhost:8080/"
        },
        "id": "RE8M90lS0hqt",
        "outputId": "081e3233-06c0-4df7-98bd-928d2b867886"
      },
      "execution_count": null,
      "outputs": [
        {
          "output_type": "stream",
          "name": "stdout",
          "text": [
            "this person is old enough\n"
          ]
        }
      ]
    },
    {
      "cell_type": "code",
      "source": [
        "x=-2\n",
        "\n",
        "if x>0:\n",
        "  print(\"This number is positive\")\n",
        "else:\n",
        "  print(\"My number is negative\")"
      ],
      "metadata": {
        "colab": {
          "base_uri": "https://localhost:8080/"
        },
        "id": "Kj95sr260vT5",
        "outputId": "27f1215d-465c-4a19-e45e-0e57304d24b3"
      },
      "execution_count": null,
      "outputs": [
        {
          "output_type": "stream",
          "name": "stdout",
          "text": [
            "My number is negative\n"
          ]
        }
      ]
    },
    {
      "cell_type": "code",
      "source": [
        "# sample grade\n",
        "\n",
        "grade=86\n",
        "\n",
        "if grade>80:\n",
        "  print(\"You got A\")\n",
        "if grade<70:\n",
        "  print(\"You need more work\")\n",
        "if grade<50:\n",
        "  print(\"you failed\")"
      ],
      "metadata": {
        "colab": {
          "base_uri": "https://localhost:8080/"
        },
        "id": "n6VgGgrg0-UU",
        "outputId": "1195a408-4b97-4c50-8d3d-ce4fc5de9312"
      },
      "execution_count": null,
      "outputs": [
        {
          "output_type": "stream",
          "name": "stdout",
          "text": [
            "You got A\n"
          ]
        }
      ]
    },
    {
      "cell_type": "code",
      "source": [
        "age=22\n",
        "\n",
        "if age>21:\n",
        "  print(\"You are old enough to vote\")\n",
        "  print(\"Did you register to vote?\")\n",
        "  print(\"Great Job!\")"
      ],
      "metadata": {
        "colab": {
          "base_uri": "https://localhost:8080/"
        },
        "id": "D5iAood02R-5",
        "outputId": "e252dc04-6410-4544-fcc2-e32312f0fd12"
      },
      "execution_count": null,
      "outputs": [
        {
          "output_type": "stream",
          "name": "stdout",
          "text": [
            "You are old enough to vote\n",
            "Did you register to vote?\n",
            "Great Job!\n"
          ]
        }
      ]
    },
    {
      "cell_type": "code",
      "source": [
        "if 1+1==1:\n",
        "  print(\"You are wrong\")\n",
        "else:\n",
        "    print(\"Great job!\")"
      ],
      "metadata": {
        "colab": {
          "base_uri": "https://localhost:8080/"
        },
        "id": "WybAVeV02-I-",
        "outputId": "6a309f7a-1806-4479-e31b-001c64187813"
      },
      "execution_count": null,
      "outputs": [
        {
          "output_type": "stream",
          "name": "stdout",
          "text": [
            "Great job!\n"
          ]
        }
      ]
    },
    {
      "cell_type": "code",
      "source": [
        "## checking for even & odd numbers\n",
        "\n",
        "x=5\n",
        "\n",
        "if x 2==0:\n",
        "  print(\"this number is even\")\n"
      ],
      "metadata": {
        "colab": {
          "base_uri": "https://localhost:8080/",
          "height": 145
        },
        "id": "d913GbBM3akW",
        "outputId": "5c62fb20-2f4e-4820-ff0e-7a6d2d132e81"
      },
      "execution_count": null,
      "outputs": [
        {
          "output_type": "error",
          "ename": "SyntaxError",
          "evalue": "ignored",
          "traceback": [
            "\u001b[0;36m  File \u001b[0;32m\"<ipython-input-33-c99714a93697>\"\u001b[0;36m, line \u001b[0;32m5\u001b[0m\n\u001b[0;31m    if x 2==0:\u001b[0m\n\u001b[0m         ^\u001b[0m\n\u001b[0;31mSyntaxError\u001b[0m\u001b[0;31m:\u001b[0m invalid syntax\n"
          ]
        }
      ]
    },
    {
      "cell_type": "code",
      "source": [
        "letter=[\"a\",\"e\",\"i\",\"o\"]\n",
        "\n",
        "if letter in [\"a\",\"e\",\"i\",\"o\"]:\n",
        "  print(\"this is a vowel\")\n"
      ],
      "metadata": {
        "id": "mDmUxiet4k-v"
      },
      "execution_count": 34,
      "outputs": []
    },
    {
      "cell_type": "code",
      "source": [
        "## elif= if else\n",
        "\n",
        "purchase_amount=50\n",
        "\n",
        "if purchase_amount<50:\n",
        "  discount=0\n",
        "elif purchase_amount<100:\n",
        "  discount=10\n",
        "elif purchase_amount<200:\n",
        "  discount=20\n",
        "else:\n",
        "  discount=30\n",
        "\n",
        "final_amount=purchase_amount-(purchase_amount*discount/100)\n",
        "\n",
        "print(\"Final Amount:\",final_amount)"
      ],
      "metadata": {
        "colab": {
          "base_uri": "https://localhost:8080/"
        },
        "id": "xT4NN8s85jHk",
        "outputId": "8531b803-f4a4-42a4-9d6d-30c909107a18"
      },
      "execution_count": 37,
      "outputs": [
        {
          "output_type": "stream",
          "name": "stdout",
          "text": [
            "Final Amount: 45.0\n"
          ]
        }
      ]
    },
    {
      "cell_type": "code",
      "source": [
        "n=10\n",
        "\n",
        "while n>0:\n",
        "  print(\"Hello World\",n)\n",
        "  n=n-1"
      ],
      "metadata": {
        "colab": {
          "base_uri": "https://localhost:8080/"
        },
        "id": "Il-DO2gX6eQD",
        "outputId": "f5023645-ef6c-4f30-b86e-92290b02d6e5"
      },
      "execution_count": 39,
      "outputs": [
        {
          "output_type": "stream",
          "name": "stdout",
          "text": [
            "Hello World 10\n",
            "Hello World 9\n",
            "Hello World 8\n",
            "Hello World 7\n",
            "Hello World 6\n",
            "Hello World 5\n",
            "Hello World 4\n",
            "Hello World 3\n",
            "Hello World 2\n",
            "Hello World 1\n"
          ]
        }
      ]
    },
    {
      "cell_type": "code",
      "source": [
        "current_number=1\n",
        "\n",
        "while current_number<=5:\n",
        "  print(current_number)\n",
        "  current_number+=1"
      ],
      "metadata": {
        "colab": {
          "base_uri": "https://localhost:8080/"
        },
        "id": "Yv7mY6es7qNg",
        "outputId": "5c792ce2-4b41-459b-8b2d-8c4accbd0bdc"
      },
      "execution_count": 42,
      "outputs": [
        {
          "output_type": "stream",
          "name": "stdout",
          "text": [
            "1\n",
            "2\n",
            "3\n",
            "4\n",
            "5\n"
          ]
        }
      ]
    },
    {
      "cell_type": "code",
      "source": [
        "message=\"\"\n",
        "\n",
        "while message != 'quit':\n",
        "  message=input()\n",
        "  print(message)"
      ],
      "metadata": {
        "colab": {
          "base_uri": "https://localhost:8080/"
        },
        "id": "YaHGNaiO8xri",
        "outputId": "48931d50-660d-4234-c690-0d8af3d9985a"
      },
      "execution_count": 44,
      "outputs": [
        {
          "output_type": "stream",
          "name": "stdout",
          "text": [
            "Hi my name is Ruth\n",
            "Hi my name is Ruth\n",
            "I am a Data Science major \n",
            "I am a Data Science major \n",
            "I am 20 years old\n",
            "I am 20 years old\n",
            "quit\n",
            "quit\n"
          ]
        }
      ]
    },
    {
      "cell_type": "code",
      "source": [
        "fruits=[\"apple\",\"cherry\",\"mango\",\"banana\"]\n",
        "\n",
        "for i in fruits:\n",
        "  print(i)\n",
        "  #code to execute for each item in the sequence"
      ],
      "metadata": {
        "colab": {
          "base_uri": "https://localhost:8080/"
        },
        "id": "7qtzrspb9hOC",
        "outputId": "a0da2fb3-fb41-4bd8-c7f6-9d808cd0ead8"
      },
      "execution_count": 48,
      "outputs": [
        {
          "output_type": "stream",
          "name": "stdout",
          "text": [
            "apple\n",
            "cherry\n",
            "mango\n",
            "banana\n"
          ]
        }
      ]
    },
    {
      "cell_type": "code",
      "source": [
        "names=['Kelly','Tom','Alice']\n",
        "\n",
        "for n in names:\n",
        "  print(n, \"Can you handle this task?\")\n",
        "\n",
        "print(\"All of you can handle this task\")"
      ],
      "metadata": {
        "colab": {
          "base_uri": "https://localhost:8080/"
        },
        "id": "ESDjic1h-fbQ",
        "outputId": "57ba5215-d2f5-4ce2-8bc9-15fa372a8265"
      },
      "execution_count": 50,
      "outputs": [
        {
          "output_type": "stream",
          "name": "stdout",
          "text": [
            "Kelly Can you handle this task?\n",
            "Tom Can you handle this task?\n",
            "Alice Can you handle this task?\n",
            "All of you can handle this task\n"
          ]
        }
      ]
    },
    {
      "cell_type": "code",
      "source": [
        "world=\"Hello\"\n",
        "\n",
        "for i in world:\n",
        "  print(i)"
      ],
      "metadata": {
        "colab": {
          "base_uri": "https://localhost:8080/"
        },
        "id": "u2hVIXP__Ufw",
        "outputId": "983c688c-4b11-4db9-ad36-0d1edc2d97ee"
      },
      "execution_count": 52,
      "outputs": [
        {
          "output_type": "stream",
          "name": "stdout",
          "text": [
            "H\n",
            "e\n",
            "l\n",
            "l\n",
            "o\n"
          ]
        }
      ]
    },
    {
      "cell_type": "code",
      "source": [
        "## range\n",
        "\n",
        "for i in range(20):\n",
        "  print(i)"
      ],
      "metadata": {
        "colab": {
          "base_uri": "https://localhost:8080/"
        },
        "id": "dflM_ues_-8k",
        "outputId": "138f223e-0981-49fe-8cd2-dc00b41073d2"
      },
      "execution_count": 53,
      "outputs": [
        {
          "output_type": "stream",
          "name": "stdout",
          "text": [
            "0\n",
            "1\n",
            "2\n",
            "3\n",
            "4\n",
            "5\n",
            "6\n",
            "7\n",
            "8\n",
            "9\n",
            "10\n",
            "11\n",
            "12\n",
            "13\n",
            "14\n",
            "15\n",
            "16\n",
            "17\n",
            "18\n",
            "19\n"
          ]
        }
      ]
    },
    {
      "cell_type": "code",
      "source": [
        "for n in range(10):\n",
        "  print(\"hello:\",n)\n",
        "  print(\"Go to the second line\")\n",
        "print(\"you guys are great\")"
      ],
      "metadata": {
        "colab": {
          "base_uri": "https://localhost:8080/"
        },
        "id": "tDm9nkuaAfHY",
        "outputId": "b18e0127-8db9-411f-de81-49b1e01df605"
      },
      "execution_count": 57,
      "outputs": [
        {
          "output_type": "stream",
          "name": "stdout",
          "text": [
            "hello: 0\n",
            "Go to the second line\n",
            "hello: 1\n",
            "Go to the second line\n",
            "hello: 2\n",
            "Go to the second line\n",
            "hello: 3\n",
            "Go to the second line\n",
            "hello: 4\n",
            "Go to the second line\n",
            "hello: 5\n",
            "Go to the second line\n",
            "hello: 6\n",
            "Go to the second line\n",
            "hello: 7\n",
            "Go to the second line\n",
            "hello: 8\n",
            "Go to the second line\n",
            "hello: 9\n",
            "Go to the second line\n",
            "you guys are great\n"
          ]
        }
      ]
    },
    {
      "cell_type": "code",
      "source": [],
      "metadata": {
        "id": "VqXKTalUA_-w"
      },
      "execution_count": null,
      "outputs": []
    }
  ]
}