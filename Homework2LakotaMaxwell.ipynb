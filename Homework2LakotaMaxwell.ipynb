{
 "cells": [
  {
   "cell_type": "markdown",
   "id": "d9f3bf67",
   "metadata": {},
   "source": [
    "1. Write a sentence where one word is in **bold** and another is in *italics*"
   ]
  },
  {
   "cell_type": "markdown",
   "id": "51607edf",
   "metadata": {},
   "source": [
    "2. # First\n",
    "   ## Second\n",
    "   ### Third"
   ]
  },
  {
   "cell_type": "markdown",
   "id": "964d8640",
   "metadata": {},
   "source": [
    "3. - Strawberries\n",
    "   - Grapes\n",
    "   - Bananas"
   ]
  },
  {
   "cell_type": "code",
   "execution_count": 1,
   "id": "f3b050bb",
   "metadata": {},
   "outputs": [],
   "source": [
    "a=5"
   ]
  },
  {
   "cell_type": "code",
   "execution_count": 2,
   "id": "cb1e7805",
   "metadata": {},
   "outputs": [],
   "source": [
    "b=10"
   ]
  },
  {
   "cell_type": "code",
   "execution_count": 3,
   "id": "a7f5a7c7",
   "metadata": {},
   "outputs": [],
   "source": [
    "c=a+b"
   ]
  },
  {
   "cell_type": "code",
   "execution_count": 4,
   "id": "5f117ee1",
   "metadata": {},
   "outputs": [
    {
     "name": "stdout",
     "output_type": "stream",
     "text": [
      "15\n"
     ]
    }
   ],
   "source": [
    "print (c)"
   ]
  },
  {
   "cell_type": "code",
   "execution_count": 5,
   "id": "9cbf42b0",
   "metadata": {},
   "outputs": [],
   "source": [
    "# First: Exponential in Parenthesis, even though P comes before E:\n",
    "d=3**2"
   ]
  },
  {
   "cell_type": "code",
   "execution_count": 6,
   "id": "dce5abbc",
   "metadata": {},
   "outputs": [],
   "source": [
    "# Second: Parenthesis:\n",
    "e=5-32\n",
    "f=5-d"
   ]
  },
  {
   "cell_type": "code",
   "execution_count": 7,
   "id": "acecc738",
   "metadata": {},
   "outputs": [],
   "source": [
    "# Third: Multiplication: \n",
    "g=2*e\n",
    "h=2*f"
   ]
  },
  {
   "cell_type": "code",
   "execution_count": 8,
   "id": "8a245bc2",
   "metadata": {},
   "outputs": [],
   "source": [
    "# Fourth: Division:\n",
    "i=4/2\n",
    "j=4/26"
   ]
  },
  {
   "cell_type": "code",
   "execution_count": 9,
   "id": "46ac162b",
   "metadata": {},
   "outputs": [],
   "source": [
    "# Fifth: Addition:\n",
    "k=g+i\n",
    "l=k+j\n",
    "m=l+h\n",
    "n=m+6"
   ]
  },
  {
   "cell_type": "code",
   "execution_count": 10,
   "id": "9e6c06a3",
   "metadata": {},
   "outputs": [
    {
     "name": "stdout",
     "output_type": "stream",
     "text": [
      "-53.84615384615385\n"
     ]
    }
   ],
   "source": [
    "# Final Answer:\n",
    "FinalAnswer=n\n",
    "print(FinalAnswer)"
   ]
  },
  {
   "cell_type": "markdown",
   "id": "94bd4e92",
   "metadata": {},
   "source": [
    "-53.84615384615385"
   ]
  }
 ],
 "metadata": {
  "kernelspec": {
   "display_name": "Python 3 (ipykernel)",
   "language": "python",
   "name": "python3"
  },
  "language_info": {
   "codemirror_mode": {
    "name": "ipython",
    "version": 3
   },
   "file_extension": ".py",
   "mimetype": "text/x-python",
   "name": "python",
   "nbconvert_exporter": "python",
   "pygments_lexer": "ipython3",
   "version": "3.11.4"
  }
 },
 "nbformat": 4,
 "nbformat_minor": 5
}
