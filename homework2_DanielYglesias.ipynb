{
  "nbformat": 4,
  "nbformat_minor": 0,
  "metadata": {
    "colab": {
      "provenance": [],
      "authorship_tag": "ABX9TyPTE240K+EUHtF7X8iNy4cU",
      "include_colab_link": true
    },
    "kernelspec": {
      "name": "python3",
      "display_name": "Python 3"
    },
    "language_info": {
      "name": "python"
    }
  },
  "cells": [
    {
      "cell_type": "markdown",
      "metadata": {
        "id": "view-in-github",
        "colab_type": "text"
      },
      "source": [
        "<a href=\"https://colab.research.google.com/github/UTA-PYTHON/3401/blob/main/homework2_DanielYglesias.ipynb\" target=\"_parent\"><img src=\"https://colab.research.google.com/assets/colab-badge.svg\" alt=\"Open In Colab\"/></a>"
      ]
    },
    {
      "cell_type": "markdown",
      "source": [
        "# Part 1: Markdown is Jupyter Notebook\n",
        "\n",
        "### #1. Bold and Italics\n",
        "*My* name is **Daniel Yglesias**\n",
        "\n",
        "### #2. Headers\n",
        "# Computer Science Engineering\n",
        "## Computer Engineering\n",
        "### Software Engineering\n",
        "\n",
        "## #3. Lists\n",
        "- Banana\n",
        "- Pineapple\n",
        "- Strawberry"
      ],
      "metadata": {
        "id": "Ggqfe3CdxskT"
      }
    },
    {
      "cell_type": "markdown",
      "source": [
        "# Part 2: Python Basics"
      ],
      "metadata": {
        "id": "5r_a8Roo2FDg"
      }
    },
    {
      "cell_type": "markdown",
      "source": [
        "### 1. varible assignment"
      ],
      "metadata": {
        "id": "v6AuArAG2jxj"
      }
    },
    {
      "cell_type": "code",
      "source": [
        "a = 5\n",
        "b = 10\n",
        "c = a + b\n",
        "print(\"The value of c is:\", c)"
      ],
      "metadata": {
        "colab": {
          "base_uri": "https://localhost:8080/"
        },
        "id": "K3JXl5gi1s_8",
        "outputId": "1a9a25c4-4a92-47a8-d4e3-1e70876638aa"
      },
      "execution_count": null,
      "outputs": [
        {
          "output_type": "stream",
          "name": "stdout",
          "text": [
            "The value of c is: 15\n"
          ]
        }
      ]
    },
    {
      "cell_type": "markdown",
      "source": [
        "### 2. PEMDAS"
      ],
      "metadata": {
        "id": "VV0zeHt32aDu"
      }
    },
    {
      "cell_type": "code",
      "source": [
        "#6 + 2(5 - 32) + 4 / 2\n",
        "#6 + 2(-27) + 4 / 2\n",
        "#6 - 54 + 4 / 2\n",
        "#6 - 54 + 2\n",
        "#-46\n",
        "result = 6 + 2 * (5 - 32) + 4 / 2\n",
        "print(\"The result of this problem is:\", result)"
      ],
      "metadata": {
        "colab": {
          "base_uri": "https://localhost:8080/"
        },
        "id": "vGRxIusF2ApA",
        "outputId": "f5bf4a08-4014-42af-800e-85ae1c5d55e5"
      },
      "execution_count": null,
      "outputs": [
        {
          "output_type": "stream",
          "name": "stdout",
          "text": [
            "The result of this problem is: -46.0\n"
          ]
        }
      ]
    }
  ]
}