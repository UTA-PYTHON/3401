{
 "cells": [
  {
   "cell_type": "markdown",
<<<<<<< HEAD
=======
   "id": "a28ca28a",
   "metadata": {},
   "source": [
    "## Homework 2\n",
    "## Tim Reynolds\n",
    "## ID: 1001912015"
   ]
  },
  {
   "cell_type": "markdown",
>>>>>>> 57342e5f88fd04bfa9c3f31f22971df58434fc9a
   "id": "bda0cb4e",
   "metadata": {},
   "source": [
    "Dinosaurs are ***awesome!***"
   ]
  },
  {
   "cell_type": "markdown",
   "id": "8bcbc0b8",
   "metadata": {},
   "source": [
    "# King K. Rool"
   ]
  },
  {
   "cell_type": "markdown",
   "id": "9de329ea",
   "metadata": {},
   "source": [
    "## Captain Falcon"
   ]
  },
  {
   "cell_type": "markdown",
   "id": "fec09849",
   "metadata": {},
   "source": [
    "### Kirby"
   ]
  },
  {
   "cell_type": "markdown",
   "id": "aeef5f81",
   "metadata": {},
   "source": [
    "### Favorite Fruit\n",
    "- Pineapple\n",
    "- Green Grapes\n",
    "- Strawberry"
   ]
  },
  {
   "cell_type": "code",
   "execution_count": 1,
   "id": "7c4ab054",
   "metadata": {},
   "outputs": [
    {
     "name": "stdout",
     "output_type": "stream",
     "text": [
      "15\n"
     ]
    }
   ],
   "source": [
    "a=5\n",
    "b=10\n",
    "c=a+b\n",
    "print(c)"
   ]
  },
  {
   "cell_type": "code",
   "execution_count": 2,
   "id": "7578402e",
   "metadata": {},
   "outputs": [
    {
     "name": "stdout",
     "output_type": "stream",
     "text": [
      "-53.84615384615385\n"
     ]
    }
   ],
   "source": [
    "print(6+2*(5-(3**2))+(4/26)+2*(5-32)+4/2)"
   ]
  },
  {
   "cell_type": "code",
   "execution_count": null,
   "id": "2b6761ee",
   "metadata": {},
   "outputs": [],
   "source": []
  }
 ],
 "metadata": {
  "kernelspec": {
   "display_name": "Python 3 (ipykernel)",
   "language": "python",
   "name": "python3"
  },
  "language_info": {
   "codemirror_mode": {
    "name": "ipython",
    "version": 3
   },
   "file_extension": ".py",
   "mimetype": "text/x-python",
   "name": "python",
   "nbconvert_exporter": "python",
   "pygments_lexer": "ipython3",
   "version": "3.11.4"
  }
 },
 "nbformat": 4,
 "nbformat_minor": 5
}
