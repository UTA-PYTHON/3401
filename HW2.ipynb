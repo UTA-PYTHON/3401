{
  "nbformat": 4,
  "nbformat_minor": 0,
  "metadata": {
    "colab": {
      "provenance": []
    },
    "kernelspec": {
      "name": "python3",
      "display_name": "Python 3"
    },
    "language_info": {
      "name": "python"
    }
  },
  "cells": [
    {
      "cell_type": "markdown",
      "source": [
        "#Homework 2 Data 3401\n",
        "###Olivia Folly-Gah\n",
        "####ID:1001818209"
      ],
      "metadata": {
        "id": "8LScTsZPQlrs"
      }
    },
    {
      "cell_type": "markdown",
      "source": [
        "1. Write a sentence where 1 word is bold and the other is in Italics\n",
        "\n",
        "#**Bold**#\n",
        "*Italics*\n"
      ],
      "metadata": {
        "id": "XSL1I3ZBHkEa"
      }
    },
    {
      "cell_type": "markdown",
      "source": [
        "2. Create headers from largest to smallest and make titles for it\n",
        "\n",
        "#Header 1#\n",
        "##Header 2 ##\n",
        "###Header 3 ###"
      ],
      "metadata": {
        "id": "Y3lvTondIHrI"
      }
    },
    {
      "cell_type": "markdown",
      "source": [
        "3. Create a bullentin list of your top 3 fav fruits\n",
        "\n",
        "\n",
        "\n",
        "*   Oranges\n",
        "*   Mangoes\n",
        "*   Watermelon\n",
        "\n"
      ],
      "metadata": {
        "id": "8vfivzQnI-sY"
      }
    },
    {
      "cell_type": "markdown",
      "source": [
        "Part 2: Python Basics"
      ],
      "metadata": {
        "id": "hJzIgJTHJR_H"
      }
    },
    {
      "cell_type": "markdown",
      "source": [
        "1. Variable Assignment"
      ],
      "metadata": {
        "id": "aQ61RI93Ja5l"
      }
    },
    {
      "cell_type": "code",
      "source": [
        "a=5\n",
        "b=10"
      ],
      "metadata": {
        "id": "7zDEjkD7JfkY"
      },
      "execution_count": null,
      "outputs": []
    },
    {
      "cell_type": "code",
      "source": [
        "print (\"sum\", a+b)"
      ],
      "metadata": {
        "colab": {
          "base_uri": "https://localhost:8080/"
        },
        "id": "JQCLJ8vXJoP9",
        "outputId": "5ed99d01-afa8-4d8e-b84f-dbed6e9a63de"
      },
      "execution_count": null,
      "outputs": [
        {
          "output_type": "stream",
          "name": "stdout",
          "text": [
            "sum 15\n"
          ]
        }
      ]
    },
    {
      "cell_type": "code",
      "source": [
        "c=5+10"
      ],
      "metadata": {
        "id": "oLlNAihlJxsn"
      },
      "execution_count": 6,
      "outputs": []
    },
    {
      "cell_type": "code",
      "source": [
        "print (c)"
      ],
      "metadata": {
        "colab": {
          "base_uri": "https://localhost:8080/"
        },
        "id": "rv3SnRWreFRm",
        "outputId": "36b47450-1e33-407c-c7a9-1570a261046b"
      },
      "execution_count": 7,
      "outputs": [
        {
          "output_type": "stream",
          "name": "stdout",
          "text": [
            "15\n"
          ]
        }
      ]
    },
    {
      "cell_type": "markdown",
      "source": [
        "#2. PEMDAS#\n",
        "###Equation: 6+2 x (5-(3^2)) + 4/26 +2 x (5-32) + 4/2"
      ],
      "metadata": {
        "id": "5_ipBdS-efkT"
      }
    },
    {
      "cell_type": "markdown",
      "source": [
        "1. Parenthesis and Exponents:\n",
        "\n",
        "*   (5-3^2) = -4\n",
        "*   (5-32) = -27\n",
        "\n",
        "\n",
        "\n",
        "\n"
      ],
      "metadata": {
        "id": "sc6Q2aRSe0tJ"
      }
    },
    {
      "cell_type": "markdown",
      "source": [
        "#2. Multiplication:\n",
        "###2 x -4 = -8\n",
        "###2 x -27 = -54\n"
      ],
      "metadata": {
        "id": "raxbCPihf_5Z"
      }
    },
    {
      "cell_type": "markdown",
      "source": [
        "#3. Division\n",
        "###4/26 = 2/13\n",
        "###4/2 = 2"
      ],
      "metadata": {
        "id": "tSrz8YkbOWiL"
      }
    },
    {
      "cell_type": "markdown",
      "source": [
        "#4. Addition:\n",
        "###6 + -8 + 2/13 + -54 + 2 = -700/13"
      ],
      "metadata": {
        "id": "VilIbsBtO6T7"
      }
    },
    {
      "cell_type": "code",
      "source": [
        "6+2*(5-(3**2))+4/26+2*(5-32)+4/2"
      ],
      "metadata": {
        "colab": {
          "base_uri": "https://localhost:8080/"
        },
        "id": "-iRrIdrQQDMf",
        "outputId": "db73eeed-8302-4459-8d40-5c4f306b0c6f"
      },
      "execution_count": 3,
      "outputs": [
        {
          "output_type": "execute_result",
          "data": {
            "text/plain": [
              "-53.84615384615385"
            ]
          },
          "metadata": {},
          "execution_count": 3
        }
      ]
    }
  ]
}