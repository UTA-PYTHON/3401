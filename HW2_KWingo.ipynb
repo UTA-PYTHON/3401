{
  "nbformat": 4,
  "nbformat_minor": 0,
  "metadata": {
    "colab": {
      "provenance": []
    },
    "kernelspec": {
      "name": "python3",
      "display_name": "Python 3"
    },
    "language_info": {
      "name": "python"
    }
  },
  "cells": [
    {
      "cell_type": "markdown",
      "source": [
        "1. Data **science** is *fun*."
      ],
      "metadata": {
        "id": "8w7rU4GhCySi"
      }
    },
    {
      "cell_type": "markdown",
      "source": [
        "2.\n",
        "# Largest  \n",
        "## Second Largest\n",
        "### Smallest"
      ],
      "metadata": {
        "id": "YRC_L-_wC2Mp"
      }
    },
    {
      "cell_type": "markdown",
      "source": [
        "3. Favorite Fruits\n",
        "- Pineapples\n",
        "- Kiwis\n",
        "- Strawberries"
      ],
      "metadata": {
        "id": "IADmwlgXC5Dl"
      }
    },
    {
      "cell_type": "code",
      "source": [
        "a=5\n",
        "b=10\n",
        "c=a+b"
      ],
      "metadata": {
        "id": "ZNJ-NB4rC5pB"
      },
      "execution_count": 4,
      "outputs": []
    },
    {
      "cell_type": "code",
      "source": [
        "c"
      ],
      "metadata": {
        "colab": {
          "base_uri": "https://localhost:8080/"
        },
        "id": "I7YBhd8PC73d",
        "outputId": "fda4c80a-b945-441c-e627-260622d06317"
      },
      "execution_count": 3,
      "outputs": [
        {
          "output_type": "execute_result",
          "data": {
            "text/plain": [
              "15"
            ]
          },
          "metadata": {},
          "execution_count": 3
        }
      ]
    },
    {
      "cell_type": "code",
      "source": [
        "6+2*(5-(3**2))+4/26+2*(5-32)+4/2"
      ],
      "metadata": {
        "colab": {
          "base_uri": "https://localhost:8080/"
        },
        "id": "_b8G4vLZC-di",
        "outputId": "01be7c6e-353f-4ea8-c5b7-8eedc1880a98"
      },
      "execution_count": 5,
      "outputs": [
        {
          "output_type": "execute_result",
          "data": {
            "text/plain": [
              "-53.84615384615385"
            ]
          },
          "metadata": {},
          "execution_count": 5
        }
      ]
    }
  ]
}