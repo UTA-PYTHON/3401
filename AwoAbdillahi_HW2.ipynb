{
  "nbformat": 4,
  "nbformat_minor": 0,
  "metadata": {
    "colab": {
      "provenance": [],
      "authorship_tag": "ABX9TyNpFgcpZocwHM80N1xDqi+N",
      "include_colab_link": true
    },
    "kernelspec": {
      "name": "python3",
      "display_name": "Python 3"
    },
    "language_info": {
      "name": "python"
    }
  },
  "cells": [
    {
      "cell_type": "markdown",
      "metadata": {
        "id": "view-in-github",
        "colab_type": "text"
      },
      "source": [
        "<a href=\"https://colab.research.google.com/github/UTA-PYTHON/3401/blob/main/AwoAbdillahi_HW2.ipynb\" target=\"_parent\"><img src=\"https://colab.research.google.com/assets/colab-badge.svg\" alt=\"Open In Colab\"/></a>"
      ]
    },
    {
      "cell_type": "markdown",
      "source": [
        "#**Homework Questions:**"
      ],
      "metadata": {
        "id": "5HnD1okU8Fmm"
      }
    },
    {
      "cell_type": "code",
      "source": [
        "import numpy as np\n",
        "import pandas as pd\n",
        "import seaborn as sns\n",
        "import matplotlib.pyplot as plt"
      ],
      "metadata": {
        "id": "JkRlwqx5_bCo"
      },
      "execution_count": 4,
      "outputs": []
    },
    {
      "cell_type": "code",
      "execution_count": 7,
      "metadata": {
        "id": "LtWCpR2w7rMN"
      },
      "outputs": [],
      "source": [
        "df = pd.read_csv('ClimateData.csv')"
      ]
    },
    {
      "cell_type": "code",
      "source": [
        "df.head()"
      ],
      "metadata": {
        "colab": {
          "base_uri": "https://localhost:8080/",
          "height": 206
        },
        "id": "SPJxG8LgBjob",
        "outputId": "447b723d-38ab-450d-b4c5-809831013285"
      },
      "execution_count": 10,
      "outputs": [
        {
          "output_type": "execute_result",
          "data": {
            "text/plain": [
              "   id building_class  floor_area  year_built  precipitation_inches  \\\n",
              "0   0     Commercial     61242.0      1942.0                 16.59   \n",
              "1   1     Commercial    274000.0      1955.0                 16.59   \n",
              "2   2     Commercial    280025.0      1951.0                 16.59   \n",
              "3   3     Commercial     55325.0      1980.0                 16.59   \n",
              "4   4     Commercial     66000.0      1985.0                 16.59   \n",
              "\n",
              "   snowfall_inches   avg_temp  days_with_fog  site_eui  \n",
              "0              0.0  56.972603            NaN    248.68  \n",
              "1              0.0  56.972603           12.0     26.50  \n",
              "2              0.0  56.972603           12.0     24.69  \n",
              "3              0.0  56.972603           12.0     48.41  \n",
              "4              0.0  56.972603            NaN      3.90  "
            ],
            "text/html": [
              "\n",
              "  <div id=\"df-142f80e3-c0c5-4d21-88ce-45c310fa7524\" class=\"colab-df-container\">\n",
              "    <div>\n",
              "<style scoped>\n",
              "    .dataframe tbody tr th:only-of-type {\n",
              "        vertical-align: middle;\n",
              "    }\n",
              "\n",
              "    .dataframe tbody tr th {\n",
              "        vertical-align: top;\n",
              "    }\n",
              "\n",
              "    .dataframe thead th {\n",
              "        text-align: right;\n",
              "    }\n",
              "</style>\n",
              "<table border=\"1\" class=\"dataframe\">\n",
              "  <thead>\n",
              "    <tr style=\"text-align: right;\">\n",
              "      <th></th>\n",
              "      <th>id</th>\n",
              "      <th>building_class</th>\n",
              "      <th>floor_area</th>\n",
              "      <th>year_built</th>\n",
              "      <th>precipitation_inches</th>\n",
              "      <th>snowfall_inches</th>\n",
              "      <th>avg_temp</th>\n",
              "      <th>days_with_fog</th>\n",
              "      <th>site_eui</th>\n",
              "    </tr>\n",
              "  </thead>\n",
              "  <tbody>\n",
              "    <tr>\n",
              "      <th>0</th>\n",
              "      <td>0</td>\n",
              "      <td>Commercial</td>\n",
              "      <td>61242.0</td>\n",
              "      <td>1942.0</td>\n",
              "      <td>16.59</td>\n",
              "      <td>0.0</td>\n",
              "      <td>56.972603</td>\n",
              "      <td>NaN</td>\n",
              "      <td>248.68</td>\n",
              "    </tr>\n",
              "    <tr>\n",
              "      <th>1</th>\n",
              "      <td>1</td>\n",
              "      <td>Commercial</td>\n",
              "      <td>274000.0</td>\n",
              "      <td>1955.0</td>\n",
              "      <td>16.59</td>\n",
              "      <td>0.0</td>\n",
              "      <td>56.972603</td>\n",
              "      <td>12.0</td>\n",
              "      <td>26.50</td>\n",
              "    </tr>\n",
              "    <tr>\n",
              "      <th>2</th>\n",
              "      <td>2</td>\n",
              "      <td>Commercial</td>\n",
              "      <td>280025.0</td>\n",
              "      <td>1951.0</td>\n",
              "      <td>16.59</td>\n",
              "      <td>0.0</td>\n",
              "      <td>56.972603</td>\n",
              "      <td>12.0</td>\n",
              "      <td>24.69</td>\n",
              "    </tr>\n",
              "    <tr>\n",
              "      <th>3</th>\n",
              "      <td>3</td>\n",
              "      <td>Commercial</td>\n",
              "      <td>55325.0</td>\n",
              "      <td>1980.0</td>\n",
              "      <td>16.59</td>\n",
              "      <td>0.0</td>\n",
              "      <td>56.972603</td>\n",
              "      <td>12.0</td>\n",
              "      <td>48.41</td>\n",
              "    </tr>\n",
              "    <tr>\n",
              "      <th>4</th>\n",
              "      <td>4</td>\n",
              "      <td>Commercial</td>\n",
              "      <td>66000.0</td>\n",
              "      <td>1985.0</td>\n",
              "      <td>16.59</td>\n",
              "      <td>0.0</td>\n",
              "      <td>56.972603</td>\n",
              "      <td>NaN</td>\n",
              "      <td>3.90</td>\n",
              "    </tr>\n",
              "  </tbody>\n",
              "</table>\n",
              "</div>\n",
              "    <div class=\"colab-df-buttons\">\n",
              "\n",
              "  <div class=\"colab-df-container\">\n",
              "    <button class=\"colab-df-convert\" onclick=\"convertToInteractive('df-142f80e3-c0c5-4d21-88ce-45c310fa7524')\"\n",
              "            title=\"Convert this dataframe to an interactive table.\"\n",
              "            style=\"display:none;\">\n",
              "\n",
              "  <svg xmlns=\"http://www.w3.org/2000/svg\" height=\"24px\" viewBox=\"0 -960 960 960\">\n",
              "    <path d=\"M120-120v-720h720v720H120Zm60-500h600v-160H180v160Zm220 220h160v-160H400v160Zm0 220h160v-160H400v160ZM180-400h160v-160H180v160Zm440 0h160v-160H620v160ZM180-180h160v-160H180v160Zm440 0h160v-160H620v160Z\"/>\n",
              "  </svg>\n",
              "    </button>\n",
              "\n",
              "  <style>\n",
              "    .colab-df-container {\n",
              "      display:flex;\n",
              "      gap: 12px;\n",
              "    }\n",
              "\n",
              "    .colab-df-convert {\n",
              "      background-color: #E8F0FE;\n",
              "      border: none;\n",
              "      border-radius: 50%;\n",
              "      cursor: pointer;\n",
              "      display: none;\n",
              "      fill: #1967D2;\n",
              "      height: 32px;\n",
              "      padding: 0 0 0 0;\n",
              "      width: 32px;\n",
              "    }\n",
              "\n",
              "    .colab-df-convert:hover {\n",
              "      background-color: #E2EBFA;\n",
              "      box-shadow: 0px 1px 2px rgba(60, 64, 67, 0.3), 0px 1px 3px 1px rgba(60, 64, 67, 0.15);\n",
              "      fill: #174EA6;\n",
              "    }\n",
              "\n",
              "    .colab-df-buttons div {\n",
              "      margin-bottom: 4px;\n",
              "    }\n",
              "\n",
              "    [theme=dark] .colab-df-convert {\n",
              "      background-color: #3B4455;\n",
              "      fill: #D2E3FC;\n",
              "    }\n",
              "\n",
              "    [theme=dark] .colab-df-convert:hover {\n",
              "      background-color: #434B5C;\n",
              "      box-shadow: 0px 1px 3px 1px rgba(0, 0, 0, 0.15);\n",
              "      filter: drop-shadow(0px 1px 2px rgba(0, 0, 0, 0.3));\n",
              "      fill: #FFFFFF;\n",
              "    }\n",
              "  </style>\n",
              "\n",
              "    <script>\n",
              "      const buttonEl =\n",
              "        document.querySelector('#df-142f80e3-c0c5-4d21-88ce-45c310fa7524 button.colab-df-convert');\n",
              "      buttonEl.style.display =\n",
              "        google.colab.kernel.accessAllowed ? 'block' : 'none';\n",
              "\n",
              "      async function convertToInteractive(key) {\n",
              "        const element = document.querySelector('#df-142f80e3-c0c5-4d21-88ce-45c310fa7524');\n",
              "        const dataTable =\n",
              "          await google.colab.kernel.invokeFunction('convertToInteractive',\n",
              "                                                    [key], {});\n",
              "        if (!dataTable) return;\n",
              "\n",
              "        const docLinkHtml = 'Like what you see? Visit the ' +\n",
              "          '<a target=\"_blank\" href=https://colab.research.google.com/notebooks/data_table.ipynb>data table notebook</a>'\n",
              "          + ' to learn more about interactive tables.';\n",
              "        element.innerHTML = '';\n",
              "        dataTable['output_type'] = 'display_data';\n",
              "        await google.colab.output.renderOutput(dataTable, element);\n",
              "        const docLink = document.createElement('div');\n",
              "        docLink.innerHTML = docLinkHtml;\n",
              "        element.appendChild(docLink);\n",
              "      }\n",
              "    </script>\n",
              "  </div>\n",
              "\n",
              "\n",
              "<div id=\"df-ba430dbe-677e-45ea-a51a-c3d885a7911b\">\n",
              "  <button class=\"colab-df-quickchart\" onclick=\"quickchart('df-ba430dbe-677e-45ea-a51a-c3d885a7911b')\"\n",
              "            title=\"Suggest charts\"\n",
              "            style=\"display:none;\">\n",
              "\n",
              "<svg xmlns=\"http://www.w3.org/2000/svg\" height=\"24px\"viewBox=\"0 0 24 24\"\n",
              "     width=\"24px\">\n",
              "    <g>\n",
              "        <path d=\"M19 3H5c-1.1 0-2 .9-2 2v14c0 1.1.9 2 2 2h14c1.1 0 2-.9 2-2V5c0-1.1-.9-2-2-2zM9 17H7v-7h2v7zm4 0h-2V7h2v10zm4 0h-2v-4h2v4z\"/>\n",
              "    </g>\n",
              "</svg>\n",
              "  </button>\n",
              "\n",
              "<style>\n",
              "  .colab-df-quickchart {\n",
              "      --bg-color: #E8F0FE;\n",
              "      --fill-color: #1967D2;\n",
              "      --hover-bg-color: #E2EBFA;\n",
              "      --hover-fill-color: #174EA6;\n",
              "      --disabled-fill-color: #AAA;\n",
              "      --disabled-bg-color: #DDD;\n",
              "  }\n",
              "\n",
              "  [theme=dark] .colab-df-quickchart {\n",
              "      --bg-color: #3B4455;\n",
              "      --fill-color: #D2E3FC;\n",
              "      --hover-bg-color: #434B5C;\n",
              "      --hover-fill-color: #FFFFFF;\n",
              "      --disabled-bg-color: #3B4455;\n",
              "      --disabled-fill-color: #666;\n",
              "  }\n",
              "\n",
              "  .colab-df-quickchart {\n",
              "    background-color: var(--bg-color);\n",
              "    border: none;\n",
              "    border-radius: 50%;\n",
              "    cursor: pointer;\n",
              "    display: none;\n",
              "    fill: var(--fill-color);\n",
              "    height: 32px;\n",
              "    padding: 0;\n",
              "    width: 32px;\n",
              "  }\n",
              "\n",
              "  .colab-df-quickchart:hover {\n",
              "    background-color: var(--hover-bg-color);\n",
              "    box-shadow: 0 1px 2px rgba(60, 64, 67, 0.3), 0 1px 3px 1px rgba(60, 64, 67, 0.15);\n",
              "    fill: var(--button-hover-fill-color);\n",
              "  }\n",
              "\n",
              "  .colab-df-quickchart-complete:disabled,\n",
              "  .colab-df-quickchart-complete:disabled:hover {\n",
              "    background-color: var(--disabled-bg-color);\n",
              "    fill: var(--disabled-fill-color);\n",
              "    box-shadow: none;\n",
              "  }\n",
              "\n",
              "  .colab-df-spinner {\n",
              "    border: 2px solid var(--fill-color);\n",
              "    border-color: transparent;\n",
              "    border-bottom-color: var(--fill-color);\n",
              "    animation:\n",
              "      spin 1s steps(1) infinite;\n",
              "  }\n",
              "\n",
              "  @keyframes spin {\n",
              "    0% {\n",
              "      border-color: transparent;\n",
              "      border-bottom-color: var(--fill-color);\n",
              "      border-left-color: var(--fill-color);\n",
              "    }\n",
              "    20% {\n",
              "      border-color: transparent;\n",
              "      border-left-color: var(--fill-color);\n",
              "      border-top-color: var(--fill-color);\n",
              "    }\n",
              "    30% {\n",
              "      border-color: transparent;\n",
              "      border-left-color: var(--fill-color);\n",
              "      border-top-color: var(--fill-color);\n",
              "      border-right-color: var(--fill-color);\n",
              "    }\n",
              "    40% {\n",
              "      border-color: transparent;\n",
              "      border-right-color: var(--fill-color);\n",
              "      border-top-color: var(--fill-color);\n",
              "    }\n",
              "    60% {\n",
              "      border-color: transparent;\n",
              "      border-right-color: var(--fill-color);\n",
              "    }\n",
              "    80% {\n",
              "      border-color: transparent;\n",
              "      border-right-color: var(--fill-color);\n",
              "      border-bottom-color: var(--fill-color);\n",
              "    }\n",
              "    90% {\n",
              "      border-color: transparent;\n",
              "      border-bottom-color: var(--fill-color);\n",
              "    }\n",
              "  }\n",
              "</style>\n",
              "\n",
              "  <script>\n",
              "    async function quickchart(key) {\n",
              "      const quickchartButtonEl =\n",
              "        document.querySelector('#' + key + ' button');\n",
              "      quickchartButtonEl.disabled = true;  // To prevent multiple clicks.\n",
              "      quickchartButtonEl.classList.add('colab-df-spinner');\n",
              "      try {\n",
              "        const charts = await google.colab.kernel.invokeFunction(\n",
              "            'suggestCharts', [key], {});\n",
              "      } catch (error) {\n",
              "        console.error('Error during call to suggestCharts:', error);\n",
              "      }\n",
              "      quickchartButtonEl.classList.remove('colab-df-spinner');\n",
              "      quickchartButtonEl.classList.add('colab-df-quickchart-complete');\n",
              "    }\n",
              "    (() => {\n",
              "      let quickchartButtonEl =\n",
              "        document.querySelector('#df-ba430dbe-677e-45ea-a51a-c3d885a7911b button');\n",
              "      quickchartButtonEl.style.display =\n",
              "        google.colab.kernel.accessAllowed ? 'block' : 'none';\n",
              "    })();\n",
              "  </script>\n",
              "</div>\n",
              "\n",
              "    </div>\n",
              "  </div>\n"
            ]
          },
          "metadata": {},
          "execution_count": 10
        }
      ]
    },
    {
      "cell_type": "markdown",
      "source": [
        "##**1. Data Understanding and Summary:**\n",
        "\n",
        "● Question: Summarize and describe the data type of each variable"
      ],
      "metadata": {
        "id": "IXjMfJZ08L_9"
      }
    },
    {
      "cell_type": "code",
      "source": [
        "#id: Numeric (Integer) - Represents a unique identifier for each entry in the dataset. building_class: Categorical (String) - Represents the type or classification of the building (e.g., Commercial, Residential). floor_area: Numeric (Float) - Represents the total floor area of the building in square feet. year_built: Numeric (Float or Integer) - Represents the year the building was constructed. precipitation_inches: Numeric (Float) - Represents the amount of precipitation in inches. snowfall_inches: Numeric (Float) - Represents the amount of snowfall in inches. avg_temp: Numeric (Float) - Represents the average temperature. days_with_fog: Numeric (Float or Integer) - Represents the number of days with fog. site_eui: Numeric (Float) - Represents the Site Energy Use Intensity (EUI), typically measured in kilo-British thermal units per square foot (kBtu/sq. ft.)."
      ],
      "metadata": {
        "id": "N5HxmYDz8Vw8"
      },
      "execution_count": null,
      "outputs": []
    },
    {
      "cell_type": "markdown",
      "source": [
        "##**2. Unique Values Analysis:**\n",
        "\n",
        "● Question: For the categorical variable in the dataset, identify the number of unique\n",
        "values."
      ],
      "metadata": {
        "id": "ROD0uCvi8V3_"
      }
    },
    {
      "cell_type": "code",
      "source": [
        "unique_building_classes = df['building_class'].nunique()\n",
        "print(\"Number of unique building classes:\", unique_building_classes)"
      ],
      "metadata": {
        "colab": {
          "base_uri": "https://localhost:8080/"
        },
        "id": "zWKxuMv38xHS",
        "outputId": "53f25732-aa28-4cc1-eecf-df5d1a0ab690"
      },
      "execution_count": 11,
      "outputs": [
        {
          "output_type": "stream",
          "name": "stdout",
          "text": [
            "Number of unique building classes: 2\n"
          ]
        }
      ]
    },
    {
      "cell_type": "code",
      "source": [],
      "metadata": {
        "id": "kmPZl10f8xJ7"
      },
      "execution_count": null,
      "outputs": []
    },
    {
      "cell_type": "markdown",
      "source": [
        "##**3. Descriptive Statistics:**\n",
        "\n",
        "● Question: Examine and summarize the descriptive statistics for the dataset. What insights\n",
        "can you gain about the central tendency and dispersion of each variable?"
      ],
      "metadata": {
        "id": "G8NB3_Mp9Aaz"
      }
    },
    {
      "cell_type": "code",
      "source": [
        "descriptive_stats = df.describe()\n",
        "print(descriptive_stats)"
      ],
      "metadata": {
        "colab": {
          "base_uri": "https://localhost:8080/"
        },
        "id": "s0wFm6U99Gxs",
        "outputId": "362d9f4f-60b9-4e2c-8508-fd7da691c7d7"
      },
      "execution_count": 12,
      "outputs": [
        {
          "output_type": "stream",
          "name": "stdout",
          "text": [
            "                 id    floor_area    year_built  precipitation_inches  \\\n",
            "count  75757.000000  7.575700e+04  73920.000000          75757.000000   \n",
            "mean   37878.000000  1.659839e+05   1952.306764             42.430651   \n",
            "std    21869.306509  2.468758e+05     37.053619             10.592205   \n",
            "min        0.000000  9.430000e+02      0.000000              0.000000   \n",
            "25%    18939.000000  6.237900e+04   1927.000000             39.350000   \n",
            "50%    37878.000000  9.136700e+04   1951.000000             42.170000   \n",
            "75%    56817.000000  1.660000e+05   1977.000000             46.320000   \n",
            "max    75756.000000  6.385382e+06   2015.000000            107.690000   \n",
            "\n",
            "       snowfall_inches      avg_temp  days_with_fog      site_eui  \n",
            "count     75757.000000  75757.000000   29961.000000  75757.000000  \n",
            "mean         29.136379     56.176705     109.142051     82.584707  \n",
            "std          17.810894      2.241940      50.699751     58.255413  \n",
            "min           0.000000     44.512329      12.000000      1.000000  \n",
            "25%           9.600000     55.147541      88.000000     54.530000  \n",
            "50%          31.600000     56.835616     104.000000     75.290000  \n",
            "75%          49.100000     57.215847     131.000000     97.280000  \n",
            "max         127.300000     77.245205     311.000000    997.870000  \n"
          ]
        }
      ]
    },
    {
      "cell_type": "code",
      "source": [],
      "metadata": {
        "id": "nwEPgzV49G0J"
      },
      "execution_count": null,
      "outputs": []
    },
    {
      "cell_type": "markdown",
      "source": [
        "#**4. Missing Values Assessment:**\n",
        "\n",
        "● Question: Assess the dataset for missing values. Quantify the extent of missingness in\n",
        "each column. How might these missing values affect your analysis?"
      ],
      "metadata": {
        "id": "RtL6J9-E9HBR"
      }
    },
    {
      "cell_type": "code",
      "source": [
        "missing_values_count = df.isnull().sum()\n",
        "print(\"Missing values in each column:\")\n",
        "print(missing_values_count)"
      ],
      "metadata": {
        "colab": {
          "base_uri": "https://localhost:8080/"
        },
        "id": "4xAtayVP9O40",
        "outputId": "ba6bdf8d-2553-4f77-f589-8548f0380996"
      },
      "execution_count": 13,
      "outputs": [
        {
          "output_type": "stream",
          "name": "stdout",
          "text": [
            "Missing values in each column:\n",
            "id                          0\n",
            "building_class              0\n",
            "floor_area                  0\n",
            "year_built               1837\n",
            "precipitation_inches        0\n",
            "snowfall_inches             0\n",
            "avg_temp                    0\n",
            "days_with_fog           45796\n",
            "site_eui                    0\n",
            "dtype: int64\n"
          ]
        }
      ]
    },
    {
      "cell_type": "code",
      "source": [],
      "metadata": {
        "id": "Zb3242xD9O7Q"
      },
      "execution_count": null,
      "outputs": []
    },
    {
      "cell_type": "markdown",
      "source": [
        "#**5. Missing Data Handling:**\n",
        "\n",
        "● Question: Based on your assessment of missing values, choose appropriate techniques to\n",
        "handle them. Would you opt for imputation or removal? Justify your choice."
      ],
      "metadata": {
        "id": "5V4BsSi49PGi"
      }
    },
    {
      "cell_type": "code",
      "source": [
        "import pandas as pd\n",
        "\n",
        "missing_values_count = df.isnull().sum()\n",
        "print(\"Missing values in each column:\")\n",
        "print(missing_values_count)\n",
        "\n",
        "numeric_columns = df.select_dtypes(include=['float64', 'int64']).columns\n",
        "df_imputed = df.copy()\n",
        "for column in numeric_columns:\n",
        "    df_imputed[column].fillna(df[column].mean(), inplace=True)\n",
        "\n",
        "categorical_columns = df.select_dtypes(include=['object']).columns\n",
        "for column in categorical_columns:\n",
        "    df_imputed[column].fillna(df[column].mode()[0], inplace=True)\n",
        "\n",
        "df_removed = df.dropna()\n",
        "\n",
        "print(\"Shape before removal:\", df.shape)\n",
        "print(\"Shape after removal:\", df_removed.shape)"
      ],
      "metadata": {
        "colab": {
          "base_uri": "https://localhost:8080/"
        },
        "id": "ccRkNqcZ9UeQ",
        "outputId": "3a76ae76-3018-40b6-f8a2-6f35a8cc862d"
      },
      "execution_count": 14,
      "outputs": [
        {
          "output_type": "stream",
          "name": "stdout",
          "text": [
            "Missing values in each column:\n",
            "id                          0\n",
            "building_class              0\n",
            "floor_area                  0\n",
            "year_built               1837\n",
            "precipitation_inches        0\n",
            "snowfall_inches             0\n",
            "avg_temp                    0\n",
            "days_with_fog           45796\n",
            "site_eui                    0\n",
            "dtype: int64\n",
            "Shape before removal: (75757, 9)\n",
            "Shape after removal: (29400, 9)\n"
          ]
        }
      ]
    },
    {
      "cell_type": "code",
      "source": [
        "#Extent of Missingness: If only a small proportion of values are missing in a particular column, imputation might be suitable. However, if a large portion of values is missing, removing those rows may be more appropriate. Impact on Analysis: Consider the importance of the variable with missing values in your analysis. If the variable is critical and removing missing values would significantly reduce the sample size or introduce bias, imputation may be preferred. On the other hand, if the variable is less crucial or removing missing values does not substantially affect the analysis, removal may be more appropriate. Nature of the Data: The characteristics of the data and the variables involved can also influence the choice. For instance, imputation may be more suitable for continuous variables where missing values can be reasonably estimated based on other available information. Categorical variables might also benefit from imputation if there are clear patterns in the data. However, for categorical variables with high cardinality or where imputation is less straightforward, removal might be preferred. Assumptions of Imputation Methods: If choosing imputation, consider the assumptions underlying the imputation method. For example, mean imputation assumes that the missing values are missing completely at random (MCAR) or missing at random (MAR), and it may introduce bias if these assumptions are not met. More sophisticated imputation methods like multiple imputation or predictive modeling may be preferred if these assumptions are violated. Analysis Goals and Context: Ultimately, the choice between imputation and removal should align with the goals of your analysis and the broader context. Consider the potential implications of each approach on the validity and interpretability of your results."
      ],
      "metadata": {
        "id": "F9sd6QTk9Ugv"
      },
      "execution_count": null,
      "outputs": []
    },
    {
      "cell_type": "markdown",
      "source": [
        "#**6. Duplicate Records:**\n",
        "\n",
        "● Question: Identify and quantify any duplicate records in the dataset. What method will\n",
        "you use to eliminate these duplicates, and why?"
      ],
      "metadata": {
        "id": "jHYc_EtP9Uo3"
      }
    },
    {
      "cell_type": "code",
      "source": [
        "duplicate_count = df.duplicated().sum()\n",
        "print(\"Number of duplicate records:\", duplicate_count)\n",
        "\n",
        "df_cleaned = df.drop_duplicates()\n",
        "\n",
        "print(\"Shape after removing duplicates:\", df_cleaned.shape)"
      ],
      "metadata": {
        "colab": {
          "base_uri": "https://localhost:8080/"
        },
        "id": "mFw8lpQY9cZi",
        "outputId": "d3ea513d-d700-4e8f-90f3-46c2af05ba0a"
      },
      "execution_count": 15,
      "outputs": [
        {
          "output_type": "stream",
          "name": "stdout",
          "text": [
            "Number of duplicate records: 0\n",
            "Shape after removing duplicates: (75757, 9)\n"
          ]
        }
      ]
    },
    {
      "cell_type": "code",
      "source": [],
      "metadata": {
        "id": "_Epecc089cem"
      },
      "execution_count": null,
      "outputs": []
    },
    {
      "cell_type": "markdown",
      "source": [
        "#**7. Outlier Detection with Boxplots:**\n",
        "\n",
        "● Question: Create boxplots for each variable to visually identify outliers. How will the\n",
        "presence of outliers impact your analysis and how do you plan to address them?"
      ],
      "metadata": {
        "id": "5tjB8dAk9csE"
      }
    },
    {
      "cell_type": "code",
      "source": [
        "import seaborn as sns\n",
        "import matplotlib.pyplot as plt\n",
        "\n",
        "sns.set(style=\"whitegrid\")\n",
        "\n",
        "plt.figure(figsize=(12, 6))\n",
        "sns.boxplot(data=df, orient=\"h\", palette=\"Set2\")\n",
        "plt.title(\"Boxplots of Variables\")\n",
        "plt.show()"
      ],
      "metadata": {
        "colab": {
          "base_uri": "https://localhost:8080/",
          "height": 568
        },
        "id": "cGlm2YQm9imT",
        "outputId": "1d225418-ea18-4a5d-9d38-c66adcd187a8"
      },
      "execution_count": 16,
      "outputs": [
        {
          "output_type": "display_data",
          "data": {
            "text/plain": [
              "<Figure size 1200x600 with 1 Axes>"
            ],
            "image/png": "[encoded data removed]"
          },
          "metadata": {}
        }
      ]
    },
    {
      "cell_type": "code",
      "source": [],
      "metadata": {
        "id": "xF9OyFIU9ipJ"
      },
      "execution_count": null,
      "outputs": []
    },
    {
      "cell_type": "markdown",
      "source": [
        "#**8. Histogram Analysis for Distribution:**\n",
        "\n",
        "● Question: Generate histograms for each variable to examine their distributions. Are there\n",
        "any noticeable patterns or outliers? How does the distribution shape affect your\n",
        "preprocessing steps?"
      ],
      "metadata": {
        "id": "hhWXlAPp9i0O"
      }
    },
    {
      "cell_type": "code",
      "source": [
        "import seaborn as sns\n",
        "import matplotlib.pyplot as plt\n",
        "\n",
        "sns.set(style=\"whitegrid\")\n",
        "\n",
        "plt.figure(figsize=(12, 8))\n",
        "sns.histplot(data=df, kde=True, bins=20)\n",
        "plt.title(\"Histograms of Variables\")\n",
        "plt.xlabel(\"Value\")\n",
        "plt.ylabel(\"Frequency\")\n",
        "plt.show()"
      ],
      "metadata": {
        "colab": {
          "base_uri": "https://localhost:8080/",
          "height": 727
        },
        "id": "OiiDjf899n7t",
        "outputId": "71337a8f-c61c-4d61-9e8d-7cca7533df86"
      },
      "execution_count": 17,
      "outputs": [
        {
          "output_type": "display_data",
          "data": {
            "text/plain": [
              "<Figure size 1200x800 with 1 Axes>"
            ],
            "image/png": "[encoded data removed]"
          },
          "metadata": {}
        }
      ]
    },
    {
      "cell_type": "code",
      "source": [],
      "metadata": {
        "id": "Nxwh0zva9n-P"
      },
      "execution_count": null,
      "outputs": []
    },
    {
      "cell_type": "markdown",
      "source": [
        "#**9. Feature Scaling:**\n",
        "\n",
        "● Question: Do you need feature scaling in this dataset? Explain why"
      ],
      "metadata": {
        "id": "GkqNmnby9oH0"
      }
    },
    {
      "cell_type": "code",
      "source": [
        "#Feature scaling may be necessary in this dataset depending on the machine learning algorithms you plan to use and the characteristics of the variables. Some machine learning algorithms are sensitive to the scale of the input features. For example, distance-based algorithms like k-nearest neighbors (KNN) and support vector machines (SVM) are highly sensitive to feature scales. If features have vastly different scales, the algorithm might give more weight to features with larger scales, leading to biased results. Gradient descent-based algorithms, such as linear regression and neural networks, converge faster when features are scaled. Without scaling, the optimization process might take longer to reach the minimum loss or may not converge at all. Regularization techniques like Ridge and Lasso regression penalize large coefficients. Scaling features ensures that the regularization term treats all features equally, preventing bias towards features with larger scales. Clustering algorithms like k-means and hierarchical clustering use distance metrics to group similar data points. If features have different scales, the distance computation might be dominated by features with larger scales, leading to suboptimal clustering results."
      ],
      "metadata": {
        "id": "4v6sRQRQ9t_d"
      },
      "execution_count": null,
      "outputs": []
    },
    {
      "cell_type": "code",
      "source": [],
      "metadata": {
        "id": "gHT7fsn09uBv"
      },
      "execution_count": null,
      "outputs": []
    },
    {
      "cell_type": "markdown",
      "source": [
        "#**10. Outlier Detection with Z-score:**\n",
        "\n",
        "● Question: Use the Z-score method to detect outliers in the dataset. How will you decide\n",
        "which outliers to handle and what strategies will you employ?"
      ],
      "metadata": {
        "id": "0oijPDjL9uJX"
      }
    },
    {
      "cell_type": "code",
      "source": [
        "from scipy import stats\n",
        "\n",
        "z_scores = stats.zscore(df.select_dtypes(include=['float64', 'int64']))\n",
        "\n",
        "threshold = 3\n",
        "\n",
        "outliers = (abs(z_scores) > threshold).any(axis=1)\n",
        "\n",
        "print(\"Indices of outliers:\", df.index[outliers].tolist())"
      ],
      "metadata": {
        "colab": {
          "base_uri": "https://localhost:8080/"
        },
        "id": "duu1rYvo9y1v",
        "outputId": "bc421855-606d-4ec4-f13e-2afe339a48c2"
      },
      "execution_count": 18,
      "outputs": [
        {
          "output_type": "stream",
          "name": "stdout",
          "text": [
            "Indices of outliers: [13, 24, 26, 56, 93, 95, 108, 113, 124, 125, 144, 155, 161, 164, 170, 179, 201, 214, 245, 292, 306, 331, 334, 335, 337, 358, 359, 360, 361, 362, 363, 364, 365, 366, 367, 368, 369, 370, 371, 372, 373, 374, 375, 376, 377, 378, 379, 380, 381, 382, 383, 384, 385, 386, 387, 388, 389, 390, 391, 392, 393, 394, 395, 396, 397, 398, 399, 400, 401, 415, 422, 427, 445, 452, 488, 510, 524, 546, 573, 589, 596, 597, 600, 602, 609, 649, 687, 691, 709, 777, 808, 851, 852, 853, 854, 868, 878, 888, 903, 904, 919, 923, 930, 944, 1011, 1032, 1033, 1034, 1035, 1036, 1037, 1038, 1039, 1040, 1041, 1042, 1043, 1044, 1045, 1046, 1049, 1053, 1054, 1055, 1056, 1057, 1058, 1061, 1064, 1065, 1066, 1067, 1068, 1069, 1070, 1071, 1072, 1073, 1074, 1075, 1076, 1077, 1078, 1079, 1080, 1081, 1082, 1083, 1084, 1085, 1086, 1087, 1088, 1089, 1090, 1091, 1092, 1093, 1094, 1095, 1096, 1097, 1098, 1099, 1100, 1101, 1102, 1103, 1104, 1105, 1106, 1107, 1108, 1109, 1110, 1111, 1112, 1113, 1114, 1115, 1116, 1117, 1118, 1119, 1120, 1121, 1122, 1123, 1124, 1125, 1126, 1127, 1128, 1129, 1130, 1131, 1132, 1133, 1134, 1135, 1136, 1137, 1138, 1139, 1140, 1141, 1142, 1143, 1144, 1145, 1146, 1147, 1148, 1149, 1150, 1151, 1152, 1153, 1154, 1155, 1156, 1157, 1158, 1159, 1160, 1161, 1162, 1163, 1164, 1165, 1166, 1167, 1168, 1169, 1170, 1171, 1172, 1173, 1174, 1175, 1176, 1177, 1178, 1179, 1180, 1181, 1182, 1183, 1184, 1185, 1186, 1187, 1188, 1189, 1190, 1191, 1192, 1193, 1194, 1195, 1196, 1197, 1198, 1199, 1200, 1201, 1202, 1203, 1204, 1205, 1206, 1207, 1208, 1209, 1210, 1211, 1212, 1213, 1214, 1215, 1216, 1217, 1218, 1219, 1220, 1221, 1222, 1223, 1224, 1225, 1226, 1227, 1228, 1229, 1230, 1231, 1232, 1233, 1234, 1235, 1236, 1237, 1238, 1239, 1240, 1241, 1242, 1243, 1244, 1245, 1246, 1247, 1248, 1249, 1250, 1251, 1252, 1253, 1254, 1255, 1256, 1257, 1258, 1259, 1260, 1261, 1262, 1263, 1264, 1265, 1266, 1267, 1268, 1269, 1270, 1271, 1272, 1273, 1274, 1275, 1276, 1277, 1278, 1279, 1280, 1281, 1282, 1283, 1284, 1285, 1286, 1287, 1288, 1289, 1290, 1291, 1292, 1293, 1294, 1295, 1296, 1297, 1298, 1299, 1300, 1301, 1302, 1303, 1304, 1305, 1306, 1307, 1308, 1309, 1310, 1311, 1312, 1313, 1314, 1315, 1316, 1317, 1318, 1319, 1320, 1321, 1322, 1323, 1324, 1325, 1326, 1327, 1328, 1329, 1330, 1331, 1332, 1333, 1334, 1335, 1336, 1337, 1338, 1339, 1340, 1341, 1342, 1343, 1344, 1345, 1346, 1347, 1348, 1349, 1350, 1351, 1352, 1353, 1354, 1355, 1356, 1357, 1358, 1359, 1360, 1361, 1362, 1363, 1364, 1365, 1366, 1367, 1368, 1369, 1370, 1371, 1372, 1373, 1374, 1375, 1376, 1377, 1378, 1379, 1380, 1381, 1382, 1383, 1384, 1385, 1386, 1387, 1388, 1389, 1390, 1391, 1392, 1393, 1394, 1395, 1396, 1397, 1398, 1399, 1400, 1401, 1402, 1403, 1404, 1405, 1406, 1407, 1408, 1409, 1410, 1411, 1412, 1413, 1414, 1415, 1416, 1417, 1418, 1419, 1420, 1421, 1422, 1423, 1424, 1425, 1426, 1427, 1428, 1429, 1430, 1431, 1432, 1433, 1434, 1435, 1436, 1437, 1438, 1439, 1440, 1441, 1442, 1443, 1444, 1445, 1446, 1447, 1448, 1449, 1450, 1451, 1452, 1453, 1454, 1455, 1456, 1457, 1458, 1459, 1460, 1461, 1462, 1463, 1464, 1465, 1466, 1467, 1468, 1469, 1470, 1471, 1472, 1473, 1474, 1475, 1476, 1477, 1478, 1479, 1480, 1481, 1482, 1483, 1484, 1485, 1486, 1487, 1488, 1489, 1490, 1491, 1492, 1493, 1494, 1495, 1496, 1497, 1498, 1499, 1500, 1501, 1502, 1503, 1504, 1505, 1506, 1507, 1508, 1509, 1510, 1511, 1512, 1513, 1514, 1515, 1516, 1517, 1518, 1519, 1520, 1521, 1522, 1523, 1524, 1525, 1526, 1527, 1528, 1529, 1530, 1531, 1532, 1533, 1534, 1535, 1536, 1537, 1538, 1539, 1540, 1541, 1542, 1543, 1544, 1545, 1546, 1547, 1548, 1549, 1550, 1551, 1552, 1553, 1554, 1555, 1556, 1557, 1558, 1559, 1560, 1561, 1562, 1563, 1564, 1565, 1566, 1567, 1568, 1569, 1570, 1571, 1572, 1573, 1574, 1575, 1576, 1577, 1578, 1579, 1580, 1581, 1582, 1583, 1584, 1585, 1586, 1587, 1588, 1589, 1590, 1591, 1592, 1593, 1594, 1595, 1596, 1597, 1598, 1599, 1600, 1601, 1602, 1603, 1604, 1605, 1606, 1607, 1608, 1609, 1610, 1611, 1612, 1613, 1614, 1615, 1616, 1617, 1618, 1619, 1620, 1621, 1622, 1623, 1624, 1625, 1626, 1627, 1628, 1629, 1630, 1631, 1632, 1633, 1634, 1635, 1636, 1637, 1638, 1639, 1640, 1641, 1642, 1643, 1644, 1645, 1646, 1647, 1648, 1649, 1650, 1651, 1652, 1653, 1654, 1655, 1656, 1657, 1658, 1659, 1660, 1661, 1662, 1663, 1664, 1665, 1666, 1667, 1668, 1669, 1670, 1671, 1672, 1673, 1674, 1675, 1676, 1677, 1678, 1679, 1680, 1681, 1682, 1683, 1684, 1685, 1686, 1687, 1688, 1689, 1690, 1691, 1692, 1693, 1694, 1695, 1696, 1697, 1698, 1699, 1700, 1701, 1702, 1703, 1704, 1705, 1706, 1707, 1708, 1709, 1710, 1711, 1712, 1713, 1714, 1715, 1716, 1717, 1718, 1719, 1720, 1721, 1722, 1723, 1724, 1725, 1726, 1727, 1728, 1729, 1730, 1731, 1732, 1733, 1734, 1735, 1736, 1737, 1738, 1739, 1740, 1741, 1742, 1743, 1744, 1745, 1746, 1747, 1748, 1749, 1750, 1751, 1752, 1753, 1754, 1755, 1756, 1757, 1758, 1759, 1760, 1761, 1762, 1763, 1764, 1765, 1766, 1767, 1768, 1769, 1770, 1771, 1772, 1773, 1774, 1775, 1776, 1777, 1778, 1779, 1780, 1781, 1782, 1783, 1784, 1785, 1786, 1787, 1788, 1789, 1790, 1791, 1792, 1793, 1794, 1795, 1796, 1797, 1798, 1799, 1800, 1801, 1802, 1803, 1804, 1805, 1806, 1807, 1808, 1809, 1810, 1811, 1812, 1813, 1814, 1815, 1816, 1817, 1818, 1819, 1820, 1821, 1822, 1823, 1824, 1825, 1826, 1827, 1828, 1829, 1830, 1831, 1832, 1833, 1834, 1835, 1836, 1837, 1838, 1839, 1840, 1841, 1842, 1843, 1844, 1845, 1846, 1847, 1848, 1849, 1850, 1851, 1852, 1853, 1854, 1855, 1856, 1857, 1858, 1859, 1860, 1861, 1862, 1863, 1864, 1865, 1866, 1867, 1868, 1869, 1870, 1871, 1872, 1873, 1874, 1875, 1876, 1877, 1878, 1879, 1880, 1881, 1882, 1883, 1884, 1885, 1886, 1887, 1888, 1889, 1890, 1891, 1892, 1893, 1894, 1895, 1896, 1897, 1898, 1899, 1900, 1901, 1902, 1903, 1904, 1905, 1906, 1907, 1908, 1909, 1910, 1911, 1912, 1913, 1914, 1915, 1916, 1917, 1918, 1919, 1920, 1921, 1922, 1923, 1924, 1925, 1926, 1927, 1928, 1929, 1930, 1931, 1932, 1933, 1934, 1935, 1936, 1937, 1938, 1939, 1940, 1941, 1942, 1943, 1944, 1945, 1946, 1947, 1948, 1949, 1950, 1951, 1952, 1953, 1954, 1955, 1956, 1957, 1958, 1959, 1960, 1961, 1962, 1963, 1964, 1965, 1966, 1967, 1968, 1969, 1970, 1971, 1972, 1973, 1974, 1975, 1976, 1977, 1978, 1979, 1980, 1981, 1982, 1983, 1984, 1985, 1986, 1987, 1988, 1989, 1990, 1991, 1992, 1993, 1994, 1995, 1996, 1997, 1998, 1999, 2000, 2001, 2002, 2003, 2004, 2005, 2006, 2007, 2008, 2009, 2010, 2011, 2012, 2013, 2014, 2015, 2016, 2017, 2018, 2019, 2020, 2021, 2022, 2023, 2024, 2025, 2026, 2027, 2028, 2029, 2030, 2031, 2032, 2033, 2034, 2035, 2036, 2037, 2038, 2039, 2040, 2041, 2042, 2043, 2044, 2045, 2046, 2047, 2048, 2049, 2050, 2051, 2052, 2053, 2054, 2055, 2056, 2057, 2058, 2059, 2060, 2061, 2062, 2063, 2064, 2065, 2066, 2067, 2068, 2069, 2070, 2071, 2072, 2073, 2074, 2075, 2076, 2077, 2078, 2079, 2080, 2081, 2082, 2083, 2084, 2085, 2086, 2087, 2088, 2089, 2090, 2091, 2092, 2093, 2094, 2095, 2096, 2097, 2098, 2099, 2100, 2101, 2102, 2103, 2104, 2105, 2106, 2107, 2108, 2109, 2110, 2111, 2112, 2113, 2114, 2115, 2116, 2117, 2118, 2119, 2120, 2121, 2122, 2123, 2124, 2125, 2126, 2127, 2128, 2129, 2130, 2131, 2132, 2133, 2134, 2135, 2136, 2137, 2138, 2139, 2140, 2141, 2142, 2143, 2144, 2145, 2146, 2147, 2148, 2149, 2150, 2151, 2152, 2153, 2154, 2155, 2156, 2157, 2158, 2159, 2160, 2161, 2162, 2163, 2164, 2165, 2166, 2167, 2168, 2169, 2170, 2171, 2172, 2173, 2174, 2175, 2176, 2177, 2178, 2179, 2180, 2181, 2182, 2183, 2184, 2185, 2186, 2187, 2188, 2189, 2190, 2191, 2192, 2193, 2194, 2195, 2196, 2197, 2198, 2199, 2200, 2201, 2202, 2203, 2204, 2205, 2206, 2207, 2208, 2209, 2210, 2211, 2212, 2213, 2214, 2215, 2216, 2217, 2218, 2219, 2220, 2221, 2222, 2223, 2224, 2225, 2226, 2227, 2228, 2229, 2230, 2231, 2232, 2233, 2234, 2235, 2236, 2237, 2238, 2239, 2240, 2241, 2242, 2243, 2246, 2247, 2248, 2251, 2252, 2253, 2254, 2255, 2256, 2257, 2260, 2261, 2262, 2263, 2264, 2265, 2268, 2269, 2270, 2271, 2272, 2273, 2274, 2275, 2276, 2280, 2281, 2282, 2283, 2284, 2285, 2286, 2287, 2288, 2289, 2290, 2291, 2292, 2293, 2294, 2295, 2301, 2303, 2304, 2305, 2306, 2307, 2309, 2310, 2311, 2313, 2314, 2315, 2316, 2317, 2318, 2319, 2320, 2321, 2322, 2323, 2324, 2325, 2326, 2327, 2328, 2329, 2330, 2331, 2332, 2333, 2334, 2335, 2336, 2337, 2338, 2339, 2340, 2341, 2342, 2343, 2344, 2345, 2346, 2347, 2348, 2349, 2350, 2351, 2352, 2353, 2354, 2355, 2356, 2357, 2358, 2359, 2360, 2361, 2362, 2363, 2364, 2365, 2366, 2367, 2368, 2369, 2370, 2371, 2372, 2373, 2374, 2375, 2376, 2377, 2378, 2380, 2381, 2382, 2384, 2385, 2386, 2387, 2388, 2389, 2390, 2391, 2392, 2396, 2397, 2398, 2400, 2404, 2407, 2408, 2409, 2410, 2412, 2413, 2415, 2439, 2440, 2446, 2463, 2479, 2486, 2505, 2522, 2526, 2552, 2586, 2603, 2669, 2704, 2715, 2782, 2824, 2860, 2875, 2878, 2886, 2893, 2942, 2944, 2957, 2966, 2972, 3007, 3014, 3015, 3018, 3021, 3026, 3084, 3104, 3269, 3348, 3358, 3359, 3360, 3361, 3380, 3388, 3406, 3447, 3464, 3465, 3466, 3467, 3468, 3469, 3470, 3471, 3472, 3473, 3474, 3475, 3476, 3477, 3478, 3479, 3480, 3482, 3483, 3484, 3485, 3488, 3499, 3500, 3501, 3502, 3504, 3505, 3506, 3507, 3513, 3516, 3517, 3518, 3522, 3523, 3524, 3525, 3526, 3527, 3529, 3530, 3531, 3532, 3534, 3535, 3541, 3542, 3543, 3544, 3545, 3546, 3547, 3548, 3549, 3550, 3551, 3552, 3553, 3554, 3555, 3556, 3557, 3558, 3559, 3560, 3561, 3562, 3563, 3564, 3565, 3566, 3567, 3568, 3569, 3570, 3571, 3572, 3573, 3574, 3575, 3576, 3577, 3578, 3579, 3580, 3581, 3582, 3583, 3584, 3585, 3586, 3587, 3588, 3589, 3590, 3591, 3592, 3593, 3594, 3595, 3596, 3597, 3598, 3599, 3600, 3601, 3602, 3603, 3604, 3605, 3606, 3607, 3608, 3609, 3610, 3611, 3612, 3613, 3614, 3615, 3616, 3617, 3618, 3619, 3620, 3621, 3622, 3623, 3624, 3625, 3626, 3627, 3628, 3629, 3630, 3631, 3632, 3633, 3634, 3635, 3636, 3637, 3638, 3639, 3640, 3641, 3642, 3643, 3644, 3645, 3646, 3647, 3648, 3649, 3650, 3651, 3652, 3653, 3654, 3655, 3656, 3657, 3658, 3659, 3660, 3661, 3662, 3663, 3664, 3665, 3666, 3667, 3668, 3669, 3670, 3671, 3672, 3673, 3674, 3675, 3676, 3677, 3678, 3679, 3680, 3681, 3682, 3683, 3684, 3685, 3686, 3687, 3688, 3689, 3690, 3691, 3692, 3693, 3694, 3695, 3696, 3697, 3698, 3699, 3700, 3701, 3702, 3703, 3704, 3705, 3706, 3707, 3708, 3709, 3710, 3711, 3712, 3713, 3714, 3715, 3716, 3717, 3718, 3719, 3720, 3721, 3722, 3723, 3724, 3725, 3726, 3727, 3728, 3729, 3730, 3731, 3732, 3733, 3734, 3735, 3736, 3737, 3738, 3739, 3740, 3741, 3742, 3743, 3744, 3745, 3746, 3747, 3748, 3749, 3750, 3751, 3752, 3753, 3754, 3755, 3756, 3757, 3758, 3759, 3760, 3761, 3762, 3763, 3764, 3765, 3766, 3767, 3768, 3769, 3770, 3771, 3772, 3773, 3774, 3775, 3776, 3777, 3778, 3779, 3780, 3781, 3782, 3783, 3784, 3785, 3786, 3787, 3788, 3789, 3790, 3791, 3792, 3793, 3794, 3795, 3796, 3797, 3798, 3799, 3800, 3801, 3802, 3803, 3804, 3805, 3806, 3807, 3808, 3809, 3810, 3811, 3812, 3813, 3814, 3815, 3816, 3817, 3818, 3819, 3820, 3821, 3822, 3823, 3824, 3825, 3826, 3827, 3828, 3829, 3830, 3831, 3832, 3833, 3834, 3835, 3836, 3837, 3838, 3839, 3840, 3841, 3842, 3843, 3844, 3845, 3846, 3847, 3848, 3849, 3850, 3851, 3852, 3853, 3854, 3855, 3856, 3857, 3858, 3859, 3860, 3861, 3862, 3863, 3864, 3865, 3866, 3867, 3868, 3869, 3870, 3871, 3872, 3873, 3874, 3875, 3876, 3877, 3878, 3879, 3880, 3881, 3882, 3883, 3884, 3885, 3886, 3887, 3888, 3889, 3890, 3891, 3892, 3893, 3894, 3895, 3896, 3897, 3898, 3899, 3900, 3901, 3902, 3903, 3904, 3905, 3906, 3907, 3908, 3909, 3910, 3911, 3912, 3913, 3914, 3915, 3916, 3917, 3918, 3919, 3920, 3921, 3922, 3923, 3924, 3925, 3926, 3927, 3928, 3929, 3930, 3931, 3932, 3933, 3934, 3935, 3936, 3937, 3938, 3939, 3940, 3941, 3942, 3943, 3944, 3945, 3946, 3947, 3948, 3949, 3950, 3951, 3952, 3953, 3954, 3955, 3956, 3957, 3958, 3959, 3960, 3961, 3962, 3963, 3964, 3965, 3966, 3967, 3968, 3969, 3970, 3971, 3972, 3973, 3974, 3975, 3976, 3977, 3978, 3979, 3980, 3981, 3982, 3983, 3984, 3985, 3986, 3987, 3988, 3989, 3990, 3991, 3992, 3993, 3994, 3995, 3996, 3997, 3998, 3999, 4000, 4001, 4002, 4003, 4004, 4005, 4006, 4007, 4008, 4009, 4010, 4011, 4012, 4013, 4014, 4015, 4016, 4017, 4018, 4019, 4020, 4021, 4022, 4023, 4024, 4025, 4026, 4027, 4028, 4029, 4030, 4031, 4032, 4033, 4034, 4035, 4036, 4037, 4038, 4039, 4040, 4041, 4042, 4043, 4044, 4045, 4046, 4047, 4048, 4049, 4050, 4051, 4052, 4053, 4054, 4055, 4056, 4057, 4058, 4059, 4060, 4061, 4062, 4063, 4064, 4065, 4066, 4067, 4068, 4069, 4070, 4071, 4072, 4073, 4074, 4075, 4076, 4077, 4078, 4079, 4080, 4081, 4082, 4083, 4084, 4085, 4086, 4087, 4088, 4089, 4090, 4091, 4092, 4093, 4094, 4095, 4096, 4097, 4098, 4099, 4100, 4101, 4102, 4103, 4104, 4105, 4106, 4107, 4108, 4109, 4110, 4111, 4112, 4113, 4114, 4115, 4116, 4117, 4118, 4119, 4120, 4121, 4122, 4123, 4124, 4125, 4126, 4127, 4128, 4129, 4130, 4131, 4132, 4133, 4134, 4135, 4136, 4137, 4138, 4139, 4140, 4141, 4142, 4143, 4144, 4145, 4146, 4147, 4148, 4149, 4150, 4151, 4152, 4153, 4154, 4155, 4156, 4157, 4158, 4159, 4160, 4161, 4162, 4163, 4164, 4165, 4166, 4167, 4168, 4169, 4170, 4171, 4172, 4173, 4174, 4175, 4176, 4177, 4178, 4179, 4180, 4181, 4182, 4183, 4184, 4185, 4186, 4187, 4188, 4189, 4190, 4191, 4192, 4193, 4194, 4195, 4196, 4197, 4198, 4199, 4200, 4201, 4202, 4203, 4204, 4205, 4206, 4207, 4208, 4209, 4210, 4211, 4212, 4213, 4214, 4215, 4216, 4217, 4218, 4219, 4220, 4221, 4222, 4223, 4224, 4225, 4226, 4227, 4228, 4229, 4230, 4231, 4232, 4233, 4234, 4235, 4236, 4237, 4238, 4239, 4240, 4241, 4242, 4243, 4244, 4245, 4246, 4247, 4248, 4249, 4250, 4251, 4252, 4253, 4254, 4255, 4256, 4257, 4258, 4259, 4260, 4261, 4262, 4263, 4264, 4265, 4266, 4267, 4268, 4269, 4270, 4271, 4272, 4273, 4274, 4275, 4276, 4277, 4278, 4279, 4280, 4281, 4282, 4283, 4284, 4285, 4286, 4287, 4288, 4289, 4290, 4291, 4292, 4293, 4294, 4295, 4296, 4297, 4298, 4299, 4300, 4301, 4302, 4303, 4304, 4305, 4306, 4307, 4308, 4309, 4310, 4311, 4312, 4313, 4314, 4315, 4316, 4317, 4318, 4319, 4320, 4321, 4322, 4323, 4324, 4325, 4326, 4327, 4328, 4329, 4330, 4331, 4332, 4333, 4334, 4335, 4336, 4337, 4338, 4339, 4340, 4341, 4342, 4343, 4344, 4345, 4346, 4347, 4348, 4349, 4350, 4351, 4352, 4353, 4354, 4355, 4356, 4357, 4358, 4359, 4360, 4361, 4362, 4363, 4364, 4365, 4366, 4367, 4368, 4369, 4370, 4371, 4372, 4373, 4374, 4375, 4376, 4377, 4378, 4379, 4380, 4381, 4382, 4383, 4384, 4385, 4386, 4387, 4388, 4389, 4390, 4391, 4392, 4393, 4394, 4395, 4396, 4397, 4398, 4399, 4400, 4401, 4402, 4403, 4404, 4405, 4406, 4407, 4408, 4409, 4410, 4411, 4412, 4413, 4414, 4415, 4416, 4417, 4418, 4419, 4420, 4421, 4422, 4423, 4424, 4425, 4426, 4427, 4428, 4429, 4430, 4431, 4432, 4433, 4434, 4435, 4436, 4437, 4438, 4439, 4440, 4441, 4442, 4443, 4444, 4445, 4446, 4447, 4448, 4449, 4450, 4451, 4452, 4453, 4454, 4455, 4456, 4457, 4458, 4459, 4460, 4461, 4462, 4463, 4464, 4465, 4466, 4467, 4468, 4469, 4470, 4471, 4472, 4473, 4474, 4475, 4476, 4477, 4478, 4479, 4480, 4481, 4482, 4483, 4484, 4485, 4486, 4487, 4488, 4489, 4490, 4491, 4492, 4493, 4494, 4495, 4496, 4497, 4498, 4499, 4500, 4501, 4502, 4503, 4504, 4505, 4506, 4507, 4508, 4509, 4510, 4511, 4512, 4513, 4514, 4515, 4516, 4517, 4518, 4519, 4520, 4521, 4522, 4523, 4524, 4525, 4526, 4527, 4528, 4529, 4530, 4531, 4532, 4533, 4534, 4535, 4536, 4537, 4538, 4539, 4540, 4541, 4542, 4543, 4544, 4545, 4546, 4547, 4548, 4549, 4550, 4551, 4552, 4553, 4554, 4555, 4556, 4557, 4558, 4559, 4560, 4561, 4562, 4563, 4564, 4565, 4566, 4567, 4568, 4569, 4570, 4571, 4572, 4573, 4574, 4575, 4576, 4577, 4578, 4579, 4580, 4581, 4584, 4619, 4624, 4640, 4658, 4661, 4670, 4720, 4800, 4826, 4832, 4837, 4847, 4919, 4969, 5007, 5025, 5040, 5117, 5159, 5166, 5167, 5171, 5174, 5181, 5218, 5243, 5261, 5429, 5506, 5515, 5516, 5517, 5518, 5537, 5544, 5599, 5630, 5639, 5642, 5673, 5730, 5735, 5737, 5765, 5777, 5796, 5800, 5840, 5853, 5918, 5984, 5986, 5989, 6002, 6045, 6048, 6063, 6066, 6099, 6103, 6106, 6109, 6115, 6121, 6143, 6205, 6246, 6293, 6324, 6388, 6402, 6403, 6512, 6526, 6567, 6571, 6671, 6698, 6708, 6736, 6760, 6781, 6909, 6914, 6931, 7092, 7214, 7253, 7255, 7259, 7299, 7305, 7365, 7374, 7383, 7385, 7391, 7395, 7418, 7552, 7588, 7640, 7644, 7694, 7734, 7807, 7819, 7820, 7929, 7939, 7958, 8015, 8021, 8166, 8172, 8199, 8222, 8383, 8411, 8419, 8447, 8615, 8764, 8782, 8786, 8824, 8834, 8835, 8842, 8911, 8919, 8927, 8930, 8937, 8939, 9050, 9117, 9122, 9189, 9192, 9239, 9275, 9350, 9352, 9453, 9464, 9527, 9533, 9602, 9675, 9727, 9745, 9860, 9877, 9907, 9944, 10030, 10216, 10260, 10265, 10274, 10275, 10281, 10331, 10337, 10345, 10354, 10386, 10450, 10489, 10490, 10491, 10492, 10493, 10494, 10495, 10496, 10497, 10498, 10499, 10500, 10501, 10502, 10503, 10504, 10505, 10506, 10507, 10508, 10509, 10510, 10511, 10512, 10513, 10514, 10515, 10516, 10517, 10518, 10519, 10520, 10521, 10522, 10523, 10524, 10525, 10526, 10527, 10528, 10529, 10530, 10531, 10532, 10533, 10534, 10535, 10536, 10537, 10538, 10539, 10540, 10541, 10542, 10543, 10544, 10545, 10546, 10547, 10548, 10549, 10550, 10551, 10552, 10553, 10554, 10555, 10556, 10557, 10558, 10559, 10560, 10561, 10562, 10563, 10564, 10565, 10566, 10567, 10568, 10569, 10570, 10571, 10572, 10573, 10574, 10575, 10576, 10577, 10578, 10579, 10580, 10581, 10582, 10583, 10584, 10585, 10586, 10587, 10588, 10589, 10590, 10591, 10592, 10593, 10594, 10595, 10596, 10597, 10598, 10599, 10600, 10601, 10602, 10603, 10604, 10605, 10606, 10607, 10608, 10609, 10610, 10611, 10612, 10613, 10614, 10615, 10616, 10617, 10618, 10619, 10620, 10621, 10622, 10623, 10624, 10625, 10626, 10627, 10628, 10629, 10630, 10631, 10632, 10633, 10634, 10635, 10636, 10637, 10638, 10639, 10640, 10641, 10642, 10643, 10644, 10645, 10646, 10647, 10648, 10649, 10650, 10651, 10652, 10653, 10654, 10655, 10656, 10657, 10658, 10659, 10660, 10661, 10662, 10663, 10664, 10665, 10666, 10667, 10668, 10669, 10670, 10671, 10672, 10673, 10674, 10675, 10676, 10677, 10678, 10679, 10680, 10681, 10682, 10683, 10684, 10685, 10686, 10687, 10688, 10689, 10690, 10691, 10692, 10693, 10694, 10695, 10696, 10697, 10698, 10699, 10700, 10701, 10702, 10703, 10704, 10705, 10706, 10707, 10708, 10709, 10710, 10711, 10712, 10713, 10714, 10715, 10716, 10717, 10718, 10719, 10720, 10725, 10752, 10762, 10778, 10782, 10824, 10842, 10879, 10887, 10888, 10890, 10894, 10896, 10898, 10902, 10908, 10919, 10920, 10922, 10923, 10928, 10929, 10930, 10932, 10945, 10952, 10954, 10960, 10968, 10974, 10977, 11040, 11042, 11077, 11087, 11102, 11103, 11104, 11131, 11132, 11133, 11139, 11154, 11180, 11224, 11246, 11254, 11256, 11266, 11269, 11271, 11272, 11273, 11274, 11275, 11276, 11277, 11278, 11279, 11287, 11289, 11290, 11295, 11296, 11299, 11309, 11310, 11311, 11313, 11351, 11352, 11353, 11355, 11357, 11358, 11359, 11360, 11361, 11362, 11364, 11374, 11385, 11386, 11387, 11399, 11409, 11410, 11411, 11416, 11426, 11432, 11441, 11442, 11443, 11444, 11445, 11447, 11448, 11449, 11458, 11475, 11476, 11477, 11478, 11479, 11480, 11481, 11482, 11483, 11485, 11486, 11492, 11493, 11499, 11519, 11522, 11526, 11536, 11538, 11539, 11540, 11541, 11542, 11558, 11559, 11569, 11601, 11615, 11620, 11626, 11627, 11628, 11629, 11631, 11635, 11636, 11651, 11658, 11695, 11710, 11719, 11733, 11734, 11735, 11736, 11737, 11738, 11739, 11740, 11741, 11742, 11743, 11744, 11745, 11746, 11747, 11753, 11798, 11832, 11833, 11834, 11835, 11836, 11837, 11838, 11839, 11840, 11841, 11842, 11843, 11844, 11845, 11846, 11847, 11848, 11849, 11850, 11867, 11868, 11869, 11870, 11871, 11872, 11873, 11874, 11875, 11880, 11881, 11884, 11917, 11935, 11965, 11966, 11967, 11968, 11969, 11970, 11971, 11972, 11973, 11974, 11975, 11976, 11977, 11978, 11979, 11980, 11981, 11982, 11983, 11984, 11985, 11986, 11987, 11988, 11989, 11990, 11991, 11992, 11993, 11994, 11995, 11996, 11997, 11998, 11999, 12000, 12001, 12002, 12003, 12004, 12005, 12006, 12007, 12008, 12009, 12010, 12011, 12012, 12013, 12014, 12015, 12016, 12017, 12018, 12019, 12020, 12021, 12022, 12038, 12040, 12049, 12050, 12051, 12052, 12053, 12054, 12055, 12056, 12057, 12058, 12059, 12061, 12063, 12065, 12088, 12089, 12090, 12091, 12092, 12093, 12094, 12095, 12096, 12097, 12098, 12099, 12100, 12101, 12102, 12103, 12104, 12105, 12106, 12107, 12108, 12114, 12123, 12124, 12125, 12126, 12127, 12128, 12129, 12130, 12131, 12132, 12133, 12134, 12135, 12136, 12137, 12138, 12139, 12140, 12141, 12142, 12143, 12144, 12145, 12146, 12147, 12148, 12149, 12150, 12151, 12152, 12153, 12154, 12155, 12156, 12157, 12158, 12159, 12160, 12161, 12162, 12163, 12164, 12165, 12166, 12167, 12168, 12176, 12181, 12182, 12227, 12246, 12251, 12262, 12317, 12390, 12406, 12415, 12418, 12424, 12427, 12431, 12434, 12439, 12443, 12452, 12462, 12463, 12465, 12466, 12471, 12472, 12476, 12489, 12497, 12500, 12505, 12536, 12571, 12592, 12595, 12698, 12710, 12735, 12791, 12810, 12814, 12829, 12835, 12864, 12865, 12887, 12902, 12946, 13033, 13069, 13077, 13079, 13089, 13093, 13115, 13116, 13117, 13118, 13127, 13129, 13130, 13137, 13141, 13151, 13152, 13153, 13157, 13217, 13218, 13219, 13221, 13223, 13224, 13225, 13226, 13227, 13228, 13229, 13231, 13241, 13251, 13252, 13253, 13266, 13280, 13281, 13282, 13288, 13306, 13334, 13339, 13340, 13342, 13343, 13344, 13353, 13373, 13376, 13377, 13378, 13379, 13380, 13381, 13382, 13383, 13384, 13386, 13387, 13395, 13396, 13419, 13429, 13432, 13436, 13450, 13452, 13457, 13458, 13459, 13487, 13488, 13498, 13542, 13566, 13571, 13582, 13583, 13584, 13585, 13587, 13591, 13593, 13624, 13634, 13687, 13706, 13718, 13768, 13769, 13781, 13881, 14031, 14070, 14071, 14078, 14141, 14171, 14340, 14348, 14416, 14420, 14421, 14446, 14455, 14460, 14473, 14479, 14571, 14606, 14627, 14678, 14762, 14776, 14831, 14834, 14835, 14838, 14842, 14863, 14871, 14877, 14878, 14904, 14905, 14914, 14915, 14929, 14935, 14982, 14991, 15003, 15004, 15029, 15097, 15098, 15112, 15113, 15114, 15116, 15118, 15122, 15133, 15153, 15154, 15155, 15159, 15178, 15186, 15210, 15223, 15224, 15228, 15252, 15286, 15364, 15365, 15366, 15367, 15368, 15369, 15372, 15378, 15390, 15422, 15428, 15439, 15440, 15441, 15445, 15537, 15561, 15577, 15671, 15672, 15673, 15675, 15716, 15749, 15769, 15783, 15806, 15807, 15812, 15819, 15820, 15840, 15868, 15875, 15877, 15884, 15896, 15897, 15899, 15902, 15962, 15976, 15979, 15999, 16003, 16024, 16027, 16028, 16056, 16067, 16071, 16099, 16111, 16125, 16134, 16151, 16152, 16167, 16168, 16169, 16171, 16178, 16183, 16184, 16185, 16186, 16187, 16190, 16191, 16200, 16247, 16253, 16256, 16257, 16264, 16270, 16277, 16278, 16292, 16293, 16309, 16310, 16311, 16327, 16333, 16349, 16350, 16351, 16374, 16375, 16376, 16391, 16412, 16413, 16435, 16438, 16456, 16457, 16458, 16464, 16478, 16485, 16487, 16534, 16569, 16641, 16655, 16656, 16660, 16665, 16723, 16724, 16726, 16730, 16731, 16733, 16746, 16760, 16777, 16867, 16895, 16896, 16897, 16902, 16903, 16919, 16921, 16927, 16930, 16933, 16936, 16945, 16951, 16955, 16984, 16986, 16987, 16991, 17072, 17080, 17084, 17101, 17129, 17130, 17195, 17197, 17370, 17387, 17414, 17426, 17479, 17480, 17481, 17577, 17661, 17710, 17726, 17731, 17732, 17738, 17740, 17751, 17766, 17786, 17796, 17808, 17921, 17965, 17973, 18014, 18021, 18022, 18023, 18027, 18059, 18072, 18081, 18087, 18106, 18126, 18136, 18176, 18192, 18193, 18230, 18237, 18289, 18340, 18354, 18373, 18384, 18385, 18403, 18429, 18432, 18433, 18466, 18480, 18562, 18575, 18599, 18614, 18617, 18733, 18735, 18990, 19154, 19195, 19220, 19236, 19376, 19416, 19417, 19421, 19450, 19476, 19477, 19478, 19479, 19480, 19490, 19555, 19566, 19621, 19639, 19821, 19823, 19826, 19827, 19828, 19830, 19839, 19840, 19843, 19846, 19847, 19853, 19855, 19862, 19896, 19910, 19943, 19944, 19947, 19961, 19985, 19988, 20072, 20080, 20092, 20094, 20095, 20101, 20103, 20105, 20247, 20249, 20250, 20253, 20256, 20258, 20259, 20262, 20269, 20286, 20287, 20295, 20299, 20326, 20352, 20353, 20364, 20390, 20401, 20415, 20721, 20722, 20729, 20744, 20758, 20774, 20776, 21102, 21168, 21169, 21174, 21301, 21304, 21621, 21688, 21693, 21808, 21873, 21901, 22062, 22088, 22139, 22201, 22202, 22239, 22288, 22290, 22291, 22292, 22302, 22311, 22353, 22355, 22356, 22362, 22363, 22540, 22597, 22667, 22707, 22807, 22928, 22958, 23160, 23436, 23493, 23540, 23620, 23669, 23761, 23762, 23835, 23861, 23865, 23926, 24010, 24219, 24232, 24304, 24411, 24533, 24536, 24567, 24738, 24876, 24899, 24905, 24907, 24933, 24989, 25061, 25065, 25076, 25231, 25259, 25260, 25344, 25441, 25704, 25721, 25724, 25725, 26041, 26042, 26073, 26121, 26200, 26253, 26453, 26454, 26466, 26474, 26511, 26536, 26593, 26673, 26757, 26790, 26793, 26797, 26803, 26807, 26808, 26815, 26836, 26852, 26856, 26857, 26858, 26859, 26875, 26891, 26916, 26937, 26939, 26983, 26984, 26985, 26989, 26990, 27108, 27114, 27115, 27116, 27118, 27138, 27139, 27148, 27157, 27172, 27182, 27197, 27207, 27252, 27424, 27441, 27504, 27509, 27636, 27657, 27672, 27704, 27796, 27797, 27798, 27927, 27939, 28003, 28008, 28053, 28057, 28107, 28124, 28125, 28187, 28313, 28323, 28367, 28434, 28440, 28482, 28495, 28498, 28516, 28522, 28530, 28559, 28560, 28562, 28580, 28661, 28662, 28698, 28777, 28778, 28780, 28781, 28830, 28836, 28903, 28951, 29054, 29055, 29067, 29093, 29097, 29106, 29117, 29180, 29182, 29185, 29223, 29238, 29270, 29275, 29279, 29314, 29335, 29336, 29338, 29355, 29368, 29377, 29402, 29404, 29406, 29407, 29440, 29455, 29461, 29565, 29566, 29569, 29570, 29571, 29573, 29575, 29582, 29583, 29584, 29589, 29593, 29595, 29601, 29637, 29641, 29644, 29653, 29678, 29681, 29682, 29684, 29728, 29732, 29740, 29741, 29742, 29744, 29751, 29753, 29754, 29755, 29791, 29813, 29818, 29822, 29860, 29863, 29874, 29878, 29879, 29916, 30146, 30159, 30161, 30170, 30215, 30269, 30340, 30512, 30520, 30581, 30628, 30667, 30675, 30695, 30696, 30698, 30709, 30710, 30714, 30781, 30800, 31191, 31243, 31257, 31307, 31328, 31337, 31338, 31405, 31455, 31478, 31727, 31748, 31915, 31926, 31985, 32020, 32184, 32189, 32190, 32228, 32244, 32245, 32279, 32443, 32477, 32620, 32733, 32905, 32951, 32961, 32970, 33145, 33194, 33196, 33205, 33211, 33232, 33243, 33244, 33250, 33272, 33407, 33452, 33514, 33546, 33592, 33702, 33706, 33808, 34046, 34106, 34125, 34128, 34129, 34130, 34138, 34161, 34176, 34486, 34487, 34522, 34529, 34539, 34553, 34577, 34601, 34614, 34665, 34723, 34724, 34729, 34731, 34768, 34861, 34951, 34973, 34976, 34977, 34987, 34992, 35000, 35047, 35049, 35054, 35144, 35191, 35231, 35310, 35313, 35314, 35316, 35325, 35342, 35383, 35389, 35395, 35400, 35401, 35405, 35429, 35451, 35468, 35469, 35470, 35487, 35505, 35507, 35511, 35532, 35533, 35579, 35580, 35584, 35586, 35611, 35674, 35714, 35716, 35720, 35726, 35728, 35729, 35730, 35733, 35752, 35758, 35767, 35770, 35778, 35801, 35810, 35826, 35838, 35898, 36016, 36078, 36088, 36090, 36112, 36197, 36337, 36343, 36345, 36363, 36378, 36417, 36519, 36520, 36572, 36670, 36739, 36740, 36745, 36790, 36794, 36796, 36800, 36801, 36868, 36869, 36876, 36950, 37055, 37091, 37104, 37152, 37210, 37232, 37237, 37286, 37303, 37307, 37327, 37333, 37339, 37342, 37364, 37389, 37395, 37400, 37492, 37494, 37516, 37537, 37568, 37627, 37628, 37631, 37632, 37636, 37674, 37695, 37699, 37770, 37821, 37922, 37954, 37956, 37971, 37988, 38002, 38010, 38015, 38022, 38032, 38116, 38118, 38122, 38171, 38223, 38230, 38271, 38283, 38303, 38306, 38307, 38309, 38333, 38355, 38383, 38385, 38387, 38388, 38415, 38430, 38436, 38509, 38540, 38541, 38543, 38545, 38547, 38548, 38549, 38550, 38553, 38554, 38562, 38563, 38566, 38570, 38571, 38578, 38579, 38585, 38622, 38628, 38632, 38644, 38676, 38678, 38679, 38693, 38734, 38739, 38746, 38747, 38748, 38760, 38762, 38763, 38764, 38765, 38768, 38802, 38832, 38837, 38881, 38883, 38893, 38897, 38898, 38940, 39017, 39165, 39178, 39183, 39193, 39205, 39240, 39288, 39373, 39552, 39562, 39624, 39667, 39671, 39715, 39723, 39747, 39749, 39757, 39758, 39761, 39775, 39810, 39825, 39845, 39863, 40159, 40276, 40324, 40334, 40335, 40376, 40384, 40410, 40435, 40444, 40445, 40490, 40526, 40567, 40568, 40580, 40608, 40656, 40665, 40780, 40796, 40835, 40891, 40899, 40913, 40921, 40944, 41128, 41188, 41194, 41228, 41407, 41408, 41409, 41449, 41452, 41466, 41470, 41471, 41674, 41774, 41853, 41867, 41868, 41963, 41967, 42008, 42152, 42193, 42199, 42207, 42224, 42231, 42465, 42467, 42491, 42501, 42502, 42533, 42555, 42679, 42697, 42796, 42831, 42856, 43007, 43057, 43447, 43471, 43472, 43477, 43515, 43521, 43840, 43865, 43866, 43916, 43929, 43983, 44017, 44049, 44116, 44117, 44381, 44382, 44383, 44396, 44403, 44409, 44416, 44419, 44423, 44426, 44474, 44486, 44627, 44640, 44768, 44772, 44773, 44775, 44793, 44846, 44853, 44863, 44865, 44870, 44874, 44875, 44933, 44957, 44970, 44992, 44994, 44999, 45003, 45021, 45024, 45084, 45089, 45091, 45176, 45214, 45225, 45226, 45256, 45260, 45268, 45293, 45304, 45324, 45397, 45528, 45597, 45607, 45740, 45902, 45903, 45918, 45942, 46312, 46326, 46327, 46332, 46350, 46381, 46383, 46403, 46404, 46405, 46407, 46408, 46477, 46487, 46743, 46794, 46891, 46943, 46985, 46991, 46994, 47060, 47158, 47160, 47165, 47189, 47213, 47320, 47324, 47325, 47330, 47396, 47480, 47687, 47689, 47707, 47737, 47742, 47746, 47750, 47758, 47768, 47844, 47847, 47851, 47853, 47901, 47949, 47951, 47957, 47962, 48019, 48021, 48030, 48033, 48034, 48036, 48066, 48090, 48117, 48120, 48121, 48141, 48157, 48171, 48258, 48261, 48292, 48293, 48296, 48301, 48303, 48310, 48311, 48314, 48317, 48320, 48324, 48325, 48332, 48333, 48349, 48377, 48379, 48380, 48385, 48386, 48391, 48406, 48442, 48444, 48445, 48455, 48502, 48506, 48534, 48536, 48537, 48538, 48543, 48588, 48605, 48607, 48618, 48625, 48677, 48685, 48815, 48943, 48996, 49001, 49013, 49080, 49095, 49227, 49425, 49429, 49435, 49460, 49558, 49613, 49655, 49656, 49660, 49662, 49674, 49702, 50268, 50284, 50308, 50377, 50378, 50484, 50500, 50542, 50776, 50845, 50886, 51087, 51149, 51156, 51195, 51671, 51800, 51914, 51932, 52035, 52205, 52303, 52326, 52337, 52611, 52616, 52682, 52703, 52715, 52768, 52899, 52917, 52944, 53090, 53126, 53131, 53132, 53135, 53200, 53202, 53326, 53358, 53371, 53372, 53432, 53765, 53798, 53931, 53976, 53977, 53978, 53984, 54015, 54031, 54064, 54068, 54084, 54409, 54456, 54486, 54525, 54538, 54549, 54558, 54643, 54678, 54743, 54871, 54889, 54892, 54988, 55000, 55001, 55080, 55092, 55423, 55424, 55425, 55441, 55448, 55454, 55458, 55503, 55549, 55565, 55566, 55569, 55576, 55578, 55584, 55595, 55608, 55642, 55810, 55828, 56018, 56054, 56069, 56136, 56148, 56155, 56158, 56162, 56165, 56167, 56171, 56172, 56231, 56236, 56253, 56254, 56255, 56256, 56267, 56281, 56304, 56306, 56317, 56319, 56344, 56347, 56432, 56434, 56435, 56442, 56444, 56513, 56555, 56575, 56612, 56617, 56621, 56634, 56639, 56641, 56684, 56685, 56692, 56705, 56711, 56712, 56718, 56723, 56757, 56771, 56797, 56812, 56884, 57021, 57110, 57124, 57126, 57239, 57281, 57288, 57401, 57424, 57438, 57521, 57524, 57531, 57532, 57550, 57583, 57682, 57722, 57729, 57730, 57752, 57754, 57755, 57811, 57841, 58018, 58024, 58038, 58043, 58102, 58110, 58111, 58128, 58204, 58213, 58330, 58463, 58507, 58521, 58576, 58634, 58638, 58674, 58730, 58744, 58747, 58749, 58765, 58772, 58774, 58775, 58785, 58788, 58791, 58828, 58868, 58887, 59035, 59036, 59038, 59046, 59055, 59074, 59099, 59146, 59210, 59217, 59221, 59222, 59227, 59309, 59398, 59645, 59647, 59665, 59680, 59699, 59705, 59714, 59812, 59814, 59816, 59820, 59822, 59871, 59877, 59933, 59935, 59941, 59947, 60011, 60042, 60045, 60046, 60048, 60062, 60076, 60099, 60130, 60134, 60135, 60167, 60181, 60209, 60272, 60277, 60315, 60318, 60320, 60322, 60325, 60326, 60327, 60331, 60342, 60345, 60348, 60351, 60353, 60356, 60362, 60368, 60389, 60418, 60420, 60425, 60426, 60431, 60448, 60486, 60489, 60490, 60499, 60506, 60517, 60561, 60564, 60567, 60587, 60627, 60629, 60630, 60631, 60632, 60635, 60684, 60700, 60704, 60717, 60723, 60781, 60789, 60794, 60795, 60796, 60797, 60807, 60808, 60869, 60870, 60949, 61084, 61106, 61142, 61156, 61161, 61165, 61183, 61202, 61209, 61252, 61269, 61351, 61417, 61610, 61643, 61670, 61770, 61775, 61803, 61820, 61831, 61842, 61899, 61900, 61905, 61939, 61963, 61973, 61988, 61989, 61991, 61992, 61993, 61994, 62061, 62070, 62217, 62536, 62584, 62650, 62670, 62698, 62811, 62853, 62997, 63003, 63014, 63016, 63022, 63037, 63163, 63180, 63243, 63380, 63381, 63402, 63509, 63537, 63596, 63634, 63716, 63785, 63860, 63861, 63888, 63914, 63948, 64017, 64249, 64254, 64285, 64334, 64357, 64538, 64696, 64737, 64821, 64824, 64970, 65164, 65271, 65284, 65533, 65627, 65628, 65639, 65645, 65650, 65674, 65684, 65691, 65700, 65709, 65752, 65769, 65790, 65791, 65793, 65800, 65807, 65819, 65824, 65836, 65848, 65850, 65854, 65855, 65857, 65867, 65900, 65907, 65908, 65925, 65991, 65996, 66002, 66038, 66064, 66066, 66073, 66076, 66079, 66100, 66104, 66132, 66152, 66155, 66156, 66157, 66159, 66162, 66185, 66186, 66200, 66205, 66253, 66273, 66275, 66294, 66314, 66328, 66330, 66370, 66388, 66411, 66422, 66426, 66434, 66456, 66459, 66463, 66487, 66491, 66501, 66506, 66571, 66575, 66588, 66608, 66609, 66616, 66638, 66653, 66668, 66672, 66676, 66677, 66686, 66710, 66717, 66734, 66752, 66806, 66814, 66853, 66875, 66886, 66891, 66913, 66915, 66941, 66963, 66966, 66967, 66974, 66985, 66996, 66997, 67065, 67088, 67091, 67092, 67105, 67130, 67139, 67141, 67187, 67209, 67228, 67238, 67248, 67269, 67270, 67276, 67292, 67304, 67317, 67331, 67344, 67398, 67413, 67423, 67435, 67436, 67442, 67461, 67469, 67487, 67505, 67509, 67512, 67513, 67519, 67561, 67576, 67578, 67595, 67638, 67643, 67654, 67681, 67683, 67715, 67750, 67754, 67757, 67762, 67789, 67797, 67840, 67842, 67843, 67848, 67876, 67877, 67992, 67993, 67998, 68024, 68034, 68092, 68094, 68115, 68133, 68147, 68152, 68177, 68178, 68184, 68205, 68214, 68232, 68233, 68245, 68253, 68329, 68366, 68378, 68392, 68399, 68452, 68465, 68501, 68505, 68506, 68507, 68513, 68584, 68585, 68593, 68603, 68608, 68610, 68635, 68710, 68720, 68724, 68730, 68773, 68840, 68845, 68903, 68944, 68947, 68948, 68949, 68953, 68967, 68986, 68988, 69002, 69115, 69127, 69128, 69135, 69186, 69224, 69260, 69265, 69306, 69310, 69347, 69354, 69469, 69503, 69546, 69571, 69588, 69627, 69666, 69773, 69788, 69791, 69819, 69821, 69993, 70025, 70058, 70066, 70074, 70079, 70107, 70118, 70121, 70283, 70312, 70315, 70319, 70320, 70330, 70332, 70344, 70347, 70366, 70373, 70377, 70378, 70379, 70398, 70463, 70488, 70515, 70529, 70554, 70574, 70742, 70743, 70778, 70824, 70914, 70941, 70942, 70951, 71001, 71040, 71044, 71119, 71236, 71238, 71274, 71276, 71279, 71450, 71481, 71492, 71572, 71576, 71583, 71584, 71585, 71677, 71732, 71741, 71781, 71831, 71836, 71837, 71846, 71881, 71884, 71945, 71952, 72065, 72110, 72116, 72150, 72199, 72232, 72384, 72421, 72532, 72533, 72534, 72538, 72544, 72545, 72662, 72672, 72739, 72763, 72821, 72856, 72964, 72984, 72987, 73015, 73017, 73191, 73222, 73255, 73271, 73280, 73285, 73323, 73325, 73385, 73481, 73508, 73510, 73513, 73517, 73518, 73527, 73529, 73541, 73543, 73562, 73572, 73573, 73574, 73594, 73654, 73658, 73675, 73683, 73710, 73712, 73729, 73754, 73775, 73946, 73947, 73983, 74027, 74117, 74154, 74155, 74163, 74170, 74212, 74252, 74256, 74330, 74442, 74444, 74482, 74484, 74487, 74663, 74695, 74706, 74785, 74796, 74797, 74798, 74799, 74800, 74801, 74802, 74803, 74804, 74805, 74806, 74807, 74808, 74881, 74899, 74955, 74964, 75003, 75051, 75061, 75071, 75106, 75109, 75176, 75289, 75337, 75343, 75376, 75424, 75456, 75520, 75754, 75755, 75756]\n"
          ]
        }
      ]
    },
    {
      "cell_type": "code",
      "source": [
        "#When deciding which outliers to handle and selecting appropriate strategies, it's essential to consider the data's nature, context, and impact on the analysis. Understanding the data's distribution and the outliers' relevance to the problem at hand is crucial. Outliers that are likely to introduce bias or distort the interpretation of results may warrant handling, whereas outliers representing meaningful insights may be retained. Common strategies such as removal, winsorization, transformation, imputation, or model-based handling can be employed based on the assessment of outliers and their impact on the analysis. By systematically evaluating outlier handling strategies and their implications, informed decisions can be made to ensure the robustness and validity of the analysis or modeling results."
      ],
      "metadata": {
        "id": "zC6-ck-C9y4Q"
      },
      "execution_count": null,
      "outputs": []
    },
    {
      "cell_type": "markdown",
      "source": [
        "#**11. Range Analysis:**\n",
        "\n",
        "● Question: Identify the maximum and minimum values for each variable. How do these\n",
        "ranges inform your preprocessing and analysis?"
      ],
      "metadata": {
        "id": "7mPIwx099zAm"
      }
    },
    {
      "cell_type": "code",
      "source": [
        "max_values = df.max()\n",
        "\n",
        "min_values = df.min()\n",
        "\n",
        "print(\"Maximum values for each variable:\")\n",
        "print(max_values)\n",
        "print(\"\\nMinimum values for each variable:\")\n",
        "print(min_values)"
      ],
      "metadata": {
        "colab": {
          "base_uri": "https://localhost:8080/"
        },
        "id": "en7Niyqq93QQ",
        "outputId": "01f83cb3-52c2-4e5e-9431-bb106de60233"
      },
      "execution_count": 19,
      "outputs": [
        {
          "output_type": "stream",
          "name": "stdout",
          "text": [
            "Maximum values for each variable:\n",
            "id                            75756\n",
            "building_class          Residential\n",
            "floor_area                6385382.0\n",
            "year_built                   2015.0\n",
            "precipitation_inches         107.69\n",
            "snowfall_inches               127.3\n",
            "avg_temp                  77.245205\n",
            "days_with_fog                 311.0\n",
            "site_eui                     997.87\n",
            "dtype: object\n",
            "\n",
            "Minimum values for each variable:\n",
            "id                               0\n",
            "building_class          Commercial\n",
            "floor_area                   943.0\n",
            "year_built                     0.0\n",
            "precipitation_inches           0.0\n",
            "snowfall_inches                0.0\n",
            "avg_temp                 44.512329\n",
            "days_with_fog                 12.0\n",
            "site_eui                       1.0\n",
            "dtype: object\n"
          ]
        }
      ]
    },
    {
      "cell_type": "code",
      "source": [
        "#Understanding the ranges of values for each variable in the dataset plays a crucial role in preprocessing and analysis. These ranges inform decisions regarding data scaling, outlier detection, imputation strategies, model interpretation, and feature engineering. By knowing the range of values, data scientists can appropriately scale features, detect outliers beyond expected thresholds, determine suitable imputation methods for missing data, interpret model coefficients, and make informed decisions about feature engineering techniques. Ultimately, considering the ranges of values ensures that preprocessing steps are tailored to the specific characteristics of the data, leading to more accurate and reliable analysis and modeling results."
      ],
      "metadata": {
        "id": "KLW-f-1A93Sz"
      },
      "execution_count": null,
      "outputs": []
    },
    {
      "cell_type": "markdown",
      "source": [
        "#**12. Encoding Categorical Variables:**\n",
        "\n",
        "● Question: Encode the categorical variable. Which method do you find most suitable for\n",
        "your dataset and why?"
      ],
      "metadata": {
        "id": "4u5MI-Yc93iR"
      }
    },
    {
      "cell_type": "code",
      "source": [
        "df_encoded = pd.get_dummies(df, columns=['building_class'], drop_first=True)"
      ],
      "metadata": {
        "id": "8PzeCgfT984m"
      },
      "execution_count": 20,
      "outputs": []
    },
    {
      "cell_type": "code",
      "source": [
        "#For the categorical variable \"building_class\" in this dataset, One-Hot Encoding emerges as the most suitable method. With nominal categories like \"Commercial\" and \"Residential,\" One-Hot Encoding effectively converts each category into binary dummy variables. This preserves the distinctness of each class without imposing any artificial order, critical for maintaining the integrity of the data. Moreover, the resulting orthogonal features facilitate accurate model training, ensuring that the machine learning algorithm can effectively distinguish between different building classes. Thus, One-Hot Encoding stands out as the preferred choice for preprocessing this categorical variable, optimizing it for subsequent analysis or modeling tasks."
      ],
      "metadata": {
        "id": "xEi5BN5k987W"
      },
      "execution_count": null,
      "outputs": []
    }
  ]
}