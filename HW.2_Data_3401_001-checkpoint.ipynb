{
 "cells": [
  {
   "cell_type": "markdown",
   "id": "f5622e1b",
   "metadata": {},
   "source": [
    "1.Bold and Italics\n",
    "\n",
    "Write a sentence where one word is in bold and another is in italics.\n",
    "Headers\n",
    "\n",
    "Create a hierarchy of headers from # (largest) to ### (smallest). Make up titles for each header level.\n",
    "Lists\n",
    "\n",
    "Create a bulleted list of your three favorite fruits"
   ]
  },
  {
   "cell_type": "markdown",
   "id": "3151f010",
   "metadata": {},
   "source": [
    "Hello my **name** is *Feyruz* Habteab.  \n",
    "\n"
   ]
  },
  {
   "cell_type": "markdown",
   "id": "5283fa30",
   "metadata": {},
   "source": [
    "# 1.Programing Language\n",
    "   ## 1.1.Python\n",
    "   ### 1.2.C+\n",
    "\n",
    "# 2.Python\n",
    "## 2.1.Google Collab\n",
    "### 2.2.Anaconda\n"
   ]
  },
  {
   "cell_type": "markdown",
   "id": "930dcdae",
   "metadata": {},
   "source": [
    "- Mango\n",
    "- Banana\n",
    "- orange"
   ]
  },
  {
   "cell_type": "markdown",
   "id": "86f483d5",
   "metadata": {},
   "source": [
    "Variable Assignment\n",
    "\n",
    "Assign the number 5 to a variable named a.\n",
    "Assign the number 10 to a variable named b.\n",
    "Compute the sum of a and b and assign it to a variable named c. Print out the value of c.\n",
    "\n",
    "PEMDAS\n",
    "\n",
    "Given the equation \n",
    "6+2×(5−32)+4/2:\n",
    "Solve the equation step-by-step, following the PEMDAS order, and comment each step in the Jupyter cell.\n",
    "Compute the final answer using Python and display the result."
   ]
  },
  {
   "cell_type": "code",
   "execution_count": 8,
   "id": "cccd4c75",
   "metadata": {},
   "outputs": [],
   "source": [
    "a=5\n",
    "b=10\n",
    "c=(a+b)"
   ]
  },
  {
   "cell_type": "code",
   "execution_count": 9,
   "id": "21b765ce",
   "metadata": {},
   "outputs": [
    {
     "name": "stdout",
     "output_type": "stream",
     "text": [
      "15\n"
     ]
    }
   ],
   "source": [
    "print(c)"
   ]
  },
  {
   "cell_type": "code",
   "execution_count": null,
   "id": "8170bfa4",
   "metadata": {},
   "outputs": [],
   "source": [
    "#6+2×(5−32)+4/2:\n",
    "\n",
    "## (5-32)=-28\n",
    "## 2*-28=-56\n",
    "## 4/2=2\n",
    "##6+(-56)+2=-48\n"
   ]
  },
  {
   "cell_type": "code",
   "execution_count": 16,
   "id": "da916771",
   "metadata": {},
   "outputs": [
    {
     "data": {
      "text/plain": [
       "-46.0"
      ]
     },
     "execution_count": 16,
     "metadata": {},
     "output_type": "execute_result"
    }
   ],
   "source": [
    "6+2*(5-32)+4/2"
   ]
  },
  {
   "cell_type": "code",
   "execution_count": null,
   "id": "73eee7de",
   "metadata": {},
   "outputs": [],
   "source": []
  },
  {
   "cell_type": "code",
   "execution_count": null,
   "id": "cca9e115",
   "metadata": {},
   "outputs": [],
   "source": []
  }
 ],
 "metadata": {
  "kernelspec": {
   "display_name": "Python 3 (ipykernel)",
   "language": "python",
   "name": "python3"
  },
  "language_info": {
   "codemirror_mode": {
    "name": "ipython",
    "version": 3
   },
   "file_extension": ".py",
   "mimetype": "text/x-python",
   "name": "python",
   "nbconvert_exporter": "python",
   "pygments_lexer": "ipython3",
   "version": "3.11.4"
  }
 },
 "nbformat": 4,
 "nbformat_minor": 5
}
