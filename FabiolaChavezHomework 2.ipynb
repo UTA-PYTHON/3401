{
 "cells": [
  {
   "cell_type": "markdown",
   "id": "183a0e19",
   "metadata": {},
   "source": [
    "# Fabiola Chavez\n",
    "## 1001991733"
   ]
  },
  {
   "cell_type": "markdown",
   "id": "4d490a3b",
   "metadata": {},
   "source": [
    "# Part 1: Markdown in Jupyter Notebook"
   ]
  },
  {
   "cell_type": "markdown",
   "id": "5e07e100",
   "metadata": {},
   "source": [
    "### Question 1 Bold and Italics"
   ]
  },
  {
   "cell_type": "markdown",
   "id": "92b26a3b",
   "metadata": {},
   "source": [
    "- #### write a sentence where one word is in bold and another is in italics\n",
    "- #### Create a hierarchy of headers from # (largest) to ### (smallest). Make up titles for each header level\n",
    "- #### Create a bulleted list of your three favorite fruits"
   ]
  },
  {
   "cell_type": "markdown",
   "id": "886db3e9",
   "metadata": {},
   "source": [
    "The **dog** and the *cat* do not get along very well "
   ]
  },
  {
   "cell_type": "markdown",
   "id": "ec71db35",
   "metadata": {},
   "source": [
    "# Title\n",
    "## Subtitle \n",
    "### Text"
   ]
  },
  {
   "cell_type": "markdown",
   "id": "fc122cc6",
   "metadata": {},
   "source": [
    "- oranges\n",
    "- grapes\n",
    "- blue berries"
   ]
  },
  {
   "cell_type": "markdown",
   "id": "5a1965d5",
   "metadata": {},
   "source": [
    "# Part 2: Python Basic \n",
    "## 1. Variable Assignment \n",
    "- Assign the number 5 to a variable named a \n",
    "- Assign the number 10 to a variable named b\n",
    "- Compute the sum of a and b and assign it to a variable named c. Print out the value of c "
   ]
  },
  {
   "cell_type": "code",
   "execution_count": 2,
   "id": "bcf7281d",
   "metadata": {},
   "outputs": [],
   "source": [
    "a = 5\n",
    "b = 10"
   ]
  },
  {
   "cell_type": "code",
   "execution_count": 4,
   "id": "1464fc14",
   "metadata": {},
   "outputs": [],
   "source": [
    "c = a+b"
   ]
  },
  {
   "cell_type": "code",
   "execution_count": 5,
   "id": "ccf8a4b3",
   "metadata": {},
   "outputs": [
    {
     "name": "stdout",
     "output_type": "stream",
     "text": [
      "15\n"
     ]
    }
   ],
   "source": [
    "print(c)"
   ]
  },
  {
   "cell_type": "markdown",
   "id": "b9b2b0bf",
   "metadata": {},
   "source": [
    "# 2. PEMDAS\n",
    "- Give the equation 6+2*(5-3^2)+4/26+2*(5-32)+4/2\n",
    "- Solve the equation step by step following the PEMDAS order, and comment each step in the Jupyter cell\n",
    "- Compute the final answer using Python and display the result"
   ]
  },
  {
   "cell_type": "code",
   "execution_count": 8,
   "id": "bc57f265",
   "metadata": {},
   "outputs": [
    {
     "data": {
      "text/plain": [
       "-4"
      ]
     },
     "execution_count": 8,
     "metadata": {},
     "output_type": "execute_result"
    }
   ],
   "source": [
    "(5-(3**2)) #first solve the parentheses "
   ]
  },
  {
   "cell_type": "code",
   "execution_count": 9,
   "id": "e0e3126a",
   "metadata": {},
   "outputs": [
    {
     "data": {
      "text/plain": [
       "-27"
      ]
     },
     "execution_count": 9,
     "metadata": {},
     "output_type": "execute_result"
    }
   ],
   "source": [
    "(5-32) #first solve the parentheses "
   ]
  },
  {
   "cell_type": "code",
   "execution_count": 10,
   "id": "740c877b",
   "metadata": {},
   "outputs": [
    {
     "data": {
      "text/plain": [
       "-8"
      ]
     },
     "execution_count": 10,
     "metadata": {},
     "output_type": "execute_result"
    }
   ],
   "source": [
    "2*(-4) #Because there are no exponents outside of the parentheses we can no solve the multiplication"
   ]
  },
  {
   "cell_type": "code",
   "execution_count": 11,
   "id": "76a1e161",
   "metadata": {},
   "outputs": [
    {
     "data": {
      "text/plain": [
       "-54"
      ]
     },
     "execution_count": 11,
     "metadata": {},
     "output_type": "execute_result"
    }
   ],
   "source": [
    "2*(-27)"
   ]
  },
  {
   "cell_type": "code",
   "execution_count": 12,
   "id": "c22bb878",
   "metadata": {},
   "outputs": [
    {
     "data": {
      "text/plain": [
       "2.0"
      ]
     },
     "execution_count": 12,
     "metadata": {},
     "output_type": "execute_result"
    }
   ],
   "source": [
    "4/2 # Now solve division portions"
   ]
  },
  {
   "cell_type": "code",
   "execution_count": 13,
   "id": "985ac39c",
   "metadata": {},
   "outputs": [
    {
     "data": {
      "text/plain": [
       "0.15384615384615385"
      ]
     },
     "execution_count": 13,
     "metadata": {},
     "output_type": "execute_result"
    }
   ],
   "source": [
    "4/26"
   ]
  },
  {
   "cell_type": "code",
   "execution_count": 15,
   "id": "410e6ec9",
   "metadata": {},
   "outputs": [
    {
     "data": {
      "text/plain": [
       "-53.84615384615385"
      ]
     },
     "execution_count": 15,
     "metadata": {},
     "output_type": "execute_result"
    }
   ],
   "source": [
    "6+(-8)+(0.15384615384615385)+(-54)+(2) #Now add all parts together"
   ]
  },
  {
   "cell_type": "code",
   "execution_count": 17,
   "id": "b0e7fa00",
   "metadata": {
    "scrolled": true
   },
   "outputs": [
    {
     "data": {
      "text/plain": [
       "-53.84615384615385"
      ]
     },
     "execution_count": 17,
     "metadata": {},
     "output_type": "execute_result"
    }
   ],
   "source": [
    "(6+2*(5-(3**2))+4/26+2*(5-32)+4/2)"
   ]
  },
  {
   "cell_type": "code",
   "execution_count": null,
   "id": "18c11e30",
   "metadata": {},
   "outputs": [],
   "source": []
  }
 ],
 "metadata": {
  "kernelspec": {
   "display_name": "Python 3 (ipykernel)",
   "language": "python",
   "name": "python3"
  },
  "language_info": {
   "codemirror_mode": {
    "name": "ipython",
    "version": 3
   },
   "file_extension": ".py",
   "mimetype": "text/x-python",
   "name": "python",
   "nbconvert_exporter": "python",
   "pygments_lexer": "ipython3",
   "version": "3.11.4"
  }
 },
 "nbformat": 4,
 "nbformat_minor": 5
}
