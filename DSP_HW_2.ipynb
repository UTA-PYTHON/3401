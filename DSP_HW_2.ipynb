{
  "nbformat": 4,
  "nbformat_minor": 0,
  "metadata": {
    "colab": {
      "provenance": [],
      "authorship_tag": "ABX9TyOBFNmUQVos/EXTm8f7nwLS",
      "include_colab_link": true
    },
    "kernelspec": {
      "name": "python3",
      "display_name": "Python 3"
    },
    "language_info": {
      "name": "python"
    }
  },
  "cells": [
    {
      "cell_type": "markdown",
      "metadata": {
        "id": "view-in-github",
        "colab_type": "text"
      },
      "source": [
        "<a href=\"https://colab.research.google.com/github/UTA-PYTHON/3401/blob/master/DSP_HW_2.ipynb\" target=\"_parent\"><img src=\"https://colab.research.google.com/assets/colab-badge.svg\" alt=\"Open In Colab\"/></a>"
      ]
    },
    {
      "cell_type": "code",
      "execution_count": 4,
      "metadata": {
        "colab": {
          "base_uri": "https://localhost:8080/"
        },
        "id": "oPgCUFg7r76p",
        "outputId": "5339cced-b9c4-4c5c-d23a-71c373b9833b"
      },
      "outputs": [
        {
          "output_type": "stream",
          "name": "stdout",
          "text": [
            "Brianda Paulina Rocha Heranandez\n"
          ]
        }
      ],
      "source": [
        "print(\"Brianda Paulina Rocha Heranandez\")"
      ]
    },
    {
      "cell_type": "markdown",
      "source": [
        "**This** and *that*"
      ],
      "metadata": {
        "id": "KpTD87yKszCp"
      }
    },
    {
      "cell_type": "markdown",
      "source": [
        "#big header\n",
        "##med header\n",
        "###small header"
      ],
      "metadata": {
        "id": "BWsQJI6ftCNL"
      }
    },
    {
      "cell_type": "markdown",
      "source": [
        "\n",
        "\n",
        "*   Grape\n",
        "*  Pear\n",
        "* Apple\n",
        "\n"
      ],
      "metadata": {
        "id": "eag1uAFVuTOE"
      }
    },
    {
      "cell_type": "code",
      "source": [
        "a = 5\n",
        "b = 10\n",
        "c = a + b\n",
        "print(c)"
      ],
      "metadata": {
        "colab": {
          "base_uri": "https://localhost:8080/"
        },
        "id": "0eQO0bVMuepC",
        "outputId": "512ae50c-9685-47ee-887a-7398e0089b63"
      },
      "execution_count": 2,
      "outputs": [
        {
          "output_type": "stream",
          "name": "stdout",
          "text": [
            "15\n"
          ]
        }
      ]
    },
    {
      "cell_type": "code",
      "source": [
        "6+2 * (5-3**2) +4/26+2 * (5-32) + 4/2"
      ],
      "metadata": {
        "colab": {
          "base_uri": "https://localhost:8080/"
        },
        "id": "dfsErmb1vYXl",
        "outputId": "770da720-1f87-4e52-ac39-8219d821bd57"
      },
      "execution_count": 3,
      "outputs": [
        {
          "output_type": "execute_result",
          "data": {
            "text/plain": [
              "-53.84615384615385"
            ]
          },
          "metadata": {},
          "execution_count": 3
        }
      ]
    }
  ]
}