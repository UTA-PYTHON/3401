{
 "cells": [
  {
   "cell_type": "markdown",
   "id": "3bf19c68",
   "metadata": {},
   "source": [
    "# Part 1: Markdown in Jupyter Notebook\n",
    "\n",
    "Ravhanna Chrisco 1002192616"
   ]
  },
  {
   "cell_type": "markdown",
   "id": "d614fefc",
   "metadata": {},
   "source": [
    "## 1. Bold And Italics"
   ]
  },
  {
   "cell_type": "markdown",
   "id": "b53f7ea3",
   "metadata": {},
   "source": [
    "**Welcome** to the *Python* Kingdom!"
   ]
  },
  {
   "cell_type": "markdown",
   "id": "353685bb",
   "metadata": {},
   "source": [
    "## 2. Headers"
   ]
  },
  {
   "cell_type": "markdown",
   "id": "84f42066",
   "metadata": {},
   "source": [
    "# King"
   ]
  },
  {
   "cell_type": "markdown",
   "id": "00b2523b",
   "metadata": {},
   "source": [
    "## Queen"
   ]
  },
  {
   "cell_type": "markdown",
   "id": "7cde2e83",
   "metadata": {},
   "source": [
    "### Princess"
   ]
  },
  {
   "cell_type": "markdown",
   "id": "5b286b83",
   "metadata": {},
   "source": [
    "## 3. Lists"
   ]
  },
  {
   "cell_type": "markdown",
   "id": "a5f2e888",
   "metadata": {},
   "source": [
    "- Bananas\n",
    "- Mango\n",
    "- Apples"
   ]
  },
  {
   "cell_type": "markdown",
   "id": "320d914a",
   "metadata": {},
   "source": [
    "# Part 2: Python Basics"
   ]
  },
  {
   "cell_type": "markdown",
   "id": "1ca53927",
   "metadata": {},
   "source": [
    "## Variable"
   ]
  },
  {
   "cell_type": "code",
   "execution_count": 4,
   "id": "2a366748",
   "metadata": {},
   "outputs": [
    {
     "name": "stdout",
     "output_type": "stream",
     "text": [
      "15\n"
     ]
    }
   ],
   "source": [
    "a=5\n",
    "b=10\n",
    "c=a+b\n",
    "print(c)"
   ]
  },
  {
   "cell_type": "markdown",
   "id": "e29d6697",
   "metadata": {},
   "source": [
    "## PEMDAS"
   ]
  },
  {
   "cell_type": "markdown",
   "id": "a7073b2a",
   "metadata": {},
   "source": [
    "6+2*(5-3**2)+4/26+2*(5-32)+4/2\n",
    "\n",
    "6+2*-4+4/26+2*-27+4/2\n",
    "\n",
    "6-8+4/26-54+4/2\n",
    "\n",
    "6-8+.1538-54+2\n",
    "\n",
    "-53.8462"
   ]
  },
  {
   "cell_type": "code",
   "execution_count": 5,
   "id": "b0b51063",
   "metadata": {},
   "outputs": [
    {
     "data": {
      "text/plain": [
       "-53.84615384615385"
      ]
     },
     "execution_count": 5,
     "metadata": {},
     "output_type": "execute_result"
    }
   ],
   "source": [
    "6+2*(5-3**2)+4/26+2*(5-32)+4/2"
   ]
  },
  {
   "cell_type": "code",
   "execution_count": null,
   "id": "2fc81847",
   "metadata": {},
   "outputs": [],
   "source": []
  }
 ],
 "metadata": {
  "kernelspec": {
   "display_name": "Python 3 (ipykernel)",
   "language": "python",
   "name": "python3"
  },
  "language_info": {
   "codemirror_mode": {
    "name": "ipython",
    "version": 3
   },
   "file_extension": ".py",
   "mimetype": "text/x-python",
   "name": "python",
   "nbconvert_exporter": "python",
   "pygments_lexer": "ipython3",
   "version": "3.11.4"
  }
 },
 "nbformat": 4,
 "nbformat_minor": 5
}
