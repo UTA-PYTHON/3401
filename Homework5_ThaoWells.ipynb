{
  "nbformat": 4,
  "nbformat_minor": 0,
  "metadata": {
    "colab": {
      "provenance": []
    },
    "kernelspec": {
      "name": "python3",
      "display_name": "Python 3"
    },
    "language_info": {
      "name": "python"
    }
  },
  "cells": [
    {
      "cell_type": "markdown",
      "source": [
        "#1."
      ],
      "metadata": {
        "id": "8JxFOk-_vTv-"
      }
    },
    {
      "cell_type": "code",
      "execution_count": 1,
      "metadata": {
        "id": "x832QH7GtnTm"
      },
      "outputs": [],
      "source": [
        "def add(n1,n2):\n",
        "  return n1+n2\n",
        "\n"
      ]
    },
    {
      "cell_type": "code",
      "source": [
        "add(4,10)"
      ],
      "metadata": {
        "colab": {
          "base_uri": "https://localhost:8080/"
        },
        "id": "O2KbwZbLvm5j",
        "outputId": "982f33f4-f7c9-47f2-c25d-1a147fad5889"
      },
      "execution_count": 2,
      "outputs": [
        {
          "output_type": "execute_result",
          "data": {
            "text/plain": [
              "14"
            ]
          },
          "metadata": {},
          "execution_count": 2
        }
      ]
    },
    {
      "cell_type": "markdown",
      "source": [
        "#2."
      ],
      "metadata": {
        "id": "v4I10PKxvp_L"
      }
    },
    {
      "cell_type": "code",
      "source": [
        "def average(list):\n",
        "  total = sum(list)\n",
        "  length = len(list)\n",
        "  if length == 0:\n",
        "    return 0\n",
        "  else:\n",
        "    print(total/length)\n"
      ],
      "metadata": {
        "id": "J5_8i4r1vrRq"
      },
      "execution_count": 12,
      "outputs": []
    },
    {
      "cell_type": "code",
      "source": [
        "average([1,2,3,4,4])"
      ],
      "metadata": {
        "colab": {
          "base_uri": "https://localhost:8080/"
        },
        "id": "pJRl8u1pyL9Z",
        "outputId": "da76db90-ef52-4847-db2d-2de4909c4324"
      },
      "execution_count": 13,
      "outputs": [
        {
          "output_type": "stream",
          "name": "stdout",
          "text": [
            "2.8\n"
          ]
        }
      ]
    },
    {
      "cell_type": "markdown",
      "source": [
        "#3."
      ],
      "metadata": {
        "id": "H5OM_cw3zMdS"
      }
    },
    {
      "cell_type": "code",
      "source": [
        "def factorial(n):\n",
        "  result=1\n",
        "  for i in range(1,n+1):\n",
        "    result *=i\n",
        "  return result"
      ],
      "metadata": {
        "id": "9q38Hr2IzN9e"
      },
      "execution_count": 23,
      "outputs": []
    },
    {
      "cell_type": "code",
      "source": [
        "factorial(8)"
      ],
      "metadata": {
        "colab": {
          "base_uri": "https://localhost:8080/"
        },
        "id": "K73c32hv0vmU",
        "outputId": "1bc213c7-1b47-4b1a-a0ee-ddf87e1c0bb9"
      },
      "execution_count": 24,
      "outputs": [
        {
          "output_type": "execute_result",
          "data": {
            "text/plain": [
              "40320"
            ]
          },
          "metadata": {},
          "execution_count": 24
        }
      ]
    },
    {
      "cell_type": "markdown",
      "source": [
        "#4."
      ],
      "metadata": {
        "id": "HtXAZBa01RKc"
      }
    },
    {
      "cell_type": "code",
      "source": [
        "def string_length(string):\n",
        "  count = 0\n",
        "  for char in string:\n",
        "    count += 1\n",
        "  return count"
      ],
      "metadata": {
        "id": "pcbLRN3a1Tmy"
      },
      "execution_count": 35,
      "outputs": []
    },
    {
      "cell_type": "code",
      "source": [
        "stringa = \"hello hello hello\"\n",
        "string_length(stringa)"
      ],
      "metadata": {
        "colab": {
          "base_uri": "https://localhost:8080/"
        },
        "id": "UId4op2D1yF3",
        "outputId": "5e04a550-e462-4399-c005-3aef1552908a"
      },
      "execution_count": 39,
      "outputs": [
        {
          "output_type": "execute_result",
          "data": {
            "text/plain": [
              "17"
            ]
          },
          "metadata": {},
          "execution_count": 39
        }
      ]
    },
    {
      "cell_type": "markdown",
      "source": [
        "#5."
      ],
      "metadata": {
        "id": "M_SeF2zM2lhB"
      }
    },
    {
      "cell_type": "code",
      "source": [
        "def is_prime(number):\n",
        "  if number < 2:\n",
        "    return False\n",
        "  for i in range(2, int(number/2)+1):\n",
        "    if number %i ==0:\n",
        "      return False\n",
        "  return True"
      ],
      "metadata": {
        "id": "Re2yyd0_2mhJ"
      },
      "execution_count": 52,
      "outputs": []
    },
    {
      "cell_type": "code",
      "source": [
        "is_prime(15)"
      ],
      "metadata": {
        "colab": {
          "base_uri": "https://localhost:8080/"
        },
        "id": "73tRWFR93SWk",
        "outputId": "675988f5-7067-4921-a550-4c67901d1687"
      },
      "execution_count": 56,
      "outputs": [
        {
          "output_type": "execute_result",
          "data": {
            "text/plain": [
              "False"
            ]
          },
          "metadata": {},
          "execution_count": 56
        }
      ]
    },
    {
      "cell_type": "markdown",
      "source": [
        "#6."
      ],
      "metadata": {
        "id": "TaitXjM03zzA"
      }
    },
    {
      "cell_type": "code",
      "source": [
        "def unique_elements(list):\n",
        "  unique_list = []\n",
        "  for n in list:\n",
        "    if n not in unique_list:\n",
        "      unique_list.append(n)\n",
        "  return unique_list\n",
        ""
      ],
      "metadata": {
        "id": "3YR-2rzS30zy"
      },
      "execution_count": 57,
      "outputs": []
    },
    {
      "cell_type": "code",
      "source": [
        "lista =[1,2,3,4,5,5,3,8, 8]\n",
        "unique_elements(lista)"
      ],
      "metadata": {
        "colab": {
          "base_uri": "https://localhost:8080/"
        },
        "id": "0rdkUy-CABGq",
        "outputId": "e499ffc8-0b0b-4d7f-a81e-ab73058488f8"
      },
      "execution_count": 59,
      "outputs": [
        {
          "output_type": "execute_result",
          "data": {
            "text/plain": [
              "[1, 2, 3, 4, 5, 8]"
            ]
          },
          "metadata": {},
          "execution_count": 59
        }
      ]
    }
  ]
}