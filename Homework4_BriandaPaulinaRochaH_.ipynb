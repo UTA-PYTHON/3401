{
  "nbformat": 4,
  "nbformat_minor": 0,
  "metadata": {
    "colab": {
      "provenance": [],
      "authorship_tag": "ABX9TyMdGT6amyBiFKmLQSNtL5Vm",
      "include_colab_link": true
    },
    "kernelspec": {
      "name": "python3",
      "display_name": "Python 3"
    },
    "language_info": {
      "name": "python"
    }
  },
  "cells": [
    {
      "cell_type": "markdown",
      "metadata": {
        "id": "view-in-github",
        "colab_type": "text"
      },
      "source": [
        "<a href=\"https://colab.research.google.com/github/UTA-PYTHON/3401/blob/master/Homework4_BriandaPaulinaRochaH_.ipynb\" target=\"_parent\"><img src=\"https://colab.research.google.com/assets/colab-badge.svg\" alt=\"Open In Colab\"/></a>"
      ]
    },
    {
      "cell_type": "code",
      "execution_count": 2,
      "metadata": {
        "colab": {
          "base_uri": "https://localhost:8080/"
        },
        "id": "G-AS-gbCkGYb",
        "outputId": "826d0993-6bc5-4366-dd0b-1ee668f3c406"
      },
      "outputs": [
        {
          "output_type": "stream",
          "name": "stdout",
          "text": [
            "['apples', 'banana', 'cherry', 'orange']\n",
            "('apples', 'banana', 'cherry')\n"
          ]
        }
      ],
      "source": [
        "fruits = [\"apples\", \"banana\", \"cherry\"]\n",
        "fruits_truple = tuple(fruits)\n",
        "fruits.append(\"orange\")\n",
        "print(fruits)\n",
        "print(fruits_truple)"
      ]
    },
    {
      "cell_type": "code",
      "source": [
        "person = {\n",
        "    \"first name\" : \"John\",\n",
        "    \"last name\" : \"Doe\",\n",
        "    \"age\" : 30\n",
        "}\n",
        "\n",
        "person[\"city\"] = \"New York\"\n",
        "print(person.keys())"
      ],
      "metadata": {
        "colab": {
          "base_uri": "https://localhost:8080/"
        },
        "id": "kIv84IA4kHso",
        "outputId": "4b0e9780-f62e-47ea-dcfd-4bdeca84ac28"
      },
      "execution_count": 5,
      "outputs": [
        {
          "output_type": "stream",
          "name": "stdout",
          "text": [
            "dict_keys(['first name', 'last name', 'age', 'city'])\n"
          ]
        }
      ]
    },
    {
      "cell_type": "code",
      "source": [
        "colors = {\"red\", \"blue\", \"green\"}\n",
        "colors.add(\"yellow\")\n",
        "colors.discard(\"blue\")\n",
        "\"pink\" in colors"
      ],
      "metadata": {
        "colab": {
          "base_uri": "https://localhost:8080/"
        },
        "id": "uJ3UM3NulhId",
        "outputId": "95221a42-40c5-4009-fdf7-ede41d9f0af5"
      },
      "execution_count": 6,
      "outputs": [
        {
          "output_type": "execute_result",
          "data": {
            "text/plain": [
              "False"
            ]
          },
          "metadata": {},
          "execution_count": 6
        }
      ]
    },
    {
      "cell_type": "code",
      "source": [
        "number = float(input(\"enter your number:\"))\n",
        "if number > 0:\n",
        "  print(\"positive\")\n",
        "elif number< 0:\n",
        "  print(\"Negative\")\n",
        "else :\n",
        "  print(\"zero\")"
      ],
      "metadata": {
        "colab": {
          "base_uri": "https://localhost:8080/"
        },
        "id": "Zpvz6vO3l5NR",
        "outputId": "2460befe-9d05-4aaf-9da0-881a1f967a80"
      },
      "execution_count": 12,
      "outputs": [
        {
          "output_type": "stream",
          "name": "stdout",
          "text": [
            "enter your number:-9\n",
            "Negative\n"
          ]
        }
      ]
    },
    {
      "cell_type": "code",
      "source": [
        "list = [23,45,8,12,78,56,89]\n",
        "for even in list:\n",
        "  if even % 2 ==0:\n",
        "    print(even)"
      ],
      "metadata": {
        "colab": {
          "base_uri": "https://localhost:8080/"
        },
        "id": "0-NIpjVamoyz",
        "outputId": "747cd738-c99c-4009-8f46-28593c914190"
      },
      "execution_count": 14,
      "outputs": [
        {
          "output_type": "stream",
          "name": "stdout",
          "text": [
            "8\n",
            "12\n",
            "78\n",
            "56\n"
          ]
        }
      ]
    },
    {
      "cell_type": "code",
      "source": [
        "age = int(input(\"What is your age?\"))\n",
        "\n",
        "if age >= 18:\n",
        "  print(\"you can vote\")\n",
        "else:\n",
        "  print(\"you cannot vote\")"
      ],
      "metadata": {
        "colab": {
          "base_uri": "https://localhost:8080/"
        },
        "id": "CMBE8gZanGUV",
        "outputId": "f3cbbf42-15ba-435b-d3c8-106979081dab"
      },
      "execution_count": 17,
      "outputs": [
        {
          "output_type": "stream",
          "name": "stdout",
          "text": [
            "What is your age?78\n",
            "you can vote\n"
          ]
        }
      ]
    },
    {
      "cell_type": "code",
      "source": [
        "sum = 0\n",
        "while True:\n",
        "  userin = input(\"enter number or press q to quit\")\n",
        "Q hacesum = 0\n",
        "while True:\n",
        "  userin = input(\"enter number or press q to quit\")\n",
        "  if userin.lower() == 'q':\n",
        "    break\n",
        "  sum += float(userin)\n",
        "  print(sum)"
      ],
      "metadata": {
        "colab": {
          "base_uri": "https://localhost:8080/"
        },
        "id": "w021M5dJn5Yr",
        "outputId": "af965f4e-9508-40b8-a7d2-38c073ba40ce"
      },
      "execution_count": 20,
      "outputs": [
        {
          "name": "stdout",
          "output_type": "stream",
          "text": [
            "enter number or press q to quit8\n",
            "8.0\n",
            "enter number or press q to quit9\n",
            "17.0\n",
            "enter number or press q to quit6\n",
            "23.0\n",
            "enter number or press q to quitq\n"
          ]
        }
      ]
    },
    {
      "cell_type": "code",
      "source": [
        "count = 10\n",
        "while count > 0:\n",
        "  print(count)\n",
        "  count -= 1\n",
        "\n",
        "print(\"Liftoff!\")\n"
      ],
      "metadata": {
        "colab": {
          "base_uri": "https://localhost:8080/"
        },
        "id": "oNlzab72orPd",
        "outputId": "c944a6be-1f78-450d-c5f1-6581c9b4d86b"
      },
      "execution_count": 23,
      "outputs": [
        {
          "output_type": "stream",
          "name": "stdout",
          "text": [
            "10\n",
            "9\n",
            "8\n",
            "7\n",
            "6\n",
            "5\n",
            "4\n",
            "3\n",
            "2\n",
            "1\n",
            "Liftoff!\n"
          ]
        }
      ]
    },
    {
      "cell_type": "code",
      "source": [
        "num = int(input(\"enter a num:\"))\n",
        "i = 1\n",
        "while i <= 12 :\n",
        "  print(num, \"x\", i, \"=\", num * i)\n",
        "  i += 1"
      ],
      "metadata": {
        "colab": {
          "base_uri": "https://localhost:8080/"
        },
        "id": "E2ITal4ppCre",
        "outputId": "55523d1a-7c2e-4cfe-c27e-84b68f04f1ee"
      },
      "execution_count": 27,
      "outputs": [
        {
          "output_type": "stream",
          "name": "stdout",
          "text": [
            "enter a num:8\n",
            "8 x 1 = 8\n",
            "8 x 2 = 16\n",
            "8 x 3 = 24\n",
            "8 x 4 = 32\n",
            "8 x 5 = 40\n",
            "8 x 6 = 48\n",
            "8 x 7 = 56\n",
            "8 x 8 = 64\n",
            "8 x 9 = 72\n",
            "8 x 10 = 80\n",
            "8 x 11 = 88\n",
            "8 x 12 = 96\n"
          ]
        }
      ]
    },
    {
      "cell_type": "code",
      "source": [
        "list = [\"apple\", \"banana\", \"cherry\", \"date\"]\n",
        "for fruit in list:\n",
        "  print(fruit)"
      ],
      "metadata": {
        "colab": {
          "base_uri": "https://localhost:8080/"
        },
        "id": "uLwKF-Tjp2OA",
        "outputId": "8e4e4ba6-c60e-4ae3-ce4a-f5c94eb78cc9"
      },
      "execution_count": 28,
      "outputs": [
        {
          "output_type": "stream",
          "name": "stdout",
          "text": [
            "apple\n",
            "banana\n",
            "cherry\n",
            "date\n"
          ]
        }
      ]
    },
    {
      "cell_type": "code",
      "source": [
        "numb = int(input(\"enter number:\"))\n",
        "fact = 1\n",
        "for i in range (1, numb +1):\n",
        "  fact *= i\n",
        "\n",
        "print(fact)"
      ],
      "metadata": {
        "colab": {
          "base_uri": "https://localhost:8080/"
        },
        "id": "yP14FkevqMHP",
        "outputId": "52895623-235f-4628-b034-d5bcba283c5c"
      },
      "execution_count": 30,
      "outputs": [
        {
          "output_type": "stream",
          "name": "stdout",
          "text": [
            "enter number:8\n",
            "40320\n"
          ]
        }
      ]
    },
    {
      "cell_type": "code",
      "source": [
        "\n",
        "total = 0\n",
        "for _ in range(5):\n",
        "  num = int(input(\"enter 5 numbers:\"))\n",
        "  total += num\n",
        "avg = total/5\n",
        "print(avg)\n"
      ],
      "metadata": {
        "colab": {
          "base_uri": "https://localhost:8080/"
        },
        "id": "WvAo8qm_rLH8",
        "outputId": "299971e8-a540-49f5-929c-9b6c5916d59b"
      },
      "execution_count": 32,
      "outputs": [
        {
          "output_type": "stream",
          "name": "stdout",
          "text": [
            "enter 5 numbers:2\n",
            "enter 5 numbers:2\n",
            "enter 5 numbers:2\n",
            "enter 5 numbers:2\n",
            "enter 5 numbers:2\n",
            "2.0\n"
          ]
        }
      ]
    }
  ]
}