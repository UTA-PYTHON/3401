{
 "cells": [
  {
   "cell_type": "markdown",
   "id": "16428745",
   "metadata": {},
   "source": [
    "# **Homework 2**: Part One"
   ]
  },
  {
   "cell_type": "markdown",
   "id": "9ffaf791",
   "metadata": {},
   "source": [
    "#### 1. **Bold** and *Italics*"
   ]
  },
  {
   "cell_type": "markdown",
   "id": "7a5327da",
   "metadata": {},
   "source": [
    "This sentence *contains* one word that is bold and one word that is in **italics**."
   ]
  },
  {
   "cell_type": "markdown",
   "id": "dc3d1a18",
   "metadata": {},
   "source": [
    "#### 2. Headers:"
   ]
  },
  {
   "cell_type": "markdown",
   "id": "a13b6cdd",
   "metadata": {},
   "source": [
    "# Hierarchy\n",
    "## is\n",
    "### Finished"
   ]
  },
  {
   "cell_type": "markdown",
   "id": "c02d7387",
   "metadata": {},
   "source": [
    "#### 3. Lists: Favorite fruits"
   ]
  },
  {
   "cell_type": "markdown",
   "id": "c335886f",
   "metadata": {},
   "source": [
    "- Mango\n",
    "- Rasberries \n",
    "- Watermelon"
   ]
  },
  {
   "cell_type": "markdown",
   "id": "ee735a78",
   "metadata": {},
   "source": [
    "# Part Two"
   ]
  },
  {
   "cell_type": "markdown",
   "id": "372e81f3",
   "metadata": {},
   "source": [
    "#### 1. Variable Assignment"
   ]
  },
  {
   "cell_type": "code",
   "execution_count": 1,
   "id": "35510a6b",
   "metadata": {},
   "outputs": [],
   "source": [
    "a,b = 5,10"
   ]
  },
  {
   "cell_type": "code",
   "execution_count": 2,
   "id": "bfb63138",
   "metadata": {},
   "outputs": [],
   "source": [
    "c = a + b"
   ]
  },
  {
   "cell_type": "code",
   "execution_count": 3,
   "id": "ec60c50b",
   "metadata": {},
   "outputs": [
    {
     "name": "stdout",
     "output_type": "stream",
     "text": [
      "15\n"
     ]
    }
   ],
   "source": [
    "print(c)"
   ]
  },
  {
   "cell_type": "markdown",
   "id": "9119b183",
   "metadata": {},
   "source": [
    "#### 2. PEMDAS"
   ]
  },
  {
   "cell_type": "markdown",
   "id": "7f4e1268",
   "metadata": {},
   "source": [
    "Given: 6 + 2 * (5 - 3**2) + 4/26 + 2 * (5 - 32) + 4/2"
   ]
  },
  {
   "cell_type": "markdown",
   "id": "7c65a205",
   "metadata": {},
   "source": [
    "Simplify functions inside of **Parenthesis:** 6 + 2 * (-4) + 4/26 + 2 * (-27) + 4/2"
   ]
  },
  {
   "cell_type": "markdown",
   "id": "76e678e6",
   "metadata": {},
   "source": [
    "Simplify all **Multiplication** functions: 6 + (-8) + 4/26 + (-54) + 4/2"
   ]
  },
  {
   "cell_type": "markdown",
   "id": "1802dd00",
   "metadata": {},
   "source": [
    "**Division:** 6 + (-8) + 2/13 + (-54) + 2"
   ]
  },
  {
   "cell_type": "markdown",
   "id": "63516022",
   "metadata": {},
   "source": [
    "**Addition + Subtraction:**  6 + (-8) + 2/13 + (-54) + 2"
   ]
  },
  {
   "cell_type": "markdown",
   "id": "3d4d2c81",
   "metadata": {},
   "source": [
    "Answer: -53 11/13"
   ]
  },
  {
   "cell_type": "code",
   "execution_count": 10,
   "id": "fb21dc65",
   "metadata": {},
   "outputs": [
    {
     "data": {
      "text/plain": [
       "-53.84615384615385"
      ]
     },
     "execution_count": 10,
     "metadata": {},
     "output_type": "execute_result"
    }
   ],
   "source": [
    "-53-11/13"
   ]
  },
  {
   "cell_type": "markdown",
   "id": "84bb6941",
   "metadata": {},
   "source": [
    "## Python's PEMDAS"
   ]
  },
  {
   "cell_type": "code",
   "execution_count": 9,
   "id": "c675b4a8",
   "metadata": {},
   "outputs": [
    {
     "data": {
      "text/plain": [
       "-53.84615384615385"
      ]
     },
     "execution_count": 9,
     "metadata": {},
     "output_type": "execute_result"
    }
   ],
   "source": [
    "6 + 2 * (5 - 3**2) + 4/26 +2 * (5 - 32) + 4/2"
   ]
  }
 ],
 "metadata": {
  "kernelspec": {
   "display_name": "Python 3 (ipykernel)",
   "language": "python",
   "name": "python3"
  },
  "language_info": {
   "codemirror_mode": {
    "name": "ipython",
    "version": 3
   },
   "file_extension": ".py",
   "mimetype": "text/x-python",
   "name": "python",
   "nbconvert_exporter": "python",
   "pygments_lexer": "ipython3",
   "version": "3.11.4"
  }
 },
 "nbformat": 4,
 "nbformat_minor": 5
}
