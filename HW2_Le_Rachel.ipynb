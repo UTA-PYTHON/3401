{
  "nbformat": 4,
  "nbformat_minor": 0,
  "metadata": {
    "colab": {
      "provenance": []
    },
    "kernelspec": {
      "name": "python3",
      "display_name": "Python 3"
    },
    "language_info": {
      "name": "python"
    }
  },
  "cells": [
    {
      "cell_type": "markdown",
      "source": [
        "Part 1: Markdown in Jupyter Notebook\n",
        "\n",
        "1. Bold and Italics\n",
        "\n",
        "  Write a sentence where one word is in bold and another is in italics.\n"
      ],
      "metadata": {
        "id": "caZAIOXx96z-"
      }
    },
    {
      "cell_type": "markdown",
      "source": [
        "This is a basic sentence where one word is **bolded** and one is *italicized*."
      ],
      "metadata": {
        "id": "j6DpEytk-F1P"
      }
    },
    {
      "cell_type": "markdown",
      "source": [
        "***"
      ],
      "metadata": {
        "id": "zkjyh6Xx-4_Q"
      }
    },
    {
      "cell_type": "markdown",
      "source": [
        "\n",
        "\n",
        "2. Headers\n",
        "\n",
        "    Create a hierarchy of headers from # (largest) to ### (smallest). Make up titles for each header level.\n",
        "\n"
      ],
      "metadata": {
        "id": "8k5b64zu-ROq"
      }
    },
    {
      "cell_type": "markdown",
      "source": [
        "# Big Title\n",
        "## Subtitle\n",
        "### Sub-subtitle\n",
        "#### Sub-sub-subtitle"
      ],
      "metadata": {
        "id": "uFoaGZXo-SmU"
      }
    },
    {
      "cell_type": "markdown",
      "source": [
        "***"
      ],
      "metadata": {
        "id": "ZpKsB6WF-8GA"
      }
    },
    {
      "cell_type": "markdown",
      "source": [
        "3. Lists\n",
        "\n",
        "    Create a bulleted list of your three favorite fruits"
      ],
      "metadata": {
        "id": "FoFHKTuE-xXD"
      }
    },
    {
      "cell_type": "markdown",
      "source": [
        "Favorite fruits:\n",
        "\n",
        "- Mango\n",
        "- Persimmons\n",
        "- Cherries"
      ],
      "metadata": {
        "id": "VU0Tp3vw-4Bi"
      }
    },
    {
      "cell_type": "markdown",
      "source": [
        "***"
      ],
      "metadata": {
        "id": "xVo2-KJb_NJj"
      }
    },
    {
      "cell_type": "markdown",
      "source": [
        "Part 2: Python Basics\n",
        "\n",
        "1. Variable Assignment\n",
        "  \n",
        "  Assign the number 5 to a variable named a."
      ],
      "metadata": {
        "id": "f4ugYieC_N9t"
      }
    },
    {
      "cell_type": "code",
      "execution_count": 1,
      "metadata": {
        "id": "HIsQTOim95oO"
      },
      "outputs": [],
      "source": [
        "a=5"
      ]
    },
    {
      "cell_type": "markdown",
      "source": [
        "Assign the number 10 to a variable named b."
      ],
      "metadata": {
        "id": "8JCfSpXL_bwM"
      }
    },
    {
      "cell_type": "code",
      "source": [
        "b=10"
      ],
      "metadata": {
        "id": "gx6Uhn-d_ZhL"
      },
      "execution_count": 2,
      "outputs": []
    },
    {
      "cell_type": "markdown",
      "source": [
        "Compute the sum of a and b and assign it to a variable named c. Print out the value of c."
      ],
      "metadata": {
        "id": "kD1u6GwB_kC_"
      }
    },
    {
      "cell_type": "code",
      "source": [
        "c=a+b"
      ],
      "metadata": {
        "id": "TfzELTz3_jjY"
      },
      "execution_count": 3,
      "outputs": []
    },
    {
      "cell_type": "code",
      "source": [
        "print(c)"
      ],
      "metadata": {
        "colab": {
          "base_uri": "https://localhost:8080/"
        },
        "id": "lhsS-USI_qV2",
        "outputId": "56a07855-8e1c-49b6-a07f-fa6b82606a7b"
      },
      "execution_count": 5,
      "outputs": [
        {
          "output_type": "stream",
          "name": "stdout",
          "text": [
            "15\n"
          ]
        }
      ]
    },
    {
      "cell_type": "markdown",
      "source": [
        "***"
      ],
      "metadata": {
        "id": "42vjCIs__vLM"
      }
    },
    {
      "cell_type": "markdown",
      "source": [
        "PEMDAS\n",
        "\n",
        "    Given the equation\n",
        "\n",
        "6+2×(5−3^2)+4/26+2x(5-32)+4/2:\n",
        "\n",
        "    Solve the equation step-by-step, following the PEMDAS order, and comment each step in the Jupyter cell."
      ],
      "metadata": {
        "id": "DXwleBoY_w2M"
      }
    },
    {
      "cell_type": "markdown",
      "source": [
        "`2 math steps for doing the first parenthesis in the equation`\n",
        "\n",
        "6+2x(5-9)+4/26+2x(5-32)+4/2\n",
        "6+2x(-4)+4/26+2x(5-32)+4/2\n",
        "\n",
        "`Working on the second parenthesis in the equation`\n",
        "\n",
        "6+2x(-4)+4/26+2x(-27)+4/2\n",
        "\n",
        "`Working on multiplication, 2x(-4)`\n",
        "\n",
        "6-8+4/26+2x(-27)+4/2\n",
        "\n",
        "`Multiplication, 2x(-27)`\n",
        "\n",
        "6-8+4/26-54+4/2\n",
        "\n",
        "`Division w/ rounding to the thousanths, 4/26`\n",
        "\n",
        "6-8+0.154-54+4/2\n",
        "\n",
        "`Division, 4/2`\n",
        "\n",
        "6-8+0.154-54+2\n",
        "\n",
        "`Addition, -8+0.154`\n",
        "\n",
        "6-7.846-54+2\n",
        "\n",
        "`Addition, -54+2`\n",
        "\n",
        "6-7.846-52\n",
        "\n",
        "`Subtraction, 6-7.846`\n",
        "\n",
        "-1.846-52\n",
        "\n",
        "`Subtraction, -1.846-52; final answer to equation`\n",
        "\n",
        "-53.846"
      ],
      "metadata": {
        "id": "GJJflarGAGU2"
      }
    },
    {
      "cell_type": "markdown",
      "source": [
        "Compute the final answer using Python and display the result."
      ],
      "metadata": {
        "id": "hS2GGIWqAQOu"
      }
    },
    {
      "cell_type": "code",
      "source": [
        "6+2*(5-3**2)+4/26+2*(5-32)+4/2"
      ],
      "metadata": {
        "colab": {
          "base_uri": "https://localhost:8080/"
        },
        "id": "3we_gBtZ_sOB",
        "outputId": "b6e51698-01a5-4e39-a9fe-91ba07a19d7e"
      },
      "execution_count": 6,
      "outputs": [
        {
          "output_type": "execute_result",
          "data": {
            "text/plain": [
              "-53.84615384615385"
            ]
          },
          "metadata": {},
          "execution_count": 6
        }
      ]
    },
    {
      "cell_type": "code",
      "source": [],
      "metadata": {
        "id": "oYZrR7fqBL8J"
      },
      "execution_count": null,
      "outputs": []
    }
  ]
}