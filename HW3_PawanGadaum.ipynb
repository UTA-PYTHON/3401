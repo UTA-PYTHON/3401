{
  "nbformat": 4,
  "nbformat_minor": 0,
  "metadata": {
    "colab": {
      "provenance": []
    },
    "kernelspec": {
      "name": "python3",
      "display_name": "Python 3"
    },
    "language_info": {
      "name": "python"
    }
  },
  "cells": [
    {
      "cell_type": "markdown",
      "source": [
        "#1. Printing, Data Types, and Input"
      ],
      "metadata": {
        "id": "FLKmdfMl_xm4"
      }
    },
    {
      "cell_type": "code",
      "execution_count": null,
      "metadata": {
        "colab": {
          "base_uri": "https://localhost:8080/"
        },
        "id": "oTT4pXLSw0Lf",
        "outputId": "cd812fe3-0b0a-40a5-b1fc-a32cf3ab71a6"
      },
      "outputs": [
        {
          "output_type": "stream",
          "name": "stdout",
          "text": [
            "name: pawan\n",
            "age: 20\n",
            "Hello, pawan. You are 20 years old.\n",
            "<class 'str'>\n",
            "<class 'int'>\n"
          ]
        }
      ],
      "source": [
        "name = input(\"name: \")\n",
        "age = int(input(\"age: \"))\n",
        "print(\"Hello,\", name + \". You are\", age, \"years old.\")\n",
        "print(type(name))\n",
        "print(type(age))"
      ]
    },
    {
      "cell_type": "markdown",
      "source": [
        "#2. String Manipulations and Input"
      ],
      "metadata": {
        "id": "1OIMksDZAfVR"
      }
    },
    {
      "cell_type": "code",
      "source": [
        "hometown = input(\"what is the name of your hometown: \")\n",
        "print(hometown.upper())\n",
        "print(hometown[:3])\n",
        "print(hometown[::-1])"
      ],
      "metadata": {
        "colab": {
          "base_uri": "https://localhost:8080/"
        },
        "id": "FS40-fh1Airt",
        "outputId": "86831250-8508-4081-eb52-108aab2246ee"
      },
      "execution_count": null,
      "outputs": [
        {
          "output_type": "stream",
          "name": "stdout",
          "text": [
            "what is the name of your hometown: chennai\n",
            "CHENNAI\n",
            "che\n",
            "iannehc\n"
          ]
        }
      ]
    },
    {
      "cell_type": "markdown",
      "source": [
        "#3. Numeric Operations and Input"
      ],
      "metadata": {
        "id": "wQVlG2NqAn2p"
      }
    },
    {
      "cell_type": "code",
      "source": [
        "x = int(input(\"input a number: \"))\n",
        "print(x*x)\n",
        "print(x**(0.5))"
      ],
      "metadata": {
        "colab": {
          "base_uri": "https://localhost:8080/"
        },
        "id": "bnZDgKpkAqXi",
        "outputId": "ed47dc75-ed87-42ca-f9df-abdcea258787"
      },
      "execution_count": null,
      "outputs": [
        {
          "output_type": "stream",
          "name": "stdout",
          "text": [
            "input a number: 10\n",
            "100\n",
            "3.1622776601683795\n"
          ]
        }
      ]
    },
    {
      "cell_type": "markdown",
      "source": [
        "#4. Boolean Evaluations"
      ],
      "metadata": {
        "id": "Mxthrck2A3Vs"
      }
    },
    {
      "cell_type": "code",
      "source": [
        "print(10 > 5)\n",
        "print(10 == 10)\n",
        "print(8 != 9)"
      ],
      "metadata": {
        "colab": {
          "base_uri": "https://localhost:8080/"
        },
        "id": "OUumvYgiA587",
        "outputId": "da7f6431-217b-4f62-ab9b-c5f458528313"
      },
      "execution_count": null,
      "outputs": [
        {
          "output_type": "stream",
          "name": "stdout",
          "text": [
            "True\n",
            "True\n",
            "True\n"
          ]
        }
      ]
    },
    {
      "cell_type": "markdown",
      "source": [
        "#5. List Creation and Operations\n"
      ],
      "metadata": {
        "id": "FaPQJXrxA-Mn"
      }
    },
    {
      "cell_type": "code",
      "source": [
        "colors = [\"red\", \"blue\", \"green\"]\n",
        "print(colors)\n",
        "print(colors[0])\n",
        "colors[1] = \"yellow\"\n",
        "print(colors)\n",
        "colors[-1] = \"blue\""
      ],
      "metadata": {
        "colab": {
          "base_uri": "https://localhost:8080/"
        },
        "id": "78uBDLvYBBAn",
        "outputId": "9002c87b-a21e-48bb-8a50-ce7439959934"
      },
      "execution_count": null,
      "outputs": [
        {
          "output_type": "stream",
          "name": "stdout",
          "text": [
            "['red', 'blue', 'green']\n",
            "red\n",
            "['red', 'yellow', 'green']\n"
          ]
        }
      ]
    },
    {
      "cell_type": "markdown",
      "source": [
        "#6. Indexing and Slicing"
      ],
      "metadata": {
        "id": "ueqq3aFxG8hR"
      }
    },
    {
      "cell_type": "code",
      "source": [
        "nums = [10, 20, 30, 40, 50]\n",
        "print(nums[2])\n",
        "print(nums[:2])\n",
        "print(nums[-3:])"
      ],
      "metadata": {
        "colab": {
          "base_uri": "https://localhost:8080/"
        },
        "id": "rb7QPzudBH_v",
        "outputId": "73dc3a43-b021-4694-d72e-170a72305d6e"
      },
      "execution_count": null,
      "outputs": [
        {
          "output_type": "stream",
          "name": "stdout",
          "text": [
            "30\n",
            "[10, 20]\n",
            "[30, 40, 50]\n"
          ]
        }
      ]
    },
    {
      "cell_type": "markdown",
      "source": [
        "#7. Manipulating Elements"
      ],
      "metadata": {
        "id": "7rGW0mWmHM1P"
      }
    },
    {
      "cell_type": "code",
      "source": [
        "animals = ['cat', 'dog', 'bird']\n",
        "print(animals)\n",
        "animals.append(\"fish\")\n",
        "print(animals)"
      ],
      "metadata": {
        "colab": {
          "base_uri": "https://localhost:8080/"
        },
        "id": "AGT9O7SPHWLd",
        "outputId": "274acc90-3d39-40c2-b8bf-93685a2ce863"
      },
      "execution_count": null,
      "outputs": [
        {
          "output_type": "stream",
          "name": "stdout",
          "text": [
            "['cat', 'dog', 'bird']\n",
            "['cat', 'dog', 'bird', 'fish']\n"
          ]
        }
      ]
    },
    {
      "cell_type": "markdown",
      "source": [
        "#8. Sorting"
      ],
      "metadata": {
        "id": "FrS15huYHVRv"
      }
    },
    {
      "cell_type": "code",
      "source": [
        "random_numbers = [42, 8, 15, 23, 16]\n",
        "print(random_numbers)\n",
        "random_numbers.sort()\n",
        "print(random_numbers)\n",
        "print(random_numbers[1::2])"
      ],
      "metadata": {
        "id": "1dm70hMIsmft",
        "colab": {
          "base_uri": "https://localhost:8080/"
        },
        "outputId": "826e615e-20a8-4680-c669-c205c96bc5f3"
      },
      "execution_count": 15,
      "outputs": [
        {
          "output_type": "stream",
          "name": "stdout",
          "text": [
            "[42, 8, 15, 23, 16]\n",
            "[8, 15, 16, 23, 42]\n",
            "[15, 23]\n"
          ]
        }
      ]
    }
  ]
}