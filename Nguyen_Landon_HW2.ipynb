{
  "nbformat": 4,
  "nbformat_minor": 0,
  "metadata": {
    "colab": {
      "provenance": []
    },
    "kernelspec": {
      "name": "python3",
      "display_name": "Python 3"
    },
    "language_info": {
      "name": "python"
    }
  },
  "cells": [
    {
      "cell_type": "markdown",
      "source": [
        "# **Homework 2**\n",
        "###*ID: 1002144121*"
      ],
      "metadata": {
        "id": "BfmgeTbVCi3E"
      }
    },
    {
      "cell_type": "markdown",
      "source": [
        "#**Part 1: Markdown in Jupyter Notebook**"
      ],
      "metadata": {
        "id": "lRnxfHL3x8qe"
      }
    },
    {
      "cell_type": "markdown",
      "source": [
        "1. Write a sentence where one word is in bold and another is in italics."
      ],
      "metadata": {
        "id": "p4BlfltJ4o2r"
      }
    },
    {
      "cell_type": "markdown",
      "source": [
        "One word is in **bold** and another is in *italics*."
      ],
      "metadata": {
        "id": "Udv9Vh03yKew"
      }
    },
    {
      "cell_type": "markdown",
      "source": [
        "2. Create a hierarchy of headers from # (largest) to ### (smallest). Make up titles for each header level."
      ],
      "metadata": {
        "id": "iTB89RID4wAP"
      }
    },
    {
      "cell_type": "markdown",
      "source": [
        "#Large Title\n",
        "##Medium Title\n",
        "###Smallest title"
      ],
      "metadata": {
        "id": "u28CaieBzEZd"
      }
    },
    {
      "cell_type": "markdown",
      "source": [
        "3. Create a bulleted list of your three favorite fruits"
      ],
      "metadata": {
        "id": "fBgMfuKW4-xe"
      }
    },
    {
      "cell_type": "markdown",
      "source": [
        "* Apples\n",
        "* Mangos\n",
        "* Pineapples\n",
        "\n"
      ],
      "metadata": {
        "id": "us3xtNN2zFp6"
      }
    },
    {
      "cell_type": "markdown",
      "source": [
        "# **Part 2: Python Basics**"
      ],
      "metadata": {
        "id": "qkiK0IP7zbeB"
      }
    },
    {
      "cell_type": "markdown",
      "source": [
        "Assign the number 5 to a variable named a"
      ],
      "metadata": {
        "id": "DMCebX4b34vt"
      }
    },
    {
      "cell_type": "code",
      "execution_count": null,
      "metadata": {
        "id": "RreDLdSEriRd"
      },
      "outputs": [],
      "source": [
        "a = 5"
      ]
    },
    {
      "cell_type": "markdown",
      "source": [
        "assign the number 10 to a variable named b"
      ],
      "metadata": {
        "id": "HlbsR5cb3-nB"
      }
    },
    {
      "cell_type": "code",
      "source": [
        "b = 10"
      ],
      "metadata": {
        "id": "L5M5rjr0zo5f"
      },
      "execution_count": null,
      "outputs": []
    },
    {
      "cell_type": "markdown",
      "source": [
        "Compute the sum of a and b and assign it to a variable named c. Print out the value of c."
      ],
      "metadata": {
        "id": "uk_votLQ4Dlw"
      }
    },
    {
      "cell_type": "code",
      "source": [
        "c = a+b\n",
        "print(c)"
      ],
      "metadata": {
        "colab": {
          "base_uri": "https://localhost:8080/"
        },
        "id": "QteTYIADzyT9",
        "outputId": "f3cb83a6-20bb-4489-9718-51cbacb6dfad"
      },
      "execution_count": null,
      "outputs": [
        {
          "output_type": "stream",
          "name": "stdout",
          "text": [
            "15\n"
          ]
        }
      ]
    },
    {
      "cell_type": "markdown",
      "source": [
        "Given the equation\n",
        "6+2×(5−3^2)+4/26+(5-32)+4/2:\n",
        "Solve the equation step-by-step, following the PEMDAS order, and comment each step in the Jupyter cell.\n",
        "Compute the final answer using Python and display the result."
      ],
      "metadata": {
        "id": "93vc_mrx4Lsw"
      }
    },
    {
      "cell_type": "code",
      "source": [
        "# (5- 3**2) = (5-9): 6+2*(5-9)+4/26+2*(5-32)+4/2: solve exponents in parentheses\n",
        "# (5-9) = (-4); (5-32) = -27: 6+2*(-4)+4/26+2*(-27)+4/2: solve inside the parentheses\n",
        "# 2 * -4 = -8; 4/26 = 0.1538; 2 * -27 = -54; 4/2 = 2: 6+(-8)+(4/26)+(-54)+2: do any remaining multiplication/division\n",
        "# -2 + (4/26) -52 = -54 + (4/26) = 53.8462 : do any remaining addition/subtraction"
      ],
      "metadata": {
        "id": "Wit1h9Svz2VC"
      },
      "execution_count": null,
      "outputs": []
    },
    {
      "cell_type": "code",
      "source": [
        "6+2*(5-3**2)+4/26+2*(5-32)+4/2"
      ],
      "metadata": {
        "colab": {
          "base_uri": "https://localhost:8080/"
        },
        "id": "y3yXZP1p16tf",
        "outputId": "dfef560a-9fd1-428b-cca7-43be816927e8"
      },
      "execution_count": null,
      "outputs": [
        {
          "output_type": "execute_result",
          "data": {
            "text/plain": [
              "-53.84615384615385"
            ]
          },
          "metadata": {},
          "execution_count": 5
        }
      ]
    }
  ]
}