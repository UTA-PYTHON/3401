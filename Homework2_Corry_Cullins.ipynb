{
  "nbformat": 4,
  "nbformat_minor": 0,
  "metadata": {
    "colab": {
      "provenance": []
    },
    "kernelspec": {
      "name": "python3",
      "display_name": "Python 3"
    },
    "language_info": {
      "name": "python"
    }
  },
  "cells": [
    {
      "cell_type": "markdown",
      "source": [
        "Part 1: Markdown in Jupyter Notebook\n",
        "Bold and Italics\n",
        "\n",
        "Write a sentence where one word is in bold and another is in italics.\n",
        "## The *Great Gatsby* is the **best** book ever written.\n",
        "Headers\n",
        "\n",
        "Create a hierarchy of headers from # (largest) to ### (smallest). Make up titles for each header level.\n",
        "# Platoon\n",
        " ## Squad\n",
        "  ### Team\n",
        "Lists\n",
        "\n",
        "Create a bulleted list of your three favorite fruits\n",
        "# Favorite Fruit\n",
        "\n",
        "*   Mango\n",
        "*   Kiwi\n",
        "*   Watermelon\n",
        "\n",
        "\n",
        "\n",
        "Part 2: Python Basics\n",
        "Variable Assignment\n",
        "Assign the number 5 to a variable named a.\n",
        "\n",
        "\n",
        "\n",
        "Assign the number 10 to a variable named b.\n",
        "\n",
        "Compute the sum of a and b and assign it to a variable named c. Print out the value of c.\n",
        "PEMDAS\n",
        "\n",
        "Given the equation\n",
        "6+2×(5−32)+4/2:\n",
        "Solve the equation step-by-step, following the PEMDAS order, and comment each step in the Jupyter cell.\n",
        "Compute the final answer using Python and display the result."
      ],
      "metadata": {
        "id": "7D9Szj6PjWdP"
      }
    },
    {
      "cell_type": "code",
      "source": [
        "a=5"
      ],
      "metadata": {
        "id": "zOsGRqydlSsk"
      },
      "execution_count": null,
      "outputs": []
    },
    {
      "cell_type": "code",
      "source": [
        "b=10"
      ],
      "metadata": {
        "id": "b6w8HvqLl7sB"
      },
      "execution_count": null,
      "outputs": []
    },
    {
      "cell_type": "code",
      "source": [
        "a+b"
      ],
      "metadata": {
        "colab": {
          "base_uri": "https://localhost:8080/"
        },
        "id": "QdBqQmV9l-ov",
        "outputId": "35b60bca-5dec-46f9-989e-663f9f44b9a0"
      },
      "execution_count": null,
      "outputs": [
        {
          "output_type": "execute_result",
          "data": {
            "text/plain": [
              "15"
            ]
          },
          "metadata": {},
          "execution_count": 4
        }
      ]
    },
    {
      "cell_type": "code",
      "source": [
        "c=15"
      ],
      "metadata": {
        "id": "kR9m56iQmAdi"
      },
      "execution_count": null,
      "outputs": []
    },
    {
      "cell_type": "code",
      "source": [
        "c"
      ],
      "metadata": {
        "colab": {
          "base_uri": "https://localhost:8080/"
        },
        "id": "TXsbszRimLOD",
        "outputId": "ed37c686-aab8-4e33-b96b-e722cd9eb4ea"
      },
      "execution_count": null,
      "outputs": [
        {
          "output_type": "execute_result",
          "data": {
            "text/plain": [
              "15"
            ]
          },
          "metadata": {},
          "execution_count": 7
        }
      ]
    },
    {
      "cell_type": "markdown",
      "source": [
        "Given the equation 6+2×(5−32)+4/2: Solve the equation step-by-step, following the PEMDAS order, and comment each step in the Jupyter cell. Compute the final answer using Python and display the result.\n",
        "\n",
        "\n",
        "1.   6+2x(-27)+4/2\n",
        "2.   6-54+4/2\n",
        "3.   6-54+2\n",
        "4.   -46\n",
        "\n"
      ],
      "metadata": {
        "id": "b9TDIgoZmb0O"
      }
    },
    {
      "cell_type": "code",
      "source": [
        "6+2*(5-32)+4/2"
      ],
      "metadata": {
        "colab": {
          "base_uri": "https://localhost:8080/"
        },
        "id": "VNe7ShaGpHNt",
        "outputId": "4ea997e4-e48f-4540-b4fe-0dfbac4f2976"
      },
      "execution_count": null,
      "outputs": [
        {
          "output_type": "execute_result",
          "data": {
            "text/plain": [
              "-46.0"
            ]
          },
          "metadata": {},
          "execution_count": 8
        }
      ]
    },
    {
      "cell_type": "code",
      "source": [],
      "metadata": {
        "id": "1aNRwtEhpOKO"
      },
      "execution_count": null,
      "outputs": []
    }
  ]
}