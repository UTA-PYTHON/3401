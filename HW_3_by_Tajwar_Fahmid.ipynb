{
  "nbformat": 4,
  "nbformat_minor": 0,
  "metadata": {
    "colab": {
      "provenance": []
    },
    "kernelspec": {
      "name": "python3",
      "display_name": "Python 3"
    },
    "language_info": {
      "name": "python"
    }
  },
  "cells": [
    {
      "cell_type": "markdown",
      "source": [
        "\n",
        "Questions:\n",
        "\n",
        "1. Printing, Data Types, and Input\n",
        "\n",
        "\n",
        "Ask the user for their name and their age.\n",
        "Print a statement saying: \"Hello, [name]. You are [age] years old.\"\n",
        "Print the data type of each variable.\n",
        "\n",
        "\n",
        "2. String Manipulations and Input\n",
        "\n",
        "\n",
        "Ask the user for the name of their hometown.\n",
        "Print the name of the hometown in uppercase.\n",
        "Print the first three characters of the hometown's name using slicing.\n",
        "Printing the name in reverse using slicing.\n",
        "\n",
        "\n",
        "3. Numeric Operations and Input\n",
        "\n",
        "\n",
        "Prompt the user to enter a number.\n",
        "Multiply the number by itself and print the result.\n",
        "Calculating the square root.\n",
        "\n",
        "\n",
        "4. Boolean Evaluations\n",
        "\n",
        "\n",
        "Print the result of the following evaluations:\n",
        "10 > 5\n",
        "10 == 10\n",
        "8 != 9\n",
        "\n",
        "\n",
        "5. List Creation and Operations\n",
        "\n",
        "\n",
        "Create a list named colors containing the following items: red, blue, green.\n",
        "Print the list.\n",
        "Print the first item in the list.\n",
        "Replace the second item in the list with yellow.\n",
        "Print the list again.\n",
        "Changing the last item using negative indexing.\n",
        "\n",
        "\n",
        "6. Indexing and Slicing\n",
        "\n",
        "\n",
        "Given the list numbers = [10, 20, 30, 40, 50]\n",
        "Print the third item from the list.\n",
        "Using slicing, print the first two numbers.\n",
        "Getting the last three numbers using negative indexing and slicing.\n",
        "\n",
        "\n",
        "7. Manipulating Elements\n",
        "\n",
        "\n",
        "Given the list animals = ['cat', 'dog', 'bird']\n",
        "Print the list.\n",
        "Add fish to the end of the list.\n",
        "Print the updated list.\n",
        "\n",
        "\n",
        "8. Sorting\n",
        "\n",
        "\n",
        "Given the list random_numbers = [42, 8, 15, 23, 16]\n",
        "Print the list.\n",
        "Use the sort() method to sort the list.\n",
        "Print the sorted list.\n",
        "Print every second item from the sorted list.\n"
      ],
      "metadata": {
        "id": "xm2fKYEPl8pd"
      }
    },
    {
      "cell_type": "markdown",
      "source": [
        "#Answers:"
      ],
      "metadata": {
        "id": "Sl4VZiRrmrHR"
      }
    },
    {
      "cell_type": "code",
      "source": [
        "name=str(input(\"Please provide your name: \"))\n",
        "age=int(input(\"Please provide your age: \"))\n",
        "print(\"Hello,\" , name, \"you are\" , age, \"years old.\")\n",
        "print(f\"The data type of 'name' is {type(name).__name__}.\")\n",
        "print(f\"The data type of 'age' is {type(age).__name__}.\")"
      ],
      "metadata": {
        "colab": {
          "base_uri": "https://localhost:8080/"
        },
        "id": "_OG4gC4wmvQH",
        "outputId": "93781162-eeb2-4897-9f06-a3236ccf9098"
      },
      "execution_count": 12,
      "outputs": [
        {
          "output_type": "stream",
          "name": "stdout",
          "text": [
            "Please provide your name: yyyy\n",
            "Please provide your age: 999\n",
            "Hello, yyyy you are 999 years old.\n",
            "The data type of 'name' is str.\n",
            "The data type of 'age' is int.\n"
          ]
        }
      ]
    },
    {
      "cell_type": "code",
      "source": [
        "\n",
        "hometown = input(\"Please enter the name of your hometown: \")\n",
        "print(\"Hometown in uppercase:\", hometown.upper())\n",
        "print(\"First three characters:\", hometown[:3])\n",
        "print(\"Hometown in reverse:\", hometown[::-1])\n"
      ],
      "metadata": {
        "colab": {
          "base_uri": "https://localhost:8080/"
        },
        "id": "wNKjomrmnGch",
        "outputId": "a076fdd6-c61e-4881-f8ad-29a29a9bda17"
      },
      "execution_count": 15,
      "outputs": [
        {
          "output_type": "stream",
          "name": "stdout",
          "text": [
            "Please enter the name of your hometown: dhaka\n",
            "Hometown in uppercase: DHAKA\n",
            "First three characters: dha\n",
            "Hometown in reverse: akahd\n"
          ]
        }
      ]
    },
    {
      "cell_type": "code",
      "source": [
        "import math\n",
        "num= float(input(\"Input your number: \"))\n",
        "r1= num * num\n",
        "print(\"The square of your number is \",r1,)\n",
        "r2= math.sqrt(num)\n",
        "print(\"The square root of your number is \", r2,)"
      ],
      "metadata": {
        "colab": {
          "base_uri": "https://localhost:8080/"
        },
        "id": "x0tzn1KkpnTl",
        "outputId": "cbe67d20-4871-4d6a-bb6b-27f52d97926c"
      },
      "execution_count": 17,
      "outputs": [
        {
          "output_type": "stream",
          "name": "stdout",
          "text": [
            "Input your number: 9\n",
            "The square of your number is  81.0\n",
            "The square root of your number is  3.0\n"
          ]
        }
      ]
    },
    {
      "cell_type": "code",
      "source": [
        "10 > 5\n",
        "\n",
        "10 == 10\n",
        "\n",
        "8 != 9\n"
      ],
      "metadata": {
        "colab": {
          "base_uri": "https://localhost:8080/"
        },
        "id": "IqE9fbMksJo6",
        "outputId": "40e1e5fc-542c-4a09-c11c-1186502f58b3"
      },
      "execution_count": 24,
      "outputs": [
        {
          "output_type": "execute_result",
          "data": {
            "text/plain": [
              "True"
            ]
          },
          "metadata": {},
          "execution_count": 24
        }
      ]
    },
    {
      "cell_type": "code",
      "source": [
        "\n",
        "colors = [\"red\", \"blue\", \"green\"]\n",
        "print(\"Original list:\", colors)\n",
        "print(\"First item:\", colors[0])\n",
        "colors[1] = \"yellow\"\n",
        "print(\"List after replacing the second item:\", colors)\n",
        "colors[-1] = \"purple\"\n",
        "print(\"List after changing the last item:\", colors)\n"
      ],
      "metadata": {
        "colab": {
          "base_uri": "https://localhost:8080/"
        },
        "id": "rAn_HoRUsmcb",
        "outputId": "1b0111ba-e0a9-426e-aa32-e6bf989e3bac"
      },
      "execution_count": 28,
      "outputs": [
        {
          "output_type": "stream",
          "name": "stdout",
          "text": [
            "Original list: ['red', 'blue', 'green']\n",
            "First item: red\n",
            "List after replacing the second item: ['red', 'yellow', 'green']\n",
            "List after changing the last item: ['red', 'yellow', 'purple']\n"
          ]
        }
      ]
    },
    {
      "cell_type": "code",
      "source": [
        "numbers = [10, 20, 30, 40, 50]\n",
        "print (numbers[2])\n",
        "print (numbers[:2])\n",
        "print (numbers[-3:])"
      ],
      "metadata": {
        "colab": {
          "base_uri": "https://localhost:8080/"
        },
        "id": "T3ekMRz-tTIW",
        "outputId": "c83346d2-549c-446f-e2fe-c2fe08ce7317"
      },
      "execution_count": 31,
      "outputs": [
        {
          "output_type": "stream",
          "name": "stdout",
          "text": [
            "30\n",
            "[10, 20]\n",
            "[30, 40, 50]\n"
          ]
        }
      ]
    },
    {
      "cell_type": "code",
      "source": [
        "animals= ['cat', 'dog', 'bird']\n",
        "print(animals)\n",
        "animals.append(\"fish\")\n",
        "print(animals)\n"
      ],
      "metadata": {
        "colab": {
          "base_uri": "https://localhost:8080/"
        },
        "id": "9VXd7ltWt8cJ",
        "outputId": "f22af8fd-43de-4fc3-a93b-b5bb73fcef85"
      },
      "execution_count": 37,
      "outputs": [
        {
          "output_type": "stream",
          "name": "stdout",
          "text": [
            "['cat', 'dog', 'bird']\n",
            "['cat', 'dog', 'bird', 'fish']\n"
          ]
        }
      ]
    },
    {
      "cell_type": "code",
      "source": [
        "\n",
        "random_numbers = [42, 8, 15, 23, 16]\n",
        "print(\"Original list:\", random_numbers)\n",
        "random_numbers.sort()\n",
        "print(\"Sorted list:\", random_numbers)\n",
        "every_second_item = random_numbers[1::2]\n",
        "print(\"Every second item from the sorted list:\", every_second_item)\n",
        "\n"
      ],
      "metadata": {
        "colab": {
          "base_uri": "https://localhost:8080/"
        },
        "id": "O3VAT2Xfu1Fz",
        "outputId": "41c3ad62-4a5c-414d-82d8-ed105dcaea70"
      },
      "execution_count": 38,
      "outputs": [
        {
          "output_type": "stream",
          "name": "stdout",
          "text": [
            "Original list: [42, 8, 15, 23, 16]\n",
            "Sorted list: [8, 15, 16, 23, 42]\n",
            "Every second item from the sorted list: [15, 23]\n"
          ]
        }
      ]
    },
    {
      "cell_type": "code",
      "source": [],
      "metadata": {
        "id": "xcJN3shfwD6T"
      },
      "execution_count": null,
      "outputs": []
    }
  ]
}