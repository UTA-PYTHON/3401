{
  "nbformat": 4,
  "nbformat_minor": 0,
  "metadata": {
    "colab": {
      "provenance": []
    },
    "kernelspec": {
      "name": "python3",
      "display_name": "Python 3"
    },
    "language_info": {
      "name": "python"
    }
  },
  "cells": [
    {
      "cell_type": "markdown",
      "source": [
        "#**Part 1: Markdown in Jupyter Notebook**\n"
      ],
      "metadata": {
        "id": "eLVD-i27XN7D"
      }
    },
    {
      "cell_type": "markdown",
      "source": [
        " 1. Bold and Italics\n",
        "\n",
        "  - Write a sentence where one word is in bold and another is in italics."
      ],
      "metadata": {
        "id": "-1mMVODMf5ZI"
      }
    },
    {
      "cell_type": "markdown",
      "source": [
        "Even the *wind* cannot blow on **forever**."
      ],
      "metadata": {
        "id": "yDQ730LwXy-5"
      }
    },
    {
      "cell_type": "markdown",
      "source": [
        "2. Headers\n",
        "\n",
        "  - Create a hierarchy of headers from # (largest) to ### (smallest). Make up titles for each header level."
      ],
      "metadata": {
        "id": "8JrvSpIJYWgY"
      }
    },
    {
      "cell_type": "markdown",
      "source": [
        "# As light rain\n",
        "## falls without\n",
        "### reason"
      ],
      "metadata": {
        "id": "fmgiT549YdOH"
      }
    },
    {
      "cell_type": "markdown",
      "source": [
        "3. Lists\n",
        "  - Create a bulleted list of your three favorite fruits"
      ],
      "metadata": {
        "id": "7sp9nSAQfA6g"
      }
    },
    {
      "cell_type": "markdown",
      "source": [
        "- pomegranate\n",
        "- strawberry\n",
        "- orange"
      ],
      "metadata": {
        "id": "lBVNfu7YfXt_"
      }
    },
    {
      "cell_type": "markdown",
      "source": [
        "#**Part 2: Python Basics**"
      ],
      "metadata": {
        "id": "o2bYIxewfxoG"
      }
    },
    {
      "cell_type": "markdown",
      "source": [
        "1. Variable Assignment"
      ],
      "metadata": {
        "id": "LfW-YV3uf26n"
      }
    },
    {
      "cell_type": "markdown",
      "source": [
        "  - Assign the number 5 to a variable named a."
      ],
      "metadata": {
        "id": "FxaQ5EM1gKsO"
      }
    },
    {
      "cell_type": "code",
      "source": [
        "a = 5"
      ],
      "metadata": {
        "id": "xPeHOUmCXyOo"
      },
      "execution_count": 1,
      "outputs": []
    },
    {
      "cell_type": "markdown",
      "source": [
        "- Assign the number 10 to a variable named b."
      ],
      "metadata": {
        "id": "oZKXIYAEgSy_"
      }
    },
    {
      "cell_type": "code",
      "source": [
        "b = 10"
      ],
      "metadata": {
        "id": "pYfYZyrDgPeI"
      },
      "execution_count": 2,
      "outputs": []
    },
    {
      "cell_type": "markdown",
      "source": [
        "- Compute the sum of a and b and assign it to a variable named c. Print out the value of c."
      ],
      "metadata": {
        "id": "URtkW2oVgaDu"
      }
    },
    {
      "cell_type": "code",
      "source": [
        "c = a+b"
      ],
      "metadata": {
        "id": "aQawZhl1gYWn"
      },
      "execution_count": 3,
      "outputs": []
    },
    {
      "cell_type": "code",
      "source": [
        "c"
      ],
      "metadata": {
        "colab": {
          "base_uri": "https://localhost:8080/"
        },
        "id": "fb1614W7geJB",
        "outputId": "59ee4533-fc40-4a18-ff8e-1ebeb6e02817"
      },
      "execution_count": 4,
      "outputs": [
        {
          "output_type": "execute_result",
          "data": {
            "text/plain": [
              "15"
            ]
          },
          "metadata": {},
          "execution_count": 4
        }
      ]
    },
    {
      "cell_type": "markdown",
      "source": [
        "2. PEMDAS"
      ],
      "metadata": {
        "id": "FzbRDCR6ghkW"
      }
    },
    {
      "cell_type": "markdown",
      "source": [
        "- Given the equation\n",
        "6+2x(5-3^2)+4/26+2×(5−32)+4/2:\n",
        "  - Solve the equation step-by-step, following the PEMDAS order, and comment each step in the Jupyter cell.\n",
        "Compute the final answer using Python and display the result."
      ],
      "metadata": {
        "id": "qOITSZ7RiT0c"
      }
    },
    {
      "cell_type": "code",
      "source": [
        "(5-3**2) #Parenthesis First"
      ],
      "metadata": {
        "colab": {
          "base_uri": "https://localhost:8080/"
        },
        "id": "wyBJk9ArgfKQ",
        "outputId": "b9f7d759-83a2-47b6-a0ab-d2295fa2bd71"
      },
      "execution_count": 6,
      "outputs": [
        {
          "output_type": "execute_result",
          "data": {
            "text/plain": [
              "-4"
            ]
          },
          "metadata": {},
          "execution_count": 6
        }
      ]
    },
    {
      "cell_type": "code",
      "source": [
        "(5-32) #Parenthesis first"
      ],
      "metadata": {
        "colab": {
          "base_uri": "https://localhost:8080/"
        },
        "id": "BGIj1R-uuL66",
        "outputId": "c6f079e4-f241-4acb-cbbb-3be1875d3845"
      },
      "execution_count": 7,
      "outputs": [
        {
          "output_type": "execute_result",
          "data": {
            "text/plain": [
              "-27"
            ]
          },
          "metadata": {},
          "execution_count": 7
        }
      ]
    },
    {
      "cell_type": "code",
      "source": [
        "2*(-4) #multiplication and division next"
      ],
      "metadata": {
        "colab": {
          "base_uri": "https://localhost:8080/"
        },
        "id": "rgb3oxTXuXPw",
        "outputId": "a2344951-39fc-4e37-d8ed-4688f2f173e1"
      },
      "execution_count": 11,
      "outputs": [
        {
          "output_type": "execute_result",
          "data": {
            "text/plain": [
              "-8"
            ]
          },
          "metadata": {},
          "execution_count": 11
        }
      ]
    },
    {
      "cell_type": "code",
      "source": [
        "2*-27"
      ],
      "metadata": {
        "colab": {
          "base_uri": "https://localhost:8080/"
        },
        "id": "7buTK6ozuoIj",
        "outputId": "0177d34e-1840-4952-b21e-535fa9e50a10"
      },
      "execution_count": 9,
      "outputs": [
        {
          "output_type": "execute_result",
          "data": {
            "text/plain": [
              "-54"
            ]
          },
          "metadata": {},
          "execution_count": 9
        }
      ]
    },
    {
      "cell_type": "code",
      "source": [
        "4/2"
      ],
      "metadata": {
        "colab": {
          "base_uri": "https://localhost:8080/"
        },
        "id": "865Jq9T0usAv",
        "outputId": "8684b87b-25fc-4d97-aca9-fc43d7e08ad4"
      },
      "execution_count": 10,
      "outputs": [
        {
          "output_type": "execute_result",
          "data": {
            "text/plain": [
              "2.0"
            ]
          },
          "metadata": {},
          "execution_count": 10
        }
      ]
    },
    {
      "cell_type": "code",
      "source": [
        "4/26"
      ],
      "metadata": {
        "colab": {
          "base_uri": "https://localhost:8080/"
        },
        "id": "zfQRYbSmutHF",
        "outputId": "89e1a435-9a17-432d-acb2-2ebe366d31f8"
      },
      "execution_count": 12,
      "outputs": [
        {
          "output_type": "execute_result",
          "data": {
            "text/plain": [
              "0.15384615384615385"
            ]
          },
          "metadata": {},
          "execution_count": 12
        }
      ]
    },
    {
      "cell_type": "code",
      "source": [
        "#Addition last\n",
        "6+(-8)+0.15384615384615385+-54+2"
      ],
      "metadata": {
        "colab": {
          "base_uri": "https://localhost:8080/"
        },
        "id": "9BnlU5cDu5Pi",
        "outputId": "90549b30-a45f-43b7-8fec-751b379e58e0"
      },
      "execution_count": 13,
      "outputs": [
        {
          "output_type": "execute_result",
          "data": {
            "text/plain": [
              "-53.84615384615385"
            ]
          },
          "metadata": {},
          "execution_count": 13
        }
      ]
    },
    {
      "cell_type": "code",
      "source": [
        "#All in one line with Python\n",
        "6+2*(5-(3**2))+4/26+2*(5-32)+4/2"
      ],
      "metadata": {
        "colab": {
          "base_uri": "https://localhost:8080/"
        },
        "id": "CRLa4vtRvKOq",
        "outputId": "28ba9960-5efb-400c-881a-7df323a9ee2d"
      },
      "execution_count": 14,
      "outputs": [
        {
          "output_type": "execute_result",
          "data": {
            "text/plain": [
              "-53.84615384615385"
            ]
          },
          "metadata": {},
          "execution_count": 14
        }
      ]
    },
    {
      "cell_type": "code",
      "source": [
        "#The answer is the same."
      ],
      "metadata": {
        "id": "eKPkVHPzvV87"
      },
      "execution_count": 15,
      "outputs": []
    }
  ]
}