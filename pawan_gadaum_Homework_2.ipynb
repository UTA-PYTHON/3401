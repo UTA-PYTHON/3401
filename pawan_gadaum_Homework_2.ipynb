{
  "nbformat": 4,
  "nbformat_minor": 0,
  "metadata": {
    "colab": {
      "provenance": []
    },
    "kernelspec": {
      "name": "python3",
      "display_name": "Python 3"
    },
    "language_info": {
      "name": "python"
    }
  },
  "cells": [
    {
      "cell_type": "markdown",
      "source": [
        "#Part 1: Markdown in Jupyter Notebook"
      ],
      "metadata": {
        "id": "sj0eyzca52Ag"
      }
    },
    {
      "cell_type": "markdown",
      "source": [
        "##1. bold and italics\n",
        "#####----------Write a sentence where one word is in bold and another is in italics."
      ],
      "metadata": {
        "id": "I9KEnjWK6ueg"
      }
    },
    {
      "cell_type": "markdown",
      "source": [
        "This is how to write in **bold**. This is how to write in *italics*"
      ],
      "metadata": {
        "id": "urf9_YZG57km"
      }
    },
    {
      "cell_type": "markdown",
      "source": [
        "##2. Headers\n",
        "#####----------Create a hierarchy of headers from # (largest) to ### (smallest). Make up titles for each header level.\n"
      ],
      "metadata": {
        "id": "OCNY8i-C8Ed8"
      }
    },
    {
      "cell_type": "markdown",
      "source": [
        "# large\n",
        "##Medium\n",
        "###Small"
      ],
      "metadata": {
        "id": "wCQvhCXZ8SXr"
      }
    },
    {
      "cell_type": "markdown",
      "source": [
        "##2. Lists\n",
        "#####----------Create a bulleted list of your three favorite fruits"
      ],
      "metadata": {
        "id": "CG2eAXIi8kJp"
      }
    },
    {
      "cell_type": "markdown",
      "source": [
        "*   banana\n",
        "*   orange\n",
        "*   apple"
      ],
      "metadata": {
        "id": "Or36e4B5840q"
      }
    },
    {
      "cell_type": "markdown",
      "source": [
        "#Part 2: Python Basics"
      ],
      "metadata": {
        "id": "eOyDtmQ_9v0K"
      }
    },
    {
      "cell_type": "markdown",
      "source": [
        "##2. Variable Assignment\n",
        "*   Assign the number 5 to a variable named a.\n",
        "*   Assign the number 10 to a variable named b.\n",
        "*   Compute the sum of a and b and assign it to a variable named c. Print out the value of c."
      ],
      "metadata": {
        "id": "dKXzj0OO-QGU"
      }
    },
    {
      "cell_type": "code",
      "source": [
        "a = 5\n",
        "b = 10\n",
        "c = a + b\n",
        "print(c)"
      ],
      "metadata": {
        "colab": {
          "base_uri": "https://localhost:8080/"
        },
        "id": "YeHS_Vp30YnT",
        "outputId": "4a452a33-ee65-42f7-fb40-82ac7810f24f"
      },
      "execution_count": null,
      "outputs": [
        {
          "output_type": "stream",
          "name": "stdout",
          "text": [
            "15\n"
          ]
        }
      ]
    },
    {
      "cell_type": "markdown",
      "source": [
        "##2. PEMDAS\n",
        "###Given the equation 6 + 2 * (5 - 3**2) + 4/26 + 2 * (5-32) + 4/2\n",
        "*   Solve the equation step-by-step, following the PEMDAS order, and comment each step in the Jupyter cell.\n",
        "*   Compute the final answer using Python and display the result."
      ],
      "metadata": {
        "id": "tJCXOKnf1aG0"
      }
    },
    {
      "cell_type": "markdown",
      "source": [
        "*   3**2 = 9 -> 6 + 2 * (5 - 9) + 4/26 + 2 * (5-32) + 4/2\n",
        "*   (5-9) = -4 -> 6 + 2 * -4 + 4/26 + 2 * (5-32) + 4/2\n",
        "*   (5-32) = -27 -> 6 + 2 * -4 + 4/26 + 2 * -27 + 4/2\n",
        "*   2*-4 = -8 -> 6 + -8 + 4/26 + 2 * -27 + 4/2\n",
        "*   4/26 = 0.15384615384 -> 6 + -8 + 0.15384615384 + 2 * -27 + 4/2\n",
        "*   2*-27 = -54 -> 6 + -8 + 0.15384615384 + -54 + 4/2\n",
        "*   4/2 = 2 -> 6 + -8 + 0.15384615384 + -54 + 2\n",
        "*   6 + -8 + 0.15384615384 + -54 + 2 -> -53.84615384615385"
      ],
      "metadata": {
        "id": "D8SVeghA1uBS"
      }
    },
    {
      "cell_type": "code",
      "source": [
        "print(6 + 2 * (5 - 3**2) + 4/26 + 2 * (5-32) + 4/2)"
      ],
      "metadata": {
        "colab": {
          "base_uri": "https://localhost:8080/"
        },
        "id": "jp1Sx3XYjTsp",
        "outputId": "1b17db89-9692-4e98-a6ec-1eeba4aca2bc"
      },
      "execution_count": null,
      "outputs": [
        {
          "output_type": "stream",
          "name": "stdout",
          "text": [
            "-53.84615384615385\n"
          ]
        }
      ]
    }
  ]
}