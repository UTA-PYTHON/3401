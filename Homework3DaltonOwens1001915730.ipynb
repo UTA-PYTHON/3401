{
  "nbformat": 4,
  "nbformat_minor": 0,
  "metadata": {
    "colab": {
      "provenance": []
    },
    "kernelspec": {
      "name": "python3",
      "display_name": "Python 3"
    },
    "language_info": {
      "name": "python"
    }
  },
  "cells": [
    {
      "cell_type": "code",
      "source": [],
      "metadata": {
        "id": "82ARM26Mdnfm"
      },
      "execution_count": null,
      "outputs": []
    },
    {
      "cell_type": "markdown",
      "source": [
        "##**Q1**##"
      ],
      "metadata": {
        "id": "ATzeuV9Jdo_d"
      }
    },
    {
      "cell_type": "code",
      "execution_count": 11,
      "metadata": {
        "colab": {
          "base_uri": "https://localhost:8080/"
        },
        "id": "v-w9vUkTc54r",
        "outputId": "935a5572-751d-477e-b2aa-8ecbd87a6403"
      },
      "outputs": [
        {
          "output_type": "stream",
          "name": "stdout",
          "text": [
            "What is your name?Dalton Owens\n",
            "what is your age?26\n",
            "Hello Dalton Owens you are 26 years old\n"
          ]
        }
      ],
      "source": [
        "name=(input(\"What is your name?\"))\n",
        "age=(input(\"what is your age?\"))\n",
        "print(\"Hello\", name, \"you are\", age, \"years old\")"
      ]
    },
    {
      "cell_type": "code",
      "source": [],
      "metadata": {
        "id": "tdG9O4qAdSwA"
      },
      "execution_count": null,
      "outputs": []
    },
    {
      "cell_type": "markdown",
      "source": [
        "##**Q2**##"
      ],
      "metadata": {
        "id": "Rbzeh709dsDp"
      }
    },
    {
      "cell_type": "code",
      "source": [
        "home=(input(\"what is your hometown: \"))\n",
        "\n",
        "backwards=home[::-1]\n",
        "print(home[:3])\n",
        "print(backwards[:3])\n",
        "\n",
        "\n"
      ],
      "metadata": {
        "colab": {
          "base_uri": "https://localhost:8080/"
        },
        "id": "QLSpf74mduRt",
        "outputId": "b871da73-cf7c-41ab-dea6-5f0c022e5cfd"
      },
      "execution_count": 26,
      "outputs": [
        {
          "output_type": "stream",
          "name": "stdout",
          "text": [
            "what is your hometown: Pottsboro\n",
            "Pot\n",
            "oro\n"
          ]
        }
      ]
    },
    {
      "cell_type": "code",
      "source": [
        "\n"
      ],
      "metadata": {
        "id": "xJ5_uEyteCl3"
      },
      "execution_count": 26,
      "outputs": []
    },
    {
      "cell_type": "markdown",
      "source": [
        "##**Q3**##"
      ],
      "metadata": {
        "id": "NivwtoOQ_fo-"
      }
    },
    {
      "cell_type": "code",
      "source": [
        "from traitlets.traitlets import Integer\n",
        "from IPython.core.display import Math\n",
        "random=int(input(\"User, enter a number: \"))\n",
        "square=random **2\n",
        "print(\"the number squared=\", square)\n",
        "\n",
        "\n",
        "\n",
        "square_root=math.sqrt(square)\n",
        "\n",
        "print(\"the squared number, square rooted=\", square_root)\n",
        "\n",
        "\n",
        "\n"
      ],
      "metadata": {
        "colab": {
          "base_uri": "https://localhost:8080/"
        },
        "id": "j9DFQCUJ-rSA",
        "outputId": "a6f3689c-c392-4375-cd47-ffaf08d354b0"
      },
      "execution_count": 126,
      "outputs": [
        {
          "output_type": "stream",
          "name": "stdout",
          "text": [
            "User, enter a number: 25\n",
            "the number squared= 625\n",
            "the squared number, square rooted= 25.0\n"
          ]
        }
      ]
    },
    {
      "cell_type": "code",
      "source": [],
      "metadata": {
        "id": "WB20CD89_8Su"
      },
      "execution_count": 126,
      "outputs": []
    },
    {
      "cell_type": "markdown",
      "source": [
        "##**Q4**##"
      ],
      "metadata": {
        "id": "SjmiBzhVPujt"
      }
    },
    {
      "cell_type": "code",
      "source": [
        "10>5"
      ],
      "metadata": {
        "colab": {
          "base_uri": "https://localhost:8080/"
        },
        "id": "A5cRaW10HAbk",
        "outputId": "ea3c5afa-3ebc-4280-cd78-9d10664f2238"
      },
      "execution_count": 127,
      "outputs": [
        {
          "output_type": "execute_result",
          "data": {
            "text/plain": [
              "True"
            ]
          },
          "metadata": {},
          "execution_count": 127
        }
      ]
    },
    {
      "cell_type": "code",
      "source": [
        "10==10"
      ],
      "metadata": {
        "colab": {
          "base_uri": "https://localhost:8080/"
        },
        "id": "ZM3M8NCXP1Ds",
        "outputId": "5075eac0-02ad-4899-b104-517c7f998ff7"
      },
      "execution_count": 128,
      "outputs": [
        {
          "output_type": "execute_result",
          "data": {
            "text/plain": [
              "True"
            ]
          },
          "metadata": {},
          "execution_count": 128
        }
      ]
    },
    {
      "cell_type": "code",
      "source": [
        "8!=9"
      ],
      "metadata": {
        "colab": {
          "base_uri": "https://localhost:8080/"
        },
        "id": "RsHGvPV2P4Kt",
        "outputId": "2293ed06-c07d-4914-c656-722325ea6c95"
      },
      "execution_count": 129,
      "outputs": [
        {
          "output_type": "execute_result",
          "data": {
            "text/plain": [
              "True"
            ]
          },
          "metadata": {},
          "execution_count": 129
        }
      ]
    },
    {
      "cell_type": "code",
      "source": [],
      "metadata": {
        "id": "Mp09-CrtP6Nt"
      },
      "execution_count": null,
      "outputs": []
    },
    {
      "cell_type": "code",
      "source": [],
      "metadata": {
        "id": "J22dZgzAQJDO"
      },
      "execution_count": null,
      "outputs": []
    },
    {
      "cell_type": "markdown",
      "source": [
        "##**Q5**##"
      ],
      "metadata": {
        "id": "4yaWemebQJiw"
      }
    },
    {
      "cell_type": "code",
      "source": [
        "colors=[\"red\", \"blue\", \"green\"]\n",
        "print(colors)\n"
      ],
      "metadata": {
        "colab": {
          "base_uri": "https://localhost:8080/"
        },
        "id": "MDPV5WhPQOX0",
        "outputId": "a777110f-b8c3-46cd-fd42-349994a4984e"
      },
      "execution_count": 214,
      "outputs": [
        {
          "output_type": "stream",
          "name": "stdout",
          "text": [
            "['red', 'blue', 'green']\n"
          ]
        }
      ]
    },
    {
      "cell_type": "code",
      "source": [
        "print(colors[0])"
      ],
      "metadata": {
        "colab": {
          "base_uri": "https://localhost:8080/"
        },
        "id": "Z4z0nu8jQfRH",
        "outputId": "f4f3c8b0-2e93-4716-eb06-8fe38be16d0b"
      },
      "execution_count": 215,
      "outputs": [
        {
          "output_type": "stream",
          "name": "stdout",
          "text": [
            "red\n"
          ]
        }
      ]
    },
    {
      "cell_type": "code",
      "source": [
        "colors[1]=\"yellow\""
      ],
      "metadata": {
        "id": "H8SXmS0GcsOg"
      },
      "execution_count": 216,
      "outputs": []
    },
    {
      "cell_type": "code",
      "source": [
        "print(colors)"
      ],
      "metadata": {
        "colab": {
          "base_uri": "https://localhost:8080/"
        },
        "id": "js1XbSvWR3Ox",
        "outputId": "84949f45-0635-4cc0-e27c-90f7773d4c50"
      },
      "execution_count": 217,
      "outputs": [
        {
          "output_type": "stream",
          "name": "stdout",
          "text": [
            "['red', 'yellow', 'green']\n"
          ]
        }
      ]
    },
    {
      "cell_type": "code",
      "source": [
        "colors[::-1]"
      ],
      "metadata": {
        "colab": {
          "base_uri": "https://localhost:8080/"
        },
        "id": "aZKZ35IoTk8W",
        "outputId": "01abf94c-d89f-4b85-ec74-2a8102dae50b"
      },
      "execution_count": 220,
      "outputs": [
        {
          "output_type": "execute_result",
          "data": {
            "text/plain": [
              "['green', 'yellow', 'red']"
            ]
          },
          "metadata": {},
          "execution_count": 220
        }
      ]
    },
    {
      "cell_type": "code",
      "source": [],
      "metadata": {
        "id": "iUYpZ5dAei_Z"
      },
      "execution_count": null,
      "outputs": []
    },
    {
      "cell_type": "markdown",
      "source": [
        "##**Q6**##"
      ],
      "metadata": {
        "id": "3F9Xmfsvex_v"
      }
    },
    {
      "cell_type": "code",
      "source": [
        "numbers=[10,20,30,40,50]"
      ],
      "metadata": {
        "id": "dRq3S3Bge1s2"
      },
      "execution_count": 221,
      "outputs": []
    },
    {
      "cell_type": "code",
      "source": [
        "print(numbers[2])"
      ],
      "metadata": {
        "colab": {
          "base_uri": "https://localhost:8080/"
        },
        "id": "ZrZXnPdPe7aY",
        "outputId": "25b7b07e-51cb-4be4-9d59-43cb4ed77be9"
      },
      "execution_count": 225,
      "outputs": [
        {
          "output_type": "stream",
          "name": "stdout",
          "text": [
            "30\n"
          ]
        }
      ]
    },
    {
      "cell_type": "code",
      "source": [
        "print(numbers[:2])"
      ],
      "metadata": {
        "colab": {
          "base_uri": "https://localhost:8080/"
        },
        "id": "wIXDW0gBe_9g",
        "outputId": "3a840c39-aa56-4a70-ee62-2498682cfa9d"
      },
      "execution_count": 228,
      "outputs": [
        {
          "output_type": "stream",
          "name": "stdout",
          "text": [
            "[10, 20]\n"
          ]
        }
      ]
    },
    {
      "cell_type": "code",
      "source": [
        "print(numbers[:1:-1])"
      ],
      "metadata": {
        "colab": {
          "base_uri": "https://localhost:8080/"
        },
        "id": "M7ZiVrsxfK8V",
        "outputId": "586941a4-9b6d-4c27-84f0-637ab879e63c"
      },
      "execution_count": 230,
      "outputs": [
        {
          "output_type": "stream",
          "name": "stdout",
          "text": [
            "[50, 40, 30]\n"
          ]
        }
      ]
    },
    {
      "cell_type": "code",
      "source": [],
      "metadata": {
        "id": "xZXZpwA5fVgG"
      },
      "execution_count": null,
      "outputs": []
    },
    {
      "cell_type": "markdown",
      "source": [
        "##**Q7**##"
      ],
      "metadata": {
        "id": "Wev5yEoofcbl"
      }
    },
    {
      "cell_type": "code",
      "source": [
        "animals=['cat','dog','bird']"
      ],
      "metadata": {
        "id": "Pul2PcB8fiKQ"
      },
      "execution_count": 231,
      "outputs": []
    },
    {
      "cell_type": "code",
      "source": [
        "print(animals)"
      ],
      "metadata": {
        "colab": {
          "base_uri": "https://localhost:8080/"
        },
        "id": "ONGN2SwJfn89",
        "outputId": "e49edfef-30c7-4ed5-b42d-8de0e97ecef0"
      },
      "execution_count": 232,
      "outputs": [
        {
          "output_type": "stream",
          "name": "stdout",
          "text": [
            "['cat', 'dog', 'bird']\n"
          ]
        }
      ]
    },
    {
      "cell_type": "code",
      "source": [
        "animals.append('fish')"
      ],
      "metadata": {
        "id": "5DppiY-AfpWk"
      },
      "execution_count": 233,
      "outputs": []
    },
    {
      "cell_type": "code",
      "source": [
        "print(animals)"
      ],
      "metadata": {
        "colab": {
          "base_uri": "https://localhost:8080/"
        },
        "id": "VB39LURDfsrR",
        "outputId": "838837f0-3a39-41d7-951e-6346d51be79f"
      },
      "execution_count": 234,
      "outputs": [
        {
          "output_type": "stream",
          "name": "stdout",
          "text": [
            "['cat', 'dog', 'bird', 'fish']\n"
          ]
        }
      ]
    },
    {
      "cell_type": "code",
      "source": [],
      "metadata": {
        "id": "AqlV1vhvfxz3"
      },
      "execution_count": null,
      "outputs": []
    },
    {
      "cell_type": "markdown",
      "source": [
        "##**Q8**##"
      ],
      "metadata": {
        "id": "2R87srsqgJSP"
      }
    },
    {
      "cell_type": "code",
      "source": [
        "random_numbers=[42,8,15,23,16]"
      ],
      "metadata": {
        "id": "a0H0c3RQgMLv"
      },
      "execution_count": 242,
      "outputs": []
    },
    {
      "cell_type": "code",
      "source": [
        "print(random_numbers)"
      ],
      "metadata": {
        "colab": {
          "base_uri": "https://localhost:8080/"
        },
        "id": "hGlC23upgSLH",
        "outputId": "294b383a-27fa-4b67-e4b5-d167ec3dabb6"
      },
      "execution_count": 243,
      "outputs": [
        {
          "output_type": "stream",
          "name": "stdout",
          "text": [
            "[42, 8, 15, 23, 16]\n"
          ]
        }
      ]
    },
    {
      "cell_type": "code",
      "source": [
        "random_numbers.sort()"
      ],
      "metadata": {
        "id": "Utf2ZhR8gUwM"
      },
      "execution_count": 244,
      "outputs": []
    },
    {
      "cell_type": "code",
      "source": [
        "print(random_numbers)"
      ],
      "metadata": {
        "colab": {
          "base_uri": "https://localhost:8080/"
        },
        "id": "26CtsTzGgXxK",
        "outputId": "d084a2e5-6766-4b28-c573-73d77cba9898"
      },
      "execution_count": 245,
      "outputs": [
        {
          "output_type": "stream",
          "name": "stdout",
          "text": [
            "[8, 15, 16, 23, 42]\n"
          ]
        }
      ]
    },
    {
      "cell_type": "code",
      "source": [
        "print(random_numbers[1::2])"
      ],
      "metadata": {
        "colab": {
          "base_uri": "https://localhost:8080/"
        },
        "id": "vyJWKk0WgkLE",
        "outputId": "d12ff1e1-af4c-48ee-8ec3-ed54db662402"
      },
      "execution_count": 248,
      "outputs": [
        {
          "output_type": "stream",
          "name": "stdout",
          "text": [
            "[15, 23]\n"
          ]
        }
      ]
    },
    {
      "cell_type": "code",
      "source": [],
      "metadata": {
        "id": "wnXRLLkRgpaG"
      },
      "execution_count": null,
      "outputs": []
    }
  ]
}