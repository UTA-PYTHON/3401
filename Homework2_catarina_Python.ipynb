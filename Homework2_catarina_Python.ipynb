{
  "nbformat": 4,
  "nbformat_minor": 0,
  "metadata": {
    "colab": {
      "provenance": []
    },
    "kernelspec": {
      "name": "python3",
      "display_name": "Python 3"
    },
    "language_info": {
      "name": "python"
    }
  },
  "cells": [
    {
      "cell_type": "markdown",
      "source": [
        "Catarina Vuzi  ID 1002184675\n",
        "\n"
      ],
      "metadata": {
        "id": "1GE-GVMbCbU6"
      }
    },
    {
      "cell_type": "markdown",
      "source": [
        "Hello, **My major** is *Data Science*"
      ],
      "metadata": {
        "id": "QiYFQdB2sJ3N"
      }
    },
    {
      "cell_type": "markdown",
      "source": [
        "#My favorite fruits"
      ],
      "metadata": {
        "id": "nyUnHWXeRPXo"
      }
    },
    {
      "cell_type": "markdown",
      "source": [
        "##Fruits are Healthy"
      ],
      "metadata": {
        "id": "IY9K9xCBSAQe"
      }
    },
    {
      "cell_type": "markdown",
      "source": [
        "### I love fruits"
      ],
      "metadata": {
        "id": "krbO61NoSJJX"
      }
    },
    {
      "cell_type": "markdown",
      "source": [
        "####Here comes the list of the fruits"
      ],
      "metadata": {
        "id": "oJ5sIb-1San7"
      }
    },
    {
      "cell_type": "markdown",
      "source": [
        "-Mango\n",
        "\n",
        "-Banana\n",
        "\n",
        "-Grapes\n",
        "\n",
        "-Apple"
      ],
      "metadata": {
        "id": "ZlLeiDnBRg5f"
      }
    },
    {
      "cell_type": "code",
      "source": [],
      "metadata": {
        "id": "7GTE0LpJSSOi"
      },
      "execution_count": null,
      "outputs": []
    },
    {
      "cell_type": "code",
      "source": [
        "a=5"
      ],
      "metadata": {
        "id": "NXW6p4xcSSZP"
      },
      "execution_count": null,
      "outputs": []
    },
    {
      "cell_type": "code",
      "source": [
        "b=10"
      ],
      "metadata": {
        "id": "KLVcgF30SX3p"
      },
      "execution_count": null,
      "outputs": []
    },
    {
      "cell_type": "code",
      "source": [
        "c=a+b"
      ],
      "metadata": {
        "id": "Ik0e3o0XSvHb"
      },
      "execution_count": null,
      "outputs": []
    },
    {
      "cell_type": "code",
      "source": [
        "print(c)"
      ],
      "metadata": {
        "colab": {
          "base_uri": "https://localhost:8080/"
        },
        "id": "5AaTTjZ7S_ev",
        "outputId": "83b63701-5300-4944-8270-66839aea2412"
      },
      "execution_count": null,
      "outputs": [
        {
          "output_type": "stream",
          "name": "stdout",
          "text": [
            "15\n"
          ]
        }
      ]
    },
    {
      "cell_type": "markdown",
      "source": [
        "#Pemdas"
      ],
      "metadata": {
        "id": "XMYM7R_yTtNq"
      }
    },
    {
      "cell_type": "code",
      "source": [
        "5-3**2 #solve the one in the first parentheses"
      ],
      "metadata": {
        "colab": {
          "base_uri": "https://localhost:8080/"
        },
        "id": "J5icBDTV3rNi",
        "outputId": "dae71def-5422-4140-9e12-dd3932b390f8"
      },
      "execution_count": null,
      "outputs": [
        {
          "output_type": "execute_result",
          "data": {
            "text/plain": [
              "-4"
            ]
          },
          "metadata": {},
          "execution_count": 1
        }
      ]
    },
    {
      "cell_type": "code",
      "source": [
        "5-32 #solve the one in the second parentheses"
      ],
      "metadata": {
        "colab": {
          "base_uri": "https://localhost:8080/"
        },
        "id": "Z_Vrv2ag4He1",
        "outputId": "97c72034-86aa-41f8-96bc-95a2e29b6204"
      },
      "execution_count": null,
      "outputs": [
        {
          "output_type": "execute_result",
          "data": {
            "text/plain": [
              "-27"
            ]
          },
          "metadata": {},
          "execution_count": 2
        }
      ]
    },
    {
      "cell_type": "code",
      "source": [
        "2*-4 # Now multiply by the first result"
      ],
      "metadata": {
        "colab": {
          "base_uri": "https://localhost:8080/"
        },
        "id": "lRojsftQ4hvI",
        "outputId": "0c8a313e-4be8-4e31-dfba-e5fd8842ea3e"
      },
      "execution_count": null,
      "outputs": [
        {
          "output_type": "execute_result",
          "data": {
            "text/plain": [
              "-8"
            ]
          },
          "metadata": {},
          "execution_count": 3
        }
      ]
    },
    {
      "cell_type": "code",
      "source": [
        "2*-27 #Now multiply by the second result"
      ],
      "metadata": {
        "colab": {
          "base_uri": "https://localhost:8080/"
        },
        "id": "hAfH5WNR7Cxl",
        "outputId": "73a05bf4-b91e-4b17-cc0f-40f5b8d15e14"
      },
      "execution_count": null,
      "outputs": [
        {
          "output_type": "execute_result",
          "data": {
            "text/plain": [
              "-54"
            ]
          },
          "metadata": {},
          "execution_count": 4
        }
      ]
    },
    {
      "cell_type": "code",
      "source": [
        "4/26 # Now is the division part"
      ],
      "metadata": {
        "colab": {
          "base_uri": "https://localhost:8080/"
        },
        "id": "wXJvzInP7a8z",
        "outputId": "69abf872-d2a3-42ac-cd1f-282fa31d6e99"
      },
      "execution_count": null,
      "outputs": [
        {
          "output_type": "execute_result",
          "data": {
            "text/plain": [
              "0.15384615384615385"
            ]
          },
          "metadata": {},
          "execution_count": 6
        }
      ]
    },
    {
      "cell_type": "code",
      "source": [
        "4/2 #division"
      ],
      "metadata": {
        "colab": {
          "base_uri": "https://localhost:8080/"
        },
        "id": "ZWw9XzfO7ETY",
        "outputId": "96f3becd-7f98-487e-99dd-d5bbd8b776a1"
      },
      "execution_count": null,
      "outputs": [
        {
          "output_type": "execute_result",
          "data": {
            "text/plain": [
              "2.0"
            ]
          },
          "metadata": {},
          "execution_count": 7
        }
      ]
    },
    {
      "cell_type": "code",
      "source": [
        "6+ -8 + 0.15384615384615385 + -54 + 2 # The new equation"
      ],
      "metadata": {
        "colab": {
          "base_uri": "https://localhost:8080/"
        },
        "id": "JouTE9Ni73Yi",
        "outputId": "71ccc464-1f75-48e5-ecb1-91118f3b739e"
      },
      "execution_count": null,
      "outputs": [
        {
          "output_type": "execute_result",
          "data": {
            "text/plain": [
              "-53.84615384615385"
            ]
          },
          "metadata": {},
          "execution_count": 10
        }
      ]
    },
    {
      "cell_type": "code",
      "source": [
        "(6+2*(5-3**2)+4/26+2*(5-32)+4/2) # calculation with python"
      ],
      "metadata": {
        "id": "87Li6AGMTwuu",
        "colab": {
          "base_uri": "https://localhost:8080/"
        },
        "outputId": "f2bc9b75-1c9a-4c4a-e388-c2de2338bd63"
      },
      "execution_count": null,
      "outputs": [
        {
          "output_type": "execute_result",
          "data": {
            "text/plain": [
              "-53.84615384615385"
            ]
          },
          "metadata": {},
          "execution_count": 11
        }
      ]
    }
  ]
}