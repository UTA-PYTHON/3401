{
  "nbformat": 4,
  "nbformat_minor": 0,
  "metadata": {
    "colab": {
      "provenance": []
    },
    "kernelspec": {
      "name": "python3",
      "display_name": "Python 3"
    },
    "language_info": {
      "name": "python"
    }
  },
  "cells": [
    {
      "cell_type": "markdown",
      "source": [
        "# **Homework 6: Object-oriented programming (OOP)**"
      ],
      "metadata": {
        "id": "VIqeR4FVugAQ"
      }
    },
    {
      "cell_type": "markdown",
      "source": [
        "### **Due date:** October 27, at 2:30 PM.\n",
        "\n",
        "### **Submission:** Please push your homework to the our GitHub repository, and place it in the 'Homework 6' folder."
      ],
      "metadata": {
        "id": "YBl1Dzbx0tEo"
      }
    },
    {
      "cell_type": "markdown",
      "source": [
        "\n",
        "\n",
        "---\n",
        "\n",
        "\n",
        "\n",
        "---\n",
        "\n"
      ],
      "metadata": {
        "id": "JsdFDiVvltSA"
      }
    },
    {
      "cell_type": "markdown",
      "source": [
        "## **Question**"
      ],
      "metadata": {
        "id": "PKFjn9RQxdKh"
      }
    },
    {
      "cell_type": "markdown",
      "source": [
        "### 1. Design a class hierarchy to represent different types of vehicles in a transportation system. Start with a base class called Vehicle with the following attributes and methods:\n",
        "\n",
        "**Attributes:**\n",
        "\n",
        "- make (string)\n",
        "- model (string)\n",
        "- year (integer)\n",
        "- fuel (float)\n",
        "\n",
        "**Methods:**\n",
        "\n",
        "- __init__(self, make, model, year, fuel): Initialize the attributes.\n",
        "- info(self): Print basic information about the vehicle, including make, model, year, and fuel efficiency.\n",
        "\n",
        "Next, create two subclasses that inherit from Vehicle:\n",
        "\n",
        "### 2. Create a subclass called Car with the following additional attributes and methods:\n",
        "\n",
        "**Attributes:**\n",
        "\n",
        "- num_doors (integer)\n",
        "- is_sedan (boolean)\n",
        "\n",
        "\n",
        "**Methods:**\n",
        "\n",
        "- __init__(self, make, model, year, fuel, num_doors, is_sedan): Initialize the attributes.\n",
        "- display_car_info(self): Print detailed information about the car, including the number of doors and whether it's a sedan.\n",
        "\n",
        "\n",
        "### 3. Create a subclass called Motorcycle with the following additional attributes and methods:\n",
        "\n",
        "**Attributes:**\n",
        "\n",
        "- top_speed (integer)\n",
        "- engine_size (float)\n",
        "\n",
        "\n",
        "**Methods:**\n",
        "\n",
        "- __init__(self, make, model, year, fuel, top_speed, engine_size): Initialize the attributes.\n",
        "- display_motorcycle_info(self): Print detailed information about the motorcycle, including top speed and engine size.\n",
        "\n",
        "\n",
        "Finally, create instances of both Car and Motorcycle classes and demonstrate the use of their methods to display information about each vehicle."
      ],
      "metadata": {
        "id": "i9czG4jTxdvg"
      }
    },
    {
      "cell_type": "code",
      "source": [
        "class Vehicle:\n",
        "    def __init__(self, make, model, year, fuel):\n",
        "        self.make = make\n",
        "        self.model = model\n",
        "        self.year = year\n",
        "        self.fuel = fuel\n",
        "\n",
        "    def info(self):\n",
        "        print(f\"Make: {self.make}\")\n",
        "        print(f\"Model: {self.model}\")\n",
        "        print(f\"Year: {self.year}\")\n",
        "        print(f\"Fuel Efficiency: {self.fuel} miles per gallon\")\n",
        "\n",
        "class Car(Vehicle):\n",
        "    def __init__(self, make, model, year, fuel, num_doors, is_sedan):\n",
        "        super().__init__(make, model, year, fuel)\n",
        "        self.num_doors = num_doors\n",
        "        self.is_sedan = is_sedan\n",
        "\n",
        "    def display_car_info(self):\n",
        "        self.info()\n",
        "        print(f\"Number of Doors: {self.num_doors}\")\n",
        "        print(f\"Is it a Sedan? {'Yes' if self.is_sedan else 'No'}\")\n",
        "\n",
        "class Motorcycle(Vehicle):\n",
        "    def __init__(self, make, model, year, fuel, top_speed, engine_size):\n",
        "        super().__init__(make, model, year, fuel)\n",
        "        self.top_speed = top_speed\n",
        "        self.engine_size = engine_size\n",
        "\n",
        "    def display_motorcycle_info(self):\n",
        "        self.info()\n",
        "        print(f\"Top Speed: {self.top_speed} mph\")\n",
        "        print(f\"Engine Size: {self.engine_size} cc\")\n",
        "\n",
        "# Create instances of Car and Motorcycle\n",
        "car1 = Car(\"Toyota\", \"Camry\", 2022, 30.5, 4, True)\n",
        "motorcycle1 = Motorcycle(\"Harley-Davidson\", \"Sportster\", 2022, 45.0, 120, 883)\n",
        "\n",
        "# Display information about the car and motorcycle\n",
        "print(\"Car Information:\")\n",
        "car1.display_car_info()\n",
        "print(\"\\nMotorcycle Information:\")\n",
        "motorcycle1.display_motorcycle_info()\n",
        "\n",
        "\n",
        "\n",
        "\n",
        "\n",
        "\n",
        "\n",
        "\n",
        "\n",
        "\n",
        "\n",
        "\n",
        "\n",
        "\n",
        "\n",
        "\n",
        "\n",
        "\n",
        "\n",
        "\n",
        "\n",
        "\n",
        "\n"
      ],
      "metadata": {
        "id": "1-VdpWBGylS5",
        "colab": {
          "base_uri": "https://localhost:8080/"
        },
        "outputId": "4e815c06-64c8-4dba-984b-6d66255df31a"
      },
      "execution_count": 1,
      "outputs": [
        {
          "output_type": "stream",
          "name": "stdout",
          "text": [
            "Car Information:\n",
            "Make: Toyota\n",
            "Model: Camry\n",
            "Year: 2022\n",
            "Fuel Efficiency: 30.5 miles per gallon\n",
            "Number of Doors: 4\n",
            "Is it a Sedan? Yes\n",
            "\n",
            "Motorcycle Information:\n",
            "Make: Harley-Davidson\n",
            "Model: Sportster\n",
            "Year: 2022\n",
            "Fuel Efficiency: 45.0 miles per gallon\n",
            "Top Speed: 120 mph\n",
            "Engine Size: 883 cc\n"
          ]
        }
      ]
    }
  ]
}