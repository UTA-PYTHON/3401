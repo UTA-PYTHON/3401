{
  "nbformat": 4,
  "nbformat_minor": 0,
  "metadata": {
    "colab": {
      "provenance": []
    },
    "kernelspec": {
      "name": "python3",
      "display_name": "Python 3"
    },
    "language_info": {
      "name": "python"
    }
  },
  "cells": [
    {
      "cell_type": "markdown",
      "source": [
        "Write a sentence where one word is in bold and another is in italics.\n",
        "\n",
        "Ans: I love my *data* 3401 **class**"
      ],
      "metadata": {
        "id": "59i_gwW0sx0t"
      }
    },
    {
      "cell_type": "markdown",
      "source": [
        "Create a hierarchy of headers from # (largest) to ### (smallest). Make up titles for each header level.\n",
        "\n",
        "Ans:\n"
      ],
      "metadata": {
        "id": "Ak9ctDtdt5iS"
      }
    },
    {
      "cell_type": "markdown",
      "source": [
        "#**GENRE OF MOVIES**"
      ],
      "metadata": {
        "id": "KCaW0y2eueBM"
      }
    },
    {
      "cell_type": "markdown",
      "source": [
        "##**SCI-FI ACTION**"
      ],
      "metadata": {
        "id": "1yWLkMB5vNBa"
      }
    },
    {
      "cell_type": "markdown",
      "source": [
        "###**CAST MEMBERS**"
      ],
      "metadata": {
        "id": "tzgmDjnmvY2U"
      }
    },
    {
      "cell_type": "markdown",
      "source": [
        "Create a bulleted list of your three favorite fruits\n",
        "\n",
        "* Apple\n",
        "* Pineapple\n",
        "* Blueberry"
      ],
      "metadata": {
        "id": "2LMdisMAvp9z"
      }
    },
    {
      "cell_type": "markdown",
      "source": [
        "Assign the number 5 to a variable named a.\n",
        "Assign the number 10 to a variable named b.\n",
        "Compute the sum of a and b and assign it to a variable named c. Print out the value of c."
      ],
      "metadata": {
        "id": "k8ZWmjYXwvxI"
      }
    },
    {
      "cell_type": "code",
      "source": [
        "a=5\n",
        "b=10"
      ],
      "metadata": {
        "id": "wpXSyB7_w9s1"
      },
      "execution_count": 1,
      "outputs": []
    },
    {
      "cell_type": "code",
      "source": [
        "a+b"
      ],
      "metadata": {
        "colab": {
          "base_uri": "https://localhost:8080/"
        },
        "id": "YLF13kd2x2K3",
        "outputId": "1afef1ce-bcb2-472d-bf99-6f2a0a0a5bfa"
      },
      "execution_count": 2,
      "outputs": [
        {
          "output_type": "execute_result",
          "data": {
            "text/plain": [
              "15"
            ]
          },
          "metadata": {},
          "execution_count": 2
        }
      ]
    },
    {
      "cell_type": "code",
      "source": [
        "c=a+b"
      ],
      "metadata": {
        "id": "oPPsTtaOx6DQ"
      },
      "execution_count": 3,
      "outputs": []
    },
    {
      "cell_type": "code",
      "source": [
        "c"
      ],
      "metadata": {
        "colab": {
          "base_uri": "https://localhost:8080/"
        },
        "id": "bKUO3VQ_yC_L",
        "outputId": "62ac4f79-2428-4888-edb2-98a7db08953c"
      },
      "execution_count": 4,
      "outputs": [
        {
          "output_type": "execute_result",
          "data": {
            "text/plain": [
              "15"
            ]
          },
          "metadata": {},
          "execution_count": 4
        }
      ]
    },
    {
      "cell_type": "markdown",
      "source": [
        "Given the equation\n",
        "**6+2×(5−3^2)+4/26+2×(5−32)+4/2**:\n",
        "Solve the equation step-by-step, following the PEMDAS order, and comment each step in the Jupyter cell.\n",
        "Compute the final answer using Python and display the result."
      ],
      "metadata": {
        "id": "p_RAtFbcyJAF"
      }
    },
    {
      "cell_type": "code",
      "source": [
        "3**2 #the first bracket three squared"
      ],
      "metadata": {
        "colab": {
          "base_uri": "https://localhost:8080/"
        },
        "id": "y32zgLcqy_1F",
        "outputId": "a3b4c64e-f301-4031-a050-1396596db80e"
      },
      "execution_count": 8,
      "outputs": [
        {
          "output_type": "execute_result",
          "data": {
            "text/plain": [
              "9"
            ]
          },
          "metadata": {},
          "execution_count": 8
        }
      ]
    },
    {
      "cell_type": "code",
      "source": [
        "5-9 #in the first bracket five minus three squared"
      ],
      "metadata": {
        "colab": {
          "base_uri": "https://localhost:8080/"
        },
        "id": "Gr1cy9sZ0NWY",
        "outputId": "1c65ae01-f534-4138-aab0-ce274c610bc3"
      },
      "execution_count": 9,
      "outputs": [
        {
          "output_type": "execute_result",
          "data": {
            "text/plain": [
              "-4"
            ]
          },
          "metadata": {},
          "execution_count": 9
        }
      ]
    },
    {
      "cell_type": "code",
      "source": [
        "5-32 #the second bracket"
      ],
      "metadata": {
        "colab": {
          "base_uri": "https://localhost:8080/"
        },
        "id": "B7U2zMvW0_p6",
        "outputId": "32f656ab-d0f6-4312-ee3c-cf2435f0e058"
      },
      "execution_count": 10,
      "outputs": [
        {
          "output_type": "execute_result",
          "data": {
            "text/plain": [
              "-27"
            ]
          },
          "metadata": {},
          "execution_count": 10
        }
      ]
    },
    {
      "cell_type": "code",
      "source": [
        "2*-4 # 2 multiplied (5-3squared) the first bracket"
      ],
      "metadata": {
        "colab": {
          "base_uri": "https://localhost:8080/"
        },
        "id": "HyGj_Oq41Jub",
        "outputId": "a594ccbf-4827-4cbe-b60b-97f74a6075ce"
      },
      "execution_count": 11,
      "outputs": [
        {
          "output_type": "execute_result",
          "data": {
            "text/plain": [
              "-8"
            ]
          },
          "metadata": {},
          "execution_count": 11
        }
      ]
    },
    {
      "cell_type": "code",
      "source": [
        "2*-27 # 2 multiplied by second bracket"
      ],
      "metadata": {
        "colab": {
          "base_uri": "https://localhost:8080/"
        },
        "id": "Uflmyz5-1iJV",
        "outputId": "8fcc121d-ef4e-4991-b7bd-89f154ea4fae"
      },
      "execution_count": 12,
      "outputs": [
        {
          "output_type": "execute_result",
          "data": {
            "text/plain": [
              "-54"
            ]
          },
          "metadata": {},
          "execution_count": 12
        }
      ]
    },
    {
      "cell_type": "markdown",
      "source": [
        "So the equation has been reduced to 6-8+4/26-54+4/2"
      ],
      "metadata": {
        "id": "6Z9ty9Fi2NQM"
      }
    },
    {
      "cell_type": "code",
      "source": [
        "4/2 #divide 4 by two"
      ],
      "metadata": {
        "colab": {
          "base_uri": "https://localhost:8080/"
        },
        "id": "Oa566Oqz2hEA",
        "outputId": "a763db05-95f2-4b88-c687-fb3d64341638"
      },
      "execution_count": 13,
      "outputs": [
        {
          "output_type": "execute_result",
          "data": {
            "text/plain": [
              "2.0"
            ]
          },
          "metadata": {},
          "execution_count": 13
        }
      ]
    },
    {
      "cell_type": "code",
      "source": [
        "4/26 # the first division"
      ],
      "metadata": {
        "colab": {
          "base_uri": "https://localhost:8080/"
        },
        "id": "ldF2gjfL2pOq",
        "outputId": "49fa2b6c-c9e1-4442-db00-00fc2f6d1edf"
      },
      "execution_count": 14,
      "outputs": [
        {
          "output_type": "execute_result",
          "data": {
            "text/plain": [
              "0.15384615384615385"
            ]
          },
          "metadata": {},
          "execution_count": 14
        }
      ]
    },
    {
      "cell_type": "code",
      "source": [
        "-54+2"
      ],
      "metadata": {
        "colab": {
          "base_uri": "https://localhost:8080/"
        },
        "id": "iR_4xq342-1K",
        "outputId": "ea05e040-7a70-4ce1-8b95-1f7a5b05371b"
      },
      "execution_count": 15,
      "outputs": [
        {
          "output_type": "execute_result",
          "data": {
            "text/plain": [
              "-52"
            ]
          },
          "metadata": {},
          "execution_count": 15
        }
      ]
    },
    {
      "cell_type": "code",
      "source": [
        "-8+0.15384615384"
      ],
      "metadata": {
        "colab": {
          "base_uri": "https://localhost:8080/"
        },
        "id": "65nb0GI83Z6v",
        "outputId": "9c81c6dd-3c7f-4d83-dfad-3e4e2051e5b4"
      },
      "execution_count": 16,
      "outputs": [
        {
          "output_type": "execute_result",
          "data": {
            "text/plain": [
              "-7.84615384616"
            ]
          },
          "metadata": {},
          "execution_count": 16
        }
      ]
    },
    {
      "cell_type": "code",
      "source": [
        "6-7.84615384616-52    #this is the final answer using PEMDAS"
      ],
      "metadata": {
        "colab": {
          "base_uri": "https://localhost:8080/"
        },
        "id": "RfPhITMJ3jsT",
        "outputId": "f2f91f52-962f-4d56-b43e-6214944afa6a"
      },
      "execution_count": 17,
      "outputs": [
        {
          "output_type": "execute_result",
          "data": {
            "text/plain": [
              "-53.84615384616"
            ]
          },
          "metadata": {},
          "execution_count": 17
        }
      ]
    },
    {
      "cell_type": "code",
      "source": [
        "6+2*(5-3**2)+4/26+2*(5-32)+4/2 #  this is python expression"
      ],
      "metadata": {
        "colab": {
          "base_uri": "https://localhost:8080/"
        },
        "id": "kOO5JYiB3yRz",
        "outputId": "7530e833-c766-45c6-f1f2-ace9970f1519"
      },
      "execution_count": 20,
      "outputs": [
        {
          "output_type": "execute_result",
          "data": {
            "text/plain": [
              "-53.84615384615385"
            ]
          },
          "metadata": {},
          "execution_count": 20
        }
      ]
    }
  ]
}