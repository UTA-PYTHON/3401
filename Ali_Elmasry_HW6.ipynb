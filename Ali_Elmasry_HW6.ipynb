{
  "nbformat": 4,
  "nbformat_minor": 0,
  "metadata": {
    "colab": {
      "provenance": []
    },
    "kernelspec": {
      "name": "python3",
      "display_name": "Python 3"
    },
    "language_info": {
      "name": "python"
    }
  },
  "cells": [
    {
      "cell_type": "markdown",
      "source": [
        "# **Homework 6: Object-oriented programming (OOP)**"
      ],
      "metadata": {
        "id": "VIqeR4FVugAQ"
      }
    },
    {
      "cell_type": "markdown",
      "source": [
        "### **Due date:** October 27, at 2:30 PM.\n",
        "\n",
        "### **Submission:** Please push your homework to the our GitHub repository, and place it in the 'Homework 6' folder."
      ],
      "metadata": {
        "id": "YBl1Dzbx0tEo"
      }
    },
    {
      "cell_type": "markdown",
      "source": [
        "\n",
        "\n",
        "---\n",
        "\n",
        "\n",
        "\n",
        "---\n",
        "\n"
      ],
      "metadata": {
        "id": "JsdFDiVvltSA"
      }
    },
    {
      "cell_type": "markdown",
      "source": [
        "## **Question**"
      ],
      "metadata": {
        "id": "PKFjn9RQxdKh"
      }
    },
    {
      "cell_type": "markdown",
      "source": [
        "### 1. Design a class hierarchy to represent different types of vehicles in a transportation system. Start with a base class called Vehicle with the following attributes and methods:\n",
        "\n",
        "**Attributes:**\n",
        "\n",
        "- make (string)\n",
        "- model (string)\n",
        "- year (integer)\n",
        "- fuel (float)\n",
        "\n",
        "**Methods:**\n",
        "\n",
        "- __init__(self, make, model, year, fuel): Initialize the attributes.\n",
        "- info(self): Print basic information about the vehicle, including make, model, year, and fuel efficiency.\n",
        "\n",
        "Next, create two subclasses that inherit from Vehicle:\n",
        "\n",
        "### 2. Create a subclass called Car with the following additional attributes and methods:\n",
        "\n",
        "**Attributes:**\n",
        "\n",
        "- num_doors (integer)\n",
        "- is_sedan (boolean)\n",
        "\n",
        "\n",
        "**Methods:**\n",
        "\n",
        "- __init__(self, make, model, year, fuel, num_doors, is_sedan): Initialize the attributes.\n",
        "- display_car_info(self): Print detailed information about the car, including the number of doors and whether it's a sedan.\n",
        "\n",
        "\n",
        "### 3. Create a subclass called Motorcycle with the following additional attributes and methods:\n",
        "\n",
        "**Attributes:**\n",
        "\n",
        "- top_speed (integer)\n",
        "- engine_size (float)\n",
        "\n",
        "\n",
        "**Methods:**\n",
        "\n",
        "- __init__(self, make, model, year, fuel, top_speed, engine_size): Initialize the attributes.\n",
        "- display_motorcycle_info(self): Print detailed information about the motorcycle, including top speed and engine size.\n",
        "\n",
        "\n",
        "Finally, create instances of both Car and Motorcycle classes and demonstrate the use of their methods to display information about each vehicle."
      ],
      "metadata": {
        "id": "i9czG4jTxdvg"
      }
    },
    {
      "cell_type": "code",
      "source": [
        "class vehicle:\n",
        "  def __init__(self,make,model,year,fuel):\n",
        "    self.make = make\n",
        "    self.model = model\n",
        "    self.year = year\n",
        "    self.fuel = fuel\n",
        "  def summarize(self):\n",
        "    summary = f\"This vehicle is a {self.make} {self.model} and the year is {self.year} and it gets {self.fuel} miles to the gallon.\"\n",
        "    return summary\n",
        "\n",
        "class car(vehicle):\n",
        "  def __init__(self, make, model, year, fuel, num_doors):\n",
        "    super().__init__(make, model, year, fuel)\n",
        "    self.num_doors = num_doors\n",
        "\n",
        "  def is_sedan(self):\n",
        "    if self.num_doors == 4:\n",
        "      is_sedan = True\n",
        "      display_car_info = f\"This car has {self.num_doors} number of doors therefore it is a sedan.\"\n",
        "      return display_car_info\n",
        "    else:\n",
        "      is_sedan = False\n",
        "      display_car_info = f\"This car has {self.num_doors} number of doors therefore it is NOT a sedan.\"\n",
        "      return display_car_info\n",
        "\n",
        "class motorcycle(vehicle):\n",
        "  def __init__(self, make, model, year, fuel, top_speed, engine_size):\n",
        "    super().__init__(make,model,year,fuel)\n",
        "    self.top_speed = top_speed\n",
        "    self.engine_size = engine_size\n",
        "\n",
        "  def motorcycle_info(self):\n",
        "    display_motorcycle_info = f\"This motorcycle is a {self.make} {self.model}, it has a top speed of {self.top_speed}mph which is produced from a {self.engine_size} cc engine.\"\n",
        "    return display_motorcycle_info\n",
        "\n",
        "\n",
        "\n",
        "\n",
        "\n"
      ],
      "metadata": {
        "id": "1-VdpWBGylS5"
      },
      "execution_count": null,
      "outputs": []
    },
    {
      "cell_type": "code",
      "source": [
        "myCar = vehicle (\"BMW\", \"M5\", 2020, 34.5 )"
      ],
      "metadata": {
        "id": "U6ebmguUD9FF"
      },
      "execution_count": null,
      "outputs": []
    },
    {
      "cell_type": "code",
      "source": [
        "myCar.summarize()"
      ],
      "metadata": {
        "colab": {
          "base_uri": "https://localhost:8080/",
          "height": 35
        },
        "id": "Ffiu8FYuHNVY",
        "outputId": "71783665-8512-4438-b01a-a8c3679c79ac"
      },
      "execution_count": null,
      "outputs": [
        {
          "output_type": "execute_result",
          "data": {
            "text/plain": [
              "'This vehicle is a BMW M5 and the year is 2020 and it gets 34.5 miles to the gallon.'"
            ],
            "application/vnd.google.colaboratory.intrinsic+json": {
              "type": "string"
            }
          },
          "metadata": {},
          "execution_count": 45
        }
      ]
    },
    {
      "cell_type": "code",
      "source": [
        "myCar2 = car(\"Mercedes\", \"C63 AMG\", 2020, 34.5, 4)\n",
        "myCar2.is_sedan()"
      ],
      "metadata": {
        "colab": {
          "base_uri": "https://localhost:8080/",
          "height": 35
        },
        "id": "rW8si2BDHQj1",
        "outputId": "7b6a1dbf-e58c-4d1d-e22b-6a6f05767684"
      },
      "execution_count": null,
      "outputs": [
        {
          "output_type": "execute_result",
          "data": {
            "text/plain": [
              "'This car has 4 number of doors therefore it is a sedan.'"
            ],
            "application/vnd.google.colaboratory.intrinsic+json": {
              "type": "string"
            }
          },
          "metadata": {},
          "execution_count": 46
        }
      ]
    },
    {
      "cell_type": "code",
      "source": [
        "myMotorcycle = motorcycle(\"Kawasaki Ninja\", \"H2\", 2020, 8.1, 205, 998)\n",
        "myMotorcycle.motorcycle_info()"
      ],
      "metadata": {
        "colab": {
          "base_uri": "https://localhost:8080/",
          "height": 35
        },
        "id": "RfSSi91gH70p",
        "outputId": "b84148f1-694f-4b67-bf36-49efce685690"
      },
      "execution_count": null,
      "outputs": [
        {
          "output_type": "execute_result",
          "data": {
            "text/plain": [
              "'This motorcycle is a Kawasaki Ninja H2, it has a top speed of 205mph which is produced from a 998 cc engine.'"
            ],
            "application/vnd.google.colaboratory.intrinsic+json": {
              "type": "string"
            }
          },
          "metadata": {},
          "execution_count": 47
        }
      ]
    },
    {
      "cell_type": "code",
      "source": [
        "myMotorcycle.summarize()"
      ],
      "metadata": {
        "colab": {
          "base_uri": "https://localhost:8080/",
          "height": 35
        },
        "id": "uzewpx9zLtHh",
        "outputId": "1b8b0e03-2435-47bd-b5e3-7b92e595ed35"
      },
      "execution_count": null,
      "outputs": [
        {
          "output_type": "execute_result",
          "data": {
            "text/plain": [
              "'This vehicle is a Kawasaki Ninja H2 and the year is 2020 and it gets 8.1 miles to the gallon.'"
            ],
            "application/vnd.google.colaboratory.intrinsic+json": {
              "type": "string"
            }
          },
          "metadata": {},
          "execution_count": 48
        }
      ]
    },
    {
      "cell_type": "code",
      "source": [
        "myCar2.summarize()"
      ],
      "metadata": {
        "colab": {
          "base_uri": "https://localhost:8080/",
          "height": 35
        },
        "id": "kPqNii-VOF8G",
        "outputId": "4ba7eda9-a2e0-4ed7-db85-950d33990ddc"
      },
      "execution_count": null,
      "outputs": [
        {
          "output_type": "execute_result",
          "data": {
            "text/plain": [
              "'This vehicle is a Mercedes C63 AMG and the year is 2020 and it gets 34.5 miles to the gallon.'"
            ],
            "application/vnd.google.colaboratory.intrinsic+json": {
              "type": "string"
            }
          },
          "metadata": {},
          "execution_count": 49
        }
      ]
    },
    {
      "cell_type": "code",
      "source": [],
      "metadata": {
        "id": "OC3IqjCnOQHf"
      },
      "execution_count": null,
      "outputs": []
    }
  ]
}