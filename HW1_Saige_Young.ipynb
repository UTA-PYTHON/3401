{
 "cells": [
  {
   "cell_type": "markdown",
   "id": "640696e6",
   "metadata": {},
   "source": [
    "**Hello**, how is your *day*?"
   ]
  },
  {
   "cell_type": "markdown",
   "id": "8ef1d5f4",
   "metadata": {},
   "source": [
    "# Places to travel\n",
    "\n",
    "## What to eat\n",
    "\n",
    "### Things to see"
   ]
  },
  {
   "cell_type": "markdown",
   "id": "2c68b680",
   "metadata": {},
   "source": [
    "# Favorite Fruit\n",
    "- Grapes\n",
    "- Bananas\n",
    "- Apples"
   ]
  },
  {
   "cell_type": "code",
   "execution_count": null,
   "id": "8ee8d330",
   "metadata": {},
   "outputs": [],
   "source": []
  },
  {
   "cell_type": "code",
   "execution_count": null,
   "id": "eaaebb06",
   "metadata": {},
   "outputs": [],
   "source": []
  },
  {
   "cell_type": "code",
   "execution_count": null,
   "id": "fbcd2e61",
   "metadata": {},
   "outputs": [],
   "source": []
  },
  {
   "cell_type": "markdown",
   "id": "f7d27dc3",
   "metadata": {},
   "source": [
    "# Variable Assignment"
   ]
  },
  {
   "cell_type": "markdown",
   "id": "7b68300e",
   "metadata": {},
   "source": [
    "## Assign the number 5 to variable a"
   ]
  },
  {
   "cell_type": "code",
   "execution_count": 2,
   "id": "e5884b5f",
   "metadata": {},
   "outputs": [],
   "source": [
    "a=5"
   ]
  },
  {
   "cell_type": "code",
   "execution_count": 3,
   "id": "7fe49758",
   "metadata": {},
   "outputs": [
    {
     "name": "stdout",
     "output_type": "stream",
     "text": [
      "5\n"
     ]
    }
   ],
   "source": [
    "print (a)"
   ]
  },
  {
   "cell_type": "code",
   "execution_count": 4,
   "id": "c796e18d",
   "metadata": {},
   "outputs": [
    {
     "data": {
      "text/plain": [
       "5"
      ]
     },
     "execution_count": 4,
     "metadata": {},
     "output_type": "execute_result"
    }
   ],
   "source": [
    "a"
   ]
  },
  {
   "cell_type": "markdown",
   "id": "1f94652e",
   "metadata": {},
   "source": [
    "## Assign the number 10 to variable b"
   ]
  },
  {
   "cell_type": "code",
   "execution_count": 5,
   "id": "588ef290",
   "metadata": {},
   "outputs": [],
   "source": [
    "b=10"
   ]
  },
  {
   "cell_type": "code",
   "execution_count": 6,
   "id": "02a3c4d5",
   "metadata": {},
   "outputs": [
    {
     "name": "stdout",
     "output_type": "stream",
     "text": [
      "10\n"
     ]
    }
   ],
   "source": [
    "print (b)"
   ]
  },
  {
   "cell_type": "code",
   "execution_count": 7,
   "id": "b9841a2b",
   "metadata": {},
   "outputs": [
    {
     "data": {
      "text/plain": [
       "10"
      ]
     },
     "execution_count": 7,
     "metadata": {},
     "output_type": "execute_result"
    }
   ],
   "source": [
    "b"
   ]
  },
  {
   "cell_type": "markdown",
   "id": "991e8553",
   "metadata": {},
   "source": [
    "## Compute the sum of a and b to a variable c"
   ]
  },
  {
   "cell_type": "code",
   "execution_count": 10,
   "id": "62dd47f2",
   "metadata": {},
   "outputs": [],
   "source": [
    "c=a+b"
   ]
  },
  {
   "cell_type": "code",
   "execution_count": 11,
   "id": "a04c0840",
   "metadata": {},
   "outputs": [
    {
     "name": "stdout",
     "output_type": "stream",
     "text": [
      "15\n"
     ]
    }
   ],
   "source": [
    "print(c)"
   ]
  },
  {
   "cell_type": "code",
   "execution_count": 12,
   "id": "47294bdc",
   "metadata": {},
   "outputs": [
    {
     "data": {
      "text/plain": [
       "15"
      ]
     },
     "execution_count": 12,
     "metadata": {},
     "output_type": "execute_result"
    }
   ],
   "source": [
    "c"
   ]
  },
  {
   "cell_type": "code",
   "execution_count": null,
   "id": "e5528353",
   "metadata": {},
   "outputs": [],
   "source": []
  },
  {
   "cell_type": "code",
   "execution_count": null,
   "id": "14abc3e5",
   "metadata": {},
   "outputs": [],
   "source": []
  },
  {
   "cell_type": "code",
   "execution_count": null,
   "id": "f72c91d8",
   "metadata": {},
   "outputs": [],
   "source": []
  },
  {
   "cell_type": "markdown",
   "id": "83a42a63",
   "metadata": {},
   "source": [
    "# PEMDAS"
   ]
  },
  {
   "cell_type": "code",
   "execution_count": 18,
   "id": "200d7207",
   "metadata": {},
   "outputs": [],
   "source": [
    "d=5-3**2 #solving first set of parentheses"
   ]
  },
  {
   "cell_type": "code",
   "execution_count": 20,
   "id": "624ca600",
   "metadata": {},
   "outputs": [
    {
     "name": "stdout",
     "output_type": "stream",
     "text": [
      "-4\n"
     ]
    }
   ],
   "source": [
    "print(d)"
   ]
  },
  {
   "cell_type": "code",
   "execution_count": 19,
   "id": "43bd8927",
   "metadata": {},
   "outputs": [],
   "source": [
    "e=5-32 #solving second set of parentheses"
   ]
  },
  {
   "cell_type": "code",
   "execution_count": 21,
   "id": "0fa323e8",
   "metadata": {},
   "outputs": [
    {
     "name": "stdout",
     "output_type": "stream",
     "text": [
      "-27\n"
     ]
    }
   ],
   "source": [
    "print(e)"
   ]
  },
  {
   "cell_type": "code",
   "execution_count": 22,
   "id": "63d0bbc4",
   "metadata": {},
   "outputs": [],
   "source": [
    "f=2*d #solving first part of multiplication"
   ]
  },
  {
   "cell_type": "code",
   "execution_count": 23,
   "id": "7c9ab3c7",
   "metadata": {},
   "outputs": [
    {
     "name": "stdout",
     "output_type": "stream",
     "text": [
      "-8\n"
     ]
    }
   ],
   "source": [
    "print(f)"
   ]
  },
  {
   "cell_type": "code",
   "execution_count": 24,
   "id": "20ab3f3a",
   "metadata": {},
   "outputs": [],
   "source": [
    "g=2*e #solving second part of multiplication"
   ]
  },
  {
   "cell_type": "code",
   "execution_count": 25,
   "id": "19f42325",
   "metadata": {},
   "outputs": [
    {
     "name": "stdout",
     "output_type": "stream",
     "text": [
      "-54\n"
     ]
    }
   ],
   "source": [
    "print(g)"
   ]
  },
  {
   "cell_type": "code",
   "execution_count": 26,
   "id": "33fd2efd",
   "metadata": {},
   "outputs": [],
   "source": [
    "h=4/2 #solving division part"
   ]
  },
  {
   "cell_type": "code",
   "execution_count": 27,
   "id": "16609e19",
   "metadata": {},
   "outputs": [
    {
     "name": "stdout",
     "output_type": "stream",
     "text": [
      "2.0\n"
     ]
    }
   ],
   "source": [
    "print(h)"
   ]
  },
  {
   "cell_type": "code",
   "execution_count": 30,
   "id": "3c4d95d6",
   "metadata": {},
   "outputs": [],
   "source": [
    "i=6+f+4 #getting the top of the division for whole equation"
   ]
  },
  {
   "cell_type": "code",
   "execution_count": 31,
   "id": "ed82296e",
   "metadata": {},
   "outputs": [
    {
     "name": "stdout",
     "output_type": "stream",
     "text": [
      "2\n"
     ]
    }
   ],
   "source": [
    "print(i)"
   ]
  },
  {
   "cell_type": "code",
   "execution_count": 32,
   "id": "60492df7",
   "metadata": {},
   "outputs": [],
   "source": [
    "j=26+g+h #getting the bottom of division for whole equation"
   ]
  },
  {
   "cell_type": "code",
   "execution_count": 33,
   "id": "835d7158",
   "metadata": {},
   "outputs": [
    {
     "name": "stdout",
     "output_type": "stream",
     "text": [
      "-26.0\n"
     ]
    }
   ],
   "source": [
    "print(j)"
   ]
  },
  {
   "cell_type": "code",
   "execution_count": 35,
   "id": "1eea45b8",
   "metadata": {},
   "outputs": [
    {
     "data": {
      "text/plain": [
       "-0.07692307692307693"
      ]
     },
     "execution_count": 35,
     "metadata": {},
     "output_type": "execute_result"
    }
   ],
   "source": [
    "i/j #last part to solving the equation/final answer"
   ]
  },
  {
   "cell_type": "code",
   "execution_count": 37,
   "id": "c51f405e",
   "metadata": {},
   "outputs": [
    {
     "data": {
      "text/plain": [
       "-0.07692307692307693"
      ]
     },
     "execution_count": 37,
     "metadata": {},
     "output_type": "execute_result"
    }
   ],
   "source": [
    "(6+(2*(5-3**2))+4)/(26+(2*(5-32))+(4/2)) #whole equation inputted in one cell"
   ]
  },
  {
   "cell_type": "code",
   "execution_count": null,
   "id": "fdaad83a",
   "metadata": {},
   "outputs": [],
   "source": []
  }
 ],
 "metadata": {
  "kernelspec": {
   "display_name": "Python 3 (ipykernel)",
   "language": "python",
   "name": "python3"
  },
  "language_info": {
   "codemirror_mode": {
    "name": "ipython",
    "version": 3
   },
   "file_extension": ".py",
   "mimetype": "text/x-python",
   "name": "python",
   "nbconvert_exporter": "python",
   "pygments_lexer": "ipython3",
   "version": "3.11.4"
  }
 },
 "nbformat": 4,
 "nbformat_minor": 5
}
