{
  "nbformat": 4,
  "nbformat_minor": 0,
  "metadata": {
    "colab": {
      "provenance": [],
      "authorship_tag": "ABX9TyPaK56f0LfGiwoo0yNoXTVL",
      "include_colab_link": true
    },
    "kernelspec": {
      "name": "python3",
      "display_name": "Python 3"
    },
    "language_info": {
      "name": "python"
    }
  },
  "cells": [
    {
      "cell_type": "markdown",
      "metadata": {
        "id": "view-in-github",
        "colab_type": "text"
      },
      "source": [
        "<a href=\"https://colab.research.google.com/github/UTA-PYTHON/3401/blob/master/Homework3_Ruth_Slaughter.ipynb\" target=\"_parent\"><img src=\"https://colab.research.google.com/assets/colab-badge.svg\" alt=\"Open In Colab\"/></a>"
      ]
    },
    {
      "cell_type": "markdown",
      "source": [
        "Ruth Slaughter 1001918965"
      ],
      "metadata": {
        "id": "VZ1DbMWLr4YY"
      }
    },
    {
      "cell_type": "markdown",
      "source": [
        "## 1. Printing, Data Types, & Input\n",
        "\n",
        "- Ask the user for their name and their age.\n",
        "- Print a statement saying: \"Hello, [name]. You are [age] years old.\"\n",
        "- Print the data type of each variable."
      ],
      "metadata": {
        "id": "xOK5_uy2pop8"
      }
    },
    {
      "cell_type": "code",
      "source": [
        "name=input(\"Enter your name:\")"
      ],
      "metadata": {
        "colab": {
          "base_uri": "https://localhost:8080/"
        },
        "id": "defWuw6or-E-",
        "outputId": "e26510c8-be27-4c3e-d2dd-972e6d0ae708"
      },
      "execution_count": null,
      "outputs": [
        {
          "name": "stdout",
          "output_type": "stream",
          "text": [
            "Enter your name:Ruth\n"
          ]
        }
      ]
    },
    {
      "cell_type": "code",
      "source": [
        "age=input(\"Enter your age:\")\n",
        "print(\"Hello\",name,\".You are\",age,\"years old\")"
      ],
      "metadata": {
        "colab": {
          "base_uri": "https://localhost:8080/"
        },
        "id": "sayY-IvFr-Xo",
        "outputId": "1f260a12-497f-4d85-a12b-e9c5e745dc42"
      },
      "execution_count": null,
      "outputs": [
        {
          "output_type": "stream",
          "name": "stdout",
          "text": [
            "Enter your age:20\n",
            "Hello Ruth .You are 20 years old\n"
          ]
        }
      ]
    },
    {
      "cell_type": "code",
      "source": [
        "print(type(\"name\"))"
      ],
      "metadata": {
        "id": "RiloKUHUr-f6",
        "colab": {
          "base_uri": "https://localhost:8080/"
        },
        "outputId": "ac02d73b-7ae9-4530-95bd-0bf30741d7ad"
      },
      "execution_count": null,
      "outputs": [
        {
          "output_type": "stream",
          "name": "stdout",
          "text": [
            "<class 'str'>\n"
          ]
        }
      ]
    },
    {
      "cell_type": "code",
      "source": [
        "print(type(\"age\"))"
      ],
      "metadata": {
        "colab": {
          "base_uri": "https://localhost:8080/"
        },
        "id": "Qr3u6lrd7ie6",
        "outputId": "6cf6ba58-6c8e-4ec6-9296-9efd74899866"
      },
      "execution_count": null,
      "outputs": [
        {
          "output_type": "stream",
          "name": "stdout",
          "text": [
            "<class 'str'>\n"
          ]
        }
      ]
    },
    {
      "cell_type": "markdown",
      "source": [
        "## 2. String Manipulations & Input\n",
        "\n",
        "- Ask the user for the name of their hometown.\n",
        "- Print the name of the hometown in uppercase.\n",
        "- Print the first three characters of the hometown's name using slicing.\n",
        "- Printing the name in reverse using slicing"
      ],
      "metadata": {
        "id": "1AiMvEZypozL"
      }
    },
    {
      "cell_type": "code",
      "source": [
        "Town=input(\"Enter the name of your hometown:\")"
      ],
      "metadata": {
        "colab": {
          "base_uri": "https://localhost:8080/"
        },
        "id": "LiVNPQDXtEhn",
        "outputId": "cb186783-04b1-462f-b986-30736fd2c2a2"
      },
      "execution_count": null,
      "outputs": [
        {
          "name": "stdout",
          "output_type": "stream",
          "text": [
            "Enter the name of your hometown:Wichita\n"
          ]
        }
      ]
    },
    {
      "cell_type": "code",
      "source": [
        "Town.upper()"
      ],
      "metadata": {
        "colab": {
          "base_uri": "https://localhost:8080/",
          "height": 38
        },
        "id": "UsOT-u02tUd-",
        "outputId": "a0b2e423-9eac-411c-c9f7-427ef1120317"
      },
      "execution_count": null,
      "outputs": [
        {
          "output_type": "execute_result",
          "data": {
            "text/plain": [
              "'WICHITA'"
            ],
            "application/vnd.google.colaboratory.intrinsic+json": {
              "type": "string"
            }
          },
          "metadata": {},
          "execution_count": 9
        }
      ]
    },
    {
      "cell_type": "code",
      "source": [
        "print(Town[0:3])"
      ],
      "metadata": {
        "colab": {
          "base_uri": "https://localhost:8080/"
        },
        "id": "XAjv-ivU71wD",
        "outputId": "3de62367-aebb-49d7-f575-0b6eb9d08cfd"
      },
      "execution_count": null,
      "outputs": [
        {
          "output_type": "stream",
          "name": "stdout",
          "text": [
            "Wic\n"
          ]
        }
      ]
    },
    {
      "cell_type": "code",
      "source": [
        "print(Town[::-1])"
      ],
      "metadata": {
        "colab": {
          "base_uri": "https://localhost:8080/"
        },
        "id": "sqKVstu28Ywq",
        "outputId": "304dcd0b-c608-47fa-8d28-b82f36b17a81"
      },
      "execution_count": null,
      "outputs": [
        {
          "output_type": "stream",
          "name": "stdout",
          "text": [
            "atihciW\n"
          ]
        }
      ]
    },
    {
      "cell_type": "markdown",
      "source": [
        "## 3. Numeric Operations & Input\n",
        "\n",
        "- Prompt the user to enter a number.\n",
        "- Multiply the number by itself and print the result.\n",
        "- Calculating the square root."
      ],
      "metadata": {
        "id": "r7yBK1UKpo6V"
      }
    },
    {
      "cell_type": "code",
      "source": [
        "number= float(input(\"Enter any number here:\"))"
      ],
      "metadata": {
        "colab": {
          "base_uri": "https://localhost:8080/"
        },
        "id": "MLrfR--BuDFp",
        "outputId": "a71f9436-ad01-4799-949c-738920d63cc1"
      },
      "execution_count": null,
      "outputs": [
        {
          "name": "stdout",
          "output_type": "stream",
          "text": [
            "Enter any number here:30\n"
          ]
        }
      ]
    },
    {
      "cell_type": "code",
      "source": [
        "print(number**2)"
      ],
      "metadata": {
        "colab": {
          "base_uri": "https://localhost:8080/"
        },
        "id": "YItWJNIs8nhH",
        "outputId": "53d0468d-de2e-42f2-ca55-2d1c15c153a2"
      },
      "execution_count": null,
      "outputs": [
        {
          "output_type": "stream",
          "name": "stdout",
          "text": [
            "900.0\n"
          ]
        }
      ]
    },
    {
      "cell_type": "code",
      "source": [
        "print(number**0.5)"
      ],
      "metadata": {
        "colab": {
          "base_uri": "https://localhost:8080/"
        },
        "id": "infIoeQd9Uns",
        "outputId": "1d82cb23-fa12-42df-8e0b-6fea8948281a"
      },
      "execution_count": null,
      "outputs": [
        {
          "output_type": "stream",
          "name": "stdout",
          "text": [
            "5.477225575051661\n"
          ]
        }
      ]
    },
    {
      "cell_type": "markdown",
      "source": [
        "## 4. Boolean Evaluation\n",
        "\n",
        " - Print the result of the following evaluations:\n",
        "\n",
        "      - 10 > 5\n",
        "      - 10 == 10\n",
        "      - 8 != 9\n"
      ],
      "metadata": {
        "id": "yb4GloYhppBf"
      }
    },
    {
      "cell_type": "code",
      "source": [
        "10>5"
      ],
      "metadata": {
        "colab": {
          "base_uri": "https://localhost:8080/"
        },
        "id": "eOXpecWSurBM",
        "outputId": "91caf8d3-6184-44c2-f927-6ffe6c703ce2"
      },
      "execution_count": null,
      "outputs": [
        {
          "output_type": "execute_result",
          "data": {
            "text/plain": [
              "True"
            ]
          },
          "metadata": {},
          "execution_count": 16
        }
      ]
    },
    {
      "cell_type": "code",
      "source": [
        "10==10"
      ],
      "metadata": {
        "colab": {
          "base_uri": "https://localhost:8080/"
        },
        "id": "R7T74RJ8u1Be",
        "outputId": "fa0c96d6-7f42-45bb-ba4e-46e5deeb5b48"
      },
      "execution_count": null,
      "outputs": [
        {
          "output_type": "execute_result",
          "data": {
            "text/plain": [
              "True"
            ]
          },
          "metadata": {},
          "execution_count": 17
        }
      ]
    },
    {
      "cell_type": "code",
      "source": [
        "8!=9"
      ],
      "metadata": {
        "colab": {
          "base_uri": "https://localhost:8080/"
        },
        "id": "yQiD_s6Ou1Lf",
        "outputId": "584ee87a-ce4e-42ad-b258-0a897860f791"
      },
      "execution_count": null,
      "outputs": [
        {
          "output_type": "execute_result",
          "data": {
            "text/plain": [
              "True"
            ]
          },
          "metadata": {},
          "execution_count": 18
        }
      ]
    },
    {
      "cell_type": "markdown",
      "source": [
        "## 5. List Creation & Operations\n",
        "\n",
        "- Create a list named colors containing the following items: red, blue, green.\n",
        "- Print the list.\n",
        "- Print the first item in the list.\n",
        "- Replace the second item in the list with yellow.\n",
        "- Print the list again.\n",
        "- Changing the last item using negative indexing."
      ],
      "metadata": {
        "id": "L8juEsytppHs"
      }
    },
    {
      "cell_type": "code",
      "source": [
        "color=[\"red\",\"blue\",\"green\"]\n",
        "print (color)"
      ],
      "metadata": {
        "colab": {
          "base_uri": "https://localhost:8080/"
        },
        "id": "RO0UwxFtu0SS",
        "outputId": "2e46c925-d048-4a11-9a80-ec29098d35de"
      },
      "execution_count": null,
      "outputs": [
        {
          "output_type": "stream",
          "name": "stdout",
          "text": [
            "['red', 'blue', 'green']\n"
          ]
        }
      ]
    },
    {
      "cell_type": "code",
      "source": [
        "color[0]"
      ],
      "metadata": {
        "id": "E6yt4mfqvZml",
        "colab": {
          "base_uri": "https://localhost:8080/",
          "height": 38
        },
        "outputId": "e416bd07-8d29-4754-c4bb-35cc59b643d5"
      },
      "execution_count": null,
      "outputs": [
        {
          "output_type": "execute_result",
          "data": {
            "text/plain": [
              "'red'"
            ],
            "application/vnd.google.colaboratory.intrinsic+json": {
              "type": "string"
            }
          },
          "metadata": {},
          "execution_count": 41
        }
      ]
    },
    {
      "cell_type": "code",
      "source": [
        "color[1]=\"yellow\""
      ],
      "metadata": {
        "id": "VT15k3Kk9vxo"
      },
      "execution_count": null,
      "outputs": []
    },
    {
      "cell_type": "code",
      "source": [
        "print(color)"
      ],
      "metadata": {
        "colab": {
          "base_uri": "https://localhost:8080/"
        },
        "id": "YsvUfoup-6Gi",
        "outputId": "7728a2c0-e1ae-47bf-9e54-ffebc4f716f9"
      },
      "execution_count": null,
      "outputs": [
        {
          "output_type": "stream",
          "name": "stdout",
          "text": [
            "['red', 'yellow', 'green']\n"
          ]
        }
      ]
    },
    {
      "cell_type": "code",
      "source": [
        "color[-1]=\"pink\"\n",
        "print(color)"
      ],
      "metadata": {
        "colab": {
          "base_uri": "https://localhost:8080/"
        },
        "id": "Biszkcr2-_d3",
        "outputId": "afc43370-42a3-4d08-a34f-cedd58a2f723"
      },
      "execution_count": null,
      "outputs": [
        {
          "output_type": "stream",
          "name": "stdout",
          "text": [
            "['red', 'yellow', 'pink']\n"
          ]
        }
      ]
    },
    {
      "cell_type": "markdown",
      "source": [
        "## 6. Indexing & Slicing\n",
        "\n",
        "- Given the list numbers = [10, 20, 30, 40, 50]\n",
        "- Print the third item from the list.\n",
        "- Using slicing, print the first two numbers.\n",
        "- Getting the last three numbers using negative indexing and slicing."
      ],
      "metadata": {
        "id": "oL7zgPRFppOo"
      }
    },
    {
      "cell_type": "code",
      "source": [
        "num=[10,20,30,40,50]"
      ],
      "metadata": {
        "id": "3naqFbAK25eO"
      },
      "execution_count": null,
      "outputs": []
    },
    {
      "cell_type": "code",
      "source": [
        "num[-3]"
      ],
      "metadata": {
        "colab": {
          "base_uri": "https://localhost:8080/"
        },
        "id": "POCr8ukk5al6",
        "outputId": "dfbab43f-fd8f-4bfc-da91-bdc69cae4a7e"
      },
      "execution_count": null,
      "outputs": [
        {
          "output_type": "execute_result",
          "data": {
            "text/plain": [
              "30"
            ]
          },
          "metadata": {},
          "execution_count": 30
        }
      ]
    },
    {
      "cell_type": "code",
      "source": [
        "print(num[0:2])"
      ],
      "metadata": {
        "id": "TRrBjtdZ5lCz",
        "colab": {
          "base_uri": "https://localhost:8080/"
        },
        "outputId": "3a50f3d2-f648-4db9-c15b-ee0a6b43d1c3"
      },
      "execution_count": null,
      "outputs": [
        {
          "output_type": "stream",
          "name": "stdout",
          "text": [
            "[10, 20]\n"
          ]
        }
      ]
    },
    {
      "cell_type": "code",
      "source": [
        "print(num[-3::1])"
      ],
      "metadata": {
        "colab": {
          "base_uri": "https://localhost:8080/"
        },
        "id": "XuftWn-e99yy",
        "outputId": "3e08749b-f387-4474-cc7d-b8ebedaa1f79"
      },
      "execution_count": null,
      "outputs": [
        {
          "output_type": "stream",
          "name": "stdout",
          "text": [
            "[30, 40, 50]\n"
          ]
        }
      ]
    },
    {
      "cell_type": "markdown",
      "source": [
        "## 7. Manipulating Elements\n",
        "\n",
        "- Given the list animals = ['cat', 'dog', 'bird']\n",
        "- Print the list.\n",
        "- Add fish to the end of the list.\n",
        "- Print the updated list."
      ],
      "metadata": {
        "id": "TbikWegWppVV"
      }
    },
    {
      "cell_type": "code",
      "source": [
        "animals=[\"cat\",\"dog\",\"bird\"]"
      ],
      "metadata": {
        "id": "POs3gfaG3AzX"
      },
      "execution_count": null,
      "outputs": []
    },
    {
      "cell_type": "code",
      "source": [
        "animals"
      ],
      "metadata": {
        "colab": {
          "base_uri": "https://localhost:8080/"
        },
        "id": "Vuia7VSv3Gzk",
        "outputId": "9ae05dd3-b34d-44d6-861b-1483a048a619"
      },
      "execution_count": null,
      "outputs": [
        {
          "output_type": "execute_result",
          "data": {
            "text/plain": [
              "['cat', 'dog', 'bird']"
            ]
          },
          "metadata": {},
          "execution_count": 29
        }
      ]
    },
    {
      "cell_type": "code",
      "source": [
        "animals.append(\"fish\")"
      ],
      "metadata": {
        "id": "60tVmP5d3KMy"
      },
      "execution_count": null,
      "outputs": []
    },
    {
      "cell_type": "code",
      "source": [
        "animals"
      ],
      "metadata": {
        "colab": {
          "base_uri": "https://localhost:8080/"
        },
        "id": "jELXM9Lb3R6V",
        "outputId": "5c599291-972c-4b95-eab2-d80766dce49a"
      },
      "execution_count": null,
      "outputs": [
        {
          "output_type": "execute_result",
          "data": {
            "text/plain": [
              "['cat', 'dog', 'bird', 'fish']"
            ]
          },
          "metadata": {},
          "execution_count": 31
        }
      ]
    },
    {
      "cell_type": "markdown",
      "source": [
        "## 8. Sorting\n",
        "\n",
        "- Given the list random_numbers = [42, 8, 15, 23, 16]\n",
        "- Print the list.\n",
        "- Use the sort() method to sort the list.\n",
        "- Print the sorted list.\n",
        "- Print every second item from the sorted list.\n"
      ],
      "metadata": {
        "id": "B57XK-Hjppb6"
      }
    },
    {
      "cell_type": "code",
      "source": [
        "random_numbers=[42,8,15,23,16]\n",
        "print(random_numbers)"
      ],
      "metadata": {
        "colab": {
          "base_uri": "https://localhost:8080/"
        },
        "id": "YI0VvAFKr1pT",
        "outputId": "f5c55108-52dd-4fd8-d0f0-72c2d58d4d25"
      },
      "execution_count": null,
      "outputs": [
        {
          "output_type": "stream",
          "name": "stdout",
          "text": [
            "[42, 8, 15, 23, 16]\n"
          ]
        }
      ]
    },
    {
      "cell_type": "code",
      "source": [
        "random_numbers.sort() #sorting list"
      ],
      "metadata": {
        "id": "roR8bxk5pt_m"
      },
      "execution_count": null,
      "outputs": []
    },
    {
      "cell_type": "code",
      "source": [
        "random_numbers"
      ],
      "metadata": {
        "id": "T53YvrXfp_st",
        "outputId": "ccc12468-70f7-47cc-bf7b-83ed10f42977",
        "colab": {
          "base_uri": "https://localhost:8080/"
        }
      },
      "execution_count": null,
      "outputs": [
        {
          "output_type": "execute_result",
          "data": {
            "text/plain": [
              "[8, 15, 16, 23, 42]"
            ]
          },
          "metadata": {},
          "execution_count": 37
        }
      ]
    },
    {
      "cell_type": "code",
      "source": [
        "print(random_numbers[::2])"
      ],
      "metadata": {
        "colab": {
          "base_uri": "https://localhost:8080/"
        },
        "id": "XS9chY2R-WG3",
        "outputId": "a21593a9-9eba-41bb-cd88-4b52ffb5d1aa"
      },
      "execution_count": null,
      "outputs": [
        {
          "output_type": "stream",
          "name": "stdout",
          "text": [
            "[8, 16, 42]\n"
          ]
        }
      ]
    }
  ]
}