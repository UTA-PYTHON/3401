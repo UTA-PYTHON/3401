{
  "nbformat": 4,
  "nbformat_minor": 0,
  "metadata": {
    "colab": {
      "provenance": [],
      "authorship_tag": "ABX9TyPep2pXu7/ybiPv2yDfjQmB",
      "include_colab_link": true
    },
    "kernelspec": {
      "name": "python3",
      "display_name": "Python 3"
    },
    "language_info": {
      "name": "python"
    }
  },
  "cells": [
    {
      "cell_type": "markdown",
      "metadata": {
        "id": "view-in-github",
        "colab_type": "text"
      },
      "source": [
        "<a href=\"https://colab.research.google.com/github/UTA-PYTHON/3401/blob/main/HW_2_Gamadia%2CAnish.ipynb\" target=\"_parent\"><img src=\"https://colab.research.google.com/assets/colab-badge.svg\" alt=\"Open In Colab\"/></a>"
      ]
    },
    {
      "cell_type": "markdown",
      "source": [
        "Part 1: Markdown in Jupyter Notebook\n"
      ],
      "metadata": {
        "id": "dPWzpfeMdeWA"
      }
    },
    {
      "cell_type": "markdown",
      "source": [
        "1. Bold and Italics: write one sentence where one word is in bold and another in italics"
      ],
      "metadata": {
        "id": "8INym7pxj3u4"
      }
    },
    {
      "cell_type": "markdown",
      "source": [
        "**I** like *cookies*."
      ],
      "metadata": {
        "id": "92ydUQjWkd8q"
      }
    },
    {
      "cell_type": "markdown",
      "source": [
        "2. Headers: create a hierarchy of header from largest to smallest. Make up titles for each header level."
      ],
      "metadata": {
        "id": "vvkIsW7Kk1pU"
      }
    },
    {
      "cell_type": "markdown",
      "source": [
        "#Part 1#\n",
        "##Part 2##\n",
        "###Part 3###\n",
        "####Part 4####\n"
      ],
      "metadata": {
        "id": "GFY3NZqblE35"
      }
    },
    {
      "cell_type": "markdown",
      "source": [
        "3. Create a bulleted list of your three favorite fruits"
      ],
      "metadata": {
        "id": "WfsrjIszl3Ki"
      }
    },
    {
      "cell_type": "markdown",
      "source": [
        "- oranges\n",
        "- kiwi\n",
        "- pineapple"
      ],
      "metadata": {
        "id": "Cec0S2gJl9YR"
      }
    },
    {
      "cell_type": "markdown",
      "source": [
        "Part 2 Python Basics"
      ],
      "metadata": {
        "id": "kF6bJEcimHDC"
      }
    },
    {
      "cell_type": "markdown",
      "source": [
        "1. Assign the number 5 to a variable named A\n",
        "\n",
        "\n",
        "\n"
      ],
      "metadata": {
        "id": "T2eS-Ls0mO9d"
      }
    },
    {
      "cell_type": "code",
      "source": [
        "A=5"
      ],
      "metadata": {
        "id": "oqb9cLReoDPw"
      },
      "execution_count": 1,
      "outputs": []
    },
    {
      "cell_type": "code",
      "source": [
        "print (A)\n"
      ],
      "metadata": {
        "colab": {
          "base_uri": "https://localhost:8080/"
        },
        "id": "RGf5Y7ySo9eN",
        "outputId": "33ad75cc-8dbc-4f99-f6c0-54265322e2c2"
      },
      "execution_count": 8,
      "outputs": [
        {
          "output_type": "stream",
          "name": "stdout",
          "text": [
            "5\n"
          ]
        }
      ]
    },
    {
      "cell_type": "markdown",
      "source": [
        "Assign the number 10 to a variable named b"
      ],
      "metadata": {
        "id": "TmO-9hMFoLBZ"
      }
    },
    {
      "cell_type": "code",
      "source": [
        "B=10"
      ],
      "metadata": {
        "id": "Ja2PRXbUotZP"
      },
      "execution_count": null,
      "outputs": []
    },
    {
      "cell_type": "code",
      "source": [
        "print (B)"
      ],
      "metadata": {
        "colab": {
          "base_uri": "https://localhost:8080/"
        },
        "id": "yYv4rNPmpFHZ",
        "outputId": "8c9c7085-eec7-42e7-852a-301032c7c7f8"
      },
      "execution_count": 9,
      "outputs": [
        {
          "output_type": "stream",
          "name": "stdout",
          "text": [
            "10\n"
          ]
        }
      ]
    },
    {
      "cell_type": "markdown",
      "source": [
        "Compute the sum of A and B and assign it to a variable named C. Print out the value C."
      ],
      "metadata": {
        "id": "Nb0dH1OmpJ5r"
      }
    },
    {
      "cell_type": "code",
      "source": [
        "print (A+B)"
      ],
      "metadata": {
        "colab": {
          "base_uri": "https://localhost:8080/"
        },
        "id": "1iagJf7apWQY",
        "outputId": "fbb36ea3-4a6f-4bf1-c113-d5a814716d83"
      },
      "execution_count": 10,
      "outputs": [
        {
          "output_type": "stream",
          "name": "stdout",
          "text": [
            "15\n"
          ]
        }
      ]
    },
    {
      "cell_type": "code",
      "source": [
        "C=15"
      ],
      "metadata": {
        "id": "zdAxv3pApnlF"
      },
      "execution_count": 11,
      "outputs": []
    },
    {
      "cell_type": "code",
      "source": [
        "print (C)"
      ],
      "metadata": {
        "colab": {
          "base_uri": "https://localhost:8080/"
        },
        "id": "oPKIohhkpqUd",
        "outputId": "589b555a-69ab-4f33-b133-26739be58fa5"
      },
      "execution_count": 12,
      "outputs": [
        {
          "output_type": "stream",
          "name": "stdout",
          "text": [
            "15\n"
          ]
        }
      ]
    },
    {
      "cell_type": "markdown",
      "source": [
        "2. Pemdas\n",
        " - given the equation 6+2(5-3^2)+4/26+2(5-32)+4/2\n",
        " - solve the equation step by step, following Pemdas order, and comment each step in the Jupyter cell.\n",
        " - compute the final answer using python and display the result\n"
      ],
      "metadata": {
        "id": "wd8xV2NHpxSv"
      }
    },
    {
      "cell_type": "markdown",
      "source": [
        "Parenthesis (5-3**2)\n",
        "- 3**2=9\n",
        "- (5-9)= -4\n",
        "- (5-32)= -27\n",
        "\n",
        "- 6 + 2 (-4) + 4/2 + 2 (-27) + 4/2\n",
        "\n",
        "Multiplication and Division\n",
        "-\n"
      ],
      "metadata": {
        "id": "HHAUM_0Rwiq7"
      }
    },
    {
      "cell_type": "code",
      "source": [
        "result = 6 + 2 *(5 - 3**2) + 4/26 + 2*(5 - 32) + 4/2"
      ],
      "metadata": {
        "id": "iZEKuPoKzAz1"
      },
      "execution_count": 23,
      "outputs": []
    },
    {
      "cell_type": "code",
      "source": [
        "print (result)"
      ],
      "metadata": {
        "colab": {
          "base_uri": "https://localhost:8080/"
        },
        "id": "zaPXm9yFzYh2",
        "outputId": "33fd750d-6eff-40e6-ff76-b62fc72801ae"
      },
      "execution_count": 24,
      "outputs": [
        {
          "output_type": "stream",
          "name": "stdout",
          "text": [
            "-53.84615384615385\n"
          ]
        }
      ]
    }
  ]
}