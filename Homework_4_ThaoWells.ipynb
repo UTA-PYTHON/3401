{
  "nbformat": 4,
  "nbformat_minor": 0,
  "metadata": {
    "colab": {
      "provenance": []
    },
    "kernelspec": {
      "name": "python3",
      "display_name": "Python 3"
    },
    "language_info": {
      "name": "python"
    }
  },
  "cells": [
    {
      "cell_type": "code",
      "execution_count": null,
      "metadata": {
        "id": "vBPs4n-NAKtJ"
      },
      "outputs": [],
      "source": []
    },
    {
      "cell_type": "markdown",
      "source": [
        "# 1"
      ],
      "metadata": {
        "id": "pJT6BMNaAS4P"
      }
    },
    {
      "cell_type": "code",
      "source": [
        "fruits = [\"apples\", \"banana\", \"cherry\"]\n",
        "fruits_tuple = tuple(fruits)\n",
        "fruits.append(\"orange\")\n",
        "\n",
        "print(fruits)\n",
        "print(fruits_tuple)\n",
        "\n",
        "\n"
      ],
      "metadata": {
        "colab": {
          "base_uri": "https://localhost:8080/"
        },
        "id": "BiLMYKP1AhgL",
        "outputId": "be1b744d-2765-4d11-9966-a95392a49371"
      },
      "execution_count": 8,
      "outputs": [
        {
          "output_type": "stream",
          "name": "stdout",
          "text": [
            "['apples', 'banana', 'cherry', 'orange']\n",
            "('apples', 'banana', 'cherry')\n"
          ]
        }
      ]
    },
    {
      "cell_type": "markdown",
      "source": [
        "# 2"
      ],
      "metadata": {
        "id": "8LdHV0cvI7Cs"
      }
    },
    {
      "cell_type": "code",
      "source": [
        "person = {\"first_name\":\"Mr\",\n",
        "          \"last_name\":\"Meow\",\n",
        "          \"age\":\"21\"}\n",
        "\n",
        "person[\"city\"] = \"Meow City\"\n",
        "person.keys()"
      ],
      "metadata": {
        "colab": {
          "base_uri": "https://localhost:8080/"
        },
        "id": "1rf1IeGYI8l3",
        "outputId": "f27cc04e-1c56-467a-e314-71af27a5fcae"
      },
      "execution_count": 9,
      "outputs": [
        {
          "output_type": "execute_result",
          "data": {
            "text/plain": [
              "dict_keys(['first_name', 'last_name', 'age', 'city'])"
            ]
          },
          "metadata": {},
          "execution_count": 9
        }
      ]
    },
    {
      "cell_type": "markdown",
      "source": [
        "# 3"
      ],
      "metadata": {
        "id": "z4iQgpr-JexR"
      }
    },
    {
      "cell_type": "code",
      "source": [
        "colors = {\"red\",\"blue\",\"green\"}\n",
        "colors.add(\"yellow\"), colors.remove(\"blue\")\n",
        "if \"pink\" in colors:\n",
        "  print('pink is in colors')\n",
        "else:\n",
        "  print('pink is not in colors')"
      ],
      "metadata": {
        "colab": {
          "base_uri": "https://localhost:8080/"
        },
        "id": "XNQpiYEAJgOd",
        "outputId": "3f864ab9-6e1a-48ec-f224-61e2362c3c53"
      },
      "execution_count": 12,
      "outputs": [
        {
          "output_type": "stream",
          "name": "stdout",
          "text": [
            "pink is not in colors\n"
          ]
        }
      ]
    },
    {
      "cell_type": "markdown",
      "source": [
        "#4"
      ],
      "metadata": {
        "id": "ejZNd2r6J-_G"
      }
    },
    {
      "cell_type": "code",
      "source": [
        "Num = float(input(\"Enter a number:\"))\n",
        "if Num>0:\n",
        "  print('Number is positive')\n",
        "if Num<0:\n",
        "  print('Number is negative')\n",
        "else:\n",
        "  print('Number is 0')"
      ],
      "metadata": {
        "colab": {
          "base_uri": "https://localhost:8080/"
        },
        "id": "ztB_givXKAd6",
        "outputId": "e01367dc-2030-4271-c223-feb38c28997d"
      },
      "execution_count": 19,
      "outputs": [
        {
          "output_type": "stream",
          "name": "stdout",
          "text": [
            "Enter a number:-3.4\n",
            "Number is negative\n"
          ]
        }
      ]
    },
    {
      "cell_type": "markdown",
      "source": [
        "#5"
      ],
      "metadata": {
        "id": "T_LcHaaTK6cH"
      }
    },
    {
      "cell_type": "code",
      "source": [
        "numbers =[23, 45, 8, 12, 78, 56, 89]\n",
        "for n in numbers:\n",
        "  if n%2 == 0:\n",
        "    print(\"\\n\",n)"
      ],
      "metadata": {
        "colab": {
          "base_uri": "https://localhost:8080/"
        },
        "id": "S62IA4T2K9_F",
        "outputId": "ca00956d-3854-4123-b743-dd1a1519b39c"
      },
      "execution_count": 22,
      "outputs": [
        {
          "output_type": "stream",
          "name": "stdout",
          "text": [
            "\n",
            " 8\n",
            "\n",
            " 12\n",
            "\n",
            " 78\n",
            "\n",
            " 56\n"
          ]
        }
      ]
    },
    {
      "cell_type": "markdown",
      "source": [
        "#6"
      ],
      "metadata": {
        "id": "srVAFQRwMAjw"
      }
    },
    {
      "cell_type": "code",
      "source": [
        "\n",
        "age = int(input(\"Enter age: \"))\n",
        "\n",
        "if age>=18:\n",
        "  print(\"Voter eligibility confirmed.\")\n",
        "else:\n",
        "  print(\"Votor eligibility denied.\")"
      ],
      "metadata": {
        "colab": {
          "base_uri": "https://localhost:8080/"
        },
        "id": "r8RhQNeGMBjR",
        "outputId": "8194c701-d79d-456d-b759-a1b248fca9d6"
      },
      "execution_count": 25,
      "outputs": [
        {
          "output_type": "stream",
          "name": "stdout",
          "text": [
            "Enter age: 21\n",
            "Voter eligibility confirmed.\n"
          ]
        }
      ]
    },
    {
      "cell_type": "markdown",
      "source": [
        "#7"
      ],
      "metadata": {
        "id": "Od3hpi3PMVJ4"
      }
    },
    {
      "cell_type": "code",
      "source": [
        "n=0\n",
        "total_sum=0\n",
        "\n",
        "while True:\n",
        "    n=input(\"Enter a number or enter 'q' to quit:\")\n",
        "    if n==\"q\":\n",
        "        break\n",
        "\n",
        "    n=float(n)\n",
        "    total_sum+=n\n",
        "\n",
        "print(\"total sum:\", total_sum)"
      ],
      "metadata": {
        "colab": {
          "base_uri": "https://localhost:8080/"
        },
        "id": "nvGJlVfzMWbV",
        "outputId": "bf74329b-e675-4fc3-94b8-8981eb57cc76"
      },
      "execution_count": 28,
      "outputs": [
        {
          "output_type": "stream",
          "name": "stdout",
          "text": [
            "Enter a number or enter 'q' to quit:8\n",
            "Enter a number or enter 'q' to quit:8\n",
            "Enter a number or enter 'q' to quit:q\n",
            "total sum: 16.0\n"
          ]
        }
      ]
    },
    {
      "cell_type": "markdown",
      "source": [
        "# 8"
      ],
      "metadata": {
        "id": "00uILjb5NTtV"
      }
    },
    {
      "cell_type": "code",
      "source": [
        "n=0\n",
        "while n in range(0,10):\n",
        "  print(n+1)\n",
        "  n += 1\n",
        "\n",
        "print(\"Liftoff!\")#print liftoff after while loop\n",
        ""
      ],
      "metadata": {
        "colab": {
          "base_uri": "https://localhost:8080/"
        },
        "id": "VbxkYzgFrTwh",
        "outputId": "86aa0cb5-049f-48a2-dc56-334ef263e5b2"
      },
      "execution_count": 1,
      "outputs": [
        {
          "output_type": "stream",
          "name": "stdout",
          "text": [
            "1\n",
            "2\n",
            "3\n",
            "4\n",
            "5\n",
            "6\n",
            "7\n",
            "8\n",
            "9\n",
            "10\n",
            "Liftoff!\n"
          ]
        }
      ]
    },
    {
      "cell_type": "markdown",
      "source": [
        "#9"
      ],
      "metadata": {
        "id": "USiCJl9JNWuA"
      }
    },
    {
      "cell_type": "code",
      "source": [
        "num = int(input('Enter a number: '))\n",
        "n=0\n",
        "\n",
        "while n in range (0,13):\n",
        "  print(num, \"*\", n, \"=\", num*n)\n",
        "  n += 1"
      ],
      "metadata": {
        "colab": {
          "base_uri": "https://localhost:8080/"
        },
        "id": "vqh3wQEDtjuT",
        "outputId": "52bd3535-2c5c-4ea0-80f2-28ff87ccee91"
      },
      "execution_count": 4,
      "outputs": [
        {
          "output_type": "stream",
          "name": "stdout",
          "text": [
            "Enter a number: 9\n",
            "9 * 0 = 0\n",
            "9 * 1 = 9\n",
            "9 * 2 = 18\n",
            "9 * 3 = 27\n",
            "9 * 4 = 36\n",
            "9 * 5 = 45\n",
            "9 * 6 = 54\n",
            "9 * 7 = 63\n",
            "9 * 8 = 72\n",
            "9 * 9 = 81\n",
            "9 * 10 = 90\n",
            "9 * 11 = 99\n",
            "9 * 12 = 108\n"
          ]
        }
      ]
    },
    {
      "cell_type": "markdown",
      "source": [
        "#10"
      ],
      "metadata": {
        "id": "YDvSIlg2zcjp"
      }
    },
    {
      "cell_type": "code",
      "source": [
        "fruits = ['apple','banana','cherry','date']\n",
        "\n",
        "for fruit in fruits:\n",
        "  print(fruit)"
      ],
      "metadata": {
        "colab": {
          "base_uri": "https://localhost:8080/"
        },
        "id": "w9NVb4aYzf6-",
        "outputId": "3e76c269-d52e-4a39-ea2e-224e28e6fcaf"
      },
      "execution_count": 5,
      "outputs": [
        {
          "output_type": "stream",
          "name": "stdout",
          "text": [
            "apple\n",
            "banana\n",
            "cherry\n",
            "date\n"
          ]
        }
      ]
    },
    {
      "cell_type": "markdown",
      "source": [
        "# 11"
      ],
      "metadata": {
        "id": "o7TKzy8j0cW1"
      }
    },
    {
      "cell_type": "code",
      "source": [
        "\n",
        "number = int(input(\"Enter an integer:\"))\n",
        "factorial = 1\n",
        "str1 = '0'\n",
        "\n",
        "for n in range(1, number+1):\n",
        "  if n != 1:\n",
        "    str1 = str(n) + ' * ' + str1\n",
        "  else:\n",
        "    str1 = str(n) + str1\n",
        "  factorial *= n;\n",
        "\n",
        "print(str1,'=',factorial)\n"
      ],
      "metadata": {
        "colab": {
          "base_uri": "https://localhost:8080/"
        },
        "id": "2Xv9RNu40djJ",
        "outputId": "a2a326b6-2285-4292-99e1-926098c7ad0d"
      },
      "execution_count": 15,
      "outputs": [
        {
          "output_type": "stream",
          "name": "stdout",
          "text": [
            "Enter an integer:8\n",
            "8 * 7 * 6 * 5 * 4 * 3 * 2 * 10 = 40320\n"
          ]
        }
      ]
    },
    {
      "cell_type": "markdown",
      "source": [
        "#12"
      ],
      "metadata": {
        "id": "XJz_0-nj04Uv"
      }
    },
    {
      "cell_type": "code",
      "source": [
        "sum = 0\n",
        "\n",
        "for n in range(0,5):\n",
        "  num = int(input(\"Enter integer: \"))\n",
        "  sum += num\n",
        "print(sum/5)"
      ],
      "metadata": {
        "colab": {
          "base_uri": "https://localhost:8080/"
        },
        "id": "kRP9ZGQ806iG",
        "outputId": "5b12cba5-0da8-4f87-bacd-c27df0c8ebaa"
      },
      "execution_count": 7,
      "outputs": [
        {
          "output_type": "stream",
          "name": "stdout",
          "text": [
            "Enter integer: 3\n",
            "Enter integer: 4\n",
            "Enter integer: 2\n",
            "Enter integer: 3\n",
            "Enter integer: 2\n",
            "2.8\n"
          ]
        }
      ]
    }
  ]
}